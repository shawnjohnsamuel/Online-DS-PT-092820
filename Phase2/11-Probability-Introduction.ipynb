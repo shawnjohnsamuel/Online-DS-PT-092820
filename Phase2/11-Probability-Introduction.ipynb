{
 "cells": [
  {
   "cell_type": "markdown",
   "metadata": {},
   "source": [
    "# Probability: Introduction to Foundational Concepts\n",
    "\n",
    "Aka:\n",
    "\n",
    " - Set Notation\n",
    " - Permutations vs. Combinations\n",
    " - What is Probability? \n",
    " - Plus: Dependent vs. Independent Probability, aka when to use Conditional Probabilities\n"
   ]
  },
  {
   "cell_type": "markdown",
   "metadata": {},
   "source": [
    "## Set Notation"
   ]
  },
  {
   "cell_type": "markdown",
   "metadata": {},
   "source": [
    "Sets are collections of elements, and the language and notation used to talk about sets are used in a lot of other placs, so it's nice to go ahead and lay the groundwork here.\n",
    "\n",
    "<img src=\"images/setnotation.jpg\" alt=\"set notation, found from https://slideplayer.com/slide/10502152/\" width=800>\n",
    "\n",
    "[Image Source](https://slideplayer.com/slide/10502152/)\n",
    "\n",
    "More on Sets: https://www.mathsisfun.com/sets/sets-introduction.html"
   ]
  },
  {
   "cell_type": "markdown",
   "metadata": {},
   "source": [
    "<img src=\"images/new_venn_diagram.png\" alt=\"venn diagram with set notation\" width=500>"
   ]
  },
  {
   "cell_type": "markdown",
   "metadata": {},
   "source": [
    "### But Now, in Python:"
   ]
  },
  {
   "cell_type": "markdown",
   "metadata": {
    "colab_type": "text",
    "id": "c9rKTCYMebwR"
   },
   "source": [
    " \n",
    "\n",
    "| Method        |\tEquivalent |\tResult |\n",
    "| ------                    | ------       | ------    |\n",
    "| s.issubset(t)             |\ts <= t     | test whether every element in s is in t\n",
    "| s.issuperset(t)           |\ts >= t     | test whether every element in t is in s\n",
    "| s.union(t)                |\ts $\\mid$ t | new set with elements from both s and t\n",
    "| s.intersection(t)         |\ts & t      | new set with elements common to s and t\n",
    "| s.difference(t)           |\ts - t \t   | new set with elements in s but not in t\n",
    "| s.symmetric_difference(t) |\ts ^ t      | new set with elements in either s or t but not both"
   ]
  },
  {
   "cell_type": "markdown",
   "metadata": {},
   "source": [
    "## Permutations vs. Combinations\n",
    "\n",
    "Now let's talk about how you can take elements from different collections and group them."
   ]
  },
  {
   "cell_type": "markdown",
   "metadata": {
    "slideshow": {
     "slide_type": "slide"
    }
   },
   "source": [
    "### What's the difference between a permutation and a combination?\n",
    "\n",
    "In a **permutation**, order matters. If you have a race, it matters who arrives in first, or second, or third place - there's a difference in the ordering of the group!\n",
    "\n",
    "In a **combination**, you only care about which items are members of the set. For example, if you're creating groups of students to work on a project, the order in which you add their names to the group doesn't really matter - it's the group members itself, not any order, that you care about."
   ]
  },
  {
   "cell_type": "markdown",
   "metadata": {
    "slideshow": {
     "slide_type": "slide"
    }
   },
   "source": [
    "#### How many possible codes are there for a standard padlock?\n",
    "\n",
    "> Hint: (there are 40 numbers on a padlock and use 3 numbers.)"
   ]
  },
  {
   "cell_type": "code",
   "execution_count": null,
   "metadata": {
    "slideshow": {
     "slide_type": "notes"
    }
   },
   "outputs": [],
   "source": []
  },
  {
   "cell_type": "markdown",
   "metadata": {},
   "source": [
    "For the first number: 40 choices. For the second number, still 40 choices: $40\\cdot40=40^2$. Again, for 3rd number, still 40 choices: $40\\cdot40\\cdot40=40^3$\n",
    "\n",
    "This is an example of... \n",
    "\n",
    " - Permutation or Combination ?"
   ]
  },
  {
   "cell_type": "markdown",
   "metadata": {
    "slideshow": {
     "slide_type": "slide"
    }
   },
   "source": [
    "#### How many unique 3 topping pizzas can you make from the following ingredients:\n",
    "\n",
    "- Mushrooms\n",
    "- Pepperoni\n",
    "- Onion\n",
    "- Peppers\n",
    "- Ham\n",
    "- Pineapple\n",
    "- Sausage\n",
    "- Olives\n",
    "    \n",
    "> Side note: which is the worst?"
   ]
  },
  {
   "cell_type": "code",
   "execution_count": null,
   "metadata": {
    "slideshow": {
     "slide_type": "notes"
    }
   },
   "outputs": [],
   "source": [
    "import itertools"
   ]
  },
  {
   "cell_type": "code",
   "execution_count": null,
   "metadata": {
    "slideshow": {
     "slide_type": "notes"
    }
   },
   "outputs": [],
   "source": [
    "toppings = [\"Mushrooms\",\"Pepperoni\",\"Onion\",\"Peppers\",\"Ham\",\"Pineapple\",\"Sausage\",\"Olives\"]\n",
    "three_topping_pizzas = list(itertools.combinations(toppings, 3))\n",
    "len(three_topping_pizzas)"
   ]
  },
  {
   "cell_type": "markdown",
   "metadata": {},
   "source": [
    "This is an example of... \n",
    "\n",
    " - Permutation or Combination?"
   ]
  },
  {
   "cell_type": "markdown",
   "metadata": {},
   "source": [
    "## What is Probability?"
   ]
  },
  {
   "cell_type": "markdown",
   "metadata": {
    "colab_type": "text",
    "id": "hHKVcR-FYNqf"
   },
   "source": [
    "> **Probability is the likelihood of a specific outcome occuring out of all possible outcomes, expressed as a fraction between 0 and 1.**\n",
    "\n",
    "Perhaps more importantly:\n",
    "\n",
    "> **\"Probabilities do not tell us what will happen for sure; they tell us what is _likely to happen_ and what is _less likely to happen_.\"**\n",
    ">\n",
    "> -- _Naked Statistics_, by Charles Wheelan, p. 72"
   ]
  },
  {
   "cell_type": "markdown",
   "metadata": {},
   "source": [
    "In general, you can think of dividing the outcome you're exploring by all possible outcomes:\n",
    "\n",
    "$$ P(Event) = \\frac{|Event|}{|Sample\\ Space|} $$"
   ]
  },
  {
   "cell_type": "markdown",
   "metadata": {
    "ExecuteTime": {
     "end_time": "2020-01-06T22:53:10.213591Z",
     "start_time": "2020-01-06T22:53:10.211467Z"
    }
   },
   "source": [
    "## Planning Party Playlists with Probabilities"
   ]
  },
  {
   "cell_type": "markdown",
   "metadata": {},
   "source": [
    "- We are constructing a dinner party playlist for a gathering we are planning. \n",
    "- We asked our attendees to each provide a handful of songs they would like to be played at the dinner party."
   ]
  },
  {
   "cell_type": "code",
   "execution_count": null,
   "metadata": {
    "ExecuteTime": {
     "end_time": "2020-08-04T17:00:22.359098Z",
     "start_time": "2020-08-04T17:00:21.630811Z"
    },
    "colab": {},
    "colab_type": "code",
    "id": "HhbtNsyeXQIm",
    "scrolled": true
   },
   "outputs": [],
   "source": [
    "import pandas as pd\n",
    "import numpy as np"
   ]
  },
  {
   "cell_type": "code",
   "execution_count": null,
   "metadata": {
    "ExecuteTime": {
     "end_time": "2020-08-04T17:00:22.380661Z",
     "start_time": "2020-08-04T17:00:22.360283Z"
    }
   },
   "outputs": [],
   "source": [
    "# This code is a bit different from anything we've seen before...\n",
    "# Point is, it grabs each of the CSVs in a folder and reads them in \n",
    "import os, glob\n",
    "\n",
    "datafolder = \"data/probability_playlists/\"\n",
    "rec_files = glob.glob(datafolder+\"*.csv\")\n",
    "\n",
    "playlists = {}\n",
    "for file in rec_files:\n",
    "    key = os.path.basename(file).replace('_recs.csv','')\n",
    "    playlists[key] = pd.read_csv(file)\n",
    "playlists.keys()"
   ]
  },
  {
   "cell_type": "code",
   "execution_count": null,
   "metadata": {
    "ExecuteTime": {
     "end_time": "2020-08-04T17:00:23.739307Z",
     "start_time": "2020-08-04T17:00:23.165257Z"
    }
   },
   "outputs": [],
   "source": [
    "for name, playlist in playlists.items():\n",
    "    print(f\"{name.title()}'s Requests:\")\n",
    "    display(playlist)"
   ]
  },
  {
   "cell_type": "markdown",
   "metadata": {},
   "source": [
    "For now, lets assume we take everyone's recommendations and add them all to our playlist, even if the same song has been recommended by someone else."
   ]
  },
  {
   "cell_type": "code",
   "execution_count": null,
   "metadata": {
    "ExecuteTime": {
     "end_time": "2020-08-04T16:25:16.121926Z",
     "start_time": "2020-08-04T16:25:16.100710Z"
    },
    "scrolled": false
   },
   "outputs": [],
   "source": [
    "# Create 1 df for all recs\n",
    "df = pd.concat(playlists).reset_index(drop=True)\n",
    "df"
   ]
  },
  {
   "cell_type": "markdown",
   "metadata": {},
   "source": [
    "### Q1: What is the probability of the next song being by Lady Gaga?"
   ]
  },
  {
   "cell_type": "markdown",
   "metadata": {},
   "source": [
    "Assume we just accept everyone's suggestions allowing duplicate songs and play on shuffle.\n",
    "\n",
    "Remember: \n",
    "\n",
    "\n",
    "$$ P(E) = \\frac{|E|}{|S|} $$"
   ]
  },
  {
   "cell_type": "code",
   "execution_count": null,
   "metadata": {
    "ExecuteTime": {
     "end_time": "2020-08-04T16:28:52.982358Z",
     "start_time": "2020-08-04T16:28:52.973645Z"
    }
   },
   "outputs": [],
   "source": [
    "# Our sample space - number of songs, grouped by artist\n"
   ]
  },
  {
   "cell_type": "code",
   "execution_count": null,
   "metadata": {
    "ExecuteTime": {
     "end_time": "2020-08-04T16:27:40.240991Z",
     "start_time": "2020-08-04T16:27:40.236626Z"
    }
   },
   "outputs": [],
   "source": [
    "# What is the event space?\n"
   ]
  },
  {
   "cell_type": "code",
   "execution_count": null,
   "metadata": {
    "ExecuteTime": {
     "end_time": "2020-08-04T16:27:21.868273Z",
     "start_time": "2020-08-04T16:27:21.864139Z"
    }
   },
   "outputs": [],
   "source": [
    "# What about the sample space? Numerically, I mean\n"
   ]
  },
  {
   "cell_type": "code",
   "execution_count": null,
   "metadata": {
    "ExecuteTime": {
     "end_time": "2020-08-04T16:27:48.766931Z",
     "start_time": "2020-08-04T16:27:48.761272Z"
    }
   },
   "outputs": [],
   "source": [
    "# Find the probability of lady gaga playing\n"
   ]
  },
  {
   "cell_type": "markdown",
   "metadata": {
    "ExecuteTime": {
     "end_time": "2020-06-10T21:50:53.506424Z",
     "start_time": "2020-06-10T21:50:53.490074Z"
    }
   },
   "source": [
    "### Q2: What is the probability of the next song being \"Time of Your Life\"?"
   ]
  },
  {
   "cell_type": "code",
   "execution_count": null,
   "metadata": {
    "ExecuteTime": {
     "end_time": "2020-08-04T16:29:33.261467Z",
     "start_time": "2020-08-04T16:29:33.256072Z"
    }
   },
   "outputs": [],
   "source": [
    "# Sample space by tracks this time\n"
   ]
  },
  {
   "cell_type": "code",
   "execution_count": null,
   "metadata": {
    "ExecuteTime": {
     "end_time": "2020-08-04T16:30:36.756185Z",
     "start_time": "2020-08-04T16:30:36.752319Z"
    }
   },
   "outputs": [],
   "source": [
    "# Event space?\n"
   ]
  },
  {
   "cell_type": "code",
   "execution_count": null,
   "metadata": {
    "ExecuteTime": {
     "end_time": "2020-08-04T16:30:38.452229Z",
     "start_time": "2020-08-04T16:30:38.448019Z"
    }
   },
   "outputs": [],
   "source": [
    "# Sample space?\n"
   ]
  },
  {
   "cell_type": "code",
   "execution_count": null,
   "metadata": {
    "ExecuteTime": {
     "end_time": "2020-08-04T16:30:42.909714Z",
     "start_time": "2020-08-04T16:30:42.906200Z"
    }
   },
   "outputs": [],
   "source": [
    "# Probability of 'Time of yYour Life'\n"
   ]
  },
  {
   "cell_type": "markdown",
   "metadata": {},
   "source": [
    "### Q3: what is the probability of hearing a song by Lady GaGa or Green Day?\n"
   ]
  },
  {
   "cell_type": "code",
   "execution_count": null,
   "metadata": {
    "ExecuteTime": {
     "end_time": "2020-08-04T16:31:23.759449Z",
     "start_time": "2020-08-04T16:31:23.753964Z"
    }
   },
   "outputs": [],
   "source": [
    "# Again, by artist\n"
   ]
  },
  {
   "cell_type": "code",
   "execution_count": null,
   "metadata": {
    "ExecuteTime": {
     "end_time": "2020-08-04T16:33:52.634715Z",
     "start_time": "2020-08-04T16:33:52.630465Z"
    }
   },
   "outputs": [],
   "source": [
    "# Event Space\n"
   ]
  },
  {
   "cell_type": "code",
   "execution_count": null,
   "metadata": {
    "ExecuteTime": {
     "end_time": "2020-08-04T16:34:27.284475Z",
     "start_time": "2020-08-04T16:34:27.280903Z"
    }
   },
   "outputs": [],
   "source": [
    "# Sample space\n"
   ]
  },
  {
   "cell_type": "code",
   "execution_count": null,
   "metadata": {
    "ExecuteTime": {
     "end_time": "2020-08-04T16:34:30.390305Z",
     "start_time": "2020-08-04T16:34:30.386639Z"
    },
    "scrolled": true
   },
   "outputs": [],
   "source": [
    "# Find the probability\n"
   ]
  },
  {
   "cell_type": "markdown",
   "metadata": {},
   "source": [
    "Let's bring it back to our different permutation/combination notation:"
   ]
  },
  {
   "cell_type": "markdown",
   "metadata": {},
   "source": [
    "### Q4: How many different ways could we build a playlist using everyone's recommendations (without shuffle, no looping, and no repeated songs)?"
   ]
  },
  {
   "cell_type": "markdown",
   "metadata": {
    "ExecuteTime": {
     "end_time": "2020-01-07T22:40:05.942473Z",
     "start_time": "2020-01-07T22:40:05.940474Z"
    }
   },
   "source": [
    "- Combination or **permutation**?\n",
    "    - Order of a playlist matters!"
   ]
  },
  {
   "cell_type": "markdown",
   "metadata": {
    "ExecuteTime": {
     "end_time": "2020-01-07T22:40:05.942473Z",
     "start_time": "2020-01-07T22:40:05.940474Z"
    }
   },
   "source": [
    "- What formula would we use?\n",
    "\n",
    "$$\\large P(n) = n!$$"
   ]
  },
  {
   "cell_type": "code",
   "execution_count": null,
   "metadata": {},
   "outputs": [],
   "source": [
    "# First, let's deal with those duplicates we've been ignoring\n"
   ]
  },
  {
   "cell_type": "code",
   "execution_count": null,
   "metadata": {
    "ExecuteTime": {
     "end_time": "2020-08-04T16:46:55.497733Z",
     "start_time": "2020-08-04T16:46:55.493936Z"
    }
   },
   "outputs": [],
   "source": []
  },
  {
   "cell_type": "markdown",
   "metadata": {},
   "source": [
    "### Q5: What if we limit the playlist to only 10 songs, without replacement? How many possible playlists?"
   ]
  },
  {
   "cell_type": "markdown",
   "metadata": {
    "ExecuteTime": {
     "end_time": "2020-06-12T22:32:55.762060Z",
     "start_time": "2020-06-12T22:32:55.758545Z"
    }
   },
   "source": [
    "- What formula would we use?\n",
    "\n",
    "$$ \\large P_{k}^{n}= \\dfrac{n!}{(n-k)!}$$ "
   ]
  },
  {
   "cell_type": "code",
   "execution_count": null,
   "metadata": {
    "ExecuteTime": {
     "end_time": "2020-08-04T16:47:47.509369Z",
     "start_time": "2020-08-04T16:47:47.503272Z"
    }
   },
   "outputs": [],
   "source": []
  },
  {
   "cell_type": "code",
   "execution_count": null,
   "metadata": {
    "ExecuteTime": {
     "end_time": "2020-08-04T16:47:53.462045Z",
     "start_time": "2020-08-04T16:47:53.457905Z"
    }
   },
   "outputs": [],
   "source": []
  },
  {
   "cell_type": "markdown",
   "metadata": {},
   "source": [
    "### Q6: what if we limit the playlist to 10 songs, WITH replacement?"
   ]
  },
  {
   "cell_type": "markdown",
   "metadata": {
    "ExecuteTime": {
     "end_time": "2020-01-07T22:40:05.942473Z",
     "start_time": "2020-01-07T22:40:05.940474Z"
    }
   },
   "source": [
    "- What formula would we use?\n",
    "\n",
    "$$ \\large {P}_{j}^{n} = n^j $$"
   ]
  },
  {
   "cell_type": "code",
   "execution_count": null,
   "metadata": {
    "ExecuteTime": {
     "end_time": "2020-08-04T16:48:48.019652Z",
     "start_time": "2020-08-04T16:48:48.015965Z"
    }
   },
   "outputs": [],
   "source": []
  },
  {
   "cell_type": "markdown",
   "metadata": {},
   "source": [
    "### Q7: what if we select 10 songs out of the total number of suggestions and allow for repetition?"
   ]
  },
  {
   "cell_type": "markdown",
   "metadata": {
    "ExecuteTime": {
     "end_time": "2020-01-07T22:40:05.942473Z",
     "start_time": "2020-01-07T22:40:05.940474Z"
    }
   },
   "source": [
    "- What formula would we use?\n",
    "\n",
    "$$\\large C_{k}^{n} = \\displaystyle\\binom{n}{k} = \\dfrac{P_{k}^{n}}{k!}=\\dfrac{ \\dfrac{n!}{(n-k)!}}{k!} = \\dfrac{n!}{(n-k)!k!}$$"
   ]
  },
  {
   "cell_type": "code",
   "execution_count": null,
   "metadata": {
    "ExecuteTime": {
     "end_time": "2020-08-04T16:49:43.419326Z",
     "start_time": "2020-08-04T16:49:43.414983Z"
    }
   },
   "outputs": [],
   "source": []
  },
  {
   "cell_type": "markdown",
   "metadata": {
    "heading_collapsed": true
   },
   "source": [
    "## So....  We realize we need to relax and not worry about the song-order. That's what Shuffle is for, right? 😅"
   ]
  },
  {
   "cell_type": "markdown",
   "metadata": {
    "hidden": true
   },
   "source": [
    "### Q8: How many playlists can we produce for an 8-track playlist from the unique suggested songs (14)?"
   ]
  },
  {
   "cell_type": "markdown",
   "metadata": {
    "ExecuteTime": {
     "end_time": "2020-01-07T22:40:05.942473Z",
     "start_time": "2020-01-07T22:40:05.940474Z"
    },
    "hidden": true
   },
   "source": [
    "- What formula would we use?\n",
    "\n",
    "    $$\\large C_{k}^{n} = \\displaystyle\\binom{n}{k} = \\dfrac{P_{k}^{n}}{k!}=\\dfrac{ \\dfrac{n!}{(n-k)!}}{k!} = \\dfrac{n!}{(n-k)!k!}$$"
   ]
  },
  {
   "cell_type": "code",
   "execution_count": null,
   "metadata": {
    "ExecuteTime": {
     "end_time": "2020-08-04T15:53:32.457090Z",
     "start_time": "2020-08-04T15:53:32.453234Z"
    },
    "hidden": true
   },
   "outputs": [],
   "source": []
  },
  {
   "cell_type": "markdown",
   "metadata": {
    "slideshow": {
     "slide_type": "slide"
    }
   },
   "source": [
    "### Conditional Probability\n",
    "\n",
    "#### When do we compute conditional probabilities? \n",
    "\n",
    "- We need to compute conditional probabilities when the outcome of an event depends on the outcome of previous events (dependent events). A conditional probability of an event is the probability of the event given another event has occurred.\n"
   ]
  },
  {
   "cell_type": "markdown",
   "metadata": {
    "slideshow": {
     "slide_type": "slide"
    }
   },
   "source": [
    "### Mushroom dataset\n",
    "\n",
    "To discuss conditional probability, let's look at a modified version of the Mushroom dataset from UCI [here](https://archive.ics.uci.edu/ml/datasets/Mushroom). Each row in this dataset corresponds to one observation (one mushroom). \n",
    "\n",
    "The modified dataset includes 4 variables:\n",
    "\n",
    "* **edible-poisonous**\n",
    "    * This categorical variable can have one of two values: if the mushroom is edible, \"edible\". If not, \"poisonous\"\n",
    "\n",
    "* **bruised**\n",
    "    * This is a Boolean variable that can assume either one of two values, True or False.\n",
    "\n",
    "* **gill-spacing**\n",
    "    * This categorical variable can have one of three values: \"close\", \"crowded\", or \"distant\"\n",
    "    \n",
    "* **stalk-shape**\n",
    "    * This categorical variable can have one of two values: \"enlarging\" or \"tapering\"\n",
    "* **stalk-color-above-ring**\n",
    "    * This categorical variable can have one of nine values:  \"brown\",\"buff\",\"cinnamon\",\"gray\",\"orange\", \"pink\",\"red\",\"white\" or \"yellow\"\n",
    "\n",
    "* **stalk-color-below-ring**\n",
    "    * This categorical variable can have one of nine values:  \"brown\",\"buff\",\"cinnamon\",\"gray\",\"orange\", \"pink\",\"red\",\"white\" or \"yellow\"\n",
    "\n",
    "* **gill-color**\n",
    "    * This categorical variable can have one of twelve values: \"black\",\"brown\",\"buff\",\"chocolate\",\"gray\", \"green\",\"orange\",\"pink\",\"purple\",\"red\", \"white\" or \"yellow\" \n",
    "\n"
   ]
  },
  {
   "cell_type": "code",
   "execution_count": null,
   "metadata": {
    "slideshow": {
     "slide_type": "slide"
    }
   },
   "outputs": [],
   "source": [
    "df = pd.read_csv('data/Mushrooms_cleaned.csv')\n",
    "df.head()"
   ]
  },
  {
   "cell_type": "markdown",
   "metadata": {
    "slideshow": {
     "slide_type": "slide"
    }
   },
   "source": [
    "#### If you picked a row from this dataset at random, what is the probability it corresponds to a bruised mushroom? $P(bruised)$"
   ]
  },
  {
   "cell_type": "code",
   "execution_count": null,
   "metadata": {
    "slideshow": {
     "slide_type": "notes"
    }
   },
   "outputs": [],
   "source": [
    "p_bruised = None"
   ]
  },
  {
   "cell_type": "markdown",
   "metadata": {
    "slideshow": {
     "slide_type": "slide"
    }
   },
   "source": [
    "#### What is the probability you pick a row corresponding to a mushroom that is bruised _AND_ edible? $P(edible \\cap bruised)$ "
   ]
  },
  {
   "cell_type": "code",
   "execution_count": null,
   "metadata": {
    "slideshow": {
     "slide_type": "notes"
    }
   },
   "outputs": [],
   "source": [
    "p_bruised_and_edible = None"
   ]
  },
  {
   "cell_type": "markdown",
   "metadata": {
    "slideshow": {
     "slide_type": "slide"
    }
   },
   "source": [
    "#### What is the probability of picking an edible mushroom given it is bruised? $P(edible | bruised)$"
   ]
  },
  {
   "cell_type": "code",
   "execution_count": null,
   "metadata": {
    "scrolled": true,
    "slideshow": {
     "slide_type": "notes"
    }
   },
   "outputs": [],
   "source": [
    "p_edible_given_bruised = None"
   ]
  },
  {
   "cell_type": "markdown",
   "metadata": {
    "slideshow": {
     "slide_type": "slide"
    }
   },
   "source": [
    "#### What is the probability of picking a bruised mushroom given it is edible? $P(bruised | edible)$"
   ]
  },
  {
   "cell_type": "code",
   "execution_count": null,
   "metadata": {
    "slideshow": {
     "slide_type": "notes"
    }
   },
   "outputs": [],
   "source": [
    "p_bruised_given_edible = None"
   ]
  },
  {
   "cell_type": "markdown",
   "metadata": {
    "slideshow": {
     "slide_type": "slide"
    }
   },
   "source": [
    "### Intuition behind conditional probability: \n",
    "\n",
    "How do you compute the probability that mushrooms are edible given they are bruised? \n",
    "\n",
    "When you ask the question \"what is the probability that the mushrooms are edible and bruised?\", the sample space originally contains all 8124 rows of mushrooms. \n",
    "\n",
    "<img src=\"images/Image_72_Cond4.png\" width=\"300\">\n",
    "\n",
    "However, to compute the probability that the mushrooms are edible given they are bruised, you need to consider the reduced size of the sample space. \n",
    "\n",
    "In the image above, S is the universe of all mushrooms in the dataset, A is the set of mushrooms that are edible, and B is the set of mushrooms that are bruised.\n",
    "\n",
    "* When you ask the question \"what is the probability that the mushrooms are edible given the mushrooms are bruised?\", you have effectively reduced the size of the sample space to include only those mushrooms that are bruised. \n",
    "\n",
    "* Given that mushrooms are bruised, the only way for the mushrooms to be edible is for these mushrooms to fall in the intersection of the set of mushrooms that are edible _and_ the set of mushrooms that are bruised , $P(edible \\cap bruised)$.  \n",
    "\n",
    "* To account for the smaller sample space, you divide the probability mushrooms are edible and bruised by the probability the mushrooms are bruised: $$\\large P(edible|bruised) = \\frac{P(edible \\cap bruised)}{P(bruised)}$$\n",
    "\n",
    "\n"
   ]
  },
  {
   "cell_type": "markdown",
   "metadata": {
    "slideshow": {
     "slide_type": "slide"
    }
   },
   "source": [
    "## Summary\n",
    "\n",
    "\n",
    "In this lesson, you reviewed 3 major foundational concepts for probability: permutations, combinations, and conditional probability. Remember that your standard padlock should be more accurately called a permutation lock! Order matters for permutations, whereas only the members of the set are important for combinations. Conditional probability investigates the odds of an event occurring given other information. In these instances, the universal set of possibilities reflects the given information. In the mushroom example, the probability of a mushroom being edible given that it is bruised can be computed by dividing the probability that it a mushroom is both edible AND bruised, by the probability that it is bruised. \n",
    "\n",
    "Mathematically: \n",
    "\n",
    "$$\\large P(edible|bruised) = \\frac{P(edible \\cap bruised)}{P(bruised)}$$ \n"
   ]
  },
  {
   "cell_type": "markdown",
   "metadata": {
    "slideshow": {
     "slide_type": "slide"
    }
   },
   "source": [
    "# Additional Resources"
   ]
  },
  {
   "cell_type": "markdown",
   "metadata": {
    "slideshow": {
     "slide_type": "slide"
    }
   },
   "source": [
    "## Additional Conditional Probability Practice\n",
    "\n",
    "What's the probability that a mushroom is poisonous if it has close gill spacing and a tapering stalk?\n",
    "\n",
    "$$\\large P(edible|close \\cap tapering) = \\frac{P(edible \\cap close \\cap tapering)}{P(close \\cap tapering)}$$"
   ]
  },
  {
   "cell_type": "code",
   "execution_count": null,
   "metadata": {
    "slideshow": {
     "slide_type": "notes"
    }
   },
   "outputs": [],
   "source": [
    "# P that mushroom is poisonous given close gill spacing and tapering stalk'\n"
   ]
  },
  {
   "cell_type": "markdown",
   "metadata": {
    "slideshow": {
     "slide_type": "slide"
    }
   },
   "source": [
    "## Challenge Problem\n",
    "\n",
    "Let's take some time and review questions like those from the [dsc-law-of-total-probability-lab](https://github.com/learn-co-curriculum/dsc-law-of-total-probability-lab).  \n",
    "\n",
    "According to the CDC, [14% of Americans currently smoke, 15.8% of males and 12.2% of females](https://www.cdc.gov/tobacco/data_statistics/fact_sheets/adult_data/cig_smoking/index.htm). According the the American Lung Association, [men who smoke are 23 times more likely to smoke then never-smokers, and women are 13 times as likely](https://www.lung.org/lung-health-and-diseases/lung-disease-lookup/lung-cancer/resource-library/lung-cancer-fact-sheet.html). The American Cancer Society estimates that [the lifetime risk of developing lung cancer is 6.85% for males and 5.95% for females](https://www.cancer.org/cancer/cancer-basics/lifetime-probability-of-developing-or-dying-from-cancer.html). Currently, the census estimates that [women are 50.8% of the population](https://www.census.gov/quickfacts/fact/table/US/PST045218). \n",
    "\n",
    "What is the risk of lung cancer for non-smokers? Non-smoker males? Non-smoker females?\n",
    "\n",
    "> To learn more about lung-cancer risks for non-smokers, see https://www.cancer.org/latest-news/why-lung-cancer-strikes-nonsmokers.html."
   ]
  },
  {
   "cell_type": "code",
   "execution_count": null,
   "metadata": {},
   "outputs": [],
   "source": [
    "# Risk of lung cancer for non-smokers\n"
   ]
  },
  {
   "cell_type": "code",
   "execution_count": null,
   "metadata": {},
   "outputs": [],
   "source": [
    "# Risk of lung cancer for non-smoking males\n"
   ]
  },
  {
   "cell_type": "code",
   "execution_count": null,
   "metadata": {},
   "outputs": [],
   "source": [
    "# Risk of lung cancer for non-smoking females\n"
   ]
  }
 ],
 "metadata": {
  "kernelspec": {
   "display_name": "learn-env",
   "language": "python",
   "name": "learn-env"
  },
  "language_info": {
   "codemirror_mode": {
    "name": "ipython",
    "version": 3
   },
   "file_extension": ".py",
   "mimetype": "text/x-python",
   "name": "python",
   "nbconvert_exporter": "python",
   "pygments_lexer": "ipython3",
   "version": "3.6.9"
  }
 },
 "nbformat": 4,
 "nbformat_minor": 4
}
