{
 "cells": [
  {
   "cell_type": "markdown",
   "metadata": {},
   "source": [
    "# Phase 2 Project Office Hours - Jan 20\n",
    "\n",
    "Woo py files!"
   ]
  },
  {
   "cell_type": "code",
   "execution_count": null,
   "metadata": {
    "scrolled": false
   },
   "outputs": [],
   "source": [
    "import pandas as pd\n",
    "import numpy as np\n",
    "\n",
    "import matplotlib.pyplot as plt\n",
    "import seaborn as sns\n",
    "\n",
    "from sklearn.linear_model import LinearRegression\n",
    "from sklearn.preprocessing import MinMaxScaler, RobustScaler\n",
    "from sklearn.model_selection import train_test_split\n",
    "from sklearn.metrics import r2_score, mean_absolute_error, mean_squared_error\n",
    "\n",
    "from yellowbrick.regressor import ResidualsPlot\n",
    "import eli5"
   ]
  },
  {
   "cell_type": "code",
   "execution_count": null,
   "metadata": {},
   "outputs": [],
   "source": [
    "df = pd.read_csv('data/kc_house_data.csv')"
   ]
  },
  {
   "cell_type": "code",
   "execution_count": null,
   "metadata": {},
   "outputs": [],
   "source": [
    "df.head()"
   ]
  },
  {
   "cell_type": "code",
   "execution_count": null,
   "metadata": {},
   "outputs": [],
   "source": [
    "df.info()"
   ]
  },
  {
   "cell_type": "code",
   "execution_count": null,
   "metadata": {},
   "outputs": [],
   "source": [
    "df.describe()"
   ]
  },
  {
   "cell_type": "code",
   "execution_count": null,
   "metadata": {},
   "outputs": [],
   "source": [
    "# filling all null values with zero\n",
    "df = df.fillna(value=0)"
   ]
  },
  {
   "cell_type": "markdown",
   "metadata": {},
   "source": [
    "## First Model"
   ]
  },
  {
   "cell_type": "code",
   "execution_count": null,
   "metadata": {},
   "outputs": [],
   "source": [
    "# define columns to use\n",
    "used_cols = [c for c in df.columns.to_list() if c not in [\n",
    "    'price', 'id', 'date', 'view', 'sqft_above', 'sqft_basement',\n",
    "    'yr_renovated', 'zipcode', 'lat', 'long', 'sqft_living15', 'sqft_lot15']\n",
    "            ]"
   ]
  },
  {
   "cell_type": "code",
   "execution_count": null,
   "metadata": {},
   "outputs": [],
   "source": [
    "# define X and y\n",
    "X = df[used_cols]\n",
    "X.info()\n",
    "\n",
    "y = df['price']"
   ]
  },
  {
   "cell_type": "code",
   "execution_count": null,
   "metadata": {},
   "outputs": [],
   "source": [
    "# train test split\n",
    "X_train, X_test, y_train, y_test = train_test_split(X, y, test_size=0.33, \n",
    "                                                    random_state=42)"
   ]
  },
  {
   "cell_type": "code",
   "execution_count": null,
   "metadata": {},
   "outputs": [],
   "source": [
    "# scale\n",
    "scaler = MinMaxScaler()\n",
    "\n",
    "scaler.fit(X_train)\n",
    "X_train_scaled = scaler.transform(X_train)\n",
    "X_test_scaled = scaler.transform(X_test)"
   ]
  },
  {
   "cell_type": "code",
   "execution_count": null,
   "metadata": {},
   "outputs": [],
   "source": [
    "# model\n",
    "lr = LinearRegression()\n",
    "\n",
    "lr.fit(X_train_scaled, y_train)\n",
    "\n",
    "y_train_preds = lr.predict(X_train_scaled)\n",
    "y_test_preds = lr.predict(X_test_scaled)"
   ]
  },
  {
   "cell_type": "code",
   "execution_count": null,
   "metadata": {},
   "outputs": [],
   "source": [
    "#evaluate\n",
    "\n",
    "print(f\"Train R2: {r2_score(y_train, y_train_preds):.3f}\")\n",
    "print(f\"Test R2: {r2_score(y_test, y_test_preds):.3f}\")\n",
    "print(\"---\")\n",
    "print(f\"Train MAE: {mean_absolute_error(y_train, y_train_preds):.3f}\")\n",
    "print(f\"Test MAE: {mean_absolute_error(y_test, y_test_preds):.3f}\")\n",
    "print(\"---\")\n",
    "print(f\"Train RMSE: {mean_squared_error(y_train, y_train_preds, squared=False):.3f}\")\n",
    "print(f\"Test RMSE: {mean_squared_error(y_test, y_test_preds, squared=False):.3f}\")"
   ]
  },
  {
   "cell_type": "code",
   "execution_count": null,
   "metadata": {},
   "outputs": [],
   "source": [
    "# evaluate residuals\n",
    "visualizer = ResidualsPlot(lr, hist=False, qqplot=True)\n",
    "\n",
    "visualizer.fit(X_train_scaled, y_train)  # Fit the training data to the visualizer\n",
    "visualizer.score(X_test_scaled, y_test)  # Evaluate the model on the test data\n",
    "visualizer.show()                        # Finalize and render the figure"
   ]
  },
  {
   "cell_type": "code",
   "execution_count": null,
   "metadata": {},
   "outputs": [],
   "source": [
    "# without yellowbrick:\n",
    "\n",
    "# plt.scatter(y_train_pred, residuals_train, alpha=.75)\n",
    "# plt.scatter(y_test_pred, residuals_test, color='g', alpha=.75)\n",
    "\n",
    "# plt.axhline(y=0, color='black')\n",
    "\n",
    "# plt.title('Residuals for Linear Regression Model')\n",
    "# plt.ylabel('Residuals')\n",
    "# plt.xlabel('Predicted Values')"
   ]
  },
  {
   "cell_type": "code",
   "execution_count": null,
   "metadata": {},
   "outputs": [],
   "source": [
    "# check feature importance\n",
    "eli5.show_weights(lr, feature_names=used_cols)"
   ]
  },
  {
   "cell_type": "code",
   "execution_count": null,
   "metadata": {},
   "outputs": [],
   "source": [
    "# without eli5:\n",
    "\n",
    "# print(f\"Intercept: {lr.intercept_}\")\n",
    "# dict(zip(X.columns, lr.coef_))"
   ]
  }
 ],
 "metadata": {
  "kernelspec": {
   "display_name": "learn-env",
   "language": "python",
   "name": "learn-env"
  },
  "language_info": {
   "codemirror_mode": {
    "name": "ipython",
    "version": 3
   },
   "file_extension": ".py",
   "mimetype": "text/x-python",
   "name": "python",
   "nbconvert_exporter": "python",
   "pygments_lexer": "ipython3",
   "version": "3.8.5"
  }
 },
 "nbformat": 4,
 "nbformat_minor": 4
}
