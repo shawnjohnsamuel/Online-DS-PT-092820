{
 "cells": [
  {
   "cell_type": "markdown",
   "metadata": {},
   "source": [
    "# NoSQL - AKA Other Database Structures\n",
    "\n",
    "Credit to my colleagues Victor and Amber for much of this content!"
   ]
  },
  {
   "cell_type": "markdown",
   "metadata": {},
   "source": [
    "## Is SQL not good enough for you??\n",
    "\n",
    "SQL databases are Relational Databases built really for tabular data\n",
    "\n",
    "Focus on being structured, which can be useful/safe but also restrictive"
   ]
  },
  {
   "cell_type": "markdown",
   "metadata": {},
   "source": [
    "## Introducing \"Not Only SQL\" (aka NoSQL)\n",
    "\n",
    "These are non-relational databases (sometimes called distributed databases)\n",
    "\n",
    "AWS has a great resource describing NoSQL and how its different from SQL: https://aws.amazon.com/nosql/\n",
    "\n",
    "### NoSQL Advantages :\n",
    "\n",
    "- Don't need to know structure when you start\n",
    "- Flexible (specific to database)\n",
    "- Horizontally scalable: \"Just spin-up a new server!\"\n",
    "\n",
    "(Why aren't these true for SQL databases? Let's discuss!)"
   ]
  },
  {
   "cell_type": "markdown",
   "metadata": {},
   "source": [
    "# PokemonGo DB with Mongo DB "
   ]
  },
  {
   "cell_type": "markdown",
   "metadata": {},
   "source": [
    "Start by running `mongod` in your terminal - let's debug what problems we have all together!\n",
    "\n",
    "For me, and anyone else running a MacOS with Catalina, we need to specify our `--dbpath` argument!"
   ]
  },
  {
   "cell_type": "code",
   "execution_count": null,
   "metadata": {
    "ExecuteTime": {
     "end_time": "2020-06-23T20:36:13.884663Z",
     "start_time": "2020-06-23T20:36:13.192870Z"
    }
   },
   "outputs": [],
   "source": [
    "# imports\n"
   ]
  },
  {
   "cell_type": "markdown",
   "metadata": {},
   "source": [
    "Note: we interact with MongoDB using pymongo - [here is their documentation](https://pymongo.readthedocs.io/en/stable/) (featuring tutorials and examples)."
   ]
  },
  {
   "cell_type": "markdown",
   "metadata": {},
   "source": [
    "**Connect to Mongo, create a database and a collection.**\n",
    "\n",
    "- Host: `'localhost'`\n",
    "- Port: `27017` (how can we check this?)"
   ]
  },
  {
   "cell_type": "code",
   "execution_count": null,
   "metadata": {
    "ExecuteTime": {
     "end_time": "2020-06-23T20:36:49.136271Z",
     "start_time": "2020-06-23T20:36:49.131969Z"
    }
   },
   "outputs": [],
   "source": [
    "client = None\n",
    "poke_db = None\n",
    "poke_collection = None"
   ]
  },
  {
   "cell_type": "markdown",
   "metadata": {},
   "source": [
    "**Create an entry and insert it into the collection.**"
   ]
  },
  {
   "cell_type": "code",
   "execution_count": null,
   "metadata": {
    "ExecuteTime": {
     "end_time": "2020-06-23T20:37:28.009280Z",
     "start_time": "2020-06-23T20:37:28.004409Z"
    }
   },
   "outputs": [],
   "source": [
    "pikachu = {'name': 'Pikachu', 'primary_type': 'Electric', 'secondary_type': 'None', 'level':25}\n",
    "#Now let's insert this data into our collection below\n"
   ]
  },
  {
   "cell_type": "markdown",
   "metadata": {},
   "source": [
    "**Run a query to find all items in the collection.**"
   ]
  },
  {
   "cell_type": "code",
   "execution_count": null,
   "metadata": {},
   "outputs": [],
   "source": []
  },
  {
   "cell_type": "markdown",
   "metadata": {},
   "source": [
    "**Insert multiple entries at once.**"
   ]
  },
  {
   "cell_type": "code",
   "execution_count": null,
   "metadata": {
    "ExecuteTime": {
     "end_time": "2020-06-23T20:38:41.255521Z",
     "start_time": "2020-06-23T20:38:41.251631Z"
    }
   },
   "outputs": [],
   "source": [
    "charmander = {'name': 'Charmander', 'primary_type': 'Fire', 'secondary_type': 'None', 'level':12}\n",
    "bulbasaur = {'name': 'Bulbasaur',  'primary_type': 'Grass', 'secondary_type': 'Poison', 'level':10}\n",
    "squirtle = {'name': 'Squirtle',  'primary_type': 'Water', 'secondary_type': 'None', 'level':8}\n",
    "\n",
    "starters_list = [charmander, bulbasaur, squirtle]\n",
    "\n",
    "#Now need to add these three to our collection!"
   ]
  },
  {
   "cell_type": "markdown",
   "metadata": {},
   "source": [
    "**Query just the names of all the entered Pokemon without the IDs.**"
   ]
  },
  {
   "cell_type": "code",
   "execution_count": null,
   "metadata": {},
   "outputs": [],
   "source": []
  },
  {
   "cell_type": "markdown",
   "metadata": {},
   "source": [
    "**Query the Pokemon with a level less than 20. You may need the reference manual** [here](https://docs.mongodb.com/manual/reference/operator/query/#query-selectors)"
   ]
  },
  {
   "cell_type": "code",
   "execution_count": null,
   "metadata": {},
   "outputs": [],
   "source": []
  },
  {
   "cell_type": "markdown",
   "metadata": {},
   "source": [
    "Now let's undo everything we've done!\n",
    "\n",
    "1. **Delete Pikachu.** \n"
   ]
  },
  {
   "cell_type": "code",
   "execution_count": null,
   "metadata": {},
   "outputs": [],
   "source": []
  },
  {
   "cell_type": "code",
   "execution_count": null,
   "metadata": {},
   "outputs": [],
   "source": [
    "# Check your work\n"
   ]
  },
  {
   "cell_type": "markdown",
   "metadata": {},
   "source": [
    "2. **Delete all entries without a secondary type.**"
   ]
  },
  {
   "cell_type": "code",
   "execution_count": null,
   "metadata": {},
   "outputs": [],
   "source": []
  },
  {
   "cell_type": "code",
   "execution_count": null,
   "metadata": {},
   "outputs": [],
   "source": [
    "# Check your work\n"
   ]
  },
  {
   "cell_type": "markdown",
   "metadata": {},
   "source": [
    "3. **Delete the entire collection.**"
   ]
  },
  {
   "cell_type": "code",
   "execution_count": null,
   "metadata": {},
   "outputs": [],
   "source": []
  },
  {
   "cell_type": "code",
   "execution_count": null,
   "metadata": {},
   "outputs": [],
   "source": [
    "# Check your work\n"
   ]
  },
  {
   "cell_type": "code",
   "execution_count": null,
   "metadata": {
    "scrolled": true
   },
   "outputs": [],
   "source": [
    "# Another way to check\n"
   ]
  },
  {
   "cell_type": "markdown",
   "metadata": {},
   "source": [
    "## Additional Resources\n",
    "\n",
    "https://university.mongodb.com/ - full set of courses on MongoDB, all free!\n",
    " - Start with [M001 - MongoDB Basics](https://university.mongodb.com/courses/M001/about) if you want a taste test not only in running some of these commands, but to get practice exploring how to connect and run these commands in their cloud interface"
   ]
  },
  {
   "cell_type": "markdown",
   "metadata": {},
   "source": [
    "-----\n",
    "\n",
    "## API Introduction (if we have time!)\n",
    "\n",
    "### The Many Use Cases For APIs\n",
    "\n",
    "APIs can be used for many things - much more than just retrieving information. Twilio has an API that allows you to write a script to send text messages to people. GitHub has an API for creating new repositories. Many services have APIs allowing computers to automate tasks that a person might otherwise have to do through a website - whether uploading a photo to Flickr, searching for a company name in a state database, or getting a list of garbage collection times for a municipality."
   ]
  },
  {
   "cell_type": "markdown",
   "metadata": {},
   "source": [
    "### \"Requests is the only Non-GMO HTTP library for Python, safe for human consumption.\"\n",
    "\n",
    "> \"Requests allows you to send organic, grass-fed HTTP/1.1 requests, without the need for manual labor.\"\n",
    "\n",
    "Straight from the `requests` [documentation](https://pypi.org/project/requests/)"
   ]
  },
  {
   "cell_type": "code",
   "execution_count": null,
   "metadata": {},
   "outputs": [],
   "source": [
    "import requests"
   ]
  },
  {
   "cell_type": "markdown",
   "metadata": {},
   "source": [
    "### Types of requests\n",
    "\n",
    "We will mostly use GET requests in order to get data, but there are other options.\n",
    "\n",
    "![CRUD image from ProDataMan Blog](http://blog.prodataman.com/wp-content/uploads/2018/09/CRUD-operations.jpg)\n",
    "\n",
    "[Image Source](http://blog.prodataman.com/2018/09/19/crud-script-and-ssms-toolkit/)\n",
    "\n",
    "That's right - CRUD summarizes the kinds of requests you can make with most APIs. \n",
    "\n",
    "Let's say you are looking at an API for a car rental company like Hertz or Zipcar - the following different requests could generate these different responses:\n",
    "\n",
    "| Request               | Result                               | In CRUD Terms |\n",
    "| --------------------- | ------------------------------------ | ------------- |\n",
    "| GET /stores/          | User sees the list of stores         | Read          |\n",
    "| GET /rentals/         | User sees the history of car rentals | Read          |\n",
    "| POST /rentals/        | User rents a car                     | Create        |\n",
    "| PUT /rentals/{id}/    | User changes destination store       | Update        |\n",
    "| DELETE /rentals/{id}/ | User cancels the active car rental   | Delete        |\n"
   ]
  },
  {
   "cell_type": "markdown",
   "metadata": {},
   "source": [
    "## Practice: The Pokemon API!\n",
    "\n",
    "https://pokeapi.co/\n",
    "\n",
    "Nice place to start because there's no login details or credentials to fuss with.\n",
    "\n",
    "**For now, just want to explore grabbing the _types_ of different Pokemon.**"
   ]
  },
  {
   "cell_type": "markdown",
   "metadata": {},
   "source": [
    "Type chart, for reference:\n",
    "\n",
    "![Pokemon type chart, from pokemondb.net](https://img.pokemondb.net/images/typechart.png)\n",
    "\n",
    "[Image Source](https://pokemondb.net/type)"
   ]
  },
  {
   "cell_type": "code",
   "execution_count": null,
   "metadata": {},
   "outputs": [],
   "source": [
    "base_path = 'https://pokeapi.co/api/v2/'"
   ]
  },
  {
   "cell_type": "code",
   "execution_count": null,
   "metadata": {},
   "outputs": [],
   "source": []
  },
  {
   "cell_type": "code",
   "execution_count": null,
   "metadata": {},
   "outputs": [],
   "source": []
  }
 ],
 "metadata": {
  "kernelspec": {
   "display_name": "learn-env",
   "language": "python",
   "name": "learn-env"
  },
  "language_info": {
   "codemirror_mode": {
    "name": "ipython",
    "version": 3
   },
   "file_extension": ".py",
   "mimetype": "text/x-python",
   "name": "python",
   "nbconvert_exporter": "python",
   "pygments_lexer": "ipython3",
   "version": "3.6.9"
  },
  "toc": {
   "base_numbering": 1,
   "nav_menu": {},
   "number_sections": true,
   "sideBar": true,
   "skip_h1_title": true,
   "title_cell": "Table of Contents",
   "title_sidebar": "Contents",
   "toc_cell": false,
   "toc_position": {},
   "toc_section_display": true,
   "toc_window_display": false
  }
 },
 "nbformat": 4,
 "nbformat_minor": 2
}
