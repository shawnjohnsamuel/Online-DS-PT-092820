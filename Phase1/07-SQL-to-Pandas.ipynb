{
 "cells": [
  {
   "cell_type": "markdown",
   "metadata": {
    "slideshow": {
     "slide_type": "slide"
    }
   },
   "source": [
    "![sql](images/sql-logo.jpg)\n",
    "\n",
    "# Databases, SQL, and Connecting them to `pandas`"
   ]
  },
  {
   "cell_type": "markdown",
   "metadata": {
    "slideshow": {
     "slide_type": "slide"
    }
   },
   "source": [
    "Long before we can do any kind of machine learning, we need access to data - most often stored in databases.\n",
    "\n",
    "![hierarchy](images/ai-hierachy.png)\n",
    "\n",
    "[Image Source](https://hackernoon.com/the-ai-hierarchy-of-needs-18f111fcc007)\n",
    "\n",
    "> ^ If you haven't yet read about the AI Hierarchy of Needs, I can't recommend Monica Rogati’s fantastic blog post enough! Click the image source link to give it a read.\n",
    "\n",
    "The task of accessing data - **Extracting, Transforming and Loading** data, often shortened to **ETL** - often falls to Data Engineers, and so today we'll be wearing the hat of a Data Engineer in order to see what it means to access data where it actually is stored."
   ]
  },
  {
   "cell_type": "markdown",
   "metadata": {},
   "source": [
    "## What does it mean to **Engineer Data**?\n",
    "\n",
    "Let's start with a basic scenario: You have *no* current database. How would you set it up?\n",
    "\n",
    "Data-needs considerations:\n",
    "\n",
    "- What you want to store\n",
    "- What \"views\" you anticipate wanting in the future\n",
    "\n",
    "Structure considerations:\n",
    "\n",
    "- Speed of retrieval\n",
    "- How much data you are accessing\n",
    "- How much you are storing"
   ]
  },
  {
   "cell_type": "markdown",
   "metadata": {
    "slideshow": {
     "slide_type": "slide"
    }
   },
   "source": [
    "### What is a Relational Database? \n",
    "\n",
    "> \"Most databases today are relational databases, named such because they deal with tables of data related by a common field.\"\n",
    "> - [MariaDB's Introduction to Relational Databases tutorial](https://mariadb.com/kb/en/introduction-to-relational-databases/)\n",
    "\n",
    "From that description, we know a few things - databases are made up of tables, which contain data that is related between tables.\n",
    "\n",
    "Let's look at an example and unpack:\n",
    "\n",
    "![example database schema](images/example-database-schema.png)\n",
    "\n",
    "[Image Source](http://www.cs.montana.edu/~halla/csci440/n7/n7.html)"
   ]
  },
  {
   "cell_type": "markdown",
   "metadata": {},
   "source": [
    "Lots of symbols we can examine here! These **Entity-Relationship Diagrams** (ERDs) will tell you a lot about how tables relate to each other.\n",
    "\n",
    "First lets look at the symbols along the sides of each line in there - each line is the name of a column, followed by the allowed datatype in all caps. The symbols?\n",
    "\n",
    "- Small Key indicates a primary key\n",
    "- Blue Diamond indicates a field/attribute\n",
    "- Red Diamond indicates a foreign key\n",
    "\n",
    "As for the symbols along the lines - relationship between keys! This type of notation is called Crow's Feet notation.\n",
    "\n",
    "<img alt=\"database schema connectors explained\" src=\"images/crowsfeetsymbols.png\" width=400>\n",
    "\n",
    "[Image Source](https://www.lucidchart.com/pages/ER-diagram-symbols-and-meaning)\n",
    "\n",
    "Of course - this is but one way of visualizing these relationships (there are others)"
   ]
  },
  {
   "cell_type": "markdown",
   "metadata": {},
   "source": [
    "## Enter SQL\n",
    "\n",
    "SQL - **Structured Query Language** - is a standard language for connecting to, changing and retrieving data stored in relational databases.\n",
    "\n",
    "SQL is a language - [but there are dialects.](https://training-nyc.com/learn/sql/the-many-flavors-of-sql-a-guide-to-relational-databases) Some are proprietary, some are open source, and all have their quirks. At their core, however, they're mostly the same and use many of the same keywords. If you're proficient in one flavor of SQL, you can easily transition to one of the others."
   ]
  },
  {
   "cell_type": "markdown",
   "metadata": {
    "slideshow": {
     "slide_type": "slide"
    }
   },
   "source": [
    "### SQLite\n",
    "\n",
    "<img src=\"images/SQLite-Python.jpg\" width=400>\n",
    "\n",
    "One of many flavors of SQL! And the one we'll be using!\n",
    "\n",
    "- C library (fast)\n",
    "- lightweight disk-based database\n",
    "- that doesn’t require a separate server process\n",
    "- nonstandard variant of the SQL query language\n",
    "- applications can use SQLite for internal data storage\n",
    "- use case: prototype an application using SQLite and then port the code to a larger database such as PostgreSQL or Oracle\n",
    "\n",
    "#### Using it in Python:\n",
    "\n",
    "[sqlite3 documentation](https://docs.python.org/2/library/sqlite3.html)"
   ]
  },
  {
   "cell_type": "markdown",
   "metadata": {
    "slideshow": {
     "slide_type": "slide"
    }
   },
   "source": [
    "### Other flavors/database types?\n",
    "\n",
    "To connect to other database types (thus other flavors of SQL) there are many different Python libraries:\n",
    "\n",
    "- Oracle: [cx_Oracle](https://oracle.github.io/python-cx_Oracle/)\n",
    "- MySQL: [MySQL-python](https://github.com/farcepest/MySQLdb1)\n",
    "- PostgreSQL: [Psycopg2](http://initd.org/psycopg/docs/)\n",
    "- Microsoft SQL Server: [pymssql](http://www.pymssql.org/en/stable/)"
   ]
  },
  {
   "cell_type": "markdown",
   "metadata": {
    "slideshow": {
     "slide_type": "slide"
    }
   },
   "source": [
    "## Let's Explore a Database!"
   ]
  },
  {
   "cell_type": "code",
   "execution_count": null,
   "metadata": {
    "slideshow": {
     "slide_type": "fragment"
    }
   },
   "outputs": [],
   "source": [
    "# of course, need an import\n"
   ]
  },
  {
   "cell_type": "markdown",
   "metadata": {
    "slideshow": {
     "slide_type": "slide"
    }
   },
   "source": [
    "#### Load a database object with `connect` and `cursor`"
   ]
  },
  {
   "cell_type": "code",
   "execution_count": null,
   "metadata": {
    "slideshow": {
     "slide_type": "fragment"
    }
   },
   "outputs": [],
   "source": [
    "con = None\n",
    "cursor = None"
   ]
  },
  {
   "cell_type": "markdown",
   "metadata": {},
   "source": [
    "Our cursor is what we'll use to execute queries on a database."
   ]
  },
  {
   "cell_type": "markdown",
   "metadata": {
    "slideshow": {
     "slide_type": "slide"
    }
   },
   "source": [
    "#### Using `Pragma`\n",
    "\n",
    "[`Pragma`](https://www.sqlite.org/pragma.html) - note that PRAGMA is a query statement specific to SQLite\n",
    "\n",
    "**output:**\n",
    "\n",
    "`(column id, column name, data type, whether or not the column can be NULL, the default value for the column, and whether the column is a foreign key)`"
   ]
  },
  {
   "cell_type": "code",
   "execution_count": null,
   "metadata": {
    "slideshow": {
     "slide_type": "slide"
    }
   },
   "outputs": [],
   "source": [
    "cursor.execute(\"PRAGMA table_info(airports)\")\n",
    "info = cursor.fetchall()\n",
    "print(*info, sep = \"\\n\")  #cool new way of using python's print"
   ]
  },
  {
   "cell_type": "markdown",
   "metadata": {
    "slideshow": {
     "slide_type": "slide"
    }
   },
   "source": [
    "#### Making fetch happen\n",
    "\n",
    "`.fetchall()` is how you get the query results out of the object.\n",
    "\n",
    "You can also `.fetchone()` or `.fetchmany()`"
   ]
  },
  {
   "cell_type": "markdown",
   "metadata": {
    "slideshow": {
     "slide_type": "slide"
    }
   },
   "source": [
    "**Task:** Get the descriptive data for the other two tables, `airlines` and `routes`"
   ]
  },
  {
   "cell_type": "code",
   "execution_count": null,
   "metadata": {},
   "outputs": [],
   "source": [
    "# Grab data on the airlines table\n"
   ]
  },
  {
   "cell_type": "code",
   "execution_count": null,
   "metadata": {},
   "outputs": [],
   "source": [
    "# Grab data on the routes table\n"
   ]
  },
  {
   "cell_type": "markdown",
   "metadata": {
    "slideshow": {
     "slide_type": "slide"
    }
   },
   "source": [
    "***\n",
    "## Basic SQL commands "
   ]
  },
  {
   "cell_type": "markdown",
   "metadata": {
    "slideshow": {
     "slide_type": "slide"
    }
   },
   "source": [
    "### The Structure of a SQL Query"
   ]
  },
  {
   "cell_type": "markdown",
   "metadata": {
    "slideshow": {
     "slide_type": "slide"
    }
   },
   "source": [
    "![sql query structure](images/sql_statement.jpg)\n",
    "\n",
    "[Image Source](https://searchsqlserver.techtarget.com/feature/How-to-use-the-SELECT-statement-in-SQL)"
   ]
  },
  {
   "cell_type": "markdown",
   "metadata": {
    "slideshow": {
     "slide_type": "slide"
    }
   },
   "source": [
    "### Constructing SQL queries"
   ]
  },
  {
   "cell_type": "markdown",
   "metadata": {
    "slideshow": {
     "slide_type": "fragment"
    }
   },
   "source": [
    "**`SELECT`**:  The columns you want\n",
    "\n",
    "- options: \n",
    "    - `DISTINCT`\n",
    "    - using `AS` to rename columns, called *aliasing*\n",
    "    - single number aggregates (like count)"
   ]
  },
  {
   "cell_type": "markdown",
   "metadata": {
    "slideshow": {
     "slide_type": "fragment"
    }
   },
   "source": [
    "**`FROM`:** the source tables\n",
    "\n",
    "- options: \n",
    "    - also can alias with `AS`\n",
    "    - where we can join other tables, with `[LEFT|INNER|RIGHT|FULL] JOIN ___ [ON|USING]`"
   ]
  },
  {
   "cell_type": "markdown",
   "metadata": {
    "slideshow": {
     "slide_type": "fragment"
    }
   },
   "source": [
    "**`WHERE`**: your filters\n",
    "\n",
    "- options: \n",
    "    - comparators like `=` & `>=`\n",
    "    - `BETWEEN`, `IN`, `LIKE` (with wildcards `%`)\n",
    "    - booleans like `AND`, `OR`, `NOT`"
   ]
  },
  {
   "cell_type": "markdown",
   "metadata": {
    "slideshow": {
     "slide_type": "fragment"
    }
   },
   "source": [
    "**`ORDER BY`**: sorting\n",
    "\n",
    "- options: \n",
    "    - `ASC` (default) and `DESC`"
   ]
  },
  {
   "cell_type": "markdown",
   "metadata": {
    "slideshow": {
     "slide_type": "fragment"
    }
   },
   "source": [
    "**`LIMIT`**:  # of rows to return (pair with `OFFSET`)"
   ]
  },
  {
   "cell_type": "markdown",
   "metadata": {},
   "source": [
    "There are more! So many more!\n",
    "\n",
    "**NOTE:** SQL doesn't care about spacing, and doesn't care about capslock for statement options. But, it's convention - plus it makes your queries easier to read, for yourself and others."
   ]
  },
  {
   "cell_type": "markdown",
   "metadata": {
    "slideshow": {
     "slide_type": "slide"
    }
   },
   "source": [
    "#### Use `sqlite_master` to find all the tables in the schema\n",
    "\n",
    "Remember, we've defined a `cursor` that can execute queries - time to use it!"
   ]
  },
  {
   "cell_type": "code",
   "execution_count": null,
   "metadata": {},
   "outputs": [],
   "source": [
    "cursor.execute(\"\"\"\n",
    "    --SQL query here\n",
    "    \"\"\").fetchall()"
   ]
  },
  {
   "cell_type": "markdown",
   "metadata": {
    "slideshow": {
     "slide_type": "slide"
    }
   },
   "source": [
    "**Task**: \n",
    "\n",
    "- Select only **active** airlines in the **United Kingdom** from the `airlines` table\n"
   ]
  },
  {
   "cell_type": "code",
   "execution_count": null,
   "metadata": {
    "scrolled": true
   },
   "outputs": [],
   "source": []
  },
  {
   "cell_type": "code",
   "execution_count": null,
   "metadata": {},
   "outputs": [],
   "source": [
    "# can also check the description for details once a query has run\n"
   ]
  },
  {
   "cell_type": "markdown",
   "metadata": {},
   "source": [
    "**Task**: \n",
    "- Select the **unique** list of **countries** with airports"
   ]
  },
  {
   "cell_type": "code",
   "execution_count": null,
   "metadata": {},
   "outputs": [],
   "source": []
  },
  {
   "cell_type": "code",
   "execution_count": null,
   "metadata": {},
   "outputs": [],
   "source": [
    "# what if I just wanted a count of how many?\n"
   ]
  },
  {
   "cell_type": "markdown",
   "metadata": {
    "slideshow": {
     "slide_type": "slide"
    }
   },
   "source": [
    "### SQL Joins"
   ]
  },
  {
   "cell_type": "markdown",
   "metadata": {
    "slideshow": {
     "slide_type": "fragment"
    }
   },
   "source": [
    "SQL joins can be used to both **add** data to a table and **remove** data from a table. "
   ]
  },
  {
   "cell_type": "markdown",
   "metadata": {
    "slideshow": {
     "slide_type": "fragment"
    }
   },
   "source": [
    "<img src=\"images/venn.png\" width=550>"
   ]
  },
  {
   "cell_type": "markdown",
   "metadata": {
    "slideshow": {
     "slide_type": "slide"
    }
   },
   "source": [
    "**Task** \n",
    "\n",
    "- Write a query that will join the **latitude** and **longitude** data from the `airports` table to the information on the `routes` table"
   ]
  },
  {
   "cell_type": "code",
   "execution_count": null,
   "metadata": {
    "slideshow": {
     "slide_type": "skip"
    }
   },
   "outputs": [],
   "source": [
    "# what does the routes table look like?\n"
   ]
  },
  {
   "cell_type": "code",
   "execution_count": null,
   "metadata": {},
   "outputs": [],
   "source": [
    "# what does the airports table look like?\n"
   ]
  },
  {
   "cell_type": "code",
   "execution_count": null,
   "metadata": {},
   "outputs": [],
   "source": [
    "# what join(s) do we need?"
   ]
  },
  {
   "cell_type": "markdown",
   "metadata": {
    "slideshow": {
     "slide_type": "slide"
    }
   },
   "source": [
    "### Grouping statements\n",
    "\n",
    "Combine `SELECT` and `GROUP BY` when you want aggregates by values"
   ]
  },
  {
   "cell_type": "markdown",
   "metadata": {
    "slideshow": {
     "slide_type": "fragment"
    }
   },
   "source": [
    "`SELECT` `min(x)` ... `max()`, `sum()`, etc.\n",
    "\n",
    "`GROUP BY x`"
   ]
  },
  {
   "cell_type": "markdown",
   "metadata": {
    "slideshow": {
     "slide_type": "slide"
    }
   },
   "source": [
    "**Task**\n",
    "\n",
    "- Which countries have the most active airlines?"
   ]
  },
  {
   "cell_type": "code",
   "execution_count": null,
   "metadata": {
    "scrolled": true,
    "slideshow": {
     "slide_type": "skip"
    }
   },
   "outputs": [],
   "source": []
  },
  {
   "cell_type": "markdown",
   "metadata": {},
   "source": [
    "**Task**\n",
    "\n",
    "- What about inactive airlines?"
   ]
  },
  {
   "cell_type": "code",
   "execution_count": null,
   "metadata": {
    "slideshow": {
     "slide_type": "skip"
    }
   },
   "outputs": [],
   "source": []
  },
  {
   "cell_type": "markdown",
   "metadata": {},
   "source": [
    "**Task**\n",
    "\n",
    "- How many airports are there in each timezone?"
   ]
  },
  {
   "cell_type": "code",
   "execution_count": null,
   "metadata": {
    "slideshow": {
     "slide_type": "skip"
    }
   },
   "outputs": [],
   "source": []
  },
  {
   "cell_type": "code",
   "execution_count": null,
   "metadata": {},
   "outputs": [],
   "source": [
    "# It's always a good idea to close our connections when we're done\n",
    "cursor.close()\n",
    "con.close()"
   ]
  },
  {
   "cell_type": "markdown",
   "metadata": {
    "slideshow": {
     "slide_type": "slide"
    }
   },
   "source": [
    "## Moving from SQLite3 to pandas"
   ]
  },
  {
   "cell_type": "code",
   "execution_count": null,
   "metadata": {},
   "outputs": [],
   "source": [
    "# need to import pandas!\n"
   ]
  },
  {
   "cell_type": "code",
   "execution_count": 1,
   "metadata": {
    "slideshow": {
     "slide_type": "fragment"
    }
   },
   "outputs": [],
   "source": [
    "pd_con = None\n",
    "df = None"
   ]
  },
  {
   "cell_type": "code",
   "execution_count": null,
   "metadata": {},
   "outputs": [],
   "source": [
    "df.head()"
   ]
  },
  {
   "cell_type": "markdown",
   "metadata": {
    "slideshow": {
     "slide_type": "slide"
    }
   },
   "source": [
    "**Task**: \n",
    "Convert one of the earlier queries in the lesson to a pandas dataframe"
   ]
  },
  {
   "cell_type": "code",
   "execution_count": null,
   "metadata": {
    "scrolled": false
   },
   "outputs": [],
   "source": []
  },
  {
   "cell_type": "markdown",
   "metadata": {},
   "source": [
    "Another way to move results into a pandas dataframe:"
   ]
  },
  {
   "cell_type": "code",
   "execution_count": null,
   "metadata": {},
   "outputs": [],
   "source": []
  },
  {
   "cell_type": "code",
   "execution_count": null,
   "metadata": {},
   "outputs": [],
   "source": []
  },
  {
   "cell_type": "code",
   "execution_count": null,
   "metadata": {},
   "outputs": [],
   "source": [
    "# don't forget to close connections again"
   ]
  },
  {
   "cell_type": "markdown",
   "metadata": {},
   "source": [
    "## Additional Resources\n",
    "\n",
    "Reading Resources:\n",
    "\n",
    "- [MariaDB's list of relational database terms, which also helps explain table relationships](https://mariadb.com/kb/en/relational-databases-basic-terms/)\n",
    "- [History of SQL Article](https://www.businessnewsdaily.com/5804-what-is-sql.html)\n",
    "- [The original SQL paper from the 1970s](https://www.seas.upenn.edu/~zives/03f/cis550/codd.pdf)\n",
    "\n",
    "Free SQL Courses: \n",
    "\n",
    "- [Kaggle's Courses](https://www.kaggle.com/learn/overview) on Intro to SQL and Advanced SQL - will include connecting to a Google Biq Query database\n",
    "- [Khan Academy's SQL Course](https://www.khanacademy.org/computing/computer-programming/sql), which includes using more complicated query commands like CASE\n",
    "- [Coursera Course on Modern Big Data Analysis with SQL](https://www.coursera.org/specializations/cloudera-big-data-analysis-sql) which was just recommended to me via the data science subreddit - covers SQL queries with specific considerations for very very large datasets stored in clusters in the cloud (specifically covers Hive and Impala, I'll likely be taking this course for fun over the next few weeks if anyone wants to join me!)"
   ]
  }
 ],
 "metadata": {
  "kernelspec": {
   "display_name": "Python 3",
   "language": "python",
   "name": "python3"
  },
  "language_info": {
   "codemirror_mode": {
    "name": "ipython",
    "version": 3
   },
   "file_extension": ".py",
   "mimetype": "text/x-python",
   "name": "python",
   "nbconvert_exporter": "python",
   "pygments_lexer": "ipython3",
   "version": "3.6.9"
  }
 },
 "nbformat": 4,
 "nbformat_minor": 4
}
