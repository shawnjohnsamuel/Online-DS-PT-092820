{
 "cells": [
  {
   "cell_type": "markdown",
   "metadata": {},
   "source": [
    "# NoSQL - AKA Other Database Structures\n",
    "\n",
    "Credit to my colleagues Victor and Amber for much of this content!"
   ]
  },
  {
   "cell_type": "markdown",
   "metadata": {},
   "source": [
    "## Is SQL not good enough for you??\n",
    "\n",
    "SQL databases are Relational Databases built really for tabular data\n",
    "\n",
    "Focus on being structured, which can be useful/safe but also restrictive"
   ]
  },
  {
   "cell_type": "markdown",
   "metadata": {},
   "source": [
    "## Introducing \"Not Only SQL\" (aka NoSQL)\n",
    "\n",
    "These are non-relational databases (sometimes called distributed databases)\n",
    "\n",
    "AWS has a great resource describing NoSQL and how its different from SQL: https://aws.amazon.com/nosql/\n",
    "\n",
    "### NoSQL Advantages :\n",
    "\n",
    "- Don't need to know structure when you start\n",
    "- Flexible (specific to database)\n",
    "- Horizontally scalable: \"Just spin-up a new server!\"\n",
    "\n",
    "(Why aren't these true for SQL databases? Let's discuss!)"
   ]
  },
  {
   "cell_type": "markdown",
   "metadata": {},
   "source": [
    "# PokemonGo DB with Mongo DB "
   ]
  },
  {
   "cell_type": "markdown",
   "metadata": {},
   "source": [
    "Start by running `mongod` in your terminal - let's debug what problems we have all together!\n",
    "\n",
    "For me, and anyone else running a MacOS with Catalina, we need to specify our `--dbpath` argument!"
   ]
  },
  {
   "cell_type": "code",
   "execution_count": 1,
   "metadata": {
    "ExecuteTime": {
     "end_time": "2020-06-23T20:36:13.884663Z",
     "start_time": "2020-06-23T20:36:13.192870Z"
    }
   },
   "outputs": [],
   "source": [
    "# imports\n",
    "import pymongo"
   ]
  },
  {
   "cell_type": "markdown",
   "metadata": {},
   "source": [
    "Note: we interact with MongoDB using pymongo - [here is their documentation](https://pymongo.readthedocs.io/en/stable/) (featuring tutorials and examples)."
   ]
  },
  {
   "cell_type": "markdown",
   "metadata": {},
   "source": [
    "**Connect to Mongo, create a database and a collection.**\n",
    "\n",
    "- Host: `'localhost'`\n",
    "- Port: `27017` (how can we check this?)"
   ]
  },
  {
   "cell_type": "code",
   "execution_count": 2,
   "metadata": {
    "ExecuteTime": {
     "end_time": "2020-06-23T20:36:49.136271Z",
     "start_time": "2020-06-23T20:36:49.131969Z"
    }
   },
   "outputs": [],
   "source": [
    "client = pymongo.MongoClient(host='localhost', port=27017)\n",
    "poke_db = client['pokemon_db']\n",
    "poke_collection = poke_db['pokemon_collection']"
   ]
  },
  {
   "cell_type": "markdown",
   "metadata": {},
   "source": [
    "**Create an entry and insert it into the collection.**"
   ]
  },
  {
   "cell_type": "code",
   "execution_count": 4,
   "metadata": {
    "ExecuteTime": {
     "end_time": "2020-06-23T20:37:28.009280Z",
     "start_time": "2020-06-23T20:37:28.004409Z"
    }
   },
   "outputs": [
    {
     "data": {
      "text/plain": [
       "<pymongo.results.InsertOneResult at 0x7ff4a2975648>"
      ]
     },
     "execution_count": 4,
     "metadata": {},
     "output_type": "execute_result"
    }
   ],
   "source": [
    "pikachu = {'name': 'Pikachu', 'primary_type': 'Electric', 'secondary_type': 'None', 'level':25}\n",
    "#Now let's insert this data into our collection below\n",
    "poke_collection.insert_one(pikachu)"
   ]
  },
  {
   "cell_type": "markdown",
   "metadata": {},
   "source": [
    "**Run a query to find all items in the collection.**"
   ]
  },
  {
   "cell_type": "code",
   "execution_count": 6,
   "metadata": {
    "scrolled": true
   },
   "outputs": [
    {
     "name": "stdout",
     "output_type": "stream",
     "text": [
      "{'_id': ObjectId('5f974e5e9bcdab77b6fc89e2'), 'name': 'Pikachu', 'primary_type': 'Electric', 'secondary_type': 'None', 'level': 25}\n"
     ]
    }
   ],
   "source": [
    "res = poke_collection.find()\n",
    "for x in res:\n",
    "    print(x)"
   ]
  },
  {
   "cell_type": "code",
   "execution_count": 7,
   "metadata": {},
   "outputs": [
    {
     "data": {
      "text/plain": [
       "[{'_id': ObjectId('5f974e5e9bcdab77b6fc89e2'),\n",
       "  'name': 'Pikachu',\n",
       "  'primary_type': 'Electric',\n",
       "  'secondary_type': 'None',\n",
       "  'level': 25}]"
      ]
     },
     "execution_count": 7,
     "metadata": {},
     "output_type": "execute_result"
    }
   ],
   "source": [
    "[x for x in poke_collection.find()]"
   ]
  },
  {
   "cell_type": "markdown",
   "metadata": {},
   "source": [
    "**Insert multiple entries at once.**"
   ]
  },
  {
   "cell_type": "code",
   "execution_count": 8,
   "metadata": {
    "ExecuteTime": {
     "end_time": "2020-06-23T20:38:41.255521Z",
     "start_time": "2020-06-23T20:38:41.251631Z"
    }
   },
   "outputs": [
    {
     "data": {
      "text/plain": [
       "<pymongo.results.InsertManyResult at 0x7ff4a27b3508>"
      ]
     },
     "execution_count": 8,
     "metadata": {},
     "output_type": "execute_result"
    }
   ],
   "source": [
    "charmander = {'name': 'Charmander', 'primary_type': 'Fire', 'secondary_type': 'None', 'level':12}\n",
    "bulbasaur = {'name': 'Bulbasaur',  'primary_type': 'Grass', 'secondary_type': 'Poison', 'level':10}\n",
    "squirtle = {'name': 'Squirtle',  'primary_type': 'Water', 'secondary_type': 'None', 'level':8}\n",
    "\n",
    "starters_list = [charmander, bulbasaur, squirtle]\n",
    "\n",
    "#Now need to add these three to our collection!\n",
    "poke_collection.insert_many(starters_list)"
   ]
  },
  {
   "cell_type": "markdown",
   "metadata": {},
   "source": [
    "**Query just the names of all the entered Pokemon without the IDs.**"
   ]
  },
  {
   "cell_type": "code",
   "execution_count": 14,
   "metadata": {},
   "outputs": [
    {
     "data": {
      "text/plain": [
       "[{'name': 'Pikachu'},\n",
       " {'name': 'Charmander'},\n",
       " {'name': 'Bulbasaur'},\n",
       " {'name': 'Squirtle'}]"
      ]
     },
     "execution_count": 14,
     "metadata": {},
     "output_type": "execute_result"
    }
   ],
   "source": [
    "[x for x in poke_collection.find({}, {'_id':0,'name':1})]"
   ]
  },
  {
   "cell_type": "markdown",
   "metadata": {},
   "source": [
    "**Query the Pokemon with a level less than 20. You may need the reference manual** [here](https://docs.mongodb.com/manual/reference/operator/query/#query-selectors)"
   ]
  },
  {
   "cell_type": "code",
   "execution_count": 16,
   "metadata": {},
   "outputs": [
    {
     "data": {
      "text/plain": [
       "[{'_id': ObjectId('5f974f249bcdab77b6fc89e3'),\n",
       "  'name': 'Charmander',\n",
       "  'primary_type': 'Fire',\n",
       "  'secondary_type': 'None',\n",
       "  'level': 12},\n",
       " {'_id': ObjectId('5f974f249bcdab77b6fc89e4'),\n",
       "  'name': 'Bulbasaur',\n",
       "  'primary_type': 'Grass',\n",
       "  'secondary_type': 'Poison',\n",
       "  'level': 10},\n",
       " {'_id': ObjectId('5f974f249bcdab77b6fc89e5'),\n",
       "  'name': 'Squirtle',\n",
       "  'primary_type': 'Water',\n",
       "  'secondary_type': 'None',\n",
       "  'level': 8}]"
      ]
     },
     "execution_count": 16,
     "metadata": {},
     "output_type": "execute_result"
    }
   ],
   "source": [
    "[x for x in poke_collection.find({'level': {'$lt':20}})]"
   ]
  },
  {
   "cell_type": "markdown",
   "metadata": {},
   "source": [
    "Now let's undo everything we've done!\n",
    "\n",
    "1. **Delete Pikachu.** \n"
   ]
  },
  {
   "cell_type": "code",
   "execution_count": 17,
   "metadata": {},
   "outputs": [
    {
     "data": {
      "text/plain": [
       "<pymongo.results.DeleteResult at 0x7ff4a29a9488>"
      ]
     },
     "execution_count": 17,
     "metadata": {},
     "output_type": "execute_result"
    }
   ],
   "source": [
    "poke_collection.delete_one({'name':'Pikachu'})"
   ]
  },
  {
   "cell_type": "code",
   "execution_count": 18,
   "metadata": {},
   "outputs": [
    {
     "data": {
      "text/plain": [
       "[{'_id': ObjectId('5f974f249bcdab77b6fc89e3'),\n",
       "  'name': 'Charmander',\n",
       "  'primary_type': 'Fire',\n",
       "  'secondary_type': 'None',\n",
       "  'level': 12},\n",
       " {'_id': ObjectId('5f974f249bcdab77b6fc89e4'),\n",
       "  'name': 'Bulbasaur',\n",
       "  'primary_type': 'Grass',\n",
       "  'secondary_type': 'Poison',\n",
       "  'level': 10},\n",
       " {'_id': ObjectId('5f974f249bcdab77b6fc89e5'),\n",
       "  'name': 'Squirtle',\n",
       "  'primary_type': 'Water',\n",
       "  'secondary_type': 'None',\n",
       "  'level': 8}]"
      ]
     },
     "execution_count": 18,
     "metadata": {},
     "output_type": "execute_result"
    }
   ],
   "source": [
    "# Check your work\n",
    "[x for x in poke_collection.find()]"
   ]
  },
  {
   "cell_type": "markdown",
   "metadata": {},
   "source": [
    "2. **Delete all entries without a secondary type.**"
   ]
  },
  {
   "cell_type": "code",
   "execution_count": 19,
   "metadata": {},
   "outputs": [
    {
     "data": {
      "text/plain": [
       "<pymongo.results.DeleteResult at 0x7ff4a2975cc8>"
      ]
     },
     "execution_count": 19,
     "metadata": {},
     "output_type": "execute_result"
    }
   ],
   "source": [
    "poke_collection.delete_many({'secondary_type':'None'})"
   ]
  },
  {
   "cell_type": "code",
   "execution_count": 20,
   "metadata": {},
   "outputs": [
    {
     "data": {
      "text/plain": [
       "[{'_id': ObjectId('5f974f249bcdab77b6fc89e4'),\n",
       "  'name': 'Bulbasaur',\n",
       "  'primary_type': 'Grass',\n",
       "  'secondary_type': 'Poison',\n",
       "  'level': 10}]"
      ]
     },
     "execution_count": 20,
     "metadata": {},
     "output_type": "execute_result"
    }
   ],
   "source": [
    "# Check your work\n",
    "[x for x in poke_collection.find()]"
   ]
  },
  {
   "cell_type": "markdown",
   "metadata": {},
   "source": [
    "3. **Delete the entire collection.**"
   ]
  },
  {
   "cell_type": "code",
   "execution_count": 21,
   "metadata": {},
   "outputs": [],
   "source": [
    "poke_collection.drop()"
   ]
  },
  {
   "cell_type": "code",
   "execution_count": 22,
   "metadata": {},
   "outputs": [
    {
     "data": {
      "text/plain": [
       "[]"
      ]
     },
     "execution_count": 22,
     "metadata": {},
     "output_type": "execute_result"
    }
   ],
   "source": [
    "# Check your work\n",
    "[x for x in poke_collection.find()]"
   ]
  },
  {
   "cell_type": "code",
   "execution_count": 23,
   "metadata": {
    "scrolled": true
   },
   "outputs": [
    {
     "data": {
      "text/plain": [
       "[]"
      ]
     },
     "execution_count": 23,
     "metadata": {},
     "output_type": "execute_result"
    }
   ],
   "source": [
    "# Another way to check\n",
    "poke_db.list_collection_names()"
   ]
  },
  {
   "cell_type": "markdown",
   "metadata": {},
   "source": [
    "## Additional Resources\n",
    "\n",
    "https://university.mongodb.com/ - full set of courses on MongoDB, all free!\n",
    " - Start with [M001 - MongoDB Basics](https://university.mongodb.com/courses/M001/about) if you want a taste test not only in running some of these commands, but to get practice exploring how to connect and run these commands in their cloud interface"
   ]
  },
  {
   "cell_type": "markdown",
   "metadata": {},
   "source": [
    "# We did not have time!\n",
    "\n",
    "Stopped here, will cover the below API stuff in the next study group notebook"
   ]
  },
  {
   "cell_type": "markdown",
   "metadata": {},
   "source": [
    "-----\n",
    "\n",
    "## API Introduction (if we have time!)\n",
    "\n",
    "### The Many Use Cases For APIs\n",
    "\n",
    "APIs can be used for many things - much more than just retrieving information. Twilio has an API that allows you to write a script to send text messages to people. GitHub has an API for creating new repositories. Many services have APIs allowing computers to automate tasks that a person might otherwise have to do through a website - whether uploading a photo to Flickr, searching for a company name in a state database, or getting a list of garbage collection times for a municipality."
   ]
  },
  {
   "cell_type": "markdown",
   "metadata": {},
   "source": [
    "### \"Requests is the only Non-GMO HTTP library for Python, safe for human consumption.\"\n",
    "\n",
    "> \"Requests allows you to send organic, grass-fed HTTP/1.1 requests, without the need for manual labor.\"\n",
    "\n",
    "Straight from the `requests` [documentation](https://pypi.org/project/requests/)"
   ]
  },
  {
   "cell_type": "code",
   "execution_count": null,
   "metadata": {},
   "outputs": [],
   "source": [
    "import requests"
   ]
  },
  {
   "cell_type": "markdown",
   "metadata": {},
   "source": [
    "### Types of requests\n",
    "\n",
    "We will mostly use GET requests in order to get data, but there are other options.\n",
    "\n",
    "![CRUD image from ProDataMan Blog](http://blog.prodataman.com/wp-content/uploads/2018/09/CRUD-operations.jpg)\n",
    "\n",
    "[Image Source](http://blog.prodataman.com/2018/09/19/crud-script-and-ssms-toolkit/)\n",
    "\n",
    "That's right - CRUD summarizes the kinds of requests you can make with most APIs. \n",
    "\n",
    "Let's say you are looking at an API for a car rental company like Hertz or Zipcar - the following different requests could generate these different responses:\n",
    "\n",
    "| Request               | Result                               | In CRUD Terms |\n",
    "| --------------------- | ------------------------------------ | ------------- |\n",
    "| GET /stores/          | User sees the list of stores         | Read          |\n",
    "| GET /rentals/         | User sees the history of car rentals | Read          |\n",
    "| POST /rentals/        | User rents a car                     | Create        |\n",
    "| PUT /rentals/{id}/    | User changes destination store       | Update        |\n",
    "| DELETE /rentals/{id}/ | User cancels the active car rental   | Delete        |\n"
   ]
  },
  {
   "cell_type": "markdown",
   "metadata": {},
   "source": [
    "## Practice: The Pokemon API!\n",
    "\n",
    "https://pokeapi.co/\n",
    "\n",
    "Nice place to start because there's no login details or credentials to fuss with.\n",
    "\n",
    "**For now, just want to explore grabbing the _types_ of different Pokemon.**"
   ]
  },
  {
   "cell_type": "markdown",
   "metadata": {},
   "source": [
    "Type chart, for reference:\n",
    "\n",
    "![Pokemon type chart, from pokemondb.net](https://img.pokemondb.net/images/typechart.png)\n",
    "\n",
    "[Image Source](https://pokemondb.net/type)"
   ]
  },
  {
   "cell_type": "code",
   "execution_count": null,
   "metadata": {},
   "outputs": [],
   "source": [
    "base_path = 'https://pokeapi.co/api/v2/'"
   ]
  },
  {
   "cell_type": "code",
   "execution_count": null,
   "metadata": {},
   "outputs": [],
   "source": []
  },
  {
   "cell_type": "code",
   "execution_count": null,
   "metadata": {},
   "outputs": [],
   "source": []
  }
 ],
 "metadata": {
  "kernelspec": {
   "display_name": "learn-env",
   "language": "python",
   "name": "learn-env"
  },
  "language_info": {
   "codemirror_mode": {
    "name": "ipython",
    "version": 3
   },
   "file_extension": ".py",
   "mimetype": "text/x-python",
   "name": "python",
   "nbconvert_exporter": "python",
   "pygments_lexer": "ipython3",
   "version": "3.6.9"
  },
  "toc": {
   "base_numbering": 1,
   "nav_menu": {},
   "number_sections": true,
   "sideBar": true,
   "skip_h1_title": true,
   "title_cell": "Table of Contents",
   "title_sidebar": "Contents",
   "toc_cell": false,
   "toc_position": {},
   "toc_section_display": true,
   "toc_window_display": false
  }
 },
 "nbformat": 4,
 "nbformat_minor": 2
}
