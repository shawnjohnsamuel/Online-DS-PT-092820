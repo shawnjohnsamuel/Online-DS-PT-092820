{
 "cells": [
  {
   "cell_type": "markdown",
   "metadata": {
    "slideshow": {
     "slide_type": "slide"
    }
   },
   "source": [
    "![sql](images/sql-logo.jpg)\n",
    "\n",
    "# Databases, SQL, and Connecting them to `pandas`"
   ]
  },
  {
   "cell_type": "markdown",
   "metadata": {
    "slideshow": {
     "slide_type": "slide"
    }
   },
   "source": [
    "Long before we can do any kind of machine learning, we need access to data - most often stored in databases.\n",
    "\n",
    "![hierarchy](images/ai-hierachy.png)\n",
    "\n",
    "[Image Source](https://hackernoon.com/the-ai-hierarchy-of-needs-18f111fcc007)\n",
    "\n",
    "> ^ If you haven't yet read about the AI Hierarchy of Needs, I can't recommend Monica Rogati’s fantastic blog post enough! Click the image source link to give it a read.\n",
    "\n",
    "The task of accessing data - **Extracting, Transforming and Loading** data, often shortened to **ETL** - often falls to Data Engineers, and so today we'll be wearing the hat of a Data Engineer in order to see what it means to access data where it actually is stored."
   ]
  },
  {
   "cell_type": "markdown",
   "metadata": {},
   "source": [
    "## What does it mean to **Engineer Data**?\n",
    "\n",
    "Let's start with a basic scenario: You have *no* current database. How would you set it up?\n",
    "\n",
    "Data-needs considerations:\n",
    "\n",
    "- What you want to store\n",
    "- What \"views\" you anticipate wanting in the future\n",
    "\n",
    "Structure considerations:\n",
    "\n",
    "- Speed of retrieval\n",
    "- How much data you are accessing\n",
    "- How much you are storing"
   ]
  },
  {
   "cell_type": "markdown",
   "metadata": {
    "slideshow": {
     "slide_type": "slide"
    }
   },
   "source": [
    "### What is a Relational Database? \n",
    "\n",
    "> \"Most databases today are relational databases, named such because they deal with tables of data related by a common field.\"\n",
    "> - [MariaDB's Introduction to Relational Databases tutorial](https://mariadb.com/kb/en/introduction-to-relational-databases/)\n",
    "\n",
    "From that description, we know a few things - databases are made up of tables, which contain data that is related between tables.\n",
    "\n",
    "Let's look at an example and unpack:\n",
    "\n",
    "![example database schema](images/example-database-schema.png)\n",
    "\n",
    "[Image Source](http://www.cs.montana.edu/~halla/csci440/n7/n7.html)"
   ]
  },
  {
   "cell_type": "markdown",
   "metadata": {},
   "source": [
    "Lots of symbols we can examine here! These **Entity-Relationship Diagrams** (ERDs) will tell you a lot about how tables relate to each other.\n",
    "\n",
    "First lets look at the symbols along the sides of each line in there - each line is the name of a column, followed by the allowed datatype in all caps. The symbols?\n",
    "\n",
    "- Small Key indicates a primary key\n",
    "- Blue Diamond indicates a field/attribute\n",
    "- Red Diamond indicates a foreign key\n",
    "\n",
    "As for the symbols along the lines - relationship between keys! This type of notation is called Crow's Feet notation.\n",
    "\n",
    "<img alt=\"database schema connectors explained\" src=\"images/crowsfeetsymbols.png\" width=400>\n",
    "\n",
    "[Image Source](https://www.lucidchart.com/pages/ER-diagram-symbols-and-meaning)\n",
    "\n",
    "Of course - this is but one way of visualizing these relationships (there are others)"
   ]
  },
  {
   "cell_type": "markdown",
   "metadata": {},
   "source": [
    "## Enter SQL\n",
    "\n",
    "SQL - **Structured Query Language** - is a standard language for connecting to, changing and retrieving data stored in relational databases.\n",
    "\n",
    "SQL is a language - [but there are dialects.](https://training-nyc.com/learn/sql/the-many-flavors-of-sql-a-guide-to-relational-databases) Some are proprietary, some are open source, and all have their quirks. At their core, however, they're mostly the same and use many of the same keywords. If you're proficient in one flavor of SQL, you can easily transition to one of the others."
   ]
  },
  {
   "cell_type": "markdown",
   "metadata": {
    "slideshow": {
     "slide_type": "slide"
    }
   },
   "source": [
    "### SQLite\n",
    "\n",
    "<img src=\"images/SQLite-Python.jpg\" width=400>\n",
    "\n",
    "One of many flavors of SQL! And the one we'll be using!\n",
    "\n",
    "- C library (fast)\n",
    "- lightweight disk-based database\n",
    "- that doesn’t require a separate server process\n",
    "- nonstandard variant of the SQL query language\n",
    "- applications can use SQLite for internal data storage\n",
    "- use case: prototype an application using SQLite and then port the code to a larger database such as PostgreSQL or Oracle\n",
    "\n",
    "#### Using it in Python:\n",
    "\n",
    "[sqlite3 documentation](https://docs.python.org/2/library/sqlite3.html)"
   ]
  },
  {
   "cell_type": "markdown",
   "metadata": {
    "slideshow": {
     "slide_type": "slide"
    }
   },
   "source": [
    "### Other flavors/database types?\n",
    "\n",
    "To connect to other database types (thus other flavors of SQL) there are many different Python libraries:\n",
    "\n",
    "- Oracle: [cx_Oracle](https://oracle.github.io/python-cx_Oracle/)\n",
    "- MySQL: [MySQL-python](https://github.com/farcepest/MySQLdb1)\n",
    "- PostgreSQL: [Psycopg2](http://initd.org/psycopg/docs/)\n",
    "- Microsoft SQL Server: [pymssql](http://www.pymssql.org/en/stable/)"
   ]
  },
  {
   "cell_type": "markdown",
   "metadata": {
    "slideshow": {
     "slide_type": "slide"
    }
   },
   "source": [
    "## Let's Explore a Database!"
   ]
  },
  {
   "cell_type": "code",
   "execution_count": 1,
   "metadata": {
    "slideshow": {
     "slide_type": "fragment"
    }
   },
   "outputs": [],
   "source": [
    "# of course, need an import\n",
    "import sqlite3"
   ]
  },
  {
   "cell_type": "markdown",
   "metadata": {
    "slideshow": {
     "slide_type": "slide"
    }
   },
   "source": [
    "#### Load a database object with `connect` and `cursor`"
   ]
  },
  {
   "cell_type": "code",
   "execution_count": 2,
   "metadata": {},
   "outputs": [
    {
     "name": "stdout",
     "output_type": "stream",
     "text": [
      "Austin_Animal_Center_Intakes_10-08-20.csv\r\n",
      "Austin_Animal_Center_Outcomes_10-14-20.csv\r\n",
      "flights.db\r\n",
      "titanic.csv\r\n"
     ]
    }
   ],
   "source": [
    "!ls data/"
   ]
  },
  {
   "cell_type": "code",
   "execution_count": 3,
   "metadata": {
    "slideshow": {
     "slide_type": "fragment"
    }
   },
   "outputs": [],
   "source": [
    "con = sqlite3.connect('data/flights.db')\n",
    "cursor = con.cursor()"
   ]
  },
  {
   "cell_type": "code",
   "execution_count": 4,
   "metadata": {},
   "outputs": [
    {
     "data": {
      "text/plain": [
       "[(0, '1', 'Private flight', '\\\\N', '-', None, None, None, 'Y'),\n",
       " (1, '2', '135 Airways', '\\\\N', None, 'GNL', 'GENERAL', 'United States', 'N'),\n",
       " (2, '3', '1Time Airline', '\\\\N', '1T', 'RNX', 'NEXTIME', 'South Africa', 'Y'),\n",
       " (3,\n",
       "  '4',\n",
       "  '2 Sqn No 1 Elementary Flying Training School',\n",
       "  '\\\\N',\n",
       "  None,\n",
       "  'WYT',\n",
       "  None,\n",
       "  'United Kingdom',\n",
       "  'N'),\n",
       " (4, '5', '213 Flight Unit', '\\\\N', None, 'TFU', None, 'Russia', 'N')]"
      ]
     },
     "execution_count": 4,
     "metadata": {},
     "output_type": "execute_result"
    }
   ],
   "source": [
    "cursor.execute(\"\"\"\n",
    "    SELECT *\n",
    "    FROM airlines\n",
    "    LIMIT 5;\n",
    "\"\"\").fetchall()"
   ]
  },
  {
   "cell_type": "markdown",
   "metadata": {},
   "source": [
    "Our cursor is what we'll use to execute queries on a database."
   ]
  },
  {
   "cell_type": "markdown",
   "metadata": {
    "slideshow": {
     "slide_type": "slide"
    }
   },
   "source": [
    "#### Using `Pragma`\n",
    "\n",
    "[`Pragma`](https://www.sqlite.org/pragma.html) - note that PRAGMA is a query statement specific to SQLite\n",
    "\n",
    "**output:**\n",
    "\n",
    "`(column id, column name, data type, whether or not the column can be NULL, the default value for the column, and whether the column is a foreign key)`"
   ]
  },
  {
   "cell_type": "code",
   "execution_count": 5,
   "metadata": {
    "slideshow": {
     "slide_type": "slide"
    }
   },
   "outputs": [
    {
     "name": "stdout",
     "output_type": "stream",
     "text": [
      "(0, 'index', 'INTEGER', 0, None, 0)\n",
      "(1, 'id', 'TEXT', 0, None, 0)\n",
      "(2, 'name', 'TEXT', 0, None, 0)\n",
      "(3, 'city', 'TEXT', 0, None, 0)\n",
      "(4, 'country', 'TEXT', 0, None, 0)\n",
      "(5, 'code', 'TEXT', 0, None, 0)\n",
      "(6, 'icao', 'TEXT', 0, None, 0)\n",
      "(7, 'latitude', 'TEXT', 0, None, 0)\n",
      "(8, 'longitude', 'TEXT', 0, None, 0)\n",
      "(9, 'altitude', 'TEXT', 0, None, 0)\n",
      "(10, 'offset', 'TEXT', 0, None, 0)\n",
      "(11, 'dst', 'TEXT', 0, None, 0)\n",
      "(12, 'timezone', 'TEXT', 0, None, 0)\n"
     ]
    }
   ],
   "source": [
    "cursor.execute(\"PRAGMA table_info(airports)\")\n",
    "info = cursor.fetchall()\n",
    "print(*info, sep='\\n')  #cool new way of using python's print"
   ]
  },
  {
   "cell_type": "markdown",
   "metadata": {
    "slideshow": {
     "slide_type": "slide"
    }
   },
   "source": [
    "#### Making fetch happen\n",
    "\n",
    "`.fetchall()` is how you get the query results out of the object.\n",
    "\n",
    "You can also `.fetchone()` or `.fetchmany()`"
   ]
  },
  {
   "cell_type": "markdown",
   "metadata": {
    "slideshow": {
     "slide_type": "slide"
    }
   },
   "source": [
    "**Task:** Get the descriptive data for the other two tables, `airlines` and `routes`"
   ]
  },
  {
   "cell_type": "code",
   "execution_count": 6,
   "metadata": {},
   "outputs": [
    {
     "data": {
      "text/plain": [
       "[(0, 'index', 'INTEGER', 0, None, 0),\n",
       " (1, 'id', 'TEXT', 0, None, 0),\n",
       " (2, 'name', 'TEXT', 0, None, 0),\n",
       " (3, 'alias', 'TEXT', 0, None, 0),\n",
       " (4, 'iata', 'TEXT', 0, None, 0),\n",
       " (5, 'icao', 'TEXT', 0, None, 0),\n",
       " (6, 'callsign', 'TEXT', 0, None, 0),\n",
       " (7, 'country', 'TEXT', 0, None, 0),\n",
       " (8, 'active', 'TEXT', 0, None, 0)]"
      ]
     },
     "execution_count": 6,
     "metadata": {},
     "output_type": "execute_result"
    }
   ],
   "source": [
    "# Grab data on the airlines table\n",
    "cursor.execute(\"PRAGMA table_info(airlines);\").fetchall()\n"
   ]
  },
  {
   "cell_type": "code",
   "execution_count": 7,
   "metadata": {},
   "outputs": [
    {
     "data": {
      "text/plain": [
       "[(0, 'index', 'INTEGER', 0, None, 0),\n",
       " (1, 'airline', 'TEXT', 0, None, 0),\n",
       " (2, 'airline_id', 'TEXT', 0, None, 0),\n",
       " (3, 'source', 'TEXT', 0, None, 0),\n",
       " (4, 'source_id', 'TEXT', 0, None, 0),\n",
       " (5, 'dest', 'TEXT', 0, None, 0),\n",
       " (6, 'dest_id', 'TEXT', 0, None, 0),\n",
       " (7, 'codeshare', 'TEXT', 0, None, 0),\n",
       " (8, 'stops', 'TEXT', 0, None, 0),\n",
       " (9, 'equipment', 'TEXT', 0, None, 0)]"
      ]
     },
     "execution_count": 7,
     "metadata": {},
     "output_type": "execute_result"
    }
   ],
   "source": [
    "# Grab data on the routes table\n",
    "cursor.execute(\"PRAGMA table_info(routes);\").fetchall()\n"
   ]
  },
  {
   "cell_type": "markdown",
   "metadata": {
    "slideshow": {
     "slide_type": "slide"
    }
   },
   "source": [
    "***\n",
    "## Basic SQL commands "
   ]
  },
  {
   "cell_type": "markdown",
   "metadata": {
    "slideshow": {
     "slide_type": "slide"
    }
   },
   "source": [
    "### The Structure of a SQL Query"
   ]
  },
  {
   "cell_type": "markdown",
   "metadata": {
    "slideshow": {
     "slide_type": "slide"
    }
   },
   "source": [
    "![sql query structure](images/sql_statement.jpg)\n",
    "\n",
    "[Image Source](https://searchsqlserver.techtarget.com/feature/How-to-use-the-SELECT-statement-in-SQL)"
   ]
  },
  {
   "cell_type": "markdown",
   "metadata": {
    "slideshow": {
     "slide_type": "slide"
    }
   },
   "source": [
    "### Constructing SQL queries"
   ]
  },
  {
   "cell_type": "markdown",
   "metadata": {
    "slideshow": {
     "slide_type": "fragment"
    }
   },
   "source": [
    "**`SELECT`**:  The columns you want\n",
    "\n",
    "- options: \n",
    "    - `DISTINCT`\n",
    "    - using `AS` to rename columns, called *aliasing*\n",
    "    - single number aggregates (like count)"
   ]
  },
  {
   "cell_type": "markdown",
   "metadata": {
    "slideshow": {
     "slide_type": "fragment"
    }
   },
   "source": [
    "**`FROM`:** the source tables\n",
    "\n",
    "- options: \n",
    "    - also can alias with `AS`\n",
    "    - where we can join other tables, with `[LEFT|INNER|RIGHT|FULL] JOIN ___ [ON|USING]`"
   ]
  },
  {
   "cell_type": "markdown",
   "metadata": {
    "slideshow": {
     "slide_type": "fragment"
    }
   },
   "source": [
    "**`WHERE`**: your filters\n",
    "\n",
    "- options: \n",
    "    - comparators like `=` & `>=`\n",
    "    - `BETWEEN`, `IN`, `LIKE` (with wildcards `%`)\n",
    "    - booleans like `AND`, `OR`, `NOT`"
   ]
  },
  {
   "cell_type": "markdown",
   "metadata": {
    "slideshow": {
     "slide_type": "fragment"
    }
   },
   "source": [
    "**`ORDER BY`**: sorting\n",
    "\n",
    "- options: \n",
    "    - `ASC` (default) and `DESC`"
   ]
  },
  {
   "cell_type": "markdown",
   "metadata": {
    "slideshow": {
     "slide_type": "fragment"
    }
   },
   "source": [
    "**`LIMIT`**:  # of rows to return (pair with `OFFSET`)"
   ]
  },
  {
   "cell_type": "markdown",
   "metadata": {},
   "source": [
    "There are more! So many more!\n",
    "\n",
    "**NOTE:** SQL doesn't care about spacing, and doesn't care about capslock for statement options. But, it's convention - plus it makes your queries easier to read, for yourself and others."
   ]
  },
  {
   "cell_type": "markdown",
   "metadata": {
    "slideshow": {
     "slide_type": "slide"
    }
   },
   "source": [
    "#### Use `sqlite_master` to find all the tables in the schema\n",
    "\n",
    "Remember, we've defined a `cursor` that can execute queries - time to use it!"
   ]
  },
  {
   "cell_type": "code",
   "execution_count": 8,
   "metadata": {},
   "outputs": [
    {
     "data": {
      "text/plain": [
       "[('airports',), ('airlines',), ('routes',)]"
      ]
     },
     "execution_count": 8,
     "metadata": {},
     "output_type": "execute_result"
    }
   ],
   "source": [
    "cursor.execute(\"\"\"\n",
    "    SELECT name\n",
    "    FROM sqlite_master\n",
    "    WHERE type = 'table';\n",
    "    \"\"\").fetchall()"
   ]
  },
  {
   "cell_type": "markdown",
   "metadata": {
    "slideshow": {
     "slide_type": "slide"
    }
   },
   "source": [
    "**Task**: \n",
    "\n",
    "- Select only **active** airlines in the **United Kingdom** from the `airlines` table\n"
   ]
  },
  {
   "cell_type": "code",
   "execution_count": 9,
   "metadata": {
    "scrolled": true
   },
   "outputs": [
    {
     "data": {
      "text/plain": [
       "[(0, 'index', 'INTEGER', 0, None, 0),\n",
       " (1, 'id', 'TEXT', 0, None, 0),\n",
       " (2, 'name', 'TEXT', 0, None, 0),\n",
       " (3, 'alias', 'TEXT', 0, None, 0),\n",
       " (4, 'iata', 'TEXT', 0, None, 0),\n",
       " (5, 'icao', 'TEXT', 0, None, 0),\n",
       " (6, 'callsign', 'TEXT', 0, None, 0),\n",
       " (7, 'country', 'TEXT', 0, None, 0),\n",
       " (8, 'active', 'TEXT', 0, None, 0)]"
      ]
     },
     "execution_count": 9,
     "metadata": {},
     "output_type": "execute_result"
    }
   ],
   "source": [
    "cursor.execute(\"PRAGMA table_info(airlines);\").fetchall()"
   ]
  },
  {
   "cell_type": "code",
   "execution_count": 10,
   "metadata": {},
   "outputs": [],
   "source": [
    "# can also check the description for details once a query has run\n",
    "res = cursor.execute('''\n",
    "    SELECT *\n",
    "    FROM airlines\n",
    "    WHERE country = 'United Kingdom' AND active = 'Y';\n",
    "''').fetchall()"
   ]
  },
  {
   "cell_type": "code",
   "execution_count": 11,
   "metadata": {},
   "outputs": [
    {
     "data": {
      "text/plain": [
       "(('index', None, None, None, None, None, None),\n",
       " ('id', None, None, None, None, None, None),\n",
       " ('name', None, None, None, None, None, None),\n",
       " ('alias', None, None, None, None, None, None),\n",
       " ('iata', None, None, None, None, None, None),\n",
       " ('icao', None, None, None, None, None, None),\n",
       " ('callsign', None, None, None, None, None, None),\n",
       " ('country', None, None, None, None, None, None),\n",
       " ('active', None, None, None, None, None, None))"
      ]
     },
     "execution_count": 11,
     "metadata": {},
     "output_type": "execute_result"
    }
   ],
   "source": [
    "cursor.description"
   ]
  },
  {
   "cell_type": "code",
   "execution_count": 12,
   "metadata": {},
   "outputs": [
    {
     "data": {
      "text/plain": [
       "['index',\n",
       " 'id',\n",
       " 'name',\n",
       " 'alias',\n",
       " 'iata',\n",
       " 'icao',\n",
       " 'callsign',\n",
       " 'country',\n",
       " 'active']"
      ]
     },
     "execution_count": 12,
     "metadata": {},
     "output_type": "execute_result"
    }
   ],
   "source": [
    "[desc[0] for desc in cursor.description]"
   ]
  },
  {
   "cell_type": "code",
   "execution_count": 13,
   "metadata": {},
   "outputs": [],
   "source": [
    "import pandas as pd"
   ]
  },
  {
   "cell_type": "code",
   "execution_count": 14,
   "metadata": {},
   "outputs": [
    {
     "data": {
      "text/html": [
       "<div>\n",
       "<style scoped>\n",
       "    .dataframe tbody tr th:only-of-type {\n",
       "        vertical-align: middle;\n",
       "    }\n",
       "\n",
       "    .dataframe tbody tr th {\n",
       "        vertical-align: top;\n",
       "    }\n",
       "\n",
       "    .dataframe thead th {\n",
       "        text-align: right;\n",
       "    }\n",
       "</style>\n",
       "<table border=\"1\" class=\"dataframe\">\n",
       "  <thead>\n",
       "    <tr style=\"text-align: right;\">\n",
       "      <th></th>\n",
       "      <th>index</th>\n",
       "      <th>id</th>\n",
       "      <th>name</th>\n",
       "      <th>alias</th>\n",
       "      <th>iata</th>\n",
       "      <th>icao</th>\n",
       "      <th>callsign</th>\n",
       "      <th>country</th>\n",
       "      <th>active</th>\n",
       "    </tr>\n",
       "  </thead>\n",
       "  <tbody>\n",
       "    <tr>\n",
       "      <th>0</th>\n",
       "      <td>111</td>\n",
       "      <td>112</td>\n",
       "      <td>Astraeus</td>\n",
       "      <td>\\N</td>\n",
       "      <td>5W</td>\n",
       "      <td>AEU</td>\n",
       "      <td>FLYSTAR</td>\n",
       "      <td>United Kingdom</td>\n",
       "      <td>Y</td>\n",
       "    </tr>\n",
       "    <tr>\n",
       "      <th>1</th>\n",
       "      <td>491</td>\n",
       "      <td>492</td>\n",
       "      <td>Air Southwest</td>\n",
       "      <td>\\N</td>\n",
       "      <td>None</td>\n",
       "      <td>WOW</td>\n",
       "      <td>SWALLOW</td>\n",
       "      <td>United Kingdom</td>\n",
       "      <td>Y</td>\n",
       "    </tr>\n",
       "    <tr>\n",
       "      <th>2</th>\n",
       "      <td>507</td>\n",
       "      <td>508</td>\n",
       "      <td>Aurigny Air Services</td>\n",
       "      <td>\\N</td>\n",
       "      <td>GR</td>\n",
       "      <td>AUR</td>\n",
       "      <td>AYLINE</td>\n",
       "      <td>United Kingdom</td>\n",
       "      <td>Y</td>\n",
       "    </tr>\n",
       "    <tr>\n",
       "      <th>3</th>\n",
       "      <td>564</td>\n",
       "      <td>565</td>\n",
       "      <td>Air Wales</td>\n",
       "      <td>\\N</td>\n",
       "      <td>6G</td>\n",
       "      <td>AWW</td>\n",
       "      <td>RED DRAGON</td>\n",
       "      <td>United Kingdom</td>\n",
       "      <td>Y</td>\n",
       "    </tr>\n",
       "    <tr>\n",
       "      <th>4</th>\n",
       "      <td>664</td>\n",
       "      <td>665</td>\n",
       "      <td>AD Aviation</td>\n",
       "      <td>\\N</td>\n",
       "      <td>None</td>\n",
       "      <td>VUE</td>\n",
       "      <td>FLIGHTVUE</td>\n",
       "      <td>United Kingdom</td>\n",
       "      <td>Y</td>\n",
       "    </tr>\n",
       "    <tr>\n",
       "      <th>5</th>\n",
       "      <td>689</td>\n",
       "      <td>690</td>\n",
       "      <td>Air Foyle</td>\n",
       "      <td>\\N</td>\n",
       "      <td>GS</td>\n",
       "      <td>UPA</td>\n",
       "      <td>FOYLE</td>\n",
       "      <td>United Kingdom</td>\n",
       "      <td>Y</td>\n",
       "    </tr>\n",
       "    <tr>\n",
       "      <th>6</th>\n",
       "      <td>1353</td>\n",
       "      <td>1355</td>\n",
       "      <td>British Airways</td>\n",
       "      <td>\\N</td>\n",
       "      <td>BA</td>\n",
       "      <td>BAW</td>\n",
       "      <td>SPEEDBIRD</td>\n",
       "      <td>United Kingdom</td>\n",
       "      <td>Y</td>\n",
       "    </tr>\n",
       "    <tr>\n",
       "      <th>7</th>\n",
       "      <td>1409</td>\n",
       "      <td>1411</td>\n",
       "      <td>British International Helicopters</td>\n",
       "      <td>\\N</td>\n",
       "      <td>BS</td>\n",
       "      <td>BIH</td>\n",
       "      <td>BRINTEL</td>\n",
       "      <td>United Kingdom</td>\n",
       "      <td>Y</td>\n",
       "    </tr>\n",
       "    <tr>\n",
       "      <th>8</th>\n",
       "      <td>1435</td>\n",
       "      <td>1437</td>\n",
       "      <td>bmi</td>\n",
       "      <td>bmi British Midland</td>\n",
       "      <td>BD</td>\n",
       "      <td>BMA</td>\n",
       "      <td>MIDLAND</td>\n",
       "      <td>United Kingdom</td>\n",
       "      <td>Y</td>\n",
       "    </tr>\n",
       "    <tr>\n",
       "      <th>9</th>\n",
       "      <td>1439</td>\n",
       "      <td>1441</td>\n",
       "      <td>bmibaby</td>\n",
       "      <td>\\N</td>\n",
       "      <td>WW</td>\n",
       "      <td>BMI</td>\n",
       "      <td>BABY</td>\n",
       "      <td>United Kingdom</td>\n",
       "      <td>Y</td>\n",
       "    </tr>\n",
       "    <tr>\n",
       "      <th>10</th>\n",
       "      <td>1443</td>\n",
       "      <td>1445</td>\n",
       "      <td>British Midland Regional</td>\n",
       "      <td>\\N</td>\n",
       "      <td>None</td>\n",
       "      <td>BMR</td>\n",
       "      <td>None</td>\n",
       "      <td>United Kingdom</td>\n",
       "      <td>Y</td>\n",
       "    </tr>\n",
       "    <tr>\n",
       "      <th>11</th>\n",
       "      <td>1541</td>\n",
       "      <td>1543</td>\n",
       "      <td>British Mediterranean Airways</td>\n",
       "      <td>\\N</td>\n",
       "      <td>KJ</td>\n",
       "      <td>LAJ</td>\n",
       "      <td>BEE MED</td>\n",
       "      <td>United Kingdom</td>\n",
       "      <td>Y</td>\n",
       "    </tr>\n",
       "    <tr>\n",
       "      <th>12</th>\n",
       "      <td>1793</td>\n",
       "      <td>1795</td>\n",
       "      <td>BA CityFlyer</td>\n",
       "      <td>\\N</td>\n",
       "      <td>CJ</td>\n",
       "      <td>CFE</td>\n",
       "      <td>FLYER</td>\n",
       "      <td>United Kingdom</td>\n",
       "      <td>Y</td>\n",
       "    </tr>\n",
       "    <tr>\n",
       "      <th>13</th>\n",
       "      <td>1921</td>\n",
       "      <td>1923</td>\n",
       "      <td>Crest Aviation</td>\n",
       "      <td>\\N</td>\n",
       "      <td>None</td>\n",
       "      <td>CAN</td>\n",
       "      <td>CREST</td>\n",
       "      <td>United Kingdom</td>\n",
       "      <td>Y</td>\n",
       "    </tr>\n",
       "    <tr>\n",
       "      <th>14</th>\n",
       "      <td>2115</td>\n",
       "      <td>2117</td>\n",
       "      <td>Eastern Airways</td>\n",
       "      <td>\\N</td>\n",
       "      <td>T3</td>\n",
       "      <td>EZE</td>\n",
       "      <td>EASTFLIGHT</td>\n",
       "      <td>United Kingdom</td>\n",
       "      <td>Y</td>\n",
       "    </tr>\n",
       "    <tr>\n",
       "      <th>15</th>\n",
       "      <td>2262</td>\n",
       "      <td>2264</td>\n",
       "      <td>Excel Airways</td>\n",
       "      <td>\\N</td>\n",
       "      <td>JN</td>\n",
       "      <td>XLA</td>\n",
       "      <td>EXPO</td>\n",
       "      <td>United Kingdom</td>\n",
       "      <td>Y</td>\n",
       "    </tr>\n",
       "    <tr>\n",
       "      <th>16</th>\n",
       "      <td>2263</td>\n",
       "      <td>2265</td>\n",
       "      <td>Excel Charter</td>\n",
       "      <td>\\N</td>\n",
       "      <td>None</td>\n",
       "      <td>XEL</td>\n",
       "      <td>HELI EXCEL</td>\n",
       "      <td>United Kingdom</td>\n",
       "      <td>Y</td>\n",
       "    </tr>\n",
       "    <tr>\n",
       "      <th>17</th>\n",
       "      <td>2295</td>\n",
       "      <td>2297</td>\n",
       "      <td>easyJet</td>\n",
       "      <td>EasyJet Airline</td>\n",
       "      <td>U2</td>\n",
       "      <td>EZY</td>\n",
       "      <td>EASY</td>\n",
       "      <td>United Kingdom</td>\n",
       "      <td>Y</td>\n",
       "    </tr>\n",
       "    <tr>\n",
       "      <th>18</th>\n",
       "      <td>2355</td>\n",
       "      <td>2357</td>\n",
       "      <td>First Choice Airways</td>\n",
       "      <td>\\N</td>\n",
       "      <td>DP</td>\n",
       "      <td>FCA</td>\n",
       "      <td>JETSET</td>\n",
       "      <td>United Kingdom</td>\n",
       "      <td>Y</td>\n",
       "    </tr>\n",
       "    <tr>\n",
       "      <th>19</th>\n",
       "      <td>2393</td>\n",
       "      <td>2395</td>\n",
       "      <td>Flightline</td>\n",
       "      <td>\\N</td>\n",
       "      <td>B5</td>\n",
       "      <td>FLT</td>\n",
       "      <td>FLIGHTLINE</td>\n",
       "      <td>United Kingdom</td>\n",
       "      <td>Y</td>\n",
       "    </tr>\n",
       "    <tr>\n",
       "      <th>20</th>\n",
       "      <td>2419</td>\n",
       "      <td>2421</td>\n",
       "      <td>Flybe</td>\n",
       "      <td>\\N</td>\n",
       "      <td>BE</td>\n",
       "      <td>BEE</td>\n",
       "      <td>JERSEY</td>\n",
       "      <td>United Kingdom</td>\n",
       "      <td>Y</td>\n",
       "    </tr>\n",
       "    <tr>\n",
       "      <th>21</th>\n",
       "      <td>2423</td>\n",
       "      <td>2425</td>\n",
       "      <td>Flyglobespan</td>\n",
       "      <td>\\N</td>\n",
       "      <td>B4</td>\n",
       "      <td>GSM</td>\n",
       "      <td>GLOBESPAN</td>\n",
       "      <td>United Kingdom</td>\n",
       "      <td>Y</td>\n",
       "    </tr>\n",
       "    <tr>\n",
       "      <th>22</th>\n",
       "      <td>2484</td>\n",
       "      <td>2486</td>\n",
       "      <td>GB Airways</td>\n",
       "      <td>\\N</td>\n",
       "      <td>GT</td>\n",
       "      <td>GBL</td>\n",
       "      <td>GEEBEE AIRWAYS</td>\n",
       "      <td>United Kingdom</td>\n",
       "      <td>Y</td>\n",
       "    </tr>\n",
       "    <tr>\n",
       "      <th>23</th>\n",
       "      <td>2758</td>\n",
       "      <td>2761</td>\n",
       "      <td>Highland Airways</td>\n",
       "      <td>\\N</td>\n",
       "      <td>None</td>\n",
       "      <td>HWY</td>\n",
       "      <td>HIWAY</td>\n",
       "      <td>United Kingdom</td>\n",
       "      <td>Y</td>\n",
       "    </tr>\n",
       "    <tr>\n",
       "      <th>24</th>\n",
       "      <td>3023</td>\n",
       "      <td>3026</td>\n",
       "      <td>Jet2.com</td>\n",
       "      <td>\\N</td>\n",
       "      <td>LS</td>\n",
       "      <td>EXS</td>\n",
       "      <td>CHANNEX</td>\n",
       "      <td>United Kingdom</td>\n",
       "      <td>Y</td>\n",
       "    </tr>\n",
       "    <tr>\n",
       "      <th>25</th>\n",
       "      <td>3526</td>\n",
       "      <td>3532</td>\n",
       "      <td>Monarch Airlines</td>\n",
       "      <td>\\N</td>\n",
       "      <td>ZB</td>\n",
       "      <td>MON</td>\n",
       "      <td>MONARCH</td>\n",
       "      <td>United Kingdom</td>\n",
       "      <td>Y</td>\n",
       "    </tr>\n",
       "    <tr>\n",
       "      <th>26</th>\n",
       "      <td>3562</td>\n",
       "      <td>3568</td>\n",
       "      <td>MyTravel Airways</td>\n",
       "      <td>\\N</td>\n",
       "      <td>VZ</td>\n",
       "      <td>MYT</td>\n",
       "      <td>KESTREL</td>\n",
       "      <td>United Kingdom</td>\n",
       "      <td>Y</td>\n",
       "    </tr>\n",
       "    <tr>\n",
       "      <th>27</th>\n",
       "      <td>3678</td>\n",
       "      <td>3684</td>\n",
       "      <td>Norfolk County Flight College</td>\n",
       "      <td>\\N</td>\n",
       "      <td>None</td>\n",
       "      <td>NCF</td>\n",
       "      <td>COUNTY</td>\n",
       "      <td>United Kingdom</td>\n",
       "      <td>Y</td>\n",
       "    </tr>\n",
       "    <tr>\n",
       "      <th>28</th>\n",
       "      <td>4106</td>\n",
       "      <td>4113</td>\n",
       "      <td>Kinloss Flying Training Unit</td>\n",
       "      <td>\\N</td>\n",
       "      <td>None</td>\n",
       "      <td>KIN</td>\n",
       "      <td>KINLOSS</td>\n",
       "      <td>United Kingdom</td>\n",
       "      <td>Y</td>\n",
       "    </tr>\n",
       "    <tr>\n",
       "      <th>29</th>\n",
       "      <td>4314</td>\n",
       "      <td>4323</td>\n",
       "      <td>ScotAirways</td>\n",
       "      <td>\\N</td>\n",
       "      <td>None</td>\n",
       "      <td>SAY</td>\n",
       "      <td>SUCKLING</td>\n",
       "      <td>United Kingdom</td>\n",
       "      <td>Y</td>\n",
       "    </tr>\n",
       "    <tr>\n",
       "      <th>30</th>\n",
       "      <td>4886</td>\n",
       "      <td>4897</td>\n",
       "      <td>Thomas Cook Airlines</td>\n",
       "      <td>\\N</td>\n",
       "      <td>MT</td>\n",
       "      <td>TCX</td>\n",
       "      <td>KESTREL</td>\n",
       "      <td>United Kingdom</td>\n",
       "      <td>Y</td>\n",
       "    </tr>\n",
       "    <tr>\n",
       "      <th>31</th>\n",
       "      <td>5002</td>\n",
       "      <td>5013</td>\n",
       "      <td>Thomsonfly</td>\n",
       "      <td>\\N</td>\n",
       "      <td>BY</td>\n",
       "      <td>TOM</td>\n",
       "      <td>TOMSON</td>\n",
       "      <td>United Kingdom</td>\n",
       "      <td>Y</td>\n",
       "    </tr>\n",
       "    <tr>\n",
       "      <th>32</th>\n",
       "      <td>5329</td>\n",
       "      <td>5347</td>\n",
       "      <td>Virgin Atlantic Airways</td>\n",
       "      <td>\\N</td>\n",
       "      <td>VS</td>\n",
       "      <td>VIR</td>\n",
       "      <td>VIRGIN</td>\n",
       "      <td>United Kingdom</td>\n",
       "      <td>Y</td>\n",
       "    </tr>\n",
       "    <tr>\n",
       "      <th>33</th>\n",
       "      <td>5589</td>\n",
       "      <td>10642</td>\n",
       "      <td>Jc royal.britannica</td>\n",
       "      <td>None</td>\n",
       "      <td>None</td>\n",
       "      <td>JRB</td>\n",
       "      <td>None</td>\n",
       "      <td>United Kingdom</td>\n",
       "      <td>Y</td>\n",
       "    </tr>\n",
       "    <tr>\n",
       "      <th>34</th>\n",
       "      <td>5724</td>\n",
       "      <td>13936</td>\n",
       "      <td>Royal European Airlines</td>\n",
       "      <td>None</td>\n",
       "      <td>69</td>\n",
       "      <td>\\N</td>\n",
       "      <td>None</td>\n",
       "      <td>United Kingdom</td>\n",
       "      <td>Y</td>\n",
       "    </tr>\n",
       "    <tr>\n",
       "      <th>35</th>\n",
       "      <td>5782</td>\n",
       "      <td>16261</td>\n",
       "      <td>CB Airways UK ( Interliging Flights )</td>\n",
       "      <td>None</td>\n",
       "      <td>1F</td>\n",
       "      <td>CIF</td>\n",
       "      <td>None</td>\n",
       "      <td>United Kingdom</td>\n",
       "      <td>Y</td>\n",
       "    </tr>\n",
       "    <tr>\n",
       "      <th>36</th>\n",
       "      <td>5848</td>\n",
       "      <td>16881</td>\n",
       "      <td>Air Cudlua</td>\n",
       "      <td>Air Cudlua</td>\n",
       "      <td>None</td>\n",
       "      <td>CUD</td>\n",
       "      <td>Cudlua</td>\n",
       "      <td>United Kingdom</td>\n",
       "      <td>Y</td>\n",
       "    </tr>\n",
       "    <tr>\n",
       "      <th>37</th>\n",
       "      <td>6010</td>\n",
       "      <td>19525</td>\n",
       "      <td>BBN-Airways</td>\n",
       "      <td>BlackBurn</td>\n",
       "      <td>None</td>\n",
       "      <td>EGH</td>\n",
       "      <td>BBN</td>\n",
       "      <td>United Kingdom</td>\n",
       "      <td>Y</td>\n",
       "    </tr>\n",
       "    <tr>\n",
       "      <th>38</th>\n",
       "      <td>6022</td>\n",
       "      <td>19677</td>\n",
       "      <td>Rainbow Air Euro</td>\n",
       "      <td>Rainbow Air EU</td>\n",
       "      <td>RU</td>\n",
       "      <td>RUE</td>\n",
       "      <td>Rainbow Air</td>\n",
       "      <td>United Kingdom</td>\n",
       "      <td>Y</td>\n",
       "    </tr>\n",
       "    <tr>\n",
       "      <th>39</th>\n",
       "      <td>6034</td>\n",
       "      <td>19808</td>\n",
       "      <td>All Europe</td>\n",
       "      <td>All Europe</td>\n",
       "      <td>N9</td>\n",
       "      <td>N99</td>\n",
       "      <td>None</td>\n",
       "      <td>United Kingdom</td>\n",
       "      <td>Y</td>\n",
       "    </tr>\n",
       "  </tbody>\n",
       "</table>\n",
       "</div>"
      ],
      "text/plain": [
       "    index     id                                   name                alias  \\\n",
       "0     111    112                               Astraeus                   \\N   \n",
       "1     491    492                          Air Southwest                   \\N   \n",
       "2     507    508                   Aurigny Air Services                   \\N   \n",
       "3     564    565                              Air Wales                   \\N   \n",
       "4     664    665                            AD Aviation                   \\N   \n",
       "5     689    690                              Air Foyle                   \\N   \n",
       "6    1353   1355                        British Airways                   \\N   \n",
       "7    1409   1411      British International Helicopters                   \\N   \n",
       "8    1435   1437                                    bmi  bmi British Midland   \n",
       "9    1439   1441                                bmibaby                   \\N   \n",
       "10   1443   1445               British Midland Regional                   \\N   \n",
       "11   1541   1543          British Mediterranean Airways                   \\N   \n",
       "12   1793   1795                           BA CityFlyer                   \\N   \n",
       "13   1921   1923                         Crest Aviation                   \\N   \n",
       "14   2115   2117                        Eastern Airways                   \\N   \n",
       "15   2262   2264                          Excel Airways                   \\N   \n",
       "16   2263   2265                          Excel Charter                   \\N   \n",
       "17   2295   2297                                easyJet      EasyJet Airline   \n",
       "18   2355   2357                   First Choice Airways                   \\N   \n",
       "19   2393   2395                             Flightline                   \\N   \n",
       "20   2419   2421                                  Flybe                   \\N   \n",
       "21   2423   2425                           Flyglobespan                   \\N   \n",
       "22   2484   2486                             GB Airways                   \\N   \n",
       "23   2758   2761                       Highland Airways                   \\N   \n",
       "24   3023   3026                               Jet2.com                   \\N   \n",
       "25   3526   3532                       Monarch Airlines                   \\N   \n",
       "26   3562   3568                       MyTravel Airways                   \\N   \n",
       "27   3678   3684          Norfolk County Flight College                   \\N   \n",
       "28   4106   4113           Kinloss Flying Training Unit                   \\N   \n",
       "29   4314   4323                            ScotAirways                   \\N   \n",
       "30   4886   4897                   Thomas Cook Airlines                   \\N   \n",
       "31   5002   5013                             Thomsonfly                   \\N   \n",
       "32   5329   5347                Virgin Atlantic Airways                   \\N   \n",
       "33   5589  10642                    Jc royal.britannica                 None   \n",
       "34   5724  13936                Royal European Airlines                 None   \n",
       "35   5782  16261  CB Airways UK ( Interliging Flights )                 None   \n",
       "36   5848  16881                             Air Cudlua           Air Cudlua   \n",
       "37   6010  19525                            BBN-Airways            BlackBurn   \n",
       "38   6022  19677                       Rainbow Air Euro       Rainbow Air EU   \n",
       "39   6034  19808                             All Europe           All Europe   \n",
       "\n",
       "    iata icao        callsign         country active  \n",
       "0     5W  AEU         FLYSTAR  United Kingdom      Y  \n",
       "1   None  WOW         SWALLOW  United Kingdom      Y  \n",
       "2     GR  AUR          AYLINE  United Kingdom      Y  \n",
       "3     6G  AWW      RED DRAGON  United Kingdom      Y  \n",
       "4   None  VUE       FLIGHTVUE  United Kingdom      Y  \n",
       "5     GS  UPA           FOYLE  United Kingdom      Y  \n",
       "6     BA  BAW       SPEEDBIRD  United Kingdom      Y  \n",
       "7     BS  BIH         BRINTEL  United Kingdom      Y  \n",
       "8     BD  BMA         MIDLAND  United Kingdom      Y  \n",
       "9     WW  BMI            BABY  United Kingdom      Y  \n",
       "10  None  BMR            None  United Kingdom      Y  \n",
       "11    KJ  LAJ         BEE MED  United Kingdom      Y  \n",
       "12    CJ  CFE           FLYER  United Kingdom      Y  \n",
       "13  None  CAN           CREST  United Kingdom      Y  \n",
       "14    T3  EZE      EASTFLIGHT  United Kingdom      Y  \n",
       "15    JN  XLA            EXPO  United Kingdom      Y  \n",
       "16  None  XEL      HELI EXCEL  United Kingdom      Y  \n",
       "17    U2  EZY            EASY  United Kingdom      Y  \n",
       "18    DP  FCA          JETSET  United Kingdom      Y  \n",
       "19    B5  FLT      FLIGHTLINE  United Kingdom      Y  \n",
       "20    BE  BEE          JERSEY  United Kingdom      Y  \n",
       "21    B4  GSM       GLOBESPAN  United Kingdom      Y  \n",
       "22    GT  GBL  GEEBEE AIRWAYS  United Kingdom      Y  \n",
       "23  None  HWY           HIWAY  United Kingdom      Y  \n",
       "24    LS  EXS         CHANNEX  United Kingdom      Y  \n",
       "25    ZB  MON         MONARCH  United Kingdom      Y  \n",
       "26    VZ  MYT         KESTREL  United Kingdom      Y  \n",
       "27  None  NCF          COUNTY  United Kingdom      Y  \n",
       "28  None  KIN         KINLOSS  United Kingdom      Y  \n",
       "29  None  SAY        SUCKLING  United Kingdom      Y  \n",
       "30    MT  TCX         KESTREL  United Kingdom      Y  \n",
       "31    BY  TOM          TOMSON  United Kingdom      Y  \n",
       "32    VS  VIR          VIRGIN  United Kingdom      Y  \n",
       "33  None  JRB            None  United Kingdom      Y  \n",
       "34    69   \\N            None  United Kingdom      Y  \n",
       "35    1F  CIF            None  United Kingdom      Y  \n",
       "36  None  CUD          Cudlua  United Kingdom      Y  \n",
       "37  None  EGH             BBN  United Kingdom      Y  \n",
       "38    RU  RUE     Rainbow Air  United Kingdom      Y  \n",
       "39    N9  N99            None  United Kingdom      Y  "
      ]
     },
     "execution_count": 14,
     "metadata": {},
     "output_type": "execute_result"
    }
   ],
   "source": [
    "pd.DataFrame(res, columns=[desc[0] for desc in cursor.description])"
   ]
  },
  {
   "cell_type": "markdown",
   "metadata": {},
   "source": [
    "**Task**: \n",
    "- Select the **unique** list of **countries** with airports"
   ]
  },
  {
   "cell_type": "code",
   "execution_count": 15,
   "metadata": {},
   "outputs": [
    {
     "data": {
      "text/plain": [
       "[(0, 'index', 'INTEGER', 0, None, 0),\n",
       " (1, 'id', 'TEXT', 0, None, 0),\n",
       " (2, 'name', 'TEXT', 0, None, 0),\n",
       " (3, 'city', 'TEXT', 0, None, 0),\n",
       " (4, 'country', 'TEXT', 0, None, 0),\n",
       " (5, 'code', 'TEXT', 0, None, 0),\n",
       " (6, 'icao', 'TEXT', 0, None, 0),\n",
       " (7, 'latitude', 'TEXT', 0, None, 0),\n",
       " (8, 'longitude', 'TEXT', 0, None, 0),\n",
       " (9, 'altitude', 'TEXT', 0, None, 0),\n",
       " (10, 'offset', 'TEXT', 0, None, 0),\n",
       " (11, 'dst', 'TEXT', 0, None, 0),\n",
       " (12, 'timezone', 'TEXT', 0, None, 0)]"
      ]
     },
     "execution_count": 15,
     "metadata": {},
     "output_type": "execute_result"
    }
   ],
   "source": [
    "cursor.execute(\"PRAGMA table_info(airports);\").fetchall()"
   ]
  },
  {
   "cell_type": "code",
   "execution_count": 16,
   "metadata": {},
   "outputs": [],
   "source": [
    "res = cursor.execute('''\n",
    "    SELECT DISTINCT country\n",
    "    FROM airports;\n",
    "''').fetchall()"
   ]
  },
  {
   "cell_type": "code",
   "execution_count": 17,
   "metadata": {},
   "outputs": [
    {
     "data": {
      "text/plain": [
       "240"
      ]
     },
     "execution_count": 17,
     "metadata": {},
     "output_type": "execute_result"
    }
   ],
   "source": [
    "len(res)"
   ]
  },
  {
   "cell_type": "code",
   "execution_count": 18,
   "metadata": {},
   "outputs": [
    {
     "data": {
      "text/plain": [
       "[(240,)]"
      ]
     },
     "execution_count": 18,
     "metadata": {},
     "output_type": "execute_result"
    }
   ],
   "source": [
    "# what if I just wanted a count of how many?\n",
    "cursor.execute('''\n",
    "    SELECT COUNT (DISTINCT country)\n",
    "    FROM airports\n",
    "    LIMIT 10;\n",
    "''').fetchall()"
   ]
  },
  {
   "cell_type": "markdown",
   "metadata": {
    "slideshow": {
     "slide_type": "slide"
    }
   },
   "source": [
    "### SQL Joins"
   ]
  },
  {
   "cell_type": "markdown",
   "metadata": {
    "slideshow": {
     "slide_type": "fragment"
    }
   },
   "source": [
    "SQL joins can be used to both **add** data to a table and **remove** data from a table. "
   ]
  },
  {
   "cell_type": "markdown",
   "metadata": {
    "slideshow": {
     "slide_type": "fragment"
    }
   },
   "source": [
    "<img src=\"images/venn.png\" width=700>"
   ]
  },
  {
   "cell_type": "markdown",
   "metadata": {
    "slideshow": {
     "slide_type": "slide"
    }
   },
   "source": [
    "**Task** \n",
    "\n",
    "- Write a query that will join the **latitude** and **longitude** data from the `airports` table to the information on the `routes` table"
   ]
  },
  {
   "cell_type": "code",
   "execution_count": 19,
   "metadata": {},
   "outputs": [],
   "source": [
    "# what join(s) do we need?\n",
    "\n",
    "res = cursor.execute(\"\"\"\n",
    "    SELECT r.*, \n",
    "        source.latitude AS source_lat, \n",
    "        source.longitude AS source_long, \n",
    "        dest.latitude AS dest_lat, \n",
    "        dest.longitude AS dest_long\n",
    "    FROM routes AS r\n",
    "    JOIN airports AS dest ON r.dest_id = dest.id\n",
    "    JOIN airports AS source ON r.source_id = source.id\n",
    "    LIMIT 10;\n",
    "\"\"\").fetchall()"
   ]
  },
  {
   "cell_type": "code",
   "execution_count": 20,
   "metadata": {},
   "outputs": [
    {
     "data": {
      "text/html": [
       "<div>\n",
       "<style scoped>\n",
       "    .dataframe tbody tr th:only-of-type {\n",
       "        vertical-align: middle;\n",
       "    }\n",
       "\n",
       "    .dataframe tbody tr th {\n",
       "        vertical-align: top;\n",
       "    }\n",
       "\n",
       "    .dataframe thead th {\n",
       "        text-align: right;\n",
       "    }\n",
       "</style>\n",
       "<table border=\"1\" class=\"dataframe\">\n",
       "  <thead>\n",
       "    <tr style=\"text-align: right;\">\n",
       "      <th></th>\n",
       "      <th>index</th>\n",
       "      <th>airline</th>\n",
       "      <th>airline_id</th>\n",
       "      <th>source</th>\n",
       "      <th>source_id</th>\n",
       "      <th>dest</th>\n",
       "      <th>dest_id</th>\n",
       "      <th>codeshare</th>\n",
       "      <th>stops</th>\n",
       "      <th>equipment</th>\n",
       "      <th>source_lat</th>\n",
       "      <th>source_long</th>\n",
       "      <th>dest_lat</th>\n",
       "      <th>dest_long</th>\n",
       "    </tr>\n",
       "  </thead>\n",
       "  <tbody>\n",
       "    <tr>\n",
       "      <th>0</th>\n",
       "      <td>0</td>\n",
       "      <td>2B</td>\n",
       "      <td>410</td>\n",
       "      <td>AER</td>\n",
       "      <td>2965</td>\n",
       "      <td>KZN</td>\n",
       "      <td>2990</td>\n",
       "      <td>None</td>\n",
       "      <td>0</td>\n",
       "      <td>CR2</td>\n",
       "      <td>43.449928</td>\n",
       "      <td>39.956589</td>\n",
       "      <td>55.606186</td>\n",
       "      <td>49.278728</td>\n",
       "    </tr>\n",
       "    <tr>\n",
       "      <th>1</th>\n",
       "      <td>1</td>\n",
       "      <td>2B</td>\n",
       "      <td>410</td>\n",
       "      <td>ASF</td>\n",
       "      <td>2966</td>\n",
       "      <td>KZN</td>\n",
       "      <td>2990</td>\n",
       "      <td>None</td>\n",
       "      <td>0</td>\n",
       "      <td>CR2</td>\n",
       "      <td>46.283333</td>\n",
       "      <td>48.006278</td>\n",
       "      <td>55.606186</td>\n",
       "      <td>49.278728</td>\n",
       "    </tr>\n",
       "    <tr>\n",
       "      <th>2</th>\n",
       "      <td>2</td>\n",
       "      <td>2B</td>\n",
       "      <td>410</td>\n",
       "      <td>ASF</td>\n",
       "      <td>2966</td>\n",
       "      <td>MRV</td>\n",
       "      <td>2962</td>\n",
       "      <td>None</td>\n",
       "      <td>0</td>\n",
       "      <td>CR2</td>\n",
       "      <td>46.283333</td>\n",
       "      <td>48.006278</td>\n",
       "      <td>44.225072</td>\n",
       "      <td>43.081889</td>\n",
       "    </tr>\n",
       "    <tr>\n",
       "      <th>3</th>\n",
       "      <td>3</td>\n",
       "      <td>2B</td>\n",
       "      <td>410</td>\n",
       "      <td>CEK</td>\n",
       "      <td>2968</td>\n",
       "      <td>KZN</td>\n",
       "      <td>2990</td>\n",
       "      <td>None</td>\n",
       "      <td>0</td>\n",
       "      <td>CR2</td>\n",
       "      <td>55.305836</td>\n",
       "      <td>61.503333</td>\n",
       "      <td>55.606186</td>\n",
       "      <td>49.278728</td>\n",
       "    </tr>\n",
       "    <tr>\n",
       "      <th>4</th>\n",
       "      <td>4</td>\n",
       "      <td>2B</td>\n",
       "      <td>410</td>\n",
       "      <td>CEK</td>\n",
       "      <td>2968</td>\n",
       "      <td>OVB</td>\n",
       "      <td>4078</td>\n",
       "      <td>None</td>\n",
       "      <td>0</td>\n",
       "      <td>CR2</td>\n",
       "      <td>55.305836</td>\n",
       "      <td>61.503333</td>\n",
       "      <td>55.012622</td>\n",
       "      <td>82.650656</td>\n",
       "    </tr>\n",
       "    <tr>\n",
       "      <th>5</th>\n",
       "      <td>5</td>\n",
       "      <td>2B</td>\n",
       "      <td>410</td>\n",
       "      <td>DME</td>\n",
       "      <td>4029</td>\n",
       "      <td>KZN</td>\n",
       "      <td>2990</td>\n",
       "      <td>None</td>\n",
       "      <td>0</td>\n",
       "      <td>CR2</td>\n",
       "      <td>55.408611</td>\n",
       "      <td>37.906111</td>\n",
       "      <td>55.606186</td>\n",
       "      <td>49.278728</td>\n",
       "    </tr>\n",
       "    <tr>\n",
       "      <th>6</th>\n",
       "      <td>6</td>\n",
       "      <td>2B</td>\n",
       "      <td>410</td>\n",
       "      <td>DME</td>\n",
       "      <td>4029</td>\n",
       "      <td>NBC</td>\n",
       "      <td>6969</td>\n",
       "      <td>None</td>\n",
       "      <td>0</td>\n",
       "      <td>CR2</td>\n",
       "      <td>55.408611</td>\n",
       "      <td>37.906111</td>\n",
       "      <td>55.34</td>\n",
       "      <td>52.06</td>\n",
       "    </tr>\n",
       "    <tr>\n",
       "      <th>7</th>\n",
       "      <td>8</td>\n",
       "      <td>2B</td>\n",
       "      <td>410</td>\n",
       "      <td>DME</td>\n",
       "      <td>4029</td>\n",
       "      <td>UUA</td>\n",
       "      <td>6160</td>\n",
       "      <td>None</td>\n",
       "      <td>0</td>\n",
       "      <td>CR2</td>\n",
       "      <td>55.408611</td>\n",
       "      <td>37.906111</td>\n",
       "      <td>54.64</td>\n",
       "      <td>52.8017</td>\n",
       "    </tr>\n",
       "    <tr>\n",
       "      <th>8</th>\n",
       "      <td>9</td>\n",
       "      <td>2B</td>\n",
       "      <td>410</td>\n",
       "      <td>EGO</td>\n",
       "      <td>6156</td>\n",
       "      <td>KGD</td>\n",
       "      <td>2952</td>\n",
       "      <td>None</td>\n",
       "      <td>0</td>\n",
       "      <td>CR2</td>\n",
       "      <td>50.6438</td>\n",
       "      <td>36.5901</td>\n",
       "      <td>54.89005</td>\n",
       "      <td>20.592633</td>\n",
       "    </tr>\n",
       "    <tr>\n",
       "      <th>9</th>\n",
       "      <td>10</td>\n",
       "      <td>2B</td>\n",
       "      <td>410</td>\n",
       "      <td>EGO</td>\n",
       "      <td>6156</td>\n",
       "      <td>KZN</td>\n",
       "      <td>2990</td>\n",
       "      <td>None</td>\n",
       "      <td>0</td>\n",
       "      <td>CR2</td>\n",
       "      <td>50.6438</td>\n",
       "      <td>36.5901</td>\n",
       "      <td>55.606186</td>\n",
       "      <td>49.278728</td>\n",
       "    </tr>\n",
       "  </tbody>\n",
       "</table>\n",
       "</div>"
      ],
      "text/plain": [
       "   index airline airline_id source source_id dest dest_id codeshare stops  \\\n",
       "0      0      2B        410    AER      2965  KZN    2990      None     0   \n",
       "1      1      2B        410    ASF      2966  KZN    2990      None     0   \n",
       "2      2      2B        410    ASF      2966  MRV    2962      None     0   \n",
       "3      3      2B        410    CEK      2968  KZN    2990      None     0   \n",
       "4      4      2B        410    CEK      2968  OVB    4078      None     0   \n",
       "5      5      2B        410    DME      4029  KZN    2990      None     0   \n",
       "6      6      2B        410    DME      4029  NBC    6969      None     0   \n",
       "7      8      2B        410    DME      4029  UUA    6160      None     0   \n",
       "8      9      2B        410    EGO      6156  KGD    2952      None     0   \n",
       "9     10      2B        410    EGO      6156  KZN    2990      None     0   \n",
       "\n",
       "  equipment source_lat source_long   dest_lat  dest_long  \n",
       "0       CR2  43.449928   39.956589  55.606186  49.278728  \n",
       "1       CR2  46.283333   48.006278  55.606186  49.278728  \n",
       "2       CR2  46.283333   48.006278  44.225072  43.081889  \n",
       "3       CR2  55.305836   61.503333  55.606186  49.278728  \n",
       "4       CR2  55.305836   61.503333  55.012622  82.650656  \n",
       "5       CR2  55.408611   37.906111  55.606186  49.278728  \n",
       "6       CR2  55.408611   37.906111      55.34      52.06  \n",
       "7       CR2  55.408611   37.906111      54.64    52.8017  \n",
       "8       CR2    50.6438     36.5901   54.89005  20.592633  \n",
       "9       CR2    50.6438     36.5901  55.606186  49.278728  "
      ]
     },
     "execution_count": 20,
     "metadata": {},
     "output_type": "execute_result"
    }
   ],
   "source": [
    "pd.DataFrame(res, columns = [desc[0] for desc in cursor.description])"
   ]
  },
  {
   "cell_type": "markdown",
   "metadata": {
    "slideshow": {
     "slide_type": "slide"
    }
   },
   "source": [
    "### Grouping statements\n",
    "\n",
    "Combine `SELECT` and `GROUP BY` when you want aggregates by values"
   ]
  },
  {
   "cell_type": "markdown",
   "metadata": {
    "slideshow": {
     "slide_type": "fragment"
    }
   },
   "source": [
    "`SELECT` `min(x)` ... `max()`, `sum()`, etc.\n",
    "\n",
    "`GROUP BY x`"
   ]
  },
  {
   "cell_type": "markdown",
   "metadata": {
    "slideshow": {
     "slide_type": "slide"
    }
   },
   "source": [
    "**Task**\n",
    "\n",
    "- Which countries have the most active airlines?"
   ]
  },
  {
   "cell_type": "code",
   "execution_count": 21,
   "metadata": {
    "scrolled": true,
    "slideshow": {
     "slide_type": "skip"
    }
   },
   "outputs": [
    {
     "data": {
      "text/plain": [
       "[('United States', 141),\n",
       " ('Russia', 72),\n",
       " ('United Kingdom', 40),\n",
       " ('Germany', 37),\n",
       " ('Canada', 34),\n",
       " ('Australia', 26),\n",
       " ('China', 25),\n",
       " ('Spain', 24),\n",
       " ('Brazil', 23),\n",
       " ('France', 22)]"
      ]
     },
     "execution_count": 21,
     "metadata": {},
     "output_type": "execute_result"
    }
   ],
   "source": [
    "cursor.execute(\"\"\"\n",
    "    SELECT country, COUNT(*) AS active_airline_count\n",
    "    FROM airlines\n",
    "    WHERE active = 'Y'\n",
    "    GROUP BY country\n",
    "    ORDER BY active_airline_count DESC\n",
    "    LIMIT 10;\n",
    "\"\"\").fetchall()"
   ]
  },
  {
   "cell_type": "markdown",
   "metadata": {},
   "source": [
    "**Task**\n",
    "\n",
    "- What about inactive airlines?"
   ]
  },
  {
   "cell_type": "code",
   "execution_count": 22,
   "metadata": {
    "slideshow": {
     "slide_type": "skip"
    }
   },
   "outputs": [
    {
     "data": {
      "text/plain": [
       "[('United States', 939),\n",
       " ('Mexico', 427),\n",
       " ('United Kingdom', 367),\n",
       " ('Canada', 284),\n",
       " ('Russia', 158),\n",
       " ('Spain', 142),\n",
       " ('France', 97),\n",
       " ('Germany', 94),\n",
       " ('South Africa', 81),\n",
       " ('Nigeria', 80)]"
      ]
     },
     "execution_count": 22,
     "metadata": {},
     "output_type": "execute_result"
    }
   ],
   "source": [
    "cursor.execute(\"\"\"\n",
    "    SELECT country, COUNT(*) AS inactive_airline_count\n",
    "    FROM airlines\n",
    "    WHERE active = 'N'\n",
    "    GROUP BY country\n",
    "    ORDER BY inactive_airline_count DESC\n",
    "    LIMIT 10;\n",
    "\"\"\").fetchall()"
   ]
  },
  {
   "cell_type": "markdown",
   "metadata": {},
   "source": [
    "**Task**\n",
    "\n",
    "- How many airports are there in each timezone?"
   ]
  },
  {
   "cell_type": "code",
   "execution_count": 24,
   "metadata": {
    "slideshow": {
     "slide_type": "skip"
    }
   },
   "outputs": [
    {
     "data": {
      "text/plain": [
       "[('America/New_York', 628),\n",
       " ('America/Chicago', 373),\n",
       " ('Europe/Berlin', 319),\n",
       " ('America/Anchorage', 258),\n",
       " ('Europe/Paris', 232)]"
      ]
     },
     "execution_count": 24,
     "metadata": {},
     "output_type": "execute_result"
    }
   ],
   "source": [
    "cursor.execute(\"\"\"\n",
    "    SELECT timezone, COUNT(id) as airport_count\n",
    "    FROM airports\n",
    "    GROUP BY timezone\n",
    "    ORDER BY airport_count DESC\n",
    "    LIMIT 5\n",
    "    \"\"\").fetchall()"
   ]
  },
  {
   "cell_type": "code",
   "execution_count": 25,
   "metadata": {},
   "outputs": [],
   "source": [
    "# It's always a good idea to close our connections when we're done\n",
    "cursor.close()\n",
    "con.close()"
   ]
  },
  {
   "cell_type": "markdown",
   "metadata": {
    "slideshow": {
     "slide_type": "slide"
    }
   },
   "source": [
    "## Moving from SQLite3 to pandas"
   ]
  },
  {
   "cell_type": "code",
   "execution_count": 26,
   "metadata": {},
   "outputs": [],
   "source": [
    "# need to import pandas!\n",
    "import pandas as pd"
   ]
  },
  {
   "cell_type": "code",
   "execution_count": 39,
   "metadata": {
    "slideshow": {
     "slide_type": "fragment"
    }
   },
   "outputs": [],
   "source": [
    "pd_con = sqlite3.connect(\"data/flights.db\")\n",
    "df = pd.read_sql_query(\"SELECT * FROM airports LIMIT 5;\", pd_con)"
   ]
  },
  {
   "cell_type": "code",
   "execution_count": 30,
   "metadata": {},
   "outputs": [
    {
     "data": {
      "text/html": [
       "<div>\n",
       "<style scoped>\n",
       "    .dataframe tbody tr th:only-of-type {\n",
       "        vertical-align: middle;\n",
       "    }\n",
       "\n",
       "    .dataframe tbody tr th {\n",
       "        vertical-align: top;\n",
       "    }\n",
       "\n",
       "    .dataframe thead th {\n",
       "        text-align: right;\n",
       "    }\n",
       "</style>\n",
       "<table border=\"1\" class=\"dataframe\">\n",
       "  <thead>\n",
       "    <tr style=\"text-align: right;\">\n",
       "      <th></th>\n",
       "      <th>index</th>\n",
       "      <th>id</th>\n",
       "      <th>name</th>\n",
       "      <th>city</th>\n",
       "      <th>country</th>\n",
       "      <th>code</th>\n",
       "      <th>icao</th>\n",
       "      <th>latitude</th>\n",
       "      <th>longitude</th>\n",
       "      <th>altitude</th>\n",
       "      <th>offset</th>\n",
       "      <th>dst</th>\n",
       "      <th>timezone</th>\n",
       "    </tr>\n",
       "  </thead>\n",
       "  <tbody>\n",
       "    <tr>\n",
       "      <th>0</th>\n",
       "      <td>0</td>\n",
       "      <td>1</td>\n",
       "      <td>Goroka</td>\n",
       "      <td>Goroka</td>\n",
       "      <td>Papua New Guinea</td>\n",
       "      <td>GKA</td>\n",
       "      <td>AYGA</td>\n",
       "      <td>-6.081689</td>\n",
       "      <td>145.391881</td>\n",
       "      <td>5282</td>\n",
       "      <td>10</td>\n",
       "      <td>U</td>\n",
       "      <td>Pacific/Port_Moresby</td>\n",
       "    </tr>\n",
       "    <tr>\n",
       "      <th>1</th>\n",
       "      <td>1</td>\n",
       "      <td>2</td>\n",
       "      <td>Madang</td>\n",
       "      <td>Madang</td>\n",
       "      <td>Papua New Guinea</td>\n",
       "      <td>MAG</td>\n",
       "      <td>AYMD</td>\n",
       "      <td>-5.207083</td>\n",
       "      <td>145.7887</td>\n",
       "      <td>20</td>\n",
       "      <td>10</td>\n",
       "      <td>U</td>\n",
       "      <td>Pacific/Port_Moresby</td>\n",
       "    </tr>\n",
       "    <tr>\n",
       "      <th>2</th>\n",
       "      <td>2</td>\n",
       "      <td>3</td>\n",
       "      <td>Mount Hagen</td>\n",
       "      <td>Mount Hagen</td>\n",
       "      <td>Papua New Guinea</td>\n",
       "      <td>HGU</td>\n",
       "      <td>AYMH</td>\n",
       "      <td>-5.826789</td>\n",
       "      <td>144.295861</td>\n",
       "      <td>5388</td>\n",
       "      <td>10</td>\n",
       "      <td>U</td>\n",
       "      <td>Pacific/Port_Moresby</td>\n",
       "    </tr>\n",
       "    <tr>\n",
       "      <th>3</th>\n",
       "      <td>3</td>\n",
       "      <td>4</td>\n",
       "      <td>Nadzab</td>\n",
       "      <td>Nadzab</td>\n",
       "      <td>Papua New Guinea</td>\n",
       "      <td>LAE</td>\n",
       "      <td>AYNZ</td>\n",
       "      <td>-6.569828</td>\n",
       "      <td>146.726242</td>\n",
       "      <td>239</td>\n",
       "      <td>10</td>\n",
       "      <td>U</td>\n",
       "      <td>Pacific/Port_Moresby</td>\n",
       "    </tr>\n",
       "    <tr>\n",
       "      <th>4</th>\n",
       "      <td>4</td>\n",
       "      <td>5</td>\n",
       "      <td>Port Moresby Jacksons Intl</td>\n",
       "      <td>Port Moresby</td>\n",
       "      <td>Papua New Guinea</td>\n",
       "      <td>POM</td>\n",
       "      <td>AYPY</td>\n",
       "      <td>-9.443383</td>\n",
       "      <td>147.22005</td>\n",
       "      <td>146</td>\n",
       "      <td>10</td>\n",
       "      <td>U</td>\n",
       "      <td>Pacific/Port_Moresby</td>\n",
       "    </tr>\n",
       "  </tbody>\n",
       "</table>\n",
       "</div>"
      ],
      "text/plain": [
       "   index id                        name          city           country code  \\\n",
       "0      0  1                      Goroka        Goroka  Papua New Guinea  GKA   \n",
       "1      1  2                      Madang        Madang  Papua New Guinea  MAG   \n",
       "2      2  3                 Mount Hagen   Mount Hagen  Papua New Guinea  HGU   \n",
       "3      3  4                      Nadzab        Nadzab  Papua New Guinea  LAE   \n",
       "4      4  5  Port Moresby Jacksons Intl  Port Moresby  Papua New Guinea  POM   \n",
       "\n",
       "   icao   latitude   longitude altitude offset dst              timezone  \n",
       "0  AYGA  -6.081689  145.391881     5282     10   U  Pacific/Port_Moresby  \n",
       "1  AYMD  -5.207083    145.7887       20     10   U  Pacific/Port_Moresby  \n",
       "2  AYMH  -5.826789  144.295861     5388     10   U  Pacific/Port_Moresby  \n",
       "3  AYNZ  -6.569828  146.726242      239     10   U  Pacific/Port_Moresby  \n",
       "4  AYPY  -9.443383   147.22005      146     10   U  Pacific/Port_Moresby  "
      ]
     },
     "execution_count": 30,
     "metadata": {},
     "output_type": "execute_result"
    }
   ],
   "source": [
    "df.head()"
   ]
  },
  {
   "cell_type": "markdown",
   "metadata": {
    "slideshow": {
     "slide_type": "slide"
    }
   },
   "source": [
    "**Task**: \n",
    "Convert one of the earlier queries in the lesson to a pandas dataframe"
   ]
  },
  {
   "cell_type": "code",
   "execution_count": 31,
   "metadata": {
    "scrolled": false
   },
   "outputs": [],
   "source": [
    "df_query = pd.read_sql_query(\"\"\"\n",
    "    SELECT country, COUNT(*) AS inactive_airline_count\n",
    "    FROM airlines\n",
    "    WHERE active = 'N'\n",
    "    GROUP BY country\n",
    "    ORDER BY inactive_airline_count DESC\n",
    "    LIMIT 10;\n",
    "\"\"\", pd_con)"
   ]
  },
  {
   "cell_type": "code",
   "execution_count": 32,
   "metadata": {},
   "outputs": [
    {
     "data": {
      "text/html": [
       "<div>\n",
       "<style scoped>\n",
       "    .dataframe tbody tr th:only-of-type {\n",
       "        vertical-align: middle;\n",
       "    }\n",
       "\n",
       "    .dataframe tbody tr th {\n",
       "        vertical-align: top;\n",
       "    }\n",
       "\n",
       "    .dataframe thead th {\n",
       "        text-align: right;\n",
       "    }\n",
       "</style>\n",
       "<table border=\"1\" class=\"dataframe\">\n",
       "  <thead>\n",
       "    <tr style=\"text-align: right;\">\n",
       "      <th></th>\n",
       "      <th>country</th>\n",
       "      <th>inactive_airline_count</th>\n",
       "    </tr>\n",
       "  </thead>\n",
       "  <tbody>\n",
       "    <tr>\n",
       "      <th>0</th>\n",
       "      <td>United States</td>\n",
       "      <td>939</td>\n",
       "    </tr>\n",
       "    <tr>\n",
       "      <th>1</th>\n",
       "      <td>Mexico</td>\n",
       "      <td>427</td>\n",
       "    </tr>\n",
       "    <tr>\n",
       "      <th>2</th>\n",
       "      <td>United Kingdom</td>\n",
       "      <td>367</td>\n",
       "    </tr>\n",
       "    <tr>\n",
       "      <th>3</th>\n",
       "      <td>Canada</td>\n",
       "      <td>284</td>\n",
       "    </tr>\n",
       "    <tr>\n",
       "      <th>4</th>\n",
       "      <td>Russia</td>\n",
       "      <td>158</td>\n",
       "    </tr>\n",
       "  </tbody>\n",
       "</table>\n",
       "</div>"
      ],
      "text/plain": [
       "          country  inactive_airline_count\n",
       "0   United States                     939\n",
       "1          Mexico                     427\n",
       "2  United Kingdom                     367\n",
       "3          Canada                     284\n",
       "4          Russia                     158"
      ]
     },
     "execution_count": 32,
     "metadata": {},
     "output_type": "execute_result"
    }
   ],
   "source": [
    "df_query.head()"
   ]
  },
  {
   "cell_type": "markdown",
   "metadata": {},
   "source": [
    "Another way to move results into a pandas dataframe:"
   ]
  },
  {
   "cell_type": "code",
   "execution_count": 40,
   "metadata": {},
   "outputs": [],
   "source": [
    "pd_cursor = pd_con.cursor()"
   ]
  },
  {
   "cell_type": "code",
   "execution_count": 34,
   "metadata": {},
   "outputs": [],
   "source": [
    "res = pd_cursor.execute(\"\"\"\n",
    "    SELECT country, COUNT(*) AS active_airline_count\n",
    "    FROM airlines\n",
    "    WHERE active = 'Y'\n",
    "    GROUP BY country\n",
    "    ORDER BY active_airline_count DESC\n",
    "    LIMIT 10;\n",
    "\"\"\").fetchall()"
   ]
  },
  {
   "cell_type": "code",
   "execution_count": 36,
   "metadata": {},
   "outputs": [],
   "source": [
    "df_query2 = pd.DataFrame(res)\n",
    "df_query2.columns = [desc[0] for desc in pd_cursor.description]"
   ]
  },
  {
   "cell_type": "code",
   "execution_count": 37,
   "metadata": {},
   "outputs": [
    {
     "data": {
      "text/html": [
       "<div>\n",
       "<style scoped>\n",
       "    .dataframe tbody tr th:only-of-type {\n",
       "        vertical-align: middle;\n",
       "    }\n",
       "\n",
       "    .dataframe tbody tr th {\n",
       "        vertical-align: top;\n",
       "    }\n",
       "\n",
       "    .dataframe thead th {\n",
       "        text-align: right;\n",
       "    }\n",
       "</style>\n",
       "<table border=\"1\" class=\"dataframe\">\n",
       "  <thead>\n",
       "    <tr style=\"text-align: right;\">\n",
       "      <th></th>\n",
       "      <th>country</th>\n",
       "      <th>active_airline_count</th>\n",
       "    </tr>\n",
       "  </thead>\n",
       "  <tbody>\n",
       "    <tr>\n",
       "      <th>0</th>\n",
       "      <td>United States</td>\n",
       "      <td>141</td>\n",
       "    </tr>\n",
       "    <tr>\n",
       "      <th>1</th>\n",
       "      <td>Russia</td>\n",
       "      <td>72</td>\n",
       "    </tr>\n",
       "    <tr>\n",
       "      <th>2</th>\n",
       "      <td>United Kingdom</td>\n",
       "      <td>40</td>\n",
       "    </tr>\n",
       "    <tr>\n",
       "      <th>3</th>\n",
       "      <td>Germany</td>\n",
       "      <td>37</td>\n",
       "    </tr>\n",
       "    <tr>\n",
       "      <th>4</th>\n",
       "      <td>Canada</td>\n",
       "      <td>34</td>\n",
       "    </tr>\n",
       "  </tbody>\n",
       "</table>\n",
       "</div>"
      ],
      "text/plain": [
       "          country  active_airline_count\n",
       "0   United States                   141\n",
       "1          Russia                    72\n",
       "2  United Kingdom                    40\n",
       "3         Germany                    37\n",
       "4          Canada                    34"
      ]
     },
     "execution_count": 37,
     "metadata": {},
     "output_type": "execute_result"
    }
   ],
   "source": [
    "df_query2.head()"
   ]
  },
  {
   "cell_type": "code",
   "execution_count": 41,
   "metadata": {},
   "outputs": [],
   "source": [
    "# don't forget to close connections again\n",
    "pd_cursor.close()\n",
    "pd_con.close()"
   ]
  },
  {
   "cell_type": "markdown",
   "metadata": {},
   "source": [
    "## Additional Resources\n",
    "\n",
    "Reading Resources:\n",
    "\n",
    "- [MariaDB's list of relational database terms, which also helps explain table relationships](https://mariadb.com/kb/en/relational-databases-basic-terms/)\n",
    "- [History of SQL Article](https://www.businessnewsdaily.com/5804-what-is-sql.html)\n",
    "- [The original SQL paper from the 1970s](https://www.seas.upenn.edu/~zives/03f/cis550/codd.pdf)\n",
    "\n",
    "Free SQL Courses: \n",
    "\n",
    "- [Kaggle's Courses](https://www.kaggle.com/learn/overview) on Intro to SQL and Advanced SQL - will include connecting to a Google Biq Query database\n",
    "- [Khan Academy's SQL Course](https://www.khanacademy.org/computing/computer-programming/sql), which includes using more complicated query commands like CASE\n",
    "- [Coursera Course on Modern Big Data Analysis with SQL](https://www.coursera.org/specializations/cloudera-big-data-analysis-sql) which was just recommended to me via the data science subreddit - covers SQL queries with specific considerations for very very large datasets stored in clusters in the cloud (specifically covers Hive and Impala, I'll likely be taking this course for fun over the next few weeks if anyone wants to join me!)"
   ]
  }
 ],
 "metadata": {
  "kernelspec": {
   "display_name": "Python 3",
   "language": "python",
   "name": "python3"
  },
  "language_info": {
   "codemirror_mode": {
    "name": "ipython",
    "version": 3
   },
   "file_extension": ".py",
   "mimetype": "text/x-python",
   "name": "python",
   "nbconvert_exporter": "python",
   "pygments_lexer": "ipython3",
   "version": "3.6.9"
  }
 },
 "nbformat": 4,
 "nbformat_minor": 4
}
