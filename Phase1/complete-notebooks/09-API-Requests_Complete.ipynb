{
 "cells": [
  {
   "cell_type": "markdown",
   "metadata": {
    "slideshow": {
     "slide_type": "slide"
    }
   },
   "source": [
    "# APIs - Gathering Data Using Requests"
   ]
  },
  {
   "cell_type": "markdown",
   "metadata": {
    "slideshow": {
     "slide_type": "slide"
    }
   },
   "source": [
    "## The Many Use Cases For APIs\n",
    "\n",
    "APIs can be used for many things - much more than just retrieving information. Twilio has an API that allows you to write a script to send text messages to people. GitHub has an API for creating new repositories. Many services have APIs allowing computers to automate tasks that a person might otherwise have to do through a website - whether uploading a photo to Flickr, searching for a company name in a state database, or getting a list of garbage collection times for a municipality."
   ]
  },
  {
   "cell_type": "markdown",
   "metadata": {
    "slideshow": {
     "slide_type": "slide"
    }
   },
   "source": [
    "### Learning Goals:\n",
    "\n",
    "  - Identify and discuss APIs\n",
    "  - Discuss and explain different request (GET, POST, PUT, DELETE) and CRUD operations\n",
    "  - Explore the attributes of a response object\n",
    "  - Check the status of a request and interpret status codes\n",
    "  - Access data from an API using the requests library\n",
    "  - Create a pandas dataframe from the data returned from an API and visualize the data\n"
   ]
  },
  {
   "cell_type": "markdown",
   "metadata": {
    "slideshow": {
     "slide_type": "slide"
    }
   },
   "source": [
    "## Limitations of APIs\n",
    "\n",
    "When working with APIs, there are some limitations you have to be aware of - especially relating to scope and scale.\n",
    "\n",
    "* **Scope** - Just because a company has an API and has information, it doesn't mean you can get all of the information you might want through their API\n",
    "\n",
    "* **Scale** - Some APIs are provided for free as a public service. Others you have to pay for, or allow you to perform activities (like sending a text message) that you pay for. Make sure that you know what the rate limits are and that your use case isn't going to need more API calls than you will be able to make.\n",
    "\n",
    "What else is good to know? **Every API is different!** There are some standards out there in terms of documentation and usage... but it's like the wild west - rapid expansion with few rules.\n",
    "\n",
    "With all that out of the way - Let's take a look at the `requests` library and its uses."
   ]
  },
  {
   "cell_type": "markdown",
   "metadata": {
    "slideshow": {
     "slide_type": "slide"
    }
   },
   "source": [
    "### \"Requests is the only Non-GMO HTTP library for Python, safe for human consumption.\"\n",
    "\n",
    "> \"Requests allows you to send organic, grass-fed HTTP/1.1 requests, without the need for manual labor.\"\n",
    "\n",
    "Straight from the `requests` [documentation](https://pypi.org/project/requests/)"
   ]
  },
  {
   "cell_type": "markdown",
   "metadata": {},
   "source": [
    "### Types of Requests\n",
    "\n",
    "We will mostly use GET requests in order to get data, but there are other options.\n",
    "\n",
    "![CRUD image from IntelliPaat](https://intellipaat.com/mediaFiles/2015/08/MongoDB-CRUD-operations.jpg)\n",
    "\n",
    "That's right - CRUD summarizes the kinds of requests you can make with most APIs. \n",
    "\n",
    "Let's say you are looking at an API for a car rental company like Hertz or Zipcar - the following different requests could generate these different responses:\n",
    "\n",
    "| Request               | Result                               | In CRUD Terms |\n",
    "| --------------------- | ------------------------------------ | ------------- |\n",
    "| GET /stores/          | User sees the list of stores         | Read          |\n",
    "| GET /rentals/         | User sees the history of car rentals | Read          |\n",
    "| POST /rentals/        | User rents a car                     | Create        |\n",
    "| PUT /rentals/{id}/    | User changes destination store       | Update        |\n",
    "| DELETE /rentals/{id}/ | User cancels the active car rental   | Delete        |\n"
   ]
  },
  {
   "cell_type": "markdown",
   "metadata": {},
   "source": [
    "### Let's get started!"
   ]
  },
  {
   "cell_type": "code",
   "execution_count": 1,
   "metadata": {
    "slideshow": {
     "slide_type": "slide"
    }
   },
   "outputs": [],
   "source": [
    "import requests"
   ]
  },
  {
   "cell_type": "code",
   "execution_count": null,
   "metadata": {},
   "outputs": [],
   "source": [
    "# Don't already have the library? Uncomment the below code and install it locally\n",
    "#!pip install requests"
   ]
  },
  {
   "cell_type": "code",
   "execution_count": 2,
   "metadata": {},
   "outputs": [
    {
     "data": {
      "text/plain": [
       "requests.models.Response"
      ]
     },
     "execution_count": 2,
     "metadata": {},
     "output_type": "execute_result"
    }
   ],
   "source": [
    "# Create a GET request, then check the type of object\n",
    "\n",
    "r = requests.get('https://api.github.com/events') \n",
    "type(r)"
   ]
  },
  {
   "cell_type": "code",
   "execution_count": 3,
   "metadata": {
    "scrolled": true
   },
   "outputs": [
    {
     "data": {
      "text/plain": [
       "'[{\"id\":\"14007702880\",\"type\":\"IssueCommentEvent\",\"actor\":{\"id\":30606887,\"login\":\"welcome[bot]\",\"display_login\":\"welcome\",\"gravatar_id\":\"\",\"url\":\"https://api.github.com/users/welcome[bot]\",\"avatar_url\":\"https://avatars.githubusercontent.com/u/30606887?\"},\"repo\":{\"id\":157554479,\"name\":\"layer5io/meshery\",\"url\":\"https://api.github.com/repos/layer5io/meshery\"},\"payload\":{\"action\":\"created\",\"issue\":{\"url\":\"https://api.github.com/repos/layer5io/meshery/issues/1778\",\"repository_url\":\"https://api.github.com/repos/layer5io/meshery\",\"labels_url\":\"https://api.github.com/repos/layer5io/meshery/issues/1778/labels{/name}\",\"comments_url\":\"https://api.github.com/repos/layer5io/meshery/issues/1778/comments\",\"events_url\":\"https://api.github.com/repos/layer5io/meshery/issues/1778/events\",\"html_url\":\"https://github.com/layer5io/meshery/pull/1778\",\"id\":731821919,\"node_id\":\"MDExOlB1bGxSZXF1ZXN0NTExODYzODcy\",\"number\":1778,\"title\":\"[provider-ui] - Add Integration test for Provider UI\",\"user\":{\"login\":\"ramrodo\",\"id\":2797052,\"node_id\":\"MDQ6VXNlcjI3OTcwNTI=\",\"avatar_url\":\"https://avatars2.githubusercontent.com/u/2797052?v=4\",\"gravatar_id\":\"\",\"url\":\"https://api.github.com/users/ramrodo\",\"html_url\":\"https://github.com/ramrodo\",\"followers_url\":\"https://api.github.com/users/ramrodo/followers\",\"following_url\":\"https://api.github.com/users/ramrodo/following{/other_user}\",\"gists_url\":\"https://api.github.com/users/ramrodo/gists{/gist_id}\",\"starred_url\":\"https://api.github.com/users/ramrodo/starred{/owner}{/repo}\",\"subscriptions_url\":\"https://api.github.com/users/ramrodo/subscriptions\",\"organizations_url\":\"https://api.github.com/users/ramrodo/orgs\",\"repos_url\":\"https://api.github.com/users/ramrodo/repos\",\"events_url\":\"https://api.github.com/users/ramrodo/events{/privacy}\",\"received_events_url\":\"https://api.github.com/users/ramrodo/received_events\",\"type\":\"User\",\"site_admin\":false},\"labels\":[],\"state\":\"open\",\"locked\":false,\"assignee\":null,\"assignees\":[],\"milestone\":null,\"comments\":0,\"created_at\":\"2020-10-28T22:04:11Z\",\"updated_at\":\"2020-10-28T22:04:12Z\",\"closed_at\":null,\"author_association\":\"NONE\",\"active_lock_reason\":null,\"pull_request\":{\"url\":\"https://api.github.com/repos/layer5io/meshery/pulls/1778\",\"html_url\":\"https://github.com/layer5io/meshery/pull/1778\",\"diff_url\":\"https://github.com/layer5io/meshery/pull/1778.diff\",\"patch_url\":\"https://github.com/layer5io/meshery/pull/1778.patch\"},\"body\":\"Signed-off-by: Rodolfo Martínez Vega <rodomar@outlook.com>\\\\r\\\\n\\\\r\\\\n**Description**\\\\r\\\\n\\\\r\\\\nThis change adds the first Integration Test for `provider-ui` and can be used as a start point for creating more. This test visits the root provider-ui page and validates if there is the main component.\\\\r\\\\n\\\\r\\\\nIt also adds `eslint-plugin-cypress` config to `eslint` for writing future tests. \\\\r\\\\n\\\\r\\\\nThis PR is related to #1037\\\\r\\\\n\\\\r\\\\n**Notes for Reviewers**\\\\r\\\\n\\\\r\\\\n\\\\r\\\\n**[Signed commits](../CONTRIBUTING.md#signing-off-on-commits-developer-certificate-of-origin)**\\\\r\\\\n- [x] Yes, I signed my commits.\\\\r\\\\n \\\\r\\\\n\\\\r\\\\n<!--\\\\r\\\\nThank you for contributing to Meshery! \\\\r\\\\n\\\\r\\\\nContributing Conventions:\\\\r\\\\n\\\\r\\\\n1. Include descriptive PR titles with [<component-name>] prepended.\\\\r\\\\n2. Build and test your changes before submitting a PR. \\\\r\\\\n3. Sign your commits\\\\r\\\\n\\\\r\\\\nBy following the community\\'s contribution conventions upfront, the review process will \\\\r\\\\nbe accelerated and your PR merged more quickly.\\\\r\\\\n-->\\\\r\\\\n\",\"performed_via_github_app\":null},\"comment\":{\"url\":\"https://api.github.com/repos/layer5io/meshery/issues/comments/718235115\",\"html_url\":\"https://github.com/layer5io/meshery/pull/1778#issuecomment-718235115\",\"issue_url\":\"https://api.github.com/repos/layer5io/meshery/issues/1778\",\"id\":718235115,\"node_id\":\"MDEyOklzc3VlQ29tbWVudDcxODIzNTExNQ==\",\"user\":{\"login\":\"welcome[bot]\",\"id\":30606887,\"node_id\":\"MDM6Qm90MzA2MDY4ODc=\",\"avatar_url\":\"https://avatars0.githubusercontent.com/in/4141?v=4\",\"gravatar_id\":\"\",\"url\":\"https://api.github.com/users/welcome%5Bbot%5D\",\"html_url\":\"https://github.com/apps/welcome\",\"followers_url\":\"https://api.github.com/users/welcome%5Bbot%5D/followers\",\"following_url\":\"https://api.github.com/users/welcome%5Bbot%5D/following{/other_user}\",\"gists_url\":\"https://api.github.com/users/welcome%5Bbot%5D/gists{/gist_id}\",\"starred_url\":\"https://api.github.com/users/welcome%5Bbot%5D/starred{/owner}{/repo}\",\"subscriptions_url\":\"https://api.github.com/users/welcome%5Bbot%5D/subscriptions\",\"organizations_url\":\"https://api.github.com/users/welcome%5Bbot%5D/orgs\",\"repos_url\":\"https://api.github.com/users/welcome%5Bbot%5D/repos\",\"events_url\":\"https://api.github.com/users/welcome%5Bbot%5D/events{/privacy}\",\"received_events_url\":\"https://api.github.com/users/welcome%5Bbot%5D/received_events\",\"type\":\"Bot\",\"site_admin\":false},\"created_at\":\"2020-10-28T22:04:12Z\",\"updated_at\":\"2020-10-28T22:04:12Z\",\"author_association\":\"NONE\",\"body\":\"Yay, your first pull request! :thumbsup: A contributor will be by to give feedback soon. In the meantime, please review the [Layer5 Contributors\\' Welcome Guide](https://docs.google.com/document/d/17OPtDE_rdnPQxmk2Kauhm3GwXF1R5dZ3Cj8qZLKdo5E/edit?usp=sharing) and sure to join the [community Slack](http://slack.layer5.io/).\\\\nBe sure to double-check that you have signed your commits. Here are instructions for [making signing an implicit activity while peforming a commit](https://github.com/layer5io/meshery/blob/master/CONTRIBUTING.md#signing-off-on-commits-developer-certificate-of-origin).\\\\n\",\"performed_via_github_app\":null}},\"public\":true,\"created_at\":\"2020-10-28T22:04:12Z\",\"org\":{\"id\":44620851,\"login\":\"layer5io\",\"gravatar_id\":\"\",\"url\":\"https://api.github.com/orgs/layer5io\",\"avatar_url\":\"https://avatars.githubusercontent.com/u/44620851?\"}},{\"id\":\"14007702868\",\"type\":\"PushEvent\",\"actor\":{\"id\":25180681,\"login\":\"renovate-bot\",\"display_login\":\"renovate-bot\",\"gravatar_id\":\"\",\"url\":\"https://api.github.com/users/renovate-bot\",\"avatar_url\":\"https://avatars.githubusercontent.com/u/25180681?\"},\"repo\":{\"id\":217623413,\"name\":\"renovate-bot/java-vision\",\"url\":\"https://api.github.com/repos/renovate-bot/java-vision\"},\"payload\":{\"push_id\":5936808239,\"size\":1,\"distinct_size\":1,\"ref\":\"refs/heads/master\",\"head\":\"94baafd5444aa486967dc06cb15ca20e5fca587d\",\"before\":\"a57e234874bbcb808c5e9ac57e5baf23f736f8bd\",\"commits\":[{\"sha\":\"94baafd5444aa486967dc06cb15ca20e5fca587d\",\"author\":{\"email\":\"55107282+release-please[bot]@users.noreply.github.com\",\"name\":\"release-please[bot]\"},\"message\":\"chore: release 1.110.5 (#292)\\\\n\\\\n:robot: I have created a release \\\\\\\\*beep\\\\\\\\* \\\\\\\\*boop\\\\\\\\* \\\\n---\\\\n### [1.110.5](https://www.github.com/googleapis/java-vision/compare/v1.110.4...v1.110.5) (2020-10-28)\\\\n\\\\n\\\\n### Dependencies\\\\n\\\\n* update dependency com.google.cloud:google-cloud-storage to v1.113.2 ([#286](https://www.github.com/googleapis/java-vision/issues/286)) ([a57e234](https://www.github.com/googleapis/java-vision/commit/a57e234874bbcb808c5e9ac57e5baf23f736f8bd))\\\\n---\\\\n\\\\n\\\\nThis PR was generated with [Release Please](https://github.com/googleapis/release-please).\",\"distinct\":true,\"url\":\"https://api.github.com/repos/renovate-bot/java-vision/commits/94baafd5444aa486967dc06cb15ca20e5fca587d\"}]},\"public\":true,\"created_at\":\"2020-10-28T22:04:12Z\"},{\"id\":\"14007702869\",\"type\":\"PushEvent\",\"actor\":{\"id\":69164183,\"login\":\"ecastille924\",\"display_login\":\"ecastille924\",\"gravatar_id\":\"\",\"url\":\"https://api.github.com/users/ecastille924\",\"avatar_url\":\"https://avatars.githubusercontent.com/u/69164183?\"},\"repo\":{\"id\":298106961,\"name\":\"ecastille924/ruby-music-library-cli-onl01-seng-pt-090820\",\"url\":\"https://api.github.com/repos/ecastille924/ruby-music-library-cli-onl01-seng-pt-090820\"},\"payload\":{\"push_id\":5936808234,\"size\":1,\"distinct_size\":1,\"ref\":\"refs/heads/wip\",\"head\":\"ff47d9609b779a669dd46dfc69b6fb351377bc4f\",\"before\":\"776ca0a997efa4bbc0b313e0ef5904dd9653a54b\",\"commits\":[{\"sha\":\"ff47d9609b779a669dd46dfc69b6fb351377bc4f\",\"author\":{\"email\":\"ecastille924@gmail.com\",\"name\":\"Erick Castille\"},\"message\":\"Automatically backed up by Learn\",\"distinct\":true,\"url\":\"https://api.github.com/repos/ecastille924/ruby-music-library-cli-onl01-seng-pt-090820/commits/ff47d9609b779a669dd46dfc69b6fb351377bc4f\"}]},\"public\":true,\"created_at\":\"2020-10-28T22:04:12Z\"},{\"id\":\"14007702853\",\"type\":\"PullRequestReviewEvent\",\"actor\":{\"id\":49659427,\"login\":\"bot-monkey-2\",\"display_login\":\"bot-monkey-2\",\"gravatar_id\":\"\",\"url\":\"https://api.github.com/users/bot-monkey-2\",\"avatar_url\":\"https://avatars.githubusercontent.com/u/49659427?\"},\"repo\":{\"id\":175689856,\"name\":\"test-organization-kkjeer/app-test\",\"url\":\"https://api.github.com/repos/test-organization-kkjeer/app-test\"},\"payload\":{\"action\":\"created\",\"review\":{\"id\":519119342,\"node_id\":\"MDE3OlB1bGxSZXF1ZXN0UmV2aWV3NTE5MTE5MzQy\",\"user\":{\"login\":\"bot-monkey-2\",\"id\":49659427,\"node_id\":\"MDQ6VXNlcjQ5NjU5NDI3\",\"avatar_url\":\"https://avatars1.githubusercontent.com/u/49659427?v=4\",\"gravatar_id\":\"\",\"url\":\"https://api.github.com/users/bot-monkey-2\",\"html_url\":\"https://github.com/bot-monkey-2\",\"followers_url\":\"https://api.github.com/users/bot-monkey-2/followers\",\"following_url\":\"https://api.github.com/users/bot-monkey-2/following{/other_user}\",\"gists_url\":\"https://api.github.com/users/bot-monkey-2/gists{/gist_id}\",\"starred_url\":\"https://api.github.com/users/bot-monkey-2/starred{/owner}{/repo}\",\"subscriptions_url\":\"https://api.github.com/users/bot-monkey-2/subscriptions\",\"organizations_url\":\"https://api.github.com/users/bot-monkey-2/orgs\",\"repos_url\":\"https://api.github.com/users/bot-monkey-2/repos\",\"events_url\":\"https://api.github.com/users/bot-monkey-2/events{/privacy}\",\"received_events_url\":\"https://api.github.com/users/bot-monkey-2/received_events\",\"type\":\"User\",\"site_admin\":false},\"body\":null,\"commit_id\":\"5581454d95a0de964cdcb8ade42420db10d4857c\",\"submitted_at\":\"2020-10-28T22:04:12Z\",\"state\":\"approved\",\"html_url\":\"https://github.com/test-organization-kkjeer/app-test/pull/78688#pullrequestreview-519119342\",\"pull_request_url\":\"https://api.github.com/repos/test-organization-kkjeer/app-test/pulls/78688\",\"author_association\":\"COLLABORATOR\",\"_links\":{\"html\":{\"href\":\"https://github.com/test-organization-kkjeer/app-test/pull/78688#pullrequestreview-519119342\"},\"pull_request\":{\"href\":\"https://api.github.com/repos/test-organization-kkjeer/app-test/pulls/78688\"}}},\"pull_request\":{\"url\":\"https://api.github.com/repos/test-organization-kkjeer/app-test/pulls/78688\",\"id\":511863457,\"node_id\":\"MDExOlB1bGxSZXF1ZXN0NTExODYzNDU3\",\"html_url\":\"https://github.com/test-organization-kkjeer/app-test/pull/78688\",\"diff_url\":\"https://github.com/test-organization-kkjeer/app-test/pull/78688.diff\",\"patch_url\":\"https://github.com/test-organization-kkjeer/app-test/pull/78688.patch\",\"issue_url\":\"https://api.github.com/repos/test-organization-kkjeer/app-test/issues/78688\",\"number\":78688,\"state\":\"open\",\"locked\":false,\"title\":\"Auto monkey PR ent4pa\",\"user\":{\"login\":\"bot-monkey-1\",\"id\":49659212,\"node_id\":\"MDQ6VXNlcjQ5NjU5MjEy\",\"avatar_url\":\"https://avatars1.githubusercontent.com/u/49659212?v=4\",\"gravatar_id\":\"\",\"url\":\"https://api.github.com/users/bot-monkey-1\",\"html_url\":\"https://github.com/bot-monkey-1\",\"followers_url\":\"https://api.github.com/users/bot-monkey-1/followers\",\"following_url\":\"https://api.github.com/users/bot-monkey-1/following{/other_user}\",\"gists_url\":\"https://api.github.com/users/bot-monkey-1/gists{/gist_id}\",\"starred_url\":\"https://api.github.com/users/bot-monkey-1/starred{/owner}{/repo}\",\"subscriptions_url\":\"https://api.github.com/users/bot-monkey-1/subscriptions\",\"organizations_url\":\"https://api.github.com/users/bot-monkey-1/orgs\",\"repos_url\":\"https://api.github.com/users/bot-monkey-1/repos\",\"events_url\":\"https://api.github.com/users/bot-monkey-1/events{/privacy}\",\"received_events_url\":\"https://api.github.com/users/bot-monkey-1/received_events\",\"type\":\"User\",\"site_admin\":false},\"body\":\"PR: reset AutoMerge commands\\\\nvia `prAutoMerge/reset.test.ts`\\\\n\\\\n###### Microsoft Reviewers: [Open in CodeFlow](http://wpcp.azurewebsites.net/CodeFlowProtocolProxy2.php?pullrequest=https://github.com/test-organization-kkjeer/app-test/pull/78688)\",\"created_at\":\"2020-10-28T22:03:10Z\",\"updated_at\":\"2020-10-28T22:04:12Z\",\"closed_at\":null,\"merged_at\":null,\"merge_commit_sha\":\"5435576c0ce8a7b5a2a9d7be8ba45a9ab88c0f20\",\"assignee\":null,\"assignees\":[],\"requested_reviewers\":[],\"requested_teams\":[],\"labels\":[{\"id\":1326958483,\"node_id\":\"MDU6TGFiZWwxMzI2OTU4NDgz\",\"url\":\"https://api.github.com/repos/test-organization-kkjeer/app-test/labels/AutoMerge\",\"name\":\"AutoMerge\",\"color\":\"13f49e\",\"default\":false,\"description\":\"\"}],\"milestone\":null,\"draft\":false,\"commits_url\":\"https://api.github.com/repos/test-organization-kkjeer/app-test/pulls/78688/commits\",\"review_comments_url\":\"https://api.github.com/repos/test-organization-kkjeer/app-test/pulls/78688/comments\",\"review_comment_url\":\"https://api.github.com/repos/test-organization-kkjeer/app-test/pulls/comments{/number}\",\"comments_url\":\"https://api.github.com/repos/test-organization-kkjeer/app-test/issues/78688/comments\",\"statuses_url\":\"https://api.github.com/repos/test-organization-kkjeer/app-test/statuses/5581454d95a0de964cdcb8ade42420db10d4857c\",\"head\":{\"label\":\"test-organization-kkjeer:monkey-branch-ent4pa\",\"ref\":\"monkey-branch-ent4pa\",\"sha\":\"5581454d95a0de964cdcb8ade42420db10d4857c\",\"user\":{\"login\":\"test-organization-kkjeer\",\"id\":47997193,\"node_id\":\"MDEyOk9yZ2FuaXphdGlvbjQ3OTk3MTkz\",\"avatar_url\":\"https://avatars0.githubusercontent.com/u/47997193?v=4\",\"gravatar_id\":\"\",\"url\":\"https://api.github.com/users/test-organization-kkjeer\",\"html_url\":\"https://github.com/test-organization-kkjeer\",\"followers_url\":\"https://api.github.com/users/test-organization-kkjeer/followers\",\"following_url\":\"https://api.github.com/users/test-organization-kkjeer/following{/other_user}\",\"gists_url\":\"https://api.github.com/users/test-organization-kkjeer/gists{/gist_id}\",\"starred_url\":\"https://api.github.com/users/test-organization-kkjeer/starred{/owner}{/repo}\",\"subscriptions_url\":\"https://api.github.com/users/test-organization-kkjeer/subscriptions\",\"organizations_url\":\"https://api.github.com/users/test-organization-kkjeer/orgs\",\"repos_url\":\"https://api.github.com/users/test-organization-kkjeer/repos\",\"events_url\":\"https://api.github.com/users/test-organization-kkjeer/events{/privacy}\",\"received_events_url\":\"https://api.github.com/users/test-organization-kkjeer/received_events\",\"type\":\"Organization\",\"site_admin\":false},\"repo\":{\"id\":175689856,\"node_id\":\"MDEwOlJlcG9zaXRvcnkxNzU2ODk4NTY=\",\"name\":\"app-test\",\"full_name\":\"test-organization-kkjeer/app-test\",\"private\":false,\"owner\":{\"login\":\"test-organization-kkjeer\",\"id\":47997193,\"node_id\":\"MDEyOk9yZ2FuaXphdGlvbjQ3OTk3MTkz\",\"avatar_url\":\"https://avatars0.githubusercontent.com/u/47997193?v=4\",\"gravatar_id\":\"\",\"url\":\"https://api.github.com/users/test-organization-kkjeer\",\"html_url\":\"https://github.com/test-organization-kkjeer\",\"followers_url\":\"https://api.github.com/users/test-organization-kkjeer/followers\",\"following_url\":\"https://api.github.com/users/test-organization-kkjeer/following{/other_user}\",\"gists_url\":\"https://api.github.com/users/test-organization-kkjeer/gists{/gist_id}\",\"starred_url\":\"https://api.github.com/users/test-organization-kkjeer/starred{/owner}{/repo}\",\"subscriptions_url\":\"https://api.github.com/users/test-organization-kkjeer/subscriptions\",\"organizations_url\":\"https://api.github.com/users/test-organization-kkjeer/orgs\",\"repos_url\":\"https://api.github.com/users/test-organization-kkjeer/repos\",\"events_url\":\"https://api.github.com/users/test-organization-kkjeer/events{/privacy}\",\"received_events_url\":\"https://api.github.com/users/test-organization-kkjeer/received_events\",\"type\":\"Organization\",\"site_admin\":false},\"html_url\":\"https://github.com/test-organization-kkjeer/app-test\",\"description\":null,\"fork\":false,\"url\":\"https://api.github.com/repos/test-organization-kkjeer/app-test\",\"forks_url\":\"https://api.github.com/repos/test-organization-kkjeer/app-test/forks\",\"keys_url\":\"https://api.github.com/repos/test-organization-kkjeer/app-test/keys{/key_id}\",\"collaborators_url\":\"https://api.github.com/repos/test-organization-kkjeer/app-test/collaborators{/collaborator}\",\"teams_url\":\"https://api.github.com/repos/test-organization-kkjeer/app-test/teams\",\"hooks_url\":\"https://api.github.com/repos/test-organization-kkjeer/app-test/hooks\",\"issue_events_url\":\"https://api.github.com/repos/test-organization-kkjeer/app-test/issues/events{/number}\",\"events_url\":\"https://api.github.com/repos/test-organization-kkjeer/app-test/events\",\"assignees_url\":\"https://api.github.com/repos/test-organization-kkjeer/app-test/assignees{/user}\",\"branches_url\":\"https://api.github.com/repos/test-organization-kkjeer/app-test/branches{/branch}\",\"tags_url\":\"https://api.github.com/repos/test-organization-kkjeer/app-test/tags\",\"blobs_url\":\"https://api.github.com/repos/test-organization-kkjeer/app-test/git/blobs{/sha}\",\"git_tags_url\":\"https://api.github.com/repos/test-organization-kkjeer/app-test/git/tags{/sha}\",\"git_refs_url\":\"https://api.github.com/repos/test-organization-kkjeer/app-test/git/refs{/sha}\",\"trees_url\":\"https://api.github.com/repos/test-organization-kkjeer/app-test/git/trees{/sha}\",\"statuses_url\":\"https://api.github.com/repos/test-organization-kkjeer/app-test/statuses/{sha}\",\"languages_url\":\"https://api.github.com/repos/test-organization-kkjeer/app-test/languages\",\"stargazers_url\":\"https://api.github.com/repos/test-organization-kkjeer/app-test/stargazers\",\"contributors_url\":\"https://api.github.com/repos/test-organization-kkjeer/app-test/contributors\",\"subscribers_url\":\"https://api.github.com/repos/test-organization-kkjeer/app-test/subscribers\",\"subscription_url\":\"https://api.github.com/repos/test-organization-kkjeer/app-test/subscription\",\"commits_url\":\"https://api.github.com/repos/test-organization-kkjeer/app-test/commits{/sha}\",\"git_commits_url\":\"https://api.github.com/repos/test-organization-kkjeer/app-test/git/commits{/sha}\",\"comments_url\":\"https://api.github.com/repos/test-organization-kkjeer/app-test/comments{/number}\",\"issue_comment_url\":\"https://api.github.com/repos/test-organization-kkjeer/app-test/issues/comments{/number}\",\"contents_url\":\"https://api.github.com/repos/test-organization-kkjeer/app-test/contents/{+path}\",\"compare_url\":\"https://api.github.com/repos/test-organization-kkjeer/app-test/compare/{base}...{head}\",\"merges_url\":\"https://api.github.com/repos/test-organization-kkjeer/app-test/merges\",\"archive_url\":\"https://api.github.com/repos/test-organization-kkjeer/app-test/{archive_format}{/ref}\",\"downloads_url\":\"https://api.github.com/repos/test-organization-kkjeer/app-test/downloads\",\"issues_url\":\"https://api.github.com/repos/test-organization-kkjeer/app-test/issues{/number}\",\"pulls_url\":\"https://api.github.com/repos/test-organization-kkjeer/app-test/pulls{/number}\",\"milestones_url\":\"https://api.github.com/repos/test-organization-kkjeer/app-test/milestones{/number}\",\"notifications_url\":\"https://api.github.com/repos/test-organization-kkjeer/app-test/notifications{?since,all,participating}\",\"labels_url\":\"https://api.github.com/repos/test-organization-kkjeer/app-test/labels{/name}\",\"releases_url\":\"https://api.github.com/repos/test-organization-kkjeer/app-test/releases{/id}\",\"deployments_url\":\"https://api.github.com/repos/test-organization-kkjeer/app-test/deployments\",\"created_at\":\"2019-03-14T19:53:46Z\",\"updated_at\":\"2020-10-28T22:03:27Z\",\"pushed_at\":\"2020-10-28T22:04:06Z\",\"git_url\":\"git://github.com/test-organization-kkjeer/app-test.git\",\"ssh_url\":\"git@github.com:test-organization-kkjeer/app-test.git\",\"clone_url\":\"https://github.com/test-organization-kkjeer/app-test.git\",\"svn_url\":\"https://github.com/test-organization-kkjeer/app-test\",\"homepage\":null,\"size\":49522,\"stargazers_count\":5,\"watchers_count\":5,\"language\":\"JavaScript\",\"has_issues\":true,\"has_projects\":true,\"has_downloads\":true,\"has_wiki\":true,\"has_pages\":false,\"forks_count\":1,\"mirror_url\":null,\"archived\":false,\"disabled\":false,\"open_issues_count\":4,\"license\":null,\"forks\":1,\"open_issues\":4,\"watchers\":5,\"default_branch\":\"master\"}},\"base\":{\"label\":\"test-organization-kkjeer:master\",\"ref\":\"master\",\"sha\":\"bcbb3783aee85465054f0a072c262b3f6515d3a0\",\"user\":{\"login\":\"test-organization-kkjeer\",\"id\":47997193,\"node_id\":\"MDEyOk9yZ2FuaXphdGlvbjQ3OTk3MTkz\",\"avatar_url\":\"https://avatars0.githubusercontent.com/u/47997193?v=4\",\"gravatar_id\":\"\",\"url\":\"https://api.github.com/users/test-organization-kkjeer\",\"html_url\":\"https://github.com/test-organization-kkjeer\",\"followers_url\":\"https://api.github.com/users/test-organization-kkjeer/followers\",\"following_url\":\"https://api.github.com/users/test-organization-kkjeer/following{/other_user}\",\"gists_url\":\"https://api.github.com/users/test-organization-kkjeer/gists{/gist_id}\",\"starred_url\":\"https://api.github.com/users/test-organization-kkjeer/starred{/owner}{/repo}\",\"subscriptions_url\":\"https://api.github.com/users/test-organization-kkjeer/subscriptions\",\"organizations_url\":\"https://api.github.com/users/test-organization-kkjeer/orgs\",\"repos_url\":\"https://api.github.com/users/test-organization-kkjeer/repos\",\"events_url\":\"https://api.github.com/users/test-organization-kkjeer/events{/privacy}\",\"received_events_url\":\"https://api.github.com/users/test-organization-kkjeer/received_events\",\"type\":\"Organization\",\"site_admin\":false},\"repo\":{\"id\":175689856,\"node_id\":\"MDEwOlJlcG9zaXRvcnkxNzU2ODk4NTY=\",\"name\":\"app-test\",\"full_name\":\"test-organization-kkjeer/app-test\",\"private\":false,\"owner\":{\"login\":\"test-organization-kkjeer\",\"id\":47997193,\"node_id\":\"MDEyOk9yZ2FuaXphdGlvbjQ3OTk3MTkz\",\"avatar_url\":\"https://avatars0.githubusercontent.com/u/47997193?v=4\",\"gravatar_id\":\"\",\"url\":\"https://api.github.com/users/test-organization-kkjeer\",\"html_url\":\"https://github.com/test-organization-kkjeer\",\"followers_url\":\"https://api.github.com/users/test-organization-kkjeer/followers\",\"following_url\":\"https://api.github.com/users/test-organization-kkjeer/following{/other_user}\",\"gists_url\":\"https://api.github.com/users/test-organization-kkjeer/gists{/gist_id}\",\"starred_url\":\"https://api.github.com/users/test-organization-kkjeer/starred{/owner}{/repo}\",\"subscriptions_url\":\"https://api.github.com/users/test-organization-kkjeer/subscriptions\",\"organizations_url\":\"https://api.github.com/users/test-organization-kkjeer/orgs\",\"repos_url\":\"https://api.github.com/users/test-organization-kkjeer/repos\",\"events_url\":\"https://api.github.com/users/test-organization-kkjeer/events{/privacy}\",\"received_events_url\":\"https://api.github.com/users/test-organization-kkjeer/received_events\",\"type\":\"Organization\",\"site_admin\":false},\"html_url\":\"https://github.com/test-organization-kkjeer/app-test\",\"description\":null,\"fork\":false,\"url\":\"https://api.github.com/repos/test-organization-kkjeer/app-test\",\"forks_url\":\"https://api.github.com/repos/test-organization-kkjeer/app-test/forks\",\"keys_url\":\"https://api.github.com/repos/test-organization-kkjeer/app-test/keys{/key_id}\",\"collaborators_url\":\"https://api.github.com/repos/test-organization-kkjeer/app-test/collaborators{/collaborator}\",\"teams_url\":\"https://api.github.com/repos/test-organization-kkjeer/app-test/teams\",\"hooks_url\":\"https://api.github.com/repos/test-organization-kkjeer/app-test/hooks\",\"issue_events_url\":\"https://api.github.com/repos/test-organization-kkjeer/app-test/issues/events{/number}\",\"events_url\":\"https://api.github.com/repos/test-organization-kkjeer/app-test/events\",\"assignees_url\":\"https://api.github.com/repos/test-organization-kkjeer/app-test/assignees{/user}\",\"branches_url\":\"https://api.github.com/repos/test-organization-kkjeer/app-test/branches{/branch}\",\"tags_url\":\"https://api.github.com/repos/test-organization-kkjeer/app-test/tags\",\"blobs_url\":\"https://api.github.com/repos/test-organization-kkjeer/app-test/git/blobs{/sha}\",\"git_tags_url\":\"https://api.github.com/repos/test-organization-kkjeer/app-test/git/tags{/sha}\",\"git_refs_url\":\"https://api.github.com/repos/test-organization-kkjeer/app-test/git/refs{/sha}\",\"trees_url\":\"https://api.github.com/repos/test-organization-kkjeer/app-test/git/trees{/sha}\",\"statuses_url\":\"https://api.github.com/repos/test-organization-kkjeer/app-test/statuses/{sha}\",\"languages_url\":\"https://api.github.com/repos/test-organization-kkjeer/app-test/languages\",\"stargazers_url\":\"https://api.github.com/repos/test-organization-kkjeer/app-test/stargazers\",\"contributors_url\":\"https://api.github.com/repos/test-organization-kkjeer/app-test/contributors\",\"subscribers_url\":\"https://api.github.com/repos/test-organization-kkjeer/app-test/subscribers\",\"subscription_url\":\"https://api.github.com/repos/test-organization-kkjeer/app-test/subscription\",\"commits_url\":\"https://api.github.com/repos/test-organization-kkjeer/app-test/commits{/sha}\",\"git_commits_url\":\"https://api.github.com/repos/test-organization-kkjeer/app-test/git/commits{/sha}\",\"comments_url\":\"https://api.github.com/repos/test-organization-kkjeer/app-test/comments{/number}\",\"issue_comment_url\":\"https://api.github.com/repos/test-organization-kkjeer/app-test/issues/comments{/number}\",\"contents_url\":\"https://api.github.com/repos/test-organization-kkjeer/app-test/contents/{+path}\",\"compare_url\":\"https://api.github.com/repos/test-organization-kkjeer/app-test/compare/{base}...{head}\",\"merges_url\":\"https://api.github.com/repos/test-organization-kkjeer/app-test/merges\",\"archive_url\":\"https://api.github.com/repos/test-organization-kkjeer/app-test/{archive_format}{/ref}\",\"downloads_url\":\"https://api.github.com/repos/test-organization-kkjeer/app-test/downloads\",\"issues_url\":\"https://api.github.com/repos/test-organization-kkjeer/app-test/issues{/number}\",\"pulls_url\":\"https://api.github.com/repos/test-organization-kkjeer/app-test/pulls{/number}\",\"milestones_url\":\"https://api.github.com/repos/test-organization-kkjeer/app-test/milestones{/number}\",\"notifications_url\":\"https://api.github.com/repos/test-organization-kkjeer/app-test/notifications{?since,all,participating}\",\"labels_url\":\"https://api.github.com/repos/test-organization-kkjeer/app-test/labels{/name}\",\"releases_url\":\"https://api.github.com/repos/test-organization-kkjeer/app-test/releases{/id}\",\"deployments_url\":\"https://api.github.com/repos/test-organization-kkjeer/app-test/deployments\",\"created_at\":\"2019-03-14T19:53:46Z\",\"updated_at\":\"2020-10-28T22:03:27Z\",\"pushed_at\":\"2020-10-28T22:04:06Z\",\"git_url\":\"git://github.com/test-organization-kkjeer/app-test.git\",\"ssh_url\":\"git@github.com:test-organization-kkjeer/app-test.git\",\"clone_url\":\"https://github.com/test-organization-kkjeer/app-test.git\",\"svn_url\":\"https://github.com/test-organization-kkjeer/app-test\",\"homepage\":null,\"size\":49522,\"stargazers_count\":5,\"watchers_count\":5,\"language\":\"JavaScript\",\"has_issues\":true,\"has_projects\":true,\"has_downloads\":true,\"has_wiki\":true,\"has_pages\":false,\"forks_count\":1,\"mirror_url\":null,\"archived\":false,\"disabled\":false,\"open_issues_count\":4,\"license\":null,\"forks\":1,\"open_issues\":4,\"watchers\":5,\"default_branch\":\"master\"}},\"_links\":{\"self\":{\"href\":\"https://api.github.com/repos/test-organization-kkjeer/app-test/pulls/78688\"},\"html\":{\"href\":\"https://github.com/test-organization-kkjeer/app-test/pull/78688\"},\"issue\":{\"href\":\"https://api.github.com/repos/test-organization-kkjeer/app-test/issues/78688\"},\"comments\":{\"href\":\"https://api.github.com/repos/test-organization-kkjeer/app-test/issues/78688/comments\"},\"review_comments\":{\"href\":\"https://api.github.com/repos/test-organization-kkjeer/app-test/pulls/78688/comments\"},\"review_comment\":{\"href\":\"https://api.github.com/repos/test-organization-kkjeer/app-test/pulls/comments{/number}\"},\"commits\":{\"href\":\"https://api.github.com/repos/test-organization-kkjeer/app-test/pulls/78688/commits\"},\"statuses\":{\"href\":\"https://api.github.com/repos/test-organization-kkjeer/app-test/statuses/5581454d95a0de964cdcb8ade42420db10d4857c\"}},\"author_association\":\"COLLABORATOR\",\"active_lock_reason\":null}},\"public\":true,\"created_at\":\"2020-10-28T22:04:12Z\",\"org\":{\"id\":47997193,\"login\":\"test-organization-kkjeer\",\"gravatar_id\":\"\",\"url\":\"https://api.github.com/orgs/test-organization-kkjeer\",\"avatar_url\":\"https://avatars.githubusercontent.com/u/47997193?\"}},{\"id\":\"14007702852\",\"type\":\"PushEvent\",\"actor\":{\"id\":32426645,\"login\":\"pegeler\",\"display_login\":\"pegeler\",\"gravatar_id\":\"\",\"url\":\"https://api.github.com/users/pegeler\",\"avatar_url\":\"https://avatars.githubusercontent.com/u/32426645?\"},\"repo\":{\"id\":281844754,\"name\":\"pegeler/primes\",\"url\":\"https://api.github.com/repos/pegeler/primes\"},\"payload\":{\"push_id\":5936808229,\"size\":13,\"distinct_size\":13,\"ref\":\"refs/heads/master\",\"head\":\"ff8e106f0237d762f6994c863ba8832bbc0f3187\",\"before\":\"3f436a12de2b61b2568d838c0fc970bf6d13999e\",\"commits\":[{\"sha\":\"4ace34857aeca0aa57e991c508f3d35a6925e4b8\",\"author\":{\"email\":\"Ironholds@users.noreply.github.com\",\"name\":\"Os Keyes\"},\"message\":\"Merge pull request #3 from pegeler/master\\\\n\\\\nFixing compilation error on Solaris and added new functions and data\",\"distinct\":true,\"url\":\"https://api.github.com/repos/pegeler/primes/commits/4ace34857aeca0aa57e991c508f3d35a6925e4b8\"},{\"sha\":\"39e54f3efa59b73c9e80d8decde16c27ac8f8e1c\",\"author\":{\"email\":\"Ironholds@users.noreply.github.com\",\"name\":\"Os Keyes\"},\"message\":\"Merge pull request #4 from pegeler/master\\\\n\\\\nAdding `is_coprime`, `gcd`, `lcm`, and speeding up/refactoring several functions\",\"distinct\":true,\"url\":\"https://api.github.com/repos/pegeler/primes/commits/39e54f3efa59b73c9e80d8decde16c27ac8f8e1c\"},{\"sha\":\"5720332ab4665e70f6151d72e94159efb85dfbcf\",\"author\":{\"email\":\"Ironholds@users.noreply.github.com\",\"name\":\"Os Keyes\"},\"message\":\"Merge pull request #5 from pegeler/master\\\\n\\\\nSmall update to docs\",\"distinct\":true,\"url\":\"https://api.github.com/repos/pegeler/primes/commits/5720332ab4665e70f6151d72e94159efb85dfbcf\"},{\"sha\":\"3acbb32350ba8d5b2f57aba86d0f893c56c41375\",\"author\":{\"email\":\"ironholds@gmail.com\",\"name\":\"Os Keyes\"},\"message\":\"CRAN fixes\",\"distinct\":true,\"url\":\"https://api.github.com/repos/pegeler/primes/commits/3acbb32350ba8d5b2f57aba86d0f893c56c41375\"},{\"sha\":\"32cba6c4cbc1f1b125e53d8bca6dcf131e653a92\",\"author\":{\"email\":\"32426645+pegeler@users.noreply.github.com\",\"name\":\"pegeler\"},\"message\":\"adding Rgcd and Rscm\",\"distinct\":true,\"url\":\"https://api.github.com/repos/pegeler/primes/commits/32cba6c4cbc1f1b125e53d8bca6dcf131e653a92\"},{\"sha\":\"3f030da84fcf972fbb9fda12eed118d102de40bf\",\"author\":{\"email\":\"32426645+pegeler@users.noreply.github.com\",\"name\":\"pegeler\"},\"message\":\"incrementing version\",\"distinct\":true,\"url\":\"https://api.github.com/repos/pegeler/primes/commits/3f030da84fcf972fbb9fda12eed118d102de40bf\"},{\"sha\":\"e4ca769a8cddf5fd0a3c8cfee60885c3bd68bce7\",\"author\":{\"email\":\"32426645+pegeler@users.noreply.github.com\",\"name\":\"pegeler\"},\"message\":\"adding gcd docs\",\"distinct\":true,\"url\":\"https://api.github.com/repos/pegeler/primes/commits/e4ca769a8cddf5fd0a3c8cfee60885c3bd68bce7\"},{\"sha\":\"7e527ff6cb6f8b366da1e5ad82a751d347e5e321\",\"author\":{\"email\":\"Ironholds@users.noreply.github.com\",\"name\":\"Os Keyes\"},\"message\":\"Merge pull request #6 from pegeler/reduction\\\\n\\\\nAdding Rgcd and Rscm\",\"distinct\":true,\"url\":\"https://api.github.com/repos/pegeler/primes/commits/7e527ff6cb6f8b366da1e5ad82a751d347e5e321\"},{\"sha\":\"7a156416654c9bfceb2fc2dc3f9c7903cfcf03aa\",\"author\":{\"email\":\"32426645+pegeler@users.noreply.github.com\",\"name\":\"pegeler\"},\"message\":\"fixing bug in k_tuple functions\",\"distinct\":true,\"url\":\"https://api.github.com/repos/pegeler/primes/commits/7a156416654c9bfceb2fc2dc3f9c7903cfcf03aa\"},{\"sha\":\"438f1e123614de3c97bc2fd0282f9ff715663fb0\",\"author\":{\"email\":\"32426645+pegeler@users.noreply.github.com\",\"name\":\"pegeler\"},\"message\":\"adding note to test\",\"distinct\":true,\"url\":\"https://api.github.com/repos/pegeler/primes/commits/438f1e123614de3c97bc2fd0282f9ff715663fb0\"},{\"sha\":\"73fff8ba519c9843c8eaa9a311f37219ea9aab38\",\"author\":{\"email\":\"32426645+pegeler@users.noreply.github.com\",\"name\":\"pegeler\"},\"message\":\"bugfix for k_tuple functions\",\"distinct\":true,\"url\":\"https://api.github.com/repos/pegeler/primes/commits/73fff8ba519c9843c8eaa9a311f37219ea9aab38\"},{\"sha\":\"7e0380dd895d70afb55f90015abcb0be08a61cef\",\"author\":{\"email\":\"32426645+pegeler@users.noreply.github.com\",\"name\":\"pegeler\"},\"message\":\"incrementing version\",\"distinct\":true,\"url\":\"https://api.github.com/repos/pegeler/primes/commits/7e0380dd895d70afb55f90015abcb0be08a61cef\"},{\"sha\":\"ff8e106f0237d762f6994c863ba8832bbc0f3187\",\"author\":{\"email\":\"Ironholds@users.noreply.github.com\",\"name\":\"Os Keyes\"},\"message\":\"Merge pull request #7 from pegeler/k_tuple\\\\n\\\\nBugfix for k_tuple functions\",\"distinct\":true,\"url\":\"https://api.github.com/repos/pegeler/primes/commits/ff8e106f0237d762f6994c863ba8832bbc0f3187\"}]},\"public\":true,\"created_at\":\"2020-10-28T22:04:12Z\"},{\"id\":\"14007702854\",\"type\":\"IssuesEvent\",\"actor\":{\"id\":50630316,\"login\":\"januszewskimar\",\"display_login\":\"januszewskimar\",\"gravatar_id\":\"\",\"url\":\"https://api.github.com/users/januszewskimar\",\"avatar_url\":\"https://avatars.githubusercontent.com/u/50630316?\"},\"repo\":{\"id\":302461453,\"name\":\"januszewskimar/shop-safe\",\"url\":\"https://api.github.com/repos/januszewskimar/shop-safe\"},\"payload\":{\"action\":\"closed\",\"issue\":{\"url\":\"https://api.github.com/repos/januszewskimar/shop-safe/issues/27\",\"repository_url\":\"https://api.github.com/repos/januszewskimar/shop-safe\",\"labels_url\":\"https://api.github.com/repos/januszewskimar/shop-safe/issues/27/labels{/name}\",\"comments_url\":\"https://api.github.com/repos/januszewskimar/shop-safe/issues/27/comments\",\"events_url\":\"https://api.github.com/repos/januszewskimar/shop-safe/issues/27/events\",\"html_url\":\"https://github.com/januszewskimar/shop-safe/issues/27\",\"id\":731807946,\"node_id\":\"MDU6SXNzdWU3MzE4MDc5NDY=\",\"number\":27,\"title\":\"Mejorar la documentación de la arquitectura\",\"user\":{\"login\":\"januszewskimar\",\"id\":50630316,\"node_id\":\"MDQ6VXNlcjUwNjMwMzE2\",\"avatar_url\":\"https://avatars2.githubusercontent.com/u/50630316?v=4\",\"gravatar_id\":\"\",\"url\":\"https://api.github.com/users/januszewskimar\",\"html_url\":\"https://github.com/januszewskimar\",\"followers_url\":\"https://api.github.com/users/januszewskimar/followers\",\"following_url\":\"https://api.github.com/users/januszewskimar/following{/other_user}\",\"gists_url\":\"https://api.github.com/users/januszewskimar/gists{/gist_id}\",\"starred_url\":\"https://api.github.com/users/januszewskimar/starred{/owner}{/repo}\",\"subscriptions_url\":\"https://api.github.com/users/januszewskimar/subscriptions\",\"organizations_url\":\"https://api.github.com/users/januszewskimar/orgs\",\"repos_url\":\"https://api.github.com/users/januszewskimar/repos\",\"events_url\":\"https://api.github.com/users/januszewskimar/events{/privacy}\",\"received_events_url\":\"https://api.github.com/users/januszewskimar/received_events\",\"type\":\"User\",\"site_admin\":false},\"labels\":[{\"id\":2411213273,\"node_id\":\"MDU6TGFiZWwyNDExMjEzMjcz\",\"url\":\"https://api.github.com/repos/januszewskimar/shop-safe/labels/documentation\",\"name\":\"documentation\",\"color\":\"0075ca\",\"default\":true,\"description\":\"Improvements or additions to documentation\"}],\"state\":\"closed\",\"locked\":false,\"assignee\":{\"login\":\"januszewskimar\",\"id\":50630316,\"node_id\":\"MDQ6VXNlcjUwNjMwMzE2\",\"avatar_url\":\"https://avatars2.githubusercontent.com/u/50630316?v=4\",\"gravatar_id\":\"\",\"url\":\"https://api.github.com/users/januszewskimar\",\"html_url\":\"https://github.com/januszewskimar\",\"followers_url\":\"https://api.github.com/users/januszewskimar/followers\",\"following_url\":\"https://api.github.com/users/januszewskimar/following{/other_user}\",\"gists_url\":\"https://api.github.com/users/januszewskimar/gists{/gist_id}\",\"starred_url\":\"https://api.github.com/users/januszewskimar/starred{/owner}{/repo}\",\"subscriptions_url\":\"https://api.github.com/users/januszewskimar/subscriptions\",\"organizations_url\":\"https://api.github.com/users/januszewskimar/orgs\",\"repos_url\":\"https://api.github.com/users/januszewskimar/repos\",\"events_url\":\"https://api.github.com/users/januszewskimar/events{/privacy}\",\"received_events_url\":\"https://api.github.com/users/januszewskimar/received_events\",\"type\":\"User\",\"site_admin\":false},\"assignees\":[{\"login\":\"januszewskimar\",\"id\":50630316,\"node_id\":\"MDQ6VXNlcjUwNjMwMzE2\",\"avatar_url\":\"https://avatars2.githubusercontent.com/u/50630316?v=4\",\"gravatar_id\":\"\",\"url\":\"https://api.github.com/users/januszewskimar\",\"html_url\":\"https://github.com/januszewskimar\",\"followers_url\":\"https://api.github.com/users/januszewskimar/followers\",\"following_url\":\"https://api.github.com/users/januszewskimar/following{/other_user}\",\"gists_url\":\"https://api.github.com/users/januszewskimar/gists{/gist_id}\",\"starred_url\":\"https://api.github.com/users/januszewskimar/starred{/owner}{/repo}\",\"subscriptions_url\":\"https://api.github.com/users/januszewskimar/subscriptions\",\"organizations_url\":\"https://api.github.com/users/januszewskimar/orgs\",\"repos_url\":\"https://api.github.com/users/januszewskimar/repos\",\"events_url\":\"https://api.github.com/users/januszewskimar/events{/privacy}\",\"received_events_url\":\"https://api.github.com/users/januszewskimar/received_events\",\"type\":\"User\",\"site_admin\":false}],\"milestone\":{\"url\":\"https://api.github.com/repos/januszewskimar/shop-safe/milestones/1\",\"html_url\":\"https://github.com/januszewskimar/shop-safe/milestone/1\",\"labels_url\":\"https://api.github.com/repos/januszewskimar/shop-safe/milestones/1/labels\",\"id\":6028922,\"node_id\":\"MDk6TWlsZXN0b25lNjAyODkyMg==\",\"number\":1,\"title\":\"Hito 1\",\"description\":null,\"creator\":{\"login\":\"januszewskimar\",\"id\":50630316,\"node_id\":\"MDQ6VXNlcjUwNjMwMzE2\",\"avatar_url\":\"https://avatars2.githubusercontent.com/u/50630316?v=4\",\"gravatar_id\":\"\",\"url\":\"https://api.github.com/users/januszewskimar\",\"html_url\":\"https://github.com/januszewskimar\",\"followers_url\":\"https://api.github.com/users/januszewskimar/followers\",\"following_url\":\"https://api.github.com/users/januszewskimar/following{/other_user}\",\"gists_url\":\"https://api.github.com/users/januszewskimar/gists{/gist_id}\",\"starred_url\":\"https://api.github.com/users/januszewskimar/starred{/owner}{/repo}\",\"subscriptions_url\":\"https://api.github.com/users/januszewskimar/subscriptions\",\"organizations_url\":\"https://api.github.com/users/januszewskimar/orgs\",\"repos_url\":\"https://api.github.com/users/januszewskimar/repos\",\"events_url\":\"https://api.github.com/users/januszewskimar/events{/privacy}\",\"received_events_url\":\"https://api.github.com/users/januszewskimar/received_events\",\"type\":\"User\",\"site_admin\":false},\"open_issues\":0,\"closed_issues\":16,\"state\":\"open\",\"created_at\":\"2020-10-25T15:30:53Z\",\"updated_at\":\"2020-10-28T22:04:12Z\",\"due_on\":null,\"closed_at\":null},\"comments\":0,\"created_at\":\"2020-10-28T21:37:01Z\",\"updated_at\":\"2020-10-28T22:04:12Z\",\"closed_at\":\"2020-10-28T22:04:12Z\",\"author_association\":\"OWNER\",\"active_lock_reason\":null,\"body\":\"\",\"performed_via_github_app\":null}},\"public\":true,\"created_at\":\"2020-10-28T22:04:12Z\"},{\"id\":\"14007702849\",\"type\":\"PullRequestReviewEvent\",\"actor\":{\"id\":68959564,\"login\":\"blaquez\",\"display_login\":\"blaquez\",\"gravatar_id\":\"\",\"url\":\"https://api.github.com/users/blaquez\",\"avatar_url\":\"https://avatars.githubusercontent.com/u/68959564?\"},\"repo\":{\"id\":39840932,\"name\":\"google/googletest\",\"url\":\"https://api.github.com/repos/google/googletest\"},\"payload\":{\"action\":\"created\",\"review\":{\"id\":519119341,\"node_id\":\"MDE3OlB1bGxSZXF1ZXN0UmV2aWV3NTE5MTE5MzQx\",\"user\":{\"login\":\"blaquez\",\"id\":68959564,\"node_id\":\"MDQ6VXNlcjY4OTU5NTY0\",\"avatar_url\":\"https://avatars1.githubusercontent.com/u/68959564?v=4\",\"gravatar_id\":\"\",\"url\":\"https://api.github.com/users/blaquez\",\"html_url\":\"https://github.com/blaquez\",\"followers_url\":\"https://api.github.com/users/blaquez/followers\",\"following_url\":\"https://api.github.com/users/blaquez/following{/other_user}\",\"gists_url\":\"https://api.github.com/users/blaquez/gists{/gist_id}\",\"starred_url\":\"https://api.github.com/users/blaquez/starred{/owner}{/repo}\",\"subscriptions_url\":\"https://api.github.com/users/blaquez/subscriptions\",\"organizations_url\":\"https://api.github.com/users/blaquez/orgs\",\"repos_url\":\"https://api.github.com/users/blaquez/repos\",\"events_url\":\"https://api.github.com/users/blaquez/events{/privacy}\",\"received_events_url\":\"https://api.github.com/users/blaquez/received_events\",\"type\":\"User\",\"site_admin\":false},\"body\":null,\"commit_id\":\"6b06cf230af65cb765b2d8b781dbf34dbb10cda6\",\"submitted_at\":\"2020-10-28T22:04:12Z\",\"state\":\"approved\",\"html_url\":\"https://github.com/google/googletest/pull/3072#pullrequestreview-519119341\",\"pull_request_url\":\"https://api.github.com/repos/google/googletest/pulls/3072\",\"author_association\":\"NONE\",\"_links\":{\"html\":{\"href\":\"https://github.com/google/googletest/pull/3072#pullrequestreview-519119341\"},\"pull_request\":{\"href\":\"https://api.github.com/repos/google/googletest/pulls/3072\"}}},\"pull_request\":{\"url\":\"https://api.github.com/repos/google/googletest/pulls/3072\",\"id\":506749486,\"node_id\":\"MDExOlB1bGxSZXF1ZXN0NTA2NzQ5NDg2\",\"html_url\":\"https://github.com/google/googletest/pull/3072\",\"diff_url\":\"https://github.com/google/googletest/pull/3072.diff\",\"patch_url\":\"https://github.com/google/googletest/pull/3072.patch\",\"issue_url\":\"https://api.github.com/repos/google/googletest/issues/3072\",\"number\":3072,\"state\":\"open\",\"locked\":false,\"title\":\"Allow building googletest against absl using cmake\",\"user\":{\"login\":\"emmenlau\",\"id\":1098087,\"node_id\":\"MDQ6VXNlcjEwOTgwODc=\",\"avatar_url\":\"https://avatars0.githubusercontent.com/u/1098087?v=4\",\"gravatar_id\":\"\",\"url\":\"https://api.github.com/users/emmenlau\",\"html_url\":\"https://github.com/emmenlau\",\"followers_url\":\"https://api.github.com/users/emmenlau/followers\",\"following_url\":\"https://api.github.com/users/emmenlau/following{/other_user}\",\"gists_url\":\"https://api.github.com/users/emmenlau/gists{/gist_id}\",\"starred_url\":\"https://api.github.com/users/emmenlau/starred{/owner}{/repo}\",\"subscriptions_url\":\"https://api.github.com/users/emmenlau/subscriptions\",\"organizations_url\":\"https://api.github.com/users/emmenlau/orgs\",\"repos_url\":\"https://api.github.com/users/emmenlau/repos\",\"events_url\":\"https://api.github.com/users/emmenlau/events{/privacy}\",\"received_events_url\":\"https://api.github.com/users/emmenlau/received_events\",\"type\":\"User\",\"site_admin\":false},\"body\":\"This PR adds a new cmake option `GTEST_HAS_ABSL` that defaults to `OFF`. When setting to true, cmake will search for absl and link the required libraries to build gtest with absl support. The link dependency is transitively passed via cmake configuration to downstream consumers.\",\"created_at\":\"2020-10-20T12:20:56Z\",\"updated_at\":\"2020-10-28T22:04:12Z\",\"closed_at\":null,\"merged_at\":null,\"merge_commit_sha\":\"77a449a62e571f97766eb9498dac963d66267d3b\",\"assignee\":{\"login\":\"derekmauro\",\"id\":761129,\"node_id\":\"MDQ6VXNlcjc2MTEyOQ==\",\"avatar_url\":\"https://avatars0.githubusercontent.com/u/761129?v=4\",\"gravatar_id\":\"\",\"url\":\"https://api.github.com/users/derekmauro\",\"html_url\":\"https://github.com/derekmauro\",\"followers_url\":\"https://api.github.com/users/derekmauro/followers\",\"following_url\":\"https://api.github.com/users/derekmauro/following{/other_user}\",\"gists_url\":\"https://api.github.com/users/derekmauro/gists{/gist_id}\",\"starred_url\":\"https://api.github.com/users/derekmauro/starred{/owner}{/repo}\",\"subscriptions_url\":\"https://api.github.com/users/derekmauro/subscriptions\",\"organizations_url\":\"https://api.github.com/users/derekmauro/orgs\",\"repos_url\":\"https://api.github.com/users/derekmauro/repos\",\"events_url\":\"https://api.github.com/users/derekmauro/events{/privacy}\",\"received_events_url\":\"https://api.github.com/users/derekmauro/received_events\",\"type\":\"User\",\"site_admin\":false},\"assignees\":[{\"login\":\"derekmauro\",\"id\":761129,\"node_id\":\"MDQ6VXNlcjc2MTEyOQ==\",\"avatar_url\":\"https://avatars0.githubusercontent.com/u/761129?v=4\",\"gravatar_id\":\"\",\"url\":\"https://api.github.com/users/derekmauro\",\"html_url\":\"https://github.com/derekmauro\",\"followers_url\":\"https://api.github.com/users/derekmauro/followers\",\"following_url\":\"https://api.github.com/users/derekmauro/following{/other_user}\",\"gists_url\":\"https://api.github.com/users/derekmauro/gists{/gist_id}\",\"starred_url\":\"https://api.github.com/users/derekmauro/starred{/owner}{/repo}\",\"subscriptions_url\":\"https://api.github.com/users/derekmauro/subscriptions\",\"organizations_url\":\"https://api.github.com/users/derekmauro/orgs\",\"repos_url\":\"https://api.github.com/users/derekmauro/repos\",\"events_url\":\"https://api.github.com/users/derekmauro/events{/privacy}\",\"received_events_url\":\"https://api.github.com/users/derekmauro/received_events\",\"type\":\"User\",\"site_admin\":false}],\"requested_reviewers\":[],\"requested_teams\":[],\"labels\":[{\"id\":1005990523,\"node_id\":\"MDU6TGFiZWwxMDA1OTkwNTIz\",\"url\":\"https://api.github.com/repos/google/googletest/labels/cla:%20yes\",\"name\":\"cla: yes\",\"color\":\"8bed95\",\"default\":false,\"description\":\"\"}],\"milestone\":null,\"draft\":false,\"commits_url\":\"https://api.github.com/repos/google/googletest/pulls/3072/commits\",\"review_comments_url\":\"https://api.github.com/repos/google/googletest/pulls/3072/comments\",\"review_comment_url\":\"https://api.github.com/repos/google/googletest/pulls/comments{/number}\",\"comments_url\":\"https://api.github.com/repos/google/googletest/issues/3072/comments\",\"statuses_url\":\"https://api.github.com/repos/google/googletest/statuses/6b06cf230af65cb765b2d8b781dbf34dbb10cda6\",\"head\":{\"label\":\"BioDataAnalysis:bda_add_abseil_to_cmake\",\"ref\":\"bda_add_abseil_to_cmake\",\"sha\":\"6b06cf230af65cb765b2d8b781dbf34dbb10cda6\",\"user\":{\"login\":\"BioDataAnalysis\",\"id\":14963143,\"node_id\":\"MDEyOk9yZ2FuaXphdGlvbjE0OTYzMTQz\",\"avatar_url\":\"https://avatars0.githubusercontent.com/u/14963143?v=4\",\"gravatar_id\":\"\",\"url\":\"https://api.github.com/users/BioDataAnalysis\",\"html_url\":\"https://github.com/BioDataAnalysis\",\"followers_url\":\"https://api.github.com/users/BioDataAnalysis/followers\",\"following_url\":\"https://api.github.com/users/BioDataAnalysis/following{/other_user}\",\"gists_url\":\"https://api.github.com/users/BioDataAnalysis/gists{/gist_id}\",\"starred_url\":\"https://api.github.com/users/BioDataAnalysis/starred{/owner}{/repo}\",\"subscriptions_url\":\"https://api.github.com/users/BioDataAnalysis/subscriptions\",\"organizations_url\":\"https://api.github.com/users/BioDataAnalysis/orgs\",\"repos_url\":\"https://api.github.com/users/BioDataAnalysis/repos\",\"events_url\":\"https://api.github.com/users/BioDataAnalysis/events{/privacy}\",\"received_events_url\":\"https://api.github.com/users/BioDataAnalysis/received_events\",\"type\":\"Organization\",\"site_admin\":false},\"repo\":{\"id\":305697958,\"node_id\":\"MDEwOlJlcG9zaXRvcnkzMDU2OTc5NTg=\",\"name\":\"googletest\",\"full_name\":\"BioDataAnalysis/googletest\",\"private\":false,\"owner\":{\"login\":\"BioDataAnalysis\",\"id\":14963143,\"node_id\":\"MDEyOk9yZ2FuaXphdGlvbjE0OTYzMTQz\",\"avatar_url\":\"https://avatars0.githubusercontent.com/u/14963143?v=4\",\"gravatar_id\":\"\",\"url\":\"https://api.github.com/users/BioDataAnalysis\",\"html_url\":\"https://github.com/BioDataAnalysis\",\"followers_url\":\"https://api.github.com/users/BioDataAnalysis/followers\",\"following_url\":\"https://api.github.com/users/BioDataAnalysis/following{/other_user}\",\"gists_url\":\"https://api.github.com/users/BioDataAnalysis/gists{/gist_id}\",\"starred_url\":\"https://api.github.com/users/BioDataAnalysis/starred{/owner}{/repo}\",\"subscriptions_url\":\"https://api.github.com/users/BioDataAnalysis/subscriptions\",\"organizations_url\":\"https://api.github.com/users/BioDataAnalysis/orgs\",\"repos_url\":\"https://api.github.com/users/BioDataAnalysis/repos\",\"events_url\":\"https://api.github.com/users/BioDataAnalysis/events{/privacy}\",\"received_events_url\":\"https://api.github.com/users/BioDataAnalysis/received_events\",\"type\":\"Organization\",\"site_admin\":false},\"html_url\":\"https://github.com/BioDataAnalysis/googletest\",\"description\":\"Googletest - Google Testing and Mocking Framework\",\"fork\":true,\"url\":\"https://api.github.com/repos/BioDataAnalysis/googletest\",\"forks_url\":\"https://api.github.com/repos/BioDataAnalysis/googletest/forks\",\"keys_url\":\"https://api.github.com/repos/BioDataAnalysis/googletest/keys{/key_id}\",\"collaborators_url\":\"https://api.github.com/repos/BioDataAnalysis/googletest/collaborators{/collaborator}\",\"teams_url\":\"https://api.github.com/repos/BioDataAnalysis/googletest/teams\",\"hooks_url\":\"https://api.github.com/repos/BioDataAnalysis/googletest/hooks\",\"issue_events_url\":\"https://api.github.com/repos/BioDataAnalysis/googletest/issues/events{/number}\",\"events_url\":\"https://api.github.com/repos/BioDataAnalysis/googletest/events\",\"assignees_url\":\"https://api.github.com/repos/BioDataAnalysis/googletest/assignees{/user}\",\"branches_url\":\"https://api.github.com/repos/BioDataAnalysis/googletest/branches{/branch}\",\"tags_url\":\"https://api.github.com/repos/BioDataAnalysis/googletest/tags\",\"blobs_url\":\"https://api.github.com/repos/BioDataAnalysis/googletest/git/blobs{/sha}\",\"git_tags_url\":\"https://api.github.com/repos/BioDataAnalysis/googletest/git/tags{/sha}\",\"git_refs_url\":\"https://api.github.com/repos/BioDataAnalysis/googletest/git/refs{/sha}\",\"trees_url\":\"https://api.github.com/repos/BioDataAnalysis/googletest/git/trees{/sha}\",\"statuses_url\":\"https://api.github.com/repos/BioDataAnalysis/googletest/statuses/{sha}\",\"languages_url\":\"https://api.github.com/repos/BioDataAnalysis/googletest/languages\",\"stargazers_url\":\"https://api.github.com/repos/BioDataAnalysis/googletest/stargazers\",\"contributors_url\":\"https://api.github.com/repos/BioDataAnalysis/googletest/contributors\",\"subscribers_url\":\"https://api.github.com/repos/BioDataAnalysis/googletest/subscribers\",\"subscription_url\":\"https://api.github.com/repos/BioDataAnalysis/googletest/subscription\",\"commits_url\":\"https://api.github.com/repos/BioDataAnalysis/googletest/commits{/sha}\",\"git_commits_url\":\"https://api.github.com/repos/BioDataAnalysis/googletest/git/commits{/sha}\",\"comments_url\":\"https://api.github.com/repos/BioDataAnalysis/googletest/comments{/number}\",\"issue_comment_url\":\"https://api.github.com/repos/BioDataAnalysis/googletest/issues/comments{/number}\",\"contents_url\":\"https://api.github.com/repos/BioDataAnalysis/googletest/contents/{+path}\",\"compare_url\":\"https://api.github.com/repos/BioDataAnalysis/googletest/compare/{base}...{head}\",\"merges_url\":\"https://api.github.com/repos/BioDataAnalysis/googletest/merges\",\"archive_url\":\"https://api.github.com/repos/BioDataAnalysis/googletest/{archive_format}{/ref}\",\"downloads_url\":\"https://api.github.com/repos/BioDataAnalysis/googletest/downloads\",\"issues_url\":\"https://api.github.com/repos/BioDataAnalysis/googletest/issues{/number}\",\"pulls_url\":\"https://api.github.com/repos/BioDataAnalysis/googletest/pulls{/number}\",\"milestones_url\":\"https://api.github.com/repos/BioDataAnalysis/googletest/milestones{/number}\",\"notifications_url\":\"https://api.github.com/repos/BioDataAnalysis/googletest/notifications{?since,all,participating}\",\"labels_url\":\"https://api.github.com/repos/BioDataAnalysis/googletest/labels{/name}\",\"releases_url\":\"https://api.github.com/repos/BioDataAnalysis/googletest/releases{/id}\",\"deployments_url\":\"https://api.github.com/repos/BioDataAnalysis/googletest/deployments\",\"created_at\":\"2020-10-20T12:18:32Z\",\"updated_at\":\"2020-10-21T13:44:40Z\",\"pushed_at\":\"2020-10-21T13:44:38Z\",\"git_url\":\"git://github.com/BioDataAnalysis/googletest.git\",\"ssh_url\":\"git@github.com:BioDataAnalysis/googletest.git\",\"clone_url\":\"https://github.com/BioDataAnalysis/googletest.git\",\"svn_url\":\"https://github.com/BioDataAnalysis/googletest\",\"homepage\":\"\",\"size\":8077,\"stargazers_count\":0,\"watchers_count\":0,\"language\":\"C++\",\"has_issues\":false,\"has_projects\":true,\"has_downloads\":false,\"has_wiki\":false,\"has_pages\":false,\"forks_count\":0,\"mirror_url\":null,\"archived\":false,\"disabled\":false,\"open_issues_count\":0,\"license\":{\"key\":\"bsd-3-clause\",\"name\":\"BSD 3-Clause \\\\\"New\\\\\" or \\\\\"Revised\\\\\" License\",\"spdx_id\":\"BSD-3-Clause\",\"url\":\"https://api.github.com/licenses/bsd-3-clause\",\"node_id\":\"MDc6TGljZW5zZTU=\"},\"forks\":0,\"open_issues\":0,\"watchers\":0,\"default_branch\":\"master\"}},\"base\":{\"label\":\"google:master\",\"ref\":\"master\",\"sha\":\"620659ed92829a88ee34134c782bf5b5aa5a0a0c\",\"user\":{\"login\":\"google\",\"id\":1342004,\"node_id\":\"MDEyOk9yZ2FuaXphdGlvbjEzNDIwMDQ=\",\"avatar_url\":\"https://avatars1.githubusercontent.com/u/1342004?v=4\",\"gravatar_id\":\"\",\"url\":\"https://api.github.com/users/google\",\"html_url\":\"https://github.com/google\",\"followers_url\":\"https://api.github.com/users/google/followers\",\"following_url\":\"https://api.github.com/users/google/following{/other_user}\",\"gists_url\":\"https://api.github.com/users/google/gists{/gist_id}\",\"starred_url\":\"https://api.github.com/users/google/starred{/owner}{/repo}\",\"subscriptions_url\":\"https://api.github.com/users/google/subscriptions\",\"organizations_url\":\"https://api.github.com/users/google/orgs\",\"repos_url\":\"https://api.github.com/users/google/repos\",\"events_url\":\"https://api.github.com/users/google/events{/privacy}\",\"received_events_url\":\"https://api.github.com/users/google/received_events\",\"type\":\"Organization\",\"site_admin\":false},\"repo\":{\"id\":39840932,\"node_id\":\"MDEwOlJlcG9zaXRvcnkzOTg0MDkzMg==\",\"name\":\"googletest\",\"full_name\":\"google/googletest\",\"private\":false,\"owner\":{\"login\":\"google\",\"id\":1342004,\"node_id\":\"MDEyOk9yZ2FuaXphdGlvbjEzNDIwMDQ=\",\"avatar_url\":\"https://avatars1.githubusercontent.com/u/1342004?v=4\",\"gravatar_id\":\"\",\"url\":\"https://api.github.com/users/google\",\"html_url\":\"https://github.com/google\",\"followers_url\":\"https://api.github.com/users/google/followers\",\"following_url\":\"https://api.github.com/users/google/following{/other_user}\",\"gists_url\":\"https://api.github.com/users/google/gists{/gist_id}\",\"starred_url\":\"https://api.github.com/users/google/starred{/owner}{/repo}\",\"subscriptions_url\":\"https://api.github.com/users/google/subscriptions\",\"organizations_url\":\"https://api.github.com/users/google/orgs\",\"repos_url\":\"https://api.github.com/users/google/repos\",\"events_url\":\"https://api.github.com/users/google/events{/privacy}\",\"received_events_url\":\"https://api.github.com/users/google/received_events\",\"type\":\"Organization\",\"site_admin\":false},\"html_url\":\"https://github.com/google/googletest\",\"description\":\"Googletest - Google Testing and Mocking Framework\",\"fork\":false,\"url\":\"https://api.github.com/repos/google/googletest\",\"forks_url\":\"https://api.github.com/repos/google/googletest/forks\",\"keys_url\":\"https://api.github.com/repos/google/googletest/keys{/key_id}\",\"collaborators_url\":\"https://api.github.com/repos/google/googletest/collaborators{/collaborator}\",\"teams_url\":\"https://api.github.com/repos/google/googletest/teams\",\"hooks_url\":\"https://api.github.com/repos/google/googletest/hooks\",\"issue_events_url\":\"https://api.github.com/repos/google/googletest/issues/events{/number}\",\"events_url\":\"https://api.github.com/repos/google/googletest/events\",\"assignees_url\":\"https://api.github.com/repos/google/googletest/assignees{/user}\",\"branches_url\":\"https://api.github.com/repos/google/googletest/branches{/branch}\",\"tags_url\":\"https://api.github.com/repos/google/googletest/tags\",\"blobs_url\":\"https://api.github.com/repos/google/googletest/git/blobs{/sha}\",\"git_tags_url\":\"https://api.github.com/repos/google/googletest/git/tags{/sha}\",\"git_refs_url\":\"https://api.github.com/repos/google/googletest/git/refs{/sha}\",\"trees_url\":\"https://api.github.com/repos/google/googletest/git/trees{/sha}\",\"statuses_url\":\"https://api.github.com/repos/google/googletest/statuses/{sha}\",\"languages_url\":\"https://api.github.com/repos/google/googletest/languages\",\"stargazers_url\":\"https://api.github.com/repos/google/googletest/stargazers\",\"contributors_url\":\"https://api.github.com/repos/google/googletest/contributors\",\"subscribers_url\":\"https://api.github.com/repos/google/googletest/subscribers\",\"subscription_url\":\"https://api.github.com/repos/google/googletest/subscription\",\"commits_url\":\"https://api.github.com/repos/google/googletest/commits{/sha}\",\"git_commits_url\":\"https://api.github.com/repos/google/googletest/git/commits{/sha}\",\"comments_url\":\"https://api.github.com/repos/google/googletest/comments{/number}\",\"issue_comment_url\":\"https://api.github.com/repos/google/googletest/issues/comments{/number}\",\"contents_url\":\"https://api.github.com/repos/google/googletest/contents/{+path}\",\"compare_url\":\"https://api.github.com/repos/google/googletest/compare/{base}...{head}\",\"merges_url\":\"https://api.github.com/repos/google/googletest/merges\",\"archive_url\":\"https://api.github.com/repos/google/googletest/{archive_format}{/ref}\",\"downloads_url\":\"https://api.github.com/repos/google/googletest/downloads\",\"issues_url\":\"https://api.github.com/repos/google/googletest/issues{/number}\",\"pulls_url\":\"https://api.github.com/repos/google/googletest/pulls{/number}\",\"milestones_url\":\"https://api.github.com/repos/google/googletest/milestones{/number}\",\"notifications_url\":\"https://api.github.com/repos/google/googletest/notifications{?since,all,participating}\",\"labels_url\":\"https://api.github.com/repos/google/googletest/labels{/name}\",\"releases_url\":\"https://api.github.com/repos/google/googletest/releases{/id}\",\"deployments_url\":\"https://api.github.com/repos/google/googletest/deployments\",\"created_at\":\"2015-07-28T15:07:53Z\",\"updated_at\":\"2020-10-28T15:43:05Z\",\"pushed_at\":\"2020-10-27T15:34:03Z\",\"git_url\":\"git://github.com/google/googletest.git\",\"ssh_url\":\"git@github.com:google/googletest.git\",\"clone_url\":\"https://github.com/google/googletest.git\",\"svn_url\":\"https://github.com/google/googletest\",\"homepage\":\"\",\"size\":8392,\"stargazers_count\":18435,\"watchers_count\":18435,\"language\":\"C++\",\"has_issues\":true,\"has_projects\":false,\"has_downloads\":false,\"has_wiki\":false,\"has_pages\":false,\"forks_count\":6724,\"mirror_url\":null,\"archived\":false,\"disabled\":false,\"open_issues_count\":141,\"license\":{\"key\":\"bsd-3-clause\",\"name\":\"BSD 3-Clause \\\\\"New\\\\\" or \\\\\"Revised\\\\\" License\",\"spdx_id\":\"BSD-3-Clause\",\"url\":\"https://api.github.com/licenses/bsd-3-clause\",\"node_id\":\"MDc6TGljZW5zZTU=\"},\"forks\":6724,\"open_issues\":141,\"watchers\":18435,\"default_branch\":\"master\"}},\"_links\":{\"self\":{\"href\":\"https://api.github.com/repos/google/googletest/pulls/3072\"},\"html\":{\"href\":\"https://github.com/google/googletest/pull/3072\"},\"issue\":{\"href\":\"https://api.github.com/repos/google/googletest/issues/3072\"},\"comments\":{\"href\":\"https://api.github.com/repos/google/googletest/issues/3072/comments\"},\"review_comments\":{\"href\":\"https://api.github.com/repos/google/googletest/pulls/3072/comments\"},\"review_comment\":{\"href\":\"https://api.github.com/repos/google/googletest/pulls/comments{/number}\"},\"commits\":{\"href\":\"https://api.github.com/repos/google/googletest/pulls/3072/commits\"},\"statuses\":{\"href\":\"https://api.github.com/repos/google/googletest/statuses/6b06cf230af65cb765b2d8b781dbf34dbb10cda6\"}},\"author_association\":\"NONE\",\"active_lock_reason\":null}},\"public\":true,\"created_at\":\"2020-10-28T22:04:12Z\",\"org\":{\"id\":1342004,\"login\":\"google\",\"gravatar_id\":\"\",\"url\":\"https://api.github.com/orgs/google\",\"avatar_url\":\"https://avatars.githubusercontent.com/u/1342004?\"}},{\"id\":\"14007702840\",\"type\":\"PushEvent\",\"actor\":{\"id\":23356199,\"login\":\"dpsus4\",\"display_login\":\"dpsus4\",\"gravatar_id\":\"\",\"url\":\"https://api.github.com/users/dpsus4\",\"avatar_url\":\"https://avatars.githubusercontent.com/u/23356199?\"},\"repo\":{\"id\":298865783,\"name\":\"dpsus4/Ionic-Angular\",\"url\":\"https://api.github.com/repos/dpsus4/Ionic-Angular\"},\"payload\":{\"push_id\":5936808228,\"size\":1,\"distinct_size\":1,\"ref\":\"refs/heads/master\",\"head\":\"c78f0fbbe8d141473bf60542e238e12231ba678c\",\"before\":\"e7f284b9f4c7bbe393ec37b14e4add7121057150\",\"commits\":[{\"sha\":\"c78f0fbbe8d141473bf60542e238e12231ba678c\",\"author\":{\"email\":\"fradelpo@yahoo.com\",\"name\":\"dpsus4\"},\"message\":\"Added date controls\",\"distinct\":true,\"url\":\"https://api.github.com/repos/dpsus4/Ionic-Angular/commits/c78f0fbbe8d141473bf60542e238e12231ba678c\"}]},\"public\":true,\"created_at\":\"2020-10-28T22:04:12Z\"},{\"id\":\"14007702844\",\"type\":\"IssueCommentEvent\",\"actor\":{\"id\":13489381,\"login\":\"wildlifehexagon\",\"display_login\":\"wildlifehexagon\",\"gravatar_id\":\"\",\"url\":\"https://api.github.com/users/wildlifehexagon\",\"avatar_url\":\"https://avatars.githubusercontent.com/u/13489381?\"},\"repo\":{\"id\":296397793,\"name\":\"dictyBase/publication\",\"url\":\"https://api.github.com/repos/dictyBase/publication\"},\"payload\":{\"action\":\"created\",\"issue\":{\"url\":\"https://api.github.com/repos/dictyBase/publication/issues/63\",\"repository_url\":\"https://api.github.com/repos/dictyBase/publication\",\"labels_url\":\"https://api.github.com/repos/dictyBase/publication/issues/63/labels{/name}\",\"comments_url\":\"https://api.github.com/repos/dictyBase/publication/issues/63/comments\",\"events_url\":\"https://api.github.com/repos/dictyBase/publication/issues/63/events\",\"html_url\":\"https://github.com/dictyBase/publication/pull/63\",\"id\":731814143,\"node_id\":\"MDExOlB1bGxSZXF1ZXN0NTExODU3NTg1\",\"number\":63,\"title\":\"Pulling refactor/upgrade-apollo into develop\",\"user\":{\"login\":\"github-actions[bot]\",\"id\":41898282,\"node_id\":\"MDM6Qm90NDE4OTgyODI=\",\"avatar_url\":\"https://avatars2.githubusercontent.com/in/15368?v=4\",\"gravatar_id\":\"\",\"url\":\"https://api.github.com/users/github-actions%5Bbot%5D\",\"html_url\":\"https://github.com/apps/github-actions\",\"followers_url\":\"https://api.github.com/users/github-actions%5Bbot%5D/followers\",\"following_url\":\"https://api.github.com/users/github-actions%5Bbot%5D/following{/other_user}\",\"gists_url\":\"https://api.github.com/users/github-actions%5Bbot%5D/gists{/gist_id}\",\"starred_url\":\"https://api.github.com/users/github-actions%5Bbot%5D/starred{/owner}{/repo}\",\"subscriptions_url\":\"https://api.github.com/users/github-actions%5Bbot%5D/subscriptions\",\"organizations_url\":\"https://api.github.com/users/github-actions%5Bbot%5D/orgs\",\"repos_url\":\"https://api.github.com/users/github-actions%5Bbot%5D/repos\",\"events_url\":\"https://api.github.com/users/github-actions%5Bbot%5D/events{/privacy}\",\"received_events_url\":\"https://api.github.com/users/github-actions%5Bbot%5D/received_events\",\"type\":\"Bot\",\"site_admin\":false},\"labels\":[{\"id\":2462948685,\"node_id\":\"MDU6TGFiZWwyNDYyOTQ4Njg1\",\"url\":\"https://api.github.com/repos/dictyBase/publication/labels/size/XL\",\"name\":\"size/XL\",\"color\":\"C32607\",\"default\":false,\"description\":null}],\"state\":\"open\",\"locked\":false,\"assignee\":null,\"assignees\":[],\"milestone\":null,\"comments\":1,\"created_at\":\"2020-10-28T21:49:00Z\",\"updated_at\":\"2020-10-28T22:04:12Z\",\"closed_at\":null,\"author_association\":\"NONE\",\"active_lock_reason\":null,\"pull_request\":{\"url\":\"https://api.github.com/repos/dictyBase/publication/pulls/63\",\"html_url\":\"https://github.com/dictyBase/publication/pull/63\",\"diff_url\":\"https://github.com/dictyBase/publication/pull/63.diff\",\"patch_url\":\"https://github.com/dictyBase/publication/pull/63.patch\"},\"body\":null,\"performed_via_github_app\":null},\"comment\":{\"url\":\"https://api.github.com/repos/dictyBase/publication/issues/comments/718235114\",\"html_url\":\"https://github.com/dictyBase/publication/pull/63#issuecomment-718235114\",\"issue_url\":\"https://api.github.com/repos/dictyBase/publication/issues/63\",\"id\":718235114,\"node_id\":\"MDEyOklzc3VlQ29tbWVudDcxODIzNTExNA==\",\"user\":{\"login\":\"wildlifehexagon\",\"id\":13489381,\"node_id\":\"MDQ6VXNlcjEzNDg5Mzgx\",\"avatar_url\":\"https://avatars3.githubusercontent.com/u/13489381?v=4\",\"gravatar_id\":\"\",\"url\":\"https://api.github.com/users/wildlifehexagon\",\"html_url\":\"https://github.com/wildlifehexagon\",\"followers_url\":\"https://api.github.com/users/wildlifehexagon/followers\",\"following_url\":\"https://api.github.com/users/wildlifehexagon/following{/other_user}\",\"gists_url\":\"https://api.github.com/users/wildlifehexagon/gists{/gist_id}\",\"starred_url\":\"https://api.github.com/users/wildlifehexagon/starred{/owner}{/repo}\",\"subscriptions_url\":\"https://api.github.com/users/wildlifehexagon/subscriptions\",\"organizations_url\":\"https://api.github.com/users/wildlifehexagon/orgs\",\"repos_url\":\"https://api.github.com/users/wildlifehexagon/repos\",\"events_url\":\"https://api.github.com/users/wildlifehexagon/events{/privacy}\",\"received_events_url\":\"https://api.github.com/users/wildlifehexagon/received_events\",\"type\":\"User\",\"site_admin\":false},\"created_at\":\"2020-10-28T22:04:12Z\",\"updated_at\":\"2020-10-28T22:04:12Z\",\"author_association\":\"MEMBER\",\"body\":\"/deploy cluster=erickube\",\"performed_via_github_app\":null}},\"public\":true,\"created_at\":\"2020-10-28T22:04:12Z\",\"org\":{\"id\":664001,\"login\":\"dictyBase\",\"gravatar_id\":\"\",\"url\":\"https://api.github.com/orgs/dictyBase\",\"avatar_url\":\"https://avatars.githubusercontent.com/u/664001?\"}},{\"id\":\"14007702836\",\"type\":\"IssueCommentEvent\",\"actor\":{\"id\":4463174,\"login\":\"gigitux\",\"display_login\":\"gigitux\",\"gravatar_id\":\"\",\"url\":\"https://api.github.com/users/gigitux\",\"avatar_url\":\"https://avatars.githubusercontent.com/u/4463174?\"},\"repo\":{\"id\":270431559,\"name\":\"gigitux/gtkwhats\",\"url\":\"https://api.github.com/repos/gigitux/gtkwhats\"},\"payload\":{\"action\":\"created\",\"issue\":{\"url\":\"https://api.github.com/repos/gigitux/gtkwhats/issues/29\",\"repository_url\":\"https://api.github.com/repos/gigitux/gtkwhats\",\"labels_url\":\"https://api.github.com/repos/gigitux/gtkwhats/issues/29/labels{/name}\",\"comments_url\":\"https://api.github.com/repos/gigitux/gtkwhats/issues/29/comments\",\"events_url\":\"https://api.github.com/repos/gigitux/gtkwhats/issues/29/events\",\"html_url\":\"https://github.com/gigitux/gtkwhats/issues/29\",\"id\":714650105,\"node_id\":\"MDU6SXNzdWU3MTQ2NTAxMDU=\",\"number\":29,\"title\":\"The timezone at the Linux Pop_OS is not respected\",\"user\":{\"login\":\"cgrio\",\"id\":10093866,\"node_id\":\"MDQ6VXNlcjEwMDkzODY2\",\"avatar_url\":\"https://avatars1.githubusercontent.com/u/10093866?v=4\",\"gravatar_id\":\"\",\"url\":\"https://api.github.com/users/cgrio\",\"html_url\":\"https://github.com/cgrio\",\"followers_url\":\"https://api.github.com/users/cgrio/followers\",\"following_url\":\"https://api.github.com/users/cgrio/following{/other_user}\",\"gists_url\":\"https://api.github.com/users/cgrio/gists{/gist_id}\",\"starred_url\":\"https://api.github.com/users/cgrio/starred{/owner}{/repo}\",\"subscriptions_url\":\"https://api.github.com/users/cgrio/subscriptions\",\"organizations_url\":\"https://api.github.com/users/cgrio/orgs\",\"repos_url\":\"https://api.github.com/users/cgrio/repos\",\"events_url\":\"https://api.github.com/users/cgrio/events{/privacy}\",\"received_events_url\":\"https://api.github.com/users/cgrio/received_events\",\"type\":\"User\",\"site_admin\":false},\"labels\":[],\"state\":\"open\",\"locked\":false,\"assignee\":null,\"assignees\":[],\"milestone\":null,\"comments\":0,\"created_at\":\"2020-10-05T08:52:01Z\",\"updated_at\":\"2020-10-28T22:04:12Z\",\"closed_at\":null,\"author_association\":\"NONE\",\"active_lock_reason\":null,\"body\":\"I am from Brazil and my system time is 5:50 AM and the time at the messages shows 8:48 AM. \\\\r\\\\nIt\\'s a little issue and I love de app.\",\"performed_via_github_app\":null},\"comment\":{\"url\":\"https://api.github.com/repos/gigitux/gtkwhats/issues/comments/718235113\",\"html_url\":\"https://github.com/gigitux/gtkwhats/issues/29#issuecomment-718235113\",\"issue_url\":\"https://api.github.com/repos/gigitux/gtkwhats/issues/29\",\"id\":718235113,\"node_id\":\"MDEyOklzc3VlQ29tbWVudDcxODIzNTExMw==\",\"user\":{\"login\":\"gigitux\",\"id\":4463174,\"node_id\":\"MDQ6VXNlcjQ0NjMxNzQ=\",\"avatar_url\":\"https://avatars2.githubusercontent.com/u/4463174?v=4\",\"gravatar_id\":\"\",\"url\":\"https://api.github.com/users/gigitux\",\"html_url\":\"https://github.com/gigitux\",\"followers_url\":\"https://api.github.com/users/gigitux/followers\",\"following_url\":\"https://api.github.com/users/gigitux/following{/other_user}\",\"gists_url\":\"https://api.github.com/users/gigitux/gists{/gist_id}\",\"starred_url\":\"https://api.github.com/users/gigitux/starred{/owner}{/repo}\",\"subscriptions_url\":\"https://api.github.com/users/gigitux/subscriptions\",\"organizations_url\":\"https://api.github.com/users/gigitux/orgs\",\"repos_url\":\"https://api.github.com/users/gigitux/repos\",\"events_url\":\"https://api.github.com/users/gigitux/events{/privacy}\",\"received_events_url\":\"https://api.github.com/users/gigitux/received_events\",\"type\":\"User\",\"site_admin\":false},\"created_at\":\"2020-10-28T22:04:12Z\",\"updated_at\":\"2020-10-28T22:04:12Z\",\"author_association\":\"OWNER\",\"body\":\"Hi, what language do you see whatsapp in? Is it the same you see on the web? (if it\\'s English, most likely there is no whatsapp version in your language)\\\\r\\\\n\\\\r\\\\nSorry for the delay :(\",\"performed_via_github_app\":null}},\"public\":true,\"created_at\":\"2020-10-28T22:04:12Z\"},{\"id\":\"14007702837\",\"type\":\"PushEvent\",\"actor\":{\"id\":63597638,\"login\":\"rschlosser11\",\"display_login\":\"rschlosser11\",\"gravatar_id\":\"\",\"url\":\"https://api.github.com/users/rschlosser11\",\"avatar_url\":\"https://avatars.githubusercontent.com/u/63597638?\"},\"repo\":{\"id\":294224276,\"name\":\"rschlosser11/crossword-frontend\",\"url\":\"https://api.github.com/repos/rschlosser11/crossword-frontend\"},\"payload\":{\"push_id\":5936808223,\"size\":1,\"distinct_size\":1,\"ref\":\"refs/heads/master\",\"head\":\"b5018aa60f37ef37ae863b704ba8a4cbea974ff6\",\"before\":\"7f5f01fde4bfea71c1945532c89d335adf9cee1b\",\"commits\":[{\"sha\":\"b5018aa60f37ef37ae863b704ba8a4cbea974ff6\",\"author\":{\"email\":\"rosalinschlosser@gmail.com\",\"name\":\"rschlosser11\"},\"message\":\"add crossword menu to check or reveal answers\",\"distinct\":true,\"url\":\"https://api.github.com/repos/rschlosser11/crossword-frontend/commits/b5018aa60f37ef37ae863b704ba8a4cbea974ff6\"}]},\"public\":true,\"created_at\":\"2020-10-28T22:04:12Z\"},{\"id\":\"14007702838\",\"type\":\"PullRequestEvent\",\"actor\":{\"id\":27856297,\"login\":\"dependabot-preview[bot]\",\"display_login\":\"dependabot-preview\",\"gravatar_id\":\"\",\"url\":\"https://api.github.com/users/dependabot-preview[bot]\",\"avatar_url\":\"https://avatars.githubusercontent.com/u/27856297?\"},\"repo\":{\"id\":192014586,\"name\":\"Vehmloewff/svelte-graph\",\"url\":\"https://api.github.com/repos/Vehmloewff/svelte-graph\"},\"payload\":{\"action\":\"opened\",\"number\":200,\"pull_request\":{\"url\":\"https://api.github.com/repos/Vehmloewff/svelte-graph/pulls/200\",\"id\":511863879,\"node_id\":\"MDExOlB1bGxSZXF1ZXN0NTExODYzODc5\",\"html_url\":\"https://github.com/Vehmloewff/svelte-graph/pull/200\",\"diff_url\":\"https://github.com/Vehmloewff/svelte-graph/pull/200.diff\",\"patch_url\":\"https://github.com/Vehmloewff/svelte-graph/pull/200.patch\",\"issue_url\":\"https://api.github.com/repos/Vehmloewff/svelte-graph/issues/200\",\"number\":200,\"state\":\"open\",\"locked\":false,\"title\":\"[Security] Bump lodash from 4.17.15 to 4.17.20\",\"user\":{\"login\":\"dependabot-preview[bot]\",\"id\":27856297,\"node_id\":\"MDM6Qm90Mjc4NTYyOTc=\",\"avatar_url\":\"https://avatars3.githubusercontent.com/in/2141?v=4\",\"gravatar_id\":\"\",\"url\":\"https://api.github.com/users/dependabot-preview%5Bbot%5D\",\"html_url\":\"https://github.com/apps/dependabot-preview\",\"followers_url\":\"https://api.github.com/users/dependabot-preview%5Bbot%5D/followers\",\"following_url\":\"https://api.github.com/users/dependabot-preview%5Bbot%5D/following{/other_user}\",\"gists_url\":\"https://api.github.com/users/dependabot-preview%5Bbot%5D/gists{/gist_id}\",\"starred_url\":\"https://api.github.com/users/dependabot-preview%5Bbot%5D/starred{/owner}{/repo}\",\"subscriptions_url\":\"https://api.github.com/users/dependabot-preview%5Bbot%5D/subscriptions\",\"organizations_url\":\"https://api.github.com/users/dependabot-preview%5Bbot%5D/orgs\",\"repos_url\":\"https://api.github.com/users/dependabot-preview%5Bbot%5D/repos\",\"events_url\":\"https://api.github.com/users/dependabot-preview%5Bbot%5D/events{/privacy}\",\"received_events_url\":\"https://api.github.com/users/dependabot-preview%5Bbot%5D/received_events\",\"type\":\"Bot\",\"site_admin\":false},\"body\":\"Bumps [lodash](https://github.com/lodash/lodash) from 4.17.15 to 4.17.20. **This update includes security fixes.**\\\\n<details>\\\\n<summary>Vulnerabilities fixed</summary>\\\\n<p><em>Sourced from <a href=\\\\\"https://github.com/advisories/GHSA-p6mc-m468-83gw\\\\\">The GitHub Security Advisory Database</a>.</em></p>\\\\n<blockquote>\\\\n<p><strong>Prototype Pollution in lodash</strong>\\\\nVersions of lodash prior to 4.17.19 are vulnerable to Prototype Pollution. The function zipObjectDeep allows a malicious user to modify the prototype of Object if the property identifiers are user-supplied. Being affected by this issue requires zipping objects based on user-provided property arrays.</p>\\\\n<p>This vulnerability causes the addition or modification of an existing property that will exist on all objects and may lead to Denial of Service or Code Execution under specific circumstances.</p>\\\\n<p>Affected versions: &lt; 4.17.19</p>\\\\n</blockquote>\\\\n<p><em>Sourced from <a href=\\\\\"https://github.com/advisories/GHSA-p6mc-m468-83gw\\\\\">The GitHub Security Advisory Database</a>.</em></p>\\\\n<blockquote>\\\\n<p><strong>Prototype Pollution in lodash</strong>\\\\nVersions of lodash prior to 4.17.19 are vulnerable to Prototype Pollution. The function zipObjectDeep allows a malicious user to modify the prototype of Object if the property identifiers are user-supplied. Being affected by this issue requires zipping objects based on user-provided property arrays.</p>\\\\n<p>This vulnerability causes the addition or modification of an existing property that will exist on all objects and may lead to Denial of Service or Code Execution under specific circumstances.</p>\\\\n<p>Affected versions: &lt; 4.17.19</p>\\\\n</blockquote>\\\\n<p><em>Sourced from <a href=\\\\\"https://github.com/nodejs/security-wg/blob/master/vuln/npm/516.json\\\\\">The Node Security Working Group</a>.</em></p>\\\\n<blockquote>\\\\n<p><strong>Allocation of Resources Without Limits or Throttling</strong>\\\\nPrototype pollution attack (lodash)</p>\\\\n<p>Affected versions: &gt;=4.17.15 &lt;4.17.19</p>\\\\n</blockquote>\\\\n</details>\\\\n<details>\\\\n<summary>Commits</summary>\\\\n<ul>\\\\n<li><a href=\\\\\"https://github.com/lodash/lodash/commit/ded9bc66583ed0b4e3b7dc906206d40757b4a90a\\\\\"><code>ded9bc6</code></a> Bump to v4.17.20.</li>\\\\n<li><a href=\\\\\"https://github.com/lodash/lodash/commit/63150ef7645ac07961b63a86490f419f356429aa\\\\\"><code>63150ef</code></a> Documentation fixes.</li>\\\\n<li><a href=\\\\\"https://github.com/lodash/lodash/commit/00f0f62a979d2f5fa0287c06eae70cf9a62d8794\\\\\"><code>00f0f62</code></a> test.js: Remove trailing comma.</li>\\\\n<li><a href=\\\\\"https://github.com/lodash/lodash/commit/846e434c7a5b5692c55ebf5715ed677b70a32389\\\\\"><code>846e434</code></a> Temporarily use a custom fork of <code>lodash-cli</code>.</li>\\\\n<li><a href=\\\\\"https://github.com/lodash/lodash/commit/5d046f39cbd27f573914768e3b36eeefcc4f1229\\\\\"><code>5d046f3</code></a> Re-enable Travis tests on <code>4.17</code> branch.</li>\\\\n<li><a href=\\\\\"https://github.com/lodash/lodash/commit/aa816b36d402a1ad9385142ce7188f17dae514fd\\\\\"><code>aa816b3</code></a> Remove <code>/npm-package</code>.</li>\\\\n<li><a href=\\\\\"https://github.com/lodash/lodash/commit/d7fbc52ee0466a6d248f047b5d5c3e6d1e099056\\\\\"><code>d7fbc52</code></a> Bump to v4.17.19</li>\\\\n<li><a href=\\\\\"https://github.com/lodash/lodash/commit/2e1c0f22f425e9c013815b2cd7c2ebd51f49a8d6\\\\\"><code>2e1c0f2</code></a> Add npm-package</li>\\\\n<li><a href=\\\\\"https://github.com/lodash/lodash/commit/1b6c282299f4e0271f932b466c67f0f822aa308e\\\\\"><code>1b6c282</code></a> Bump to v4.17.18</li>\\\\n<li><a href=\\\\\"https://github.com/lodash/lodash/commit/a370ac81408de2da77a82b3c4b61a01a3b9c2fac\\\\\"><code>a370ac8</code></a> Bump to v4.17.17</li>\\\\n<li>Additional commits viewable in <a href=\\\\\"https://github.com/lodash/lodash/compare/4.17.15...4.17.20\\\\\">compare view</a></li>\\\\n</ul>\\\\n</details>\\\\n<details>\\\\n<summary>Maintainer changes</summary>\\\\n<p>This version was pushed to npm by <a href=\\\\\"https://www.npmjs.com/~bnjmnt4n\\\\\">bnjmnt4n</a>, a new releaser for lodash since your current version.</p>\\\\n</details>\\\\n<br />\\\\n\\\\n\\\\n[![Dependabot compatibility score](https://api.dependabot.com/badges/compatibility_score?dependency-name=lodash&package-manager=npm_and_yarn&previous-version=4.17.15&new-version=4.17.20)](https://dependabot.com/compatibility-score/?dependency-name=lodash&package-manager=npm_and_yarn&previous-version=4.17.15&new-version=4.17.20)\\\\n\\\\nDependabot will resolve any conflicts with this PR as long as you don\\'t alter it yourself. You can also trigger a rebase manually by commenting `@dependabot rebase`.\\\\n\\\\n[//]: # (dependabot-automerge-start)\\\\n[//]: # (dependabot-automerge-end)\\\\n\\\\n---\\\\n\\\\n<details>\\\\n<summary>Dependabot commands and options</summary>\\\\n<br />\\\\n\\\\nYou can trigger Dependabot actions by commenting on this PR:\\\\n- `@dependabot rebase` will rebase this PR\\\\n- `@dependabot recreate` will recreate this PR, overwriting any edits that have been made to it\\\\n- `@dependabot merge` will merge this PR after your CI passes on it\\\\n- `@dependabot squash and merge` will squash and merge this PR after your CI passes on it\\\\n- `@dependabot cancel merge` will cancel a previously requested merge and block automerging\\\\n- `@dependabot reopen` will reopen this PR if it is closed\\\\n- `@dependabot close` will close this PR and stop Dependabot recreating it. You can achieve the same result by closing it manually\\\\n- `@dependabot ignore this major version` will close this PR and stop Dependabot creating any more for this major version (unless you reopen the PR or upgrade to it yourself)\\\\n- `@dependabot ignore this minor version` will close this PR and stop Dependabot creating any more for this minor version (unless you reopen the PR or upgrade to it yourself)\\\\n- `@dependabot ignore this dependency` will close this PR and stop Dependabot creating any more for this dependency (unless you reopen the PR or upgrade to it yourself)\\\\n- `@dependabot use these labels` will set the current labels as the default for future PRs for this repo and language\\\\n- `@dependabot use these reviewers` will set the current reviewers as the default for future PRs for this repo and language\\\\n- `@dependabot use these assignees` will set the current assignees as the default for future PRs for this repo and language\\\\n- `@dependabot use this milestone` will set the current milestone as the default for future PRs for this repo and language\\\\n- `@dependabot badge me` will comment on this PR with code to add a \\\\\"Dependabot enabled\\\\\" badge to your readme\\\\n\\\\nAdditionally, you can set the following in your Dependabot [dashboard](https://app.dependabot.com):\\\\n- Update frequency (including time of day and day of week)\\\\n- Pull request limits (per update run and/or open at any time)\\\\n- Out-of-range updates (receive only lockfile updates, if desired)\\\\n- Security updates (receive only security updates, if desired)\\\\n\\\\n\\\\n\\\\n</details>\",\"created_at\":\"2020-10-28T22:04:11Z\",\"updated_at\":\"2020-10-28T22:04:11Z\",\"closed_at\":null,\"merged_at\":null,\"merge_commit_sha\":null,\"assignee\":null,\"assignees\":[],\"requested_reviewers\":[],\"requested_teams\":[],\"labels\":[],\"milestone\":null,\"draft\":false,\"commits_url\":\"https://api.github.com/repos/Vehmloewff/svelte-graph/pulls/200/commits\",\"review_comments_url\":\"https://api.github.com/repos/Vehmloewff/svelte-graph/pulls/200/comments\",\"review_comment_url\":\"https://api.github.com/repos/Vehmloewff/svelte-graph/pulls/comments{/number}\",\"comments_url\":\"https://api.github.com/repos/Vehmloewff/svelte-graph/issues/200/comments\",\"statuses_url\":\"https://api.github.com/repos/Vehmloewff/svelte-graph/statuses/29bee7a6bbece2775622320a25d325df680362ff\",\"head\":{\"label\":\"Vehmloewff:dependabot/npm_and_yarn/lodash-4.17.20\",\"ref\":\"dependabot/npm_and_yarn/lodash-4.17.20\",\"sha\":\"29bee7a6bbece2775622320a25d325df680362ff\",\"user\":{\"login\":\"Vehmloewff\",\"id\":45398751,\"node_id\":\"MDQ6VXNlcjQ1Mzk4NzUx\",\"avatar_url\":\"https://avatars1.githubusercontent.com/u/45398751?v=4\",\"gravatar_id\":\"\",\"url\":\"https://api.github.com/users/Vehmloewff\",\"html_url\":\"https://github.com/Vehmloewff\",\"followers_url\":\"https://api.github.com/users/Vehmloewff/followers\",\"following_url\":\"https://api.github.com/users/Vehmloewff/following{/other_user}\",\"gists_url\":\"https://api.github.com/users/Vehmloewff/gists{/gist_id}\",\"starred_url\":\"https://api.github.com/users/Vehmloewff/starred{/owner}{/repo}\",\"subscriptions_url\":\"https://api.github.com/users/Vehmloewff/subscriptions\",\"organizations_url\":\"https://api.github.com/users/Vehmloewff/orgs\",\"repos_url\":\"https://api.github.com/users/Vehmloewff/repos\",\"events_url\":\"https://api.github.com/users/Vehmloewff/events{/privacy}\",\"received_events_url\":\"https://api.github.com/users/Vehmloewff/received_events\",\"type\":\"User\",\"site_admin\":false},\"repo\":{\"id\":192014586,\"node_id\":\"MDEwOlJlcG9zaXRvcnkxOTIwMTQ1ODY=\",\"name\":\"svelte-graph\",\"full_name\":\"Vehmloewff/svelte-graph\",\"private\":false,\"owner\":{\"login\":\"Vehmloewff\",\"id\":45398751,\"node_id\":\"MDQ6VXNlcjQ1Mzk4NzUx\",\"avatar_url\":\"https://avatars1.githubusercontent.com/u/45398751?v=4\",\"gravatar_id\":\"\",\"url\":\"https://api.github.com/users/Vehmloewff\",\"html_url\":\"https://github.com/Vehmloewff\",\"followers_url\":\"https://api.github.com/users/Vehmloewff/followers\",\"following_url\":\"https://api.github.com/users/Vehmloewff/following{/other_user}\",\"gists_url\":\"https://api.github.com/users/Vehmloewff/gists{/gist_id}\",\"starred_url\":\"https://api.github.com/users/Vehmloewff/starred{/owner}{/repo}\",\"subscriptions_url\":\"https://api.github.com/users/Vehmloewff/subscriptions\",\"organizations_url\":\"https://api.github.com/users/Vehmloewff/orgs\",\"repos_url\":\"https://api.github.com/users/Vehmloewff/repos\",\"events_url\":\"https://api.github.com/users/Vehmloewff/events{/privacy}\",\"received_events_url\":\"https://api.github.com/users/Vehmloewff/received_events\",\"type\":\"User\",\"site_admin\":false},\"html_url\":\"https://github.com/Vehmloewff/svelte-graph\",\"description\":\"Create graphs in Svelte\",\"fork\":false,\"url\":\"https://api.github.com/repos/Vehmloewff/svelte-graph\",\"forks_url\":\"https://api.github.com/repos/Vehmloewff/svelte-graph/forks\",\"keys_url\":\"https://api.github.com/repos/Vehmloewff/svelte-graph/keys{/key_id}\",\"collaborators_url\":\"https://api.github.com/repos/Vehmloewff/svelte-graph/collaborators{/collaborator}\",\"teams_url\":\"https://api.github.com/repos/Vehmloewff/svelte-graph/teams\",\"hooks_url\":\"https://api.github.com/repos/Vehmloewff/svelte-graph/hooks\",\"issue_events_url\":\"https://api.github.com/repos/Vehmloewff/svelte-graph/issues/events{/number}\",\"events_url\":\"https://api.github.com/repos/Vehmloewff/svelte-graph/events\",\"assignees_url\":\"https://api.github.com/repos/Vehmloewff/svelte-graph/assignees{/user}\",\"branches_url\":\"https://api.github.com/repos/Vehmloewff/svelte-graph/branches{/branch}\",\"tags_url\":\"https://api.github.com/repos/Vehmloewff/svelte-graph/tags\",\"blobs_url\":\"https://api.github.com/repos/Vehmloewff/svelte-graph/git/blobs{/sha}\",\"git_tags_url\":\"https://api.github.com/repos/Vehmloewff/svelte-graph/git/tags{/sha}\",\"git_refs_url\":\"https://api.github.com/repos/Vehmloewff/svelte-graph/git/refs{/sha}\",\"trees_url\":\"https://api.github.com/repos/Vehmloewff/svelte-graph/git/trees{/sha}\",\"statuses_url\":\"https://api.github.com/repos/Vehmloewff/svelte-graph/statuses/{sha}\",\"languages_url\":\"https://api.github.com/repos/Vehmloewff/svelte-graph/languages\",\"stargazers_url\":\"https://api.github.com/repos/Vehmloewff/svelte-graph/stargazers\",\"contributors_url\":\"https://api.github.com/repos/Vehmloewff/svelte-graph/contributors\",\"subscribers_url\":\"https://api.github.com/repos/Vehmloewff/svelte-graph/subscribers\",\"subscription_url\":\"https://api.github.com/repos/Vehmloewff/svelte-graph/subscription\",\"commits_url\":\"https://api.github.com/repos/Vehmloewff/svelte-graph/commits{/sha}\",\"git_commits_url\":\"https://api.github.com/repos/Vehmloewff/svelte-graph/git/commits{/sha}\",\"comments_url\":\"https://api.github.com/repos/Vehmloewff/svelte-graph/comments{/number}\",\"issue_comment_url\":\"https://api.github.com/repos/Vehmloewff/svelte-graph/issues/comments{/number}\",\"contents_url\":\"https://api.github.com/repos/Vehmloewff/svelte-graph/contents/{+path}\",\"compare_url\":\"https://api.github.com/repos/Vehmloewff/svelte-graph/compare/{base}...{head}\",\"merges_url\":\"https://api.github.com/repos/Vehmloewff/svelte-graph/merges\",\"archive_url\":\"https://api.github.com/repos/Vehmloewff/svelte-graph/{archive_format}{/ref}\",\"downloads_url\":\"https://api.github.com/repos/Vehmloewff/svelte-graph/downloads\",\"issues_url\":\"https://api.github.com/repos/Vehmloewff/svelte-graph/issues{/number}\",\"pulls_url\":\"https://api.github.com/repos/Vehmloewff/svelte-graph/pulls{/number}\",\"milestones_url\":\"https://api.github.com/repos/Vehmloewff/svelte-graph/milestones{/number}\",\"notifications_url\":\"https://api.github.com/repos/Vehmloewff/svelte-graph/notifications{?since,all,participating}\",\"labels_url\":\"https://api.github.com/repos/Vehmloewff/svelte-graph/labels{/name}\",\"releases_url\":\"https://api.github.com/repos/Vehmloewff/svelte-graph/releases{/id}\",\"deployments_url\":\"https://api.github.com/repos/Vehmloewff/svelte-graph/deployments\",\"created_at\":\"2019-06-14T23:03:51Z\",\"updated_at\":\"2020-05-12T01:28:26Z\",\"pushed_at\":\"2020-10-28T22:04:10Z\",\"git_url\":\"git://github.com/Vehmloewff/svelte-graph.git\",\"ssh_url\":\"git@github.com:Vehmloewff/svelte-graph.git\",\"clone_url\":\"https://github.com/Vehmloewff/svelte-graph.git\",\"svn_url\":\"https://github.com/Vehmloewff/svelte-graph\",\"homepage\":null,\"size\":278,\"stargazers_count\":1,\"watchers_count\":1,\"language\":\"HTML\",\"has_issues\":true,\"has_projects\":true,\"has_downloads\":true,\"has_wiki\":true,\"has_pages\":false,\"forks_count\":0,\"mirror_url\":null,\"archived\":false,\"disabled\":false,\"open_issues_count\":2,\"license\":{\"key\":\"mit\",\"name\":\"MIT License\",\"spdx_id\":\"MIT\",\"url\":\"https://api.github.com/licenses/mit\",\"node_id\":\"MDc6TGljZW5zZTEz\"},\"forks\":0,\"open_issues\":2,\"watchers\":1,\"default_branch\":\"master\"}},\"base\":{\"label\":\"Vehmloewff:master\",\"ref\":\"master\",\"sha\":\"edaf5ff3e21dbed18f315df52424cd8b550ec363\",\"user\":{\"login\":\"Vehmloewff\",\"id\":45398751,\"node_id\":\"MDQ6VXNlcjQ1Mzk4NzUx\",\"avatar_url\":\"https://avatars1.githubusercontent.com/u/45398751?v=4\",\"gravatar_id\":\"\",\"url\":\"https://api.github.com/users/Vehmloewff\",\"html_url\":\"https://github.com/Vehmloewff\",\"followers_url\":\"https://api.github.com/users/Vehmloewff/followers\",\"following_url\":\"https://api.github.com/users/Vehmloewff/following{/other_user}\",\"gists_url\":\"https://api.github.com/users/Vehmloewff/gists{/gist_id}\",\"starred_url\":\"https://api.github.com/users/Vehmloewff/starred{/owner}{/repo}\",\"subscriptions_url\":\"https://api.github.com/users/Vehmloewff/subscriptions\",\"organizations_url\":\"https://api.github.com/users/Vehmloewff/orgs\",\"repos_url\":\"https://api.github.com/users/Vehmloewff/repos\",\"events_url\":\"https://api.github.com/users/Vehmloewff/events{/privacy}\",\"received_events_url\":\"https://api.github.com/users/Vehmloewff/received_events\",\"type\":\"User\",\"site_admin\":false},\"repo\":{\"id\":192014586,\"node_id\":\"MDEwOlJlcG9zaXRvcnkxOTIwMTQ1ODY=\",\"name\":\"svelte-graph\",\"full_name\":\"Vehmloewff/svelte-graph\",\"private\":false,\"owner\":{\"login\":\"Vehmloewff\",\"id\":45398751,\"node_id\":\"MDQ6VXNlcjQ1Mzk4NzUx\",\"avatar_url\":\"https://avatars1.githubusercontent.com/u/45398751?v=4\",\"gravatar_id\":\"\",\"url\":\"https://api.github.com/users/Vehmloewff\",\"html_url\":\"https://github.com/Vehmloewff\",\"followers_url\":\"https://api.github.com/users/Vehmloewff/followers\",\"following_url\":\"https://api.github.com/users/Vehmloewff/following{/other_user}\",\"gists_url\":\"https://api.github.com/users/Vehmloewff/gists{/gist_id}\",\"starred_url\":\"https://api.github.com/users/Vehmloewff/starred{/owner}{/repo}\",\"subscriptions_url\":\"https://api.github.com/users/Vehmloewff/subscriptions\",\"organizations_url\":\"https://api.github.com/users/Vehmloewff/orgs\",\"repos_url\":\"https://api.github.com/users/Vehmloewff/repos\",\"events_url\":\"https://api.github.com/users/Vehmloewff/events{/privacy}\",\"received_events_url\":\"https://api.github.com/users/Vehmloewff/received_events\",\"type\":\"User\",\"site_admin\":false},\"html_url\":\"https://github.com/Vehmloewff/svelte-graph\",\"description\":\"Create graphs in Svelte\",\"fork\":false,\"url\":\"https://api.github.com/repos/Vehmloewff/svelte-graph\",\"forks_url\":\"https://api.github.com/repos/Vehmloewff/svelte-graph/forks\",\"keys_url\":\"https://api.github.com/repos/Vehmloewff/svelte-graph/keys{/key_id}\",\"collaborators_url\":\"https://api.github.com/repos/Vehmloewff/svelte-graph/collaborators{/collaborator}\",\"teams_url\":\"https://api.github.com/repos/Vehmloewff/svelte-graph/teams\",\"hooks_url\":\"https://api.github.com/repos/Vehmloewff/svelte-graph/hooks\",\"issue_events_url\":\"https://api.github.com/repos/Vehmloewff/svelte-graph/issues/events{/number}\",\"events_url\":\"https://api.github.com/repos/Vehmloewff/svelte-graph/events\",\"assignees_url\":\"https://api.github.com/repos/Vehmloewff/svelte-graph/assignees{/user}\",\"branches_url\":\"https://api.github.com/repos/Vehmloewff/svelte-graph/branches{/branch}\",\"tags_url\":\"https://api.github.com/repos/Vehmloewff/svelte-graph/tags\",\"blobs_url\":\"https://api.github.com/repos/Vehmloewff/svelte-graph/git/blobs{/sha}\",\"git_tags_url\":\"https://api.github.com/repos/Vehmloewff/svelte-graph/git/tags{/sha}\",\"git_refs_url\":\"https://api.github.com/repos/Vehmloewff/svelte-graph/git/refs{/sha}\",\"trees_url\":\"https://api.github.com/repos/Vehmloewff/svelte-graph/git/trees{/sha}\",\"statuses_url\":\"https://api.github.com/repos/Vehmloewff/svelte-graph/statuses/{sha}\",\"languages_url\":\"https://api.github.com/repos/Vehmloewff/svelte-graph/languages\",\"stargazers_url\":\"https://api.github.com/repos/Vehmloewff/svelte-graph/stargazers\",\"contributors_url\":\"https://api.github.com/repos/Vehmloewff/svelte-graph/contributors\",\"subscribers_url\":\"https://api.github.com/repos/Vehmloewff/svelte-graph/subscribers\",\"subscription_url\":\"https://api.github.com/repos/Vehmloewff/svelte-graph/subscription\",\"commits_url\":\"https://api.github.com/repos/Vehmloewff/svelte-graph/commits{/sha}\",\"git_commits_url\":\"https://api.github.com/repos/Vehmloewff/svelte-graph/git/commits{/sha}\",\"comments_url\":\"https://api.github.com/repos/Vehmloewff/svelte-graph/comments{/number}\",\"issue_comment_url\":\"https://api.github.com/repos/Vehmloewff/svelte-graph/issues/comments{/number}\",\"contents_url\":\"https://api.github.com/repos/Vehmloewff/svelte-graph/contents/{+path}\",\"compare_url\":\"https://api.github.com/repos/Vehmloewff/svelte-graph/compare/{base}...{head}\",\"merges_url\":\"https://api.github.com/repos/Vehmloewff/svelte-graph/merges\",\"archive_url\":\"https://api.github.com/repos/Vehmloewff/svelte-graph/{archive_format}{/ref}\",\"downloads_url\":\"https://api.github.com/repos/Vehmloewff/svelte-graph/downloads\",\"issues_url\":\"https://api.github.com/repos/Vehmloewff/svelte-graph/issues{/number}\",\"pulls_url\":\"https://api.github.com/repos/Vehmloewff/svelte-graph/pulls{/number}\",\"milestones_url\":\"https://api.github.com/repos/Vehmloewff/svelte-graph/milestones{/number}\",\"notifications_url\":\"https://api.github.com/repos/Vehmloewff/svelte-graph/notifications{?since,all,participating}\",\"labels_url\":\"https://api.github.com/repos/Vehmloewff/svelte-graph/labels{/name}\",\"releases_url\":\"https://api.github.com/repos/Vehmloewff/svelte-graph/releases{/id}\",\"deployments_url\":\"https://api.github.com/repos/Vehmloewff/svelte-graph/deployments\",\"created_at\":\"2019-06-14T23:03:51Z\",\"updated_at\":\"2020-05-12T01:28:26Z\",\"pushed_at\":\"2020-10-28T22:04:10Z\",\"git_url\":\"git://github.com/Vehmloewff/svelte-graph.git\",\"ssh_url\":\"git@github.com:Vehmloewff/svelte-graph.git\",\"clone_url\":\"https://github.com/Vehmloewff/svelte-graph.git\",\"svn_url\":\"https://github.com/Vehmloewff/svelte-graph\",\"homepage\":null,\"size\":278,\"stargazers_count\":1,\"watchers_count\":1,\"language\":\"HTML\",\"has_issues\":true,\"has_projects\":true,\"has_downloads\":true,\"has_wiki\":true,\"has_pages\":false,\"forks_count\":0,\"mirror_url\":null,\"archived\":false,\"disabled\":false,\"open_issues_count\":2,\"license\":{\"key\":\"mit\",\"name\":\"MIT License\",\"spdx_id\":\"MIT\",\"url\":\"https://api.github.com/licenses/mit\",\"node_id\":\"MDc6TGljZW5zZTEz\"},\"forks\":0,\"open_issues\":2,\"watchers\":1,\"default_branch\":\"master\"}},\"_links\":{\"self\":{\"href\":\"https://api.github.com/repos/Vehmloewff/svelte-graph/pulls/200\"},\"html\":{\"href\":\"https://github.com/Vehmloewff/svelte-graph/pull/200\"},\"issue\":{\"href\":\"https://api.github.com/repos/Vehmloewff/svelte-graph/issues/200\"},\"comments\":{\"href\":\"https://api.github.com/repos/Vehmloewff/svelte-graph/issues/200/comments\"},\"review_comments\":{\"href\":\"https://api.github.com/repos/Vehmloewff/svelte-graph/pulls/200/comments\"},\"review_comment\":{\"href\":\"https://api.github.com/repos/Vehmloewff/svelte-graph/pulls/comments{/number}\"},\"commits\":{\"href\":\"https://api.github.com/repos/Vehmloewff/svelte-graph/pulls/200/commits\"},\"statuses\":{\"href\":\"https://api.github.com/repos/Vehmloewff/svelte-graph/statuses/29bee7a6bbece2775622320a25d325df680362ff\"}},\"author_association\":\"CONTRIBUTOR\",\"active_lock_reason\":null,\"merged\":false,\"mergeable\":null,\"rebaseable\":null,\"mergeable_state\":\"unknown\",\"merged_by\":null,\"comments\":0,\"review_comments\":0,\"maintainer_can_modify\":false,\"commits\":1,\"additions\":3,\"deletions\":9,\"changed_files\":1}},\"public\":true,\"created_at\":\"2020-10-28T22:04:12Z\"},{\"id\":\"14007702828\",\"type\":\"PushEvent\",\"actor\":{\"id\":25180681,\"login\":\"renovate-bot\",\"display_login\":\"renovate-bot\",\"gravatar_id\":\"\",\"url\":\"https://api.github.com/users/renovate-bot\",\"avatar_url\":\"https://avatars.githubusercontent.com/u/25180681?\"},\"repo\":{\"id\":198908050,\"name\":\"renovate-bot/nodejs-datalabeling\",\"url\":\"https://api.github.com/repos/renovate-bot/nodejs-datalabeling\"},\"payload\":{\"push_id\":5936808215,\"size\":0,\"distinct_size\":0,\"ref\":\"refs/heads/master\",\"head\":\"5280f9030714763165cdc64fcf2f9dc08a4e61e0\",\"before\":\"5280f9030714763165cdc64fcf2f9dc08a4e61e0\",\"commits\":[]},\"public\":true,\"created_at\":\"2020-10-28T22:04:12Z\"},{\"id\":\"14007702818\",\"type\":\"PushEvent\",\"actor\":{\"id\":24626206,\"login\":\"mattgarvin1\",\"display_login\":\"mattgarvin1\",\"gravatar_id\":\"\",\"url\":\"https://api.github.com/users/mattgarvin1\",\"avatar_url\":\"https://avatars.githubusercontent.com/u/24626206?\"},\"repo\":{\"id\":176021283,\"name\":\"uc-cdis/mariner\",\"url\":\"https://api.github.com/repos/uc-cdis/mariner\"},\"payload\":{\"push_id\":5936808210,\"size\":1,\"distinct_size\":1,\"ref\":\"refs/heads/feat/no-fuse\",\"head\":\"34c1b4d1a02620b98c32d67e2f555be94618bcf5\",\"before\":\"70bd73638a97453ea1a53b735e6912c1fc379901\",\"commits\":[{\"sha\":\"34c1b4d1a02620b98c32d67e2f555be94618bcf5\",\"author\":{\"email\":\"mattgarvin1@gmail.com\",\"name\":\"mattgarvin1\"},\"message\":\"debug\",\"distinct\":true,\"url\":\"https://api.github.com/repos/uc-cdis/mariner/commits/34c1b4d1a02620b98c32d67e2f555be94618bcf5\"}]},\"public\":true,\"created_at\":\"2020-10-28T22:04:12Z\",\"org\":{\"id\":15327655,\"login\":\"uc-cdis\",\"gravatar_id\":\"\",\"url\":\"https://api.github.com/orgs/uc-cdis\",\"avatar_url\":\"https://avatars.githubusercontent.com/u/15327655?\"}},{\"id\":\"14007702817\",\"type\":\"PushEvent\",\"actor\":{\"id\":25180681,\"login\":\"renovate-bot\",\"display_login\":\"renovate-bot\",\"gravatar_id\":\"\",\"url\":\"https://api.github.com/users/renovate-bot\",\"avatar_url\":\"https://avatars.githubusercontent.com/u/25180681?\"},\"repo\":{\"id\":228893344,\"name\":\"renovate-bot/java-secretmanager\",\"url\":\"https://api.github.com/repos/renovate-bot/java-secretmanager\"},\"payload\":{\"push_id\":5936808206,\"size\":0,\"distinct_size\":0,\"ref\":\"refs/heads/master\",\"head\":\"808387811d09aba41d36c2e3e4470c3cd888b9da\",\"before\":\"808387811d09aba41d36c2e3e4470c3cd888b9da\",\"commits\":[]},\"public\":true,\"created_at\":\"2020-10-28T22:04:12Z\"},{\"id\":\"14007702810\",\"type\":\"PushEvent\",\"actor\":{\"id\":4741640,\"login\":\"ZeWaka\",\"display_login\":\"ZeWaka\",\"gravatar_id\":\"\",\"url\":\"https://api.github.com/users/ZeWaka\",\"avatar_url\":\"https://avatars.githubusercontent.com/u/4741640?\"},\"repo\":{\"id\":252047483,\"name\":\"goonstation/goonstation\",\"url\":\"https://api.github.com/repos/goonstation/goonstation\"},\"payload\":{\"push_id\":5936808205,\"size\":2,\"distinct_size\":2,\"ref\":\"refs/heads/master\",\"head\":\"76453e96014b8a69f29b04792cbe22a810d57686\",\"before\":\"bd41e19f5f913e021331df9deefd913b6f291102\",\"commits\":[{\"sha\":\"a042fe05bdc1fa29d2a64bf40f7ea5b617c26b49\",\"author\":{\"email\":\"zewakagamer@gmail.com\",\"name\":\"ZeWaka\"},\"message\":\"fuck off line endings in maps, forever\",\"distinct\":true,\"url\":\"https://api.github.com/repos/goonstation/goonstation/commits/a042fe05bdc1fa29d2a64bf40f7ea5b617c26b49\"},{\"sha\":\"76453e96014b8a69f29b04792cbe22a810d57686\",\"author\":{\"email\":\"zewakagamer@gmail.com\",\"name\":\"ZeWaka\"},\"message\":\"Converting prefab maps to LF, fuck line endings\",\"distinct\":true,\"url\":\"https://api.github.com/repos/goonstation/goonstation/commits/76453e96014b8a69f29b04792cbe22a810d57686\"}]},\"public\":true,\"created_at\":\"2020-10-28T22:04:12Z\",\"org\":{\"id\":10349887,\"login\":\"goonstation\",\"gravatar_id\":\"\",\"url\":\"https://api.github.com/orgs/goonstation\",\"avatar_url\":\"https://avatars.githubusercontent.com/u/10349887?\"}},{\"id\":\"14007702804\",\"type\":\"PullRequestEvent\",\"actor\":{\"id\":57419716,\"login\":\"jpostelnik\",\"display_login\":\"jpostelnik\",\"gravatar_id\":\"\",\"url\":\"https://api.github.com/users/jpostelnik\",\"avatar_url\":\"https://avatars.githubusercontent.com/u/57419716?\"},\"repo\":{\"id\":302164443,\"name\":\"jpostelnik/BonsallClubGame\",\"url\":\"https://api.github.com/repos/jpostelnik/BonsallClubGame\"},\"payload\":{\"action\":\"opened\",\"number\":3,\"pull_request\":{\"url\":\"https://api.github.com/repos/jpostelnik/BonsallClubGame/pulls/3\",\"id\":511863878,\"node_id\":\"MDExOlB1bGxSZXF1ZXN0NTExODYzODc4\",\"html_url\":\"https://github.com/jpostelnik/BonsallClubGame/pull/3\",\"diff_url\":\"https://github.com/jpostelnik/BonsallClubGame/pull/3.diff\",\"patch_url\":\"https://github.com/jpostelnik/BonsallClubGame/pull/3.patch\",\"issue_url\":\"https://api.github.com/repos/jpostelnik/BonsallClubGame/issues/3\",\"number\":3,\"state\":\"open\",\"locked\":false,\"title\":\"creates player and Projectiles\",\"user\":{\"login\":\"jpostelnik\",\"id\":57419716,\"node_id\":\"MDQ6VXNlcjU3NDE5NzE2\",\"avatar_url\":\"https://avatars2.githubusercontent.com/u/57419716?v=4\",\"gravatar_id\":\"\",\"url\":\"https://api.github.com/users/jpostelnik\",\"html_url\":\"https://github.com/jpostelnik\",\"followers_url\":\"https://api.github.com/users/jpostelnik/followers\",\"following_url\":\"https://api.github.com/users/jpostelnik/following{/other_user}\",\"gists_url\":\"https://api.github.com/users/jpostelnik/gists{/gist_id}\",\"starred_url\":\"https://api.github.com/users/jpostelnik/starred{/owner}{/repo}\",\"subscriptions_url\":\"https://api.github.com/users/jpostelnik/subscriptions\",\"organizations_url\":\"https://api.github.com/users/jpostelnik/orgs\",\"repos_url\":\"https://api.github.com/users/jpostelnik/repos\",\"events_url\":\"https://api.github.com/users/jpostelnik/events{/privacy}\",\"received_events_url\":\"https://api.github.com/users/jpostelnik/received_events\",\"type\":\"User\",\"site_admin\":false},\"body\":\"\",\"created_at\":\"2020-10-28T22:04:11Z\",\"updated_at\":\"2020-10-28T22:04:11Z\",\"closed_at\":null,\"merged_at\":null,\"merge_commit_sha\":null,\"assignee\":null,\"assignees\":[],\"requested_reviewers\":[],\"requested_teams\":[],\"labels\":[],\"milestone\":null,\"draft\":false,\"commits_url\":\"https://api.github.com/repos/jpostelnik/BonsallClubGame/pulls/3/commits\",\"review_comments_url\":\"https://api.github.com/repos/jpostelnik/BonsallClubGame/pulls/3/comments\",\"review_comment_url\":\"https://api.github.com/repos/jpostelnik/BonsallClubGame/pulls/comments{/number}\",\"comments_url\":\"https://api.github.com/repos/jpostelnik/BonsallClubGame/issues/3/comments\",\"statuses_url\":\"https://api.github.com/repos/jpostelnik/BonsallClubGame/statuses/1cda9c9ddd4d8a7c33d0904064c6e1280795ca7c\",\"head\":{\"label\":\"jpostelnik:projectiles\",\"ref\":\"projectiles\",\"sha\":\"1cda9c9ddd4d8a7c33d0904064c6e1280795ca7c\",\"user\":{\"login\":\"jpostelnik\",\"id\":57419716,\"node_id\":\"MDQ6VXNlcjU3NDE5NzE2\",\"avatar_url\":\"https://avatars2.githubusercontent.com/u/57419716?v=4\",\"gravatar_id\":\"\",\"url\":\"https://api.github.com/users/jpostelnik\",\"html_url\":\"https://github.com/jpostelnik\",\"followers_url\":\"https://api.github.com/users/jpostelnik/followers\",\"following_url\":\"https://api.github.com/users/jpostelnik/following{/other_user}\",\"gists_url\":\"https://api.github.com/users/jpostelnik/gists{/gist_id}\",\"starred_url\":\"https://api.github.com/users/jpostelnik/starred{/owner}{/repo}\",\"subscriptions_url\":\"https://api.github.com/users/jpostelnik/subscriptions\",\"organizations_url\":\"https://api.github.com/users/jpostelnik/orgs\",\"repos_url\":\"https://api.github.com/users/jpostelnik/repos\",\"events_url\":\"https://api.github.com/users/jpostelnik/events{/privacy}\",\"received_events_url\":\"https://api.github.com/users/jpostelnik/received_events\",\"type\":\"User\",\"site_admin\":false},\"repo\":{\"id\":302164443,\"node_id\":\"MDEwOlJlcG9zaXRvcnkzMDIxNjQ0NDM=\",\"name\":\"BonsallClubGame\",\"full_name\":\"jpostelnik/BonsallClubGame\",\"private\":false,\"owner\":{\"login\":\"jpostelnik\",\"id\":57419716,\"node_id\":\"MDQ6VXNlcjU3NDE5NzE2\",\"avatar_url\":\"https://avatars2.githubusercontent.com/u/57419716?v=4\",\"gravatar_id\":\"\",\"url\":\"https://api.github.com/users/jpostelnik\",\"html_url\":\"https://github.com/jpostelnik\",\"followers_url\":\"https://api.github.com/users/jpostelnik/followers\",\"following_url\":\"https://api.github.com/users/jpostelnik/following{/other_user}\",\"gists_url\":\"https://api.github.com/users/jpostelnik/gists{/gist_id}\",\"starred_url\":\"https://api.github.com/users/jpostelnik/starred{/owner}{/repo}\",\"subscriptions_url\":\"https://api.github.com/users/jpostelnik/subscriptions\",\"organizations_url\":\"https://api.github.com/users/jpostelnik/orgs\",\"repos_url\":\"https://api.github.com/users/jpostelnik/repos\",\"events_url\":\"https://api.github.com/users/jpostelnik/events{/privacy}\",\"received_events_url\":\"https://api.github.com/users/jpostelnik/received_events\",\"type\":\"User\",\"site_admin\":false},\"html_url\":\"https://github.com/jpostelnik/BonsallClubGame\",\"description\":null,\"fork\":false,\"url\":\"https://api.github.com/repos/jpostelnik/BonsallClubGame\",\"forks_url\":\"https://api.github.com/repos/jpostelnik/BonsallClubGame/forks\",\"keys_url\":\"https://api.github.com/repos/jpostelnik/BonsallClubGame/keys{/key_id}\",\"collaborators_url\":\"https://api.github.com/repos/jpostelnik/BonsallClubGame/collaborators{/collaborator}\",\"teams_url\":\"https://api.github.com/repos/jpostelnik/BonsallClubGame/teams\",\"hooks_url\":\"https://api.github.com/repos/jpostelnik/BonsallClubGame/hooks\",\"issue_events_url\":\"https://api.github.com/repos/jpostelnik/BonsallClubGame/issues/events{/number}\",\"events_url\":\"https://api.github.com/repos/jpostelnik/BonsallClubGame/events\",\"assignees_url\":\"https://api.github.com/repos/jpostelnik/BonsallClubGame/assignees{/user}\",\"branches_url\":\"https://api.github.com/repos/jpostelnik/BonsallClubGame/branches{/branch}\",\"tags_url\":\"https://api.github.com/repos/jpostelnik/BonsallClubGame/tags\",\"blobs_url\":\"https://api.github.com/repos/jpostelnik/BonsallClubGame/git/blobs{/sha}\",\"git_tags_url\":\"https://api.github.com/repos/jpostelnik/BonsallClubGame/git/tags{/sha}\",\"git_refs_url\":\"https://api.github.com/repos/jpostelnik/BonsallClubGame/git/refs{/sha}\",\"trees_url\":\"https://api.github.com/repos/jpostelnik/BonsallClubGame/git/trees{/sha}\",\"statuses_url\":\"https://api.github.com/repos/jpostelnik/BonsallClubGame/statuses/{sha}\",\"languages_url\":\"https://api.github.com/repos/jpostelnik/BonsallClubGame/languages\",\"stargazers_url\":\"https://api.github.com/repos/jpostelnik/BonsallClubGame/stargazers\",\"contributors_url\":\"https://api.github.com/repos/jpostelnik/BonsallClubGame/contributors\",\"subscribers_url\":\"https://api.github.com/repos/jpostelnik/BonsallClubGame/subscribers\",\"subscription_url\":\"https://api.github.com/repos/jpostelnik/BonsallClubGame/subscription\",\"commits_url\":\"https://api.github.com/repos/jpostelnik/BonsallClubGame/commits{/sha}\",\"git_commits_url\":\"https://api.github.com/repos/jpostelnik/BonsallClubGame/git/commits{/sha}\",\"comments_url\":\"https://api.github.com/repos/jpostelnik/BonsallClubGame/comments{/number}\",\"issue_comment_url\":\"https://api.github.com/repos/jpostelnik/BonsallClubGame/issues/comments{/number}\",\"contents_url\":\"https://api.github.com/repos/jpostelnik/BonsallClubGame/contents/{+path}\",\"compare_url\":\"https://api.github.com/repos/jpostelnik/BonsallClubGame/compare/{base}...{head}\",\"merges_url\":\"https://api.github.com/repos/jpostelnik/BonsallClubGame/merges\",\"archive_url\":\"https://api.github.com/repos/jpostelnik/BonsallClubGame/{archive_format}{/ref}\",\"downloads_url\":\"https://api.github.com/repos/jpostelnik/BonsallClubGame/downloads\",\"issues_url\":\"https://api.github.com/repos/jpostelnik/BonsallClubGame/issues{/number}\",\"pulls_url\":\"https://api.github.com/repos/jpostelnik/BonsallClubGame/pulls{/number}\",\"milestones_url\":\"https://api.github.com/repos/jpostelnik/BonsallClubGame/milestones{/number}\",\"notifications_url\":\"https://api.github.com/repos/jpostelnik/BonsallClubGame/notifications{?since,all,participating}\",\"labels_url\":\"https://api.github.com/repos/jpostelnik/BonsallClubGame/labels{/name}\",\"releases_url\":\"https://api.github.com/repos/jpostelnik/BonsallClubGame/releases{/id}\",\"deployments_url\":\"https://api.github.com/repos/jpostelnik/BonsallClubGame/deployments\",\"created_at\":\"2020-10-07T21:27:47Z\",\"updated_at\":\"2020-10-07T21:52:02Z\",\"pushed_at\":\"2020-10-28T22:04:06Z\",\"git_url\":\"git://github.com/jpostelnik/BonsallClubGame.git\",\"ssh_url\":\"git@github.com:jpostelnik/BonsallClubGame.git\",\"clone_url\":\"https://github.com/jpostelnik/BonsallClubGame.git\",\"svn_url\":\"https://github.com/jpostelnik/BonsallClubGame\",\"homepage\":null,\"size\":9,\"stargazers_count\":0,\"watchers_count\":0,\"language\":\"Java\",\"has_issues\":true,\"has_projects\":true,\"has_downloads\":true,\"has_wiki\":true,\"has_pages\":false,\"forks_count\":1,\"mirror_url\":null,\"archived\":false,\"disabled\":false,\"open_issues_count\":2,\"license\":null,\"forks\":1,\"open_issues\":2,\"watchers\":0,\"default_branch\":\"main\"}},\"base\":{\"label\":\"jpostelnik:main\",\"ref\":\"main\",\"sha\":\"70e53f397cfc76be9c6d431a5c60217b122cbb26\",\"user\":{\"login\":\"jpostelnik\",\"id\":57419716,\"node_id\":\"MDQ6VXNlcjU3NDE5NzE2\",\"avatar_url\":\"https://avatars2.githubusercontent.com/u/57419716?v=4\",\"gravatar_id\":\"\",\"url\":\"https://api.github.com/users/jpostelnik\",\"html_url\":\"https://github.com/jpostelnik\",\"followers_url\":\"https://api.github.com/users/jpostelnik/followers\",\"following_url\":\"https://api.github.com/users/jpostelnik/following{/other_user}\",\"gists_url\":\"https://api.github.com/users/jpostelnik/gists{/gist_id}\",\"starred_url\":\"https://api.github.com/users/jpostelnik/starred{/owner}{/repo}\",\"subscriptions_url\":\"https://api.github.com/users/jpostelnik/subscriptions\",\"organizations_url\":\"https://api.github.com/users/jpostelnik/orgs\",\"repos_url\":\"https://api.github.com/users/jpostelnik/repos\",\"events_url\":\"https://api.github.com/users/jpostelnik/events{/privacy}\",\"received_events_url\":\"https://api.github.com/users/jpostelnik/received_events\",\"type\":\"User\",\"site_admin\":false},\"repo\":{\"id\":302164443,\"node_id\":\"MDEwOlJlcG9zaXRvcnkzMDIxNjQ0NDM=\",\"name\":\"BonsallClubGame\",\"full_name\":\"jpostelnik/BonsallClubGame\",\"private\":false,\"owner\":{\"login\":\"jpostelnik\",\"id\":57419716,\"node_id\":\"MDQ6VXNlcjU3NDE5NzE2\",\"avatar_url\":\"https://avatars2.githubusercontent.com/u/57419716?v=4\",\"gravatar_id\":\"\",\"url\":\"https://api.github.com/users/jpostelnik\",\"html_url\":\"https://github.com/jpostelnik\",\"followers_url\":\"https://api.github.com/users/jpostelnik/followers\",\"following_url\":\"https://api.github.com/users/jpostelnik/following{/other_user}\",\"gists_url\":\"https://api.github.com/users/jpostelnik/gists{/gist_id}\",\"starred_url\":\"https://api.github.com/users/jpostelnik/starred{/owner}{/repo}\",\"subscriptions_url\":\"https://api.github.com/users/jpostelnik/subscriptions\",\"organizations_url\":\"https://api.github.com/users/jpostelnik/orgs\",\"repos_url\":\"https://api.github.com/users/jpostelnik/repos\",\"events_url\":\"https://api.github.com/users/jpostelnik/events{/privacy}\",\"received_events_url\":\"https://api.github.com/users/jpostelnik/received_events\",\"type\":\"User\",\"site_admin\":false},\"html_url\":\"https://github.com/jpostelnik/BonsallClubGame\",\"description\":null,\"fork\":false,\"url\":\"https://api.github.com/repos/jpostelnik/BonsallClubGame\",\"forks_url\":\"https://api.github.com/repos/jpostelnik/BonsallClubGame/forks\",\"keys_url\":\"https://api.github.com/repos/jpostelnik/BonsallClubGame/keys{/key_id}\",\"collaborators_url\":\"https://api.github.com/repos/jpostelnik/BonsallClubGame/collaborators{/collaborator}\",\"teams_url\":\"https://api.github.com/repos/jpostelnik/BonsallClubGame/teams\",\"hooks_url\":\"https://api.github.com/repos/jpostelnik/BonsallClubGame/hooks\",\"issue_events_url\":\"https://api.github.com/repos/jpostelnik/BonsallClubGame/issues/events{/number}\",\"events_url\":\"https://api.github.com/repos/jpostelnik/BonsallClubGame/events\",\"assignees_url\":\"https://api.github.com/repos/jpostelnik/BonsallClubGame/assignees{/user}\",\"branches_url\":\"https://api.github.com/repos/jpostelnik/BonsallClubGame/branches{/branch}\",\"tags_url\":\"https://api.github.com/repos/jpostelnik/BonsallClubGame/tags\",\"blobs_url\":\"https://api.github.com/repos/jpostelnik/BonsallClubGame/git/blobs{/sha}\",\"git_tags_url\":\"https://api.github.com/repos/jpostelnik/BonsallClubGame/git/tags{/sha}\",\"git_refs_url\":\"https://api.github.com/repos/jpostelnik/BonsallClubGame/git/refs{/sha}\",\"trees_url\":\"https://api.github.com/repos/jpostelnik/BonsallClubGame/git/trees{/sha}\",\"statuses_url\":\"https://api.github.com/repos/jpostelnik/BonsallClubGame/statuses/{sha}\",\"languages_url\":\"https://api.github.com/repos/jpostelnik/BonsallClubGame/languages\",\"stargazers_url\":\"https://api.github.com/repos/jpostelnik/BonsallClubGame/stargazers\",\"contributors_url\":\"https://api.github.com/repos/jpostelnik/BonsallClubGame/contributors\",\"subscribers_url\":\"https://api.github.com/repos/jpostelnik/BonsallClubGame/subscribers\",\"subscription_url\":\"https://api.github.com/repos/jpostelnik/BonsallClubGame/subscription\",\"commits_url\":\"https://api.github.com/repos/jpostelnik/BonsallClubGame/commits{/sha}\",\"git_commits_url\":\"https://api.github.com/repos/jpostelnik/BonsallClubGame/git/commits{/sha}\",\"comments_url\":\"https://api.github.com/repos/jpostelnik/BonsallClubGame/comments{/number}\",\"issue_comment_url\":\"https://api.github.com/repos/jpostelnik/BonsallClubGame/issues/comments{/number}\",\"contents_url\":\"https://api.github.com/repos/jpostelnik/BonsallClubGame/contents/{+path}\",\"compare_url\":\"https://api.github.com/repos/jpostelnik/BonsallClubGame/compare/{base}...{head}\",\"merges_url\":\"https://api.github.com/repos/jpostelnik/BonsallClubGame/merges\",\"archive_url\":\"https://api.github.com/repos/jpostelnik/BonsallClubGame/{archive_format}{/ref}\",\"downloads_url\":\"https://api.github.com/repos/jpostelnik/BonsallClubGame/downloads\",\"issues_url\":\"https://api.github.com/repos/jpostelnik/BonsallClubGame/issues{/number}\",\"pulls_url\":\"https://api.github.com/repos/jpostelnik/BonsallClubGame/pulls{/number}\",\"milestones_url\":\"https://api.github.com/repos/jpostelnik/BonsallClubGame/milestones{/number}\",\"notifications_url\":\"https://api.github.com/repos/jpostelnik/BonsallClubGame/notifications{?since,all,participating}\",\"labels_url\":\"https://api.github.com/repos/jpostelnik/BonsallClubGame/labels{/name}\",\"releases_url\":\"https://api.github.com/repos/jpostelnik/BonsallClubGame/releases{/id}\",\"deployments_url\":\"https://api.github.com/repos/jpostelnik/BonsallClubGame/deployments\",\"created_at\":\"2020-10-07T21:27:47Z\",\"updated_at\":\"2020-10-07T21:52:02Z\",\"pushed_at\":\"2020-10-28T22:04:06Z\",\"git_url\":\"git://github.com/jpostelnik/BonsallClubGame.git\",\"ssh_url\":\"git@github.com:jpostelnik/BonsallClubGame.git\",\"clone_url\":\"https://github.com/jpostelnik/BonsallClubGame.git\",\"svn_url\":\"https://github.com/jpostelnik/BonsallClubGame\",\"homepage\":null,\"size\":9,\"stargazers_count\":0,\"watchers_count\":0,\"language\":\"Java\",\"has_issues\":true,\"has_projects\":true,\"has_downloads\":true,\"has_wiki\":true,\"has_pages\":false,\"forks_count\":1,\"mirror_url\":null,\"archived\":false,\"disabled\":false,\"open_issues_count\":2,\"license\":null,\"forks\":1,\"open_issues\":2,\"watchers\":0,\"default_branch\":\"main\"}},\"_links\":{\"self\":{\"href\":\"https://api.github.com/repos/jpostelnik/BonsallClubGame/pulls/3\"},\"html\":{\"href\":\"https://github.com/jpostelnik/BonsallClubGame/pull/3\"},\"issue\":{\"href\":\"https://api.github.com/repos/jpostelnik/BonsallClubGame/issues/3\"},\"comments\":{\"href\":\"https://api.github.com/repos/jpostelnik/BonsallClubGame/issues/3/comments\"},\"review_comments\":{\"href\":\"https://api.github.com/repos/jpostelnik/BonsallClubGame/pulls/3/comments\"},\"review_comment\":{\"href\":\"https://api.github.com/repos/jpostelnik/BonsallClubGame/pulls/comments{/number}\"},\"commits\":{\"href\":\"https://api.github.com/repos/jpostelnik/BonsallClubGame/pulls/3/commits\"},\"statuses\":{\"href\":\"https://api.github.com/repos/jpostelnik/BonsallClubGame/statuses/1cda9c9ddd4d8a7c33d0904064c6e1280795ca7c\"}},\"author_association\":\"OWNER\",\"active_lock_reason\":null,\"merged\":false,\"mergeable\":null,\"rebaseable\":null,\"mergeable_state\":\"unknown\",\"merged_by\":null,\"comments\":0,\"review_comments\":0,\"maintainer_can_modify\":false,\"commits\":1,\"additions\":59,\"deletions\":12,\"changed_files\":4}},\"public\":true,\"created_at\":\"2020-10-28T22:04:12Z\"},{\"id\":\"14007702798\",\"type\":\"PushEvent\",\"actor\":{\"id\":25180681,\"login\":\"renovate-bot\",\"display_login\":\"renovate-bot\",\"gravatar_id\":\"\",\"url\":\"https://api.github.com/users/renovate-bot\",\"avatar_url\":\"https://avatars.githubusercontent.com/u/25180681?\"},\"repo\":{\"id\":251424020,\"name\":\"renovate-bot/java-shared-dependencies\",\"url\":\"https://api.github.com/repos/renovate-bot/java-shared-dependencies\"},\"payload\":{\"push_id\":5936808199,\"size\":0,\"distinct_size\":0,\"ref\":\"refs/heads/master\",\"head\":\"6f7587c3229f3f400bc25b1388e09df040284422\",\"before\":\"6f7587c3229f3f400bc25b1388e09df040284422\",\"commits\":[]},\"public\":true,\"created_at\":\"2020-10-28T22:04:12Z\"},{\"id\":\"14007702800\",\"type\":\"PushEvent\",\"actor\":{\"id\":59847353,\"login\":\"infaautovcs\",\"display_login\":\"infaautovcs\",\"gravatar_id\":\"\",\"url\":\"https://api.github.com/users/infaautovcs\",\"avatar_url\":\"https://avatars.githubusercontent.com/u/59847353?\"},\"repo\":{\"id\":233688201,\"name\":\"infaautovcs/DependencyUIAuto\",\"url\":\"https://api.github.com/repos/infaautovcs/DependencyUIAuto\"},\"payload\":{\"push_id\":5936808201,\"size\":1,\"distinct_size\":1,\"ref\":\"refs/heads/master\",\"head\":\"e34a2a8ba1821c408df871bc828059b8de64b581\",\"before\":\"d873c9fe00a3d00fb07be0689482f5fba4645fd5\",\"commits\":[{\"sha\":\"e34a2a8ba1821c408df871bc828059b8de64b581\",\"author\":{\"email\":\"vboddupalli@informatica.com\",\"name\":\"platform_stg_pod3\"},\"message\":\"Automation summary\\\\n\\\\nAutomation Desc\",\"distinct\":true,\"url\":\"https://api.github.com/repos/infaautovcs/DependencyUIAuto/commits/e34a2a8ba1821c408df871bc828059b8de64b581\"}]},\"public\":true,\"created_at\":\"2020-10-28T22:04:12Z\"},{\"id\":\"14007702791\",\"type\":\"PushEvent\",\"actor\":{\"id\":25180681,\"login\":\"renovate-bot\",\"display_login\":\"renovate-bot\",\"gravatar_id\":\"\",\"url\":\"https://api.github.com/users/renovate-bot\",\"avatar_url\":\"https://avatars.githubusercontent.com/u/25180681?\"},\"repo\":{\"id\":248359399,\"name\":\"renovate-bot/nodejs-document-ai-1\",\"url\":\"https://api.github.com/repos/renovate-bot/nodejs-document-ai-1\"},\"payload\":{\"push_id\":5936808193,\"size\":0,\"distinct_size\":0,\"ref\":\"refs/heads/master\",\"head\":\"35078efcf3d995a48f56f12f0db46b98f20e37fc\",\"before\":\"35078efcf3d995a48f56f12f0db46b98f20e37fc\",\"commits\":[]},\"public\":true,\"created_at\":\"2020-10-28T22:04:12Z\"},{\"id\":\"14007702794\",\"type\":\"DeleteEvent\",\"actor\":{\"id\":498465,\"login\":\"gaelreyrol\",\"display_login\":\"gaelreyrol\",\"gravatar_id\":\"\",\"url\":\"https://api.github.com/users/gaelreyrol\",\"avatar_url\":\"https://avatars.githubusercontent.com/u/498465?\"},\"repo\":{\"id\":166881466,\"name\":\"dansmaculotte/monetico-php\",\"url\":\"https://api.github.com/repos/dansmaculotte/monetico-php\"},\"payload\":{\"ref\":\"master\",\"ref_type\":\"branch\",\"pusher_type\":\"user\"},\"public\":true,\"created_at\":\"2020-10-28T22:04:12Z\",\"org\":{\"id\":44588441,\"login\":\"dansmaculotte\",\"gravatar_id\":\"\",\"url\":\"https://api.github.com/orgs/dansmaculotte\",\"avatar_url\":\"https://avatars.githubusercontent.com/u/44588441?\"}},{\"id\":\"14007702790\",\"type\":\"CreateEvent\",\"actor\":{\"id\":65011624,\"login\":\"bennlli\",\"display_login\":\"bennlli\",\"gravatar_id\":\"\",\"url\":\"https://api.github.com/users/bennlli\",\"avatar_url\":\"https://avatars.githubusercontent.com/u/65011624?\"},\"repo\":{\"id\":308151496,\"name\":\"bennlli/HTML\",\"url\":\"https://api.github.com/repos/bennlli/HTML\"},\"payload\":{\"ref\":\"master\",\"ref_type\":\"branch\",\"master_branch\":\"master\",\"description\":null,\"pusher_type\":\"user\"},\"public\":true,\"created_at\":\"2020-10-28T22:04:12Z\"},{\"id\":\"14007702779\",\"type\":\"PushEvent\",\"actor\":{\"id\":60798784,\"login\":\"webplay10\",\"display_login\":\"webplay10\",\"gravatar_id\":\"\",\"url\":\"https://api.github.com/users/webplay10\",\"avatar_url\":\"https://avatars.githubusercontent.com/u/60798784?\"},\"repo\":{\"id\":239032010,\"name\":\"webplay10/WEBPLAY\",\"url\":\"https://api.github.com/repos/webplay10/WEBPLAY\"},\"payload\":{\"push_id\":5936808194,\"size\":1,\"distinct_size\":1,\"ref\":\"refs/heads/master\",\"head\":\"9a28f242ad8d9b0226c4050d34fa540de4af566f\",\"before\":\"8b6b4d689f8191d66148658157b2ac8840f161e6\",\"commits\":[{\"sha\":\"9a28f242ad8d9b0226c4050d34fa540de4af566f\",\"author\":{\"email\":\"60798784+webplay10@users.noreply.github.com\",\"name\":\"webplay10\"},\"message\":\"Update Filmes Utorrent\",\"distinct\":true,\"url\":\"https://api.github.com/repos/webplay10/WEBPLAY/commits/9a28f242ad8d9b0226c4050d34fa540de4af566f\"}]},\"public\":true,\"created_at\":\"2020-10-28T22:04:11Z\"},{\"id\":\"14007702778\",\"type\":\"PushEvent\",\"actor\":{\"id\":3455449,\"login\":\"Dids\",\"display_login\":\"Dids\",\"gravatar_id\":\"\",\"url\":\"https://api.github.com/users/Dids\",\"avatar_url\":\"https://avatars.githubusercontent.com/u/3455449?\"},\"repo\":{\"id\":92093613,\"name\":\"Didstopia/SDL_net\",\"url\":\"https://api.github.com/repos/Didstopia/SDL_net\"},\"payload\":{\"push_id\":5936808188,\"size\":0,\"distinct_size\":0,\"ref\":\"refs/heads/SDL-1.2\",\"head\":\"85bb01593c8ecee7e2ddae980f3be28d3c28cc4a\",\"before\":\"85bb01593c8ecee7e2ddae980f3be28d3c28cc4a\",\"commits\":[]},\"public\":true,\"created_at\":\"2020-10-28T22:04:11Z\",\"org\":{\"id\":11643531,\"login\":\"Didstopia\",\"gravatar_id\":\"\",\"url\":\"https://api.github.com/orgs/Didstopia\",\"avatar_url\":\"https://avatars.githubusercontent.com/u/11643531?\"}},{\"id\":\"14007702777\",\"type\":\"PushEvent\",\"actor\":{\"id\":13025337,\"login\":\"bitnami-bot\",\"display_login\":\"bitnami-bot\",\"gravatar_id\":\"\",\"url\":\"https://api.github.com/users/bitnami-bot\",\"avatar_url\":\"https://avatars.githubusercontent.com/u/13025337?\"},\"repo\":{\"id\":272430654,\"name\":\"bitnami/bitnami-docker-spring-cloud-dataflow-shell\",\"url\":\"https://api.github.com/repos/bitnami/bitnami-docker-spring-cloud-dataflow-shell\"},\"payload\":{\"push_id\":5936808191,\"size\":1,\"distinct_size\":1,\"ref\":\"refs/heads/master\",\"head\":\"4f6bbf52e4217a449557ceea2dd7007bf6130910\",\"before\":\"02861c35e8fec1f04b47829c24b818318681f47c\",\"commits\":[{\"sha\":\"4f6bbf52e4217a449557ceea2dd7007bf6130910\",\"author\":{\"email\":\"containers-bot@bitnami.com\",\"name\":\"Bitnami Bot\"},\"message\":\"2.6.3-debian-10-r21 release\",\"distinct\":true,\"url\":\"https://api.github.com/repos/bitnami/bitnami-docker-spring-cloud-dataflow-shell/commits/4f6bbf52e4217a449557ceea2dd7007bf6130910\"}]},\"public\":true,\"created_at\":\"2020-10-28T22:04:11Z\",\"org\":{\"id\":5446553,\"login\":\"bitnami\",\"gravatar_id\":\"\",\"url\":\"https://api.github.com/orgs/bitnami\",\"avatar_url\":\"https://avatars.githubusercontent.com/u/5446553?\"}},{\"id\":\"14007702776\",\"type\":\"CreateEvent\",\"actor\":{\"id\":27856297,\"login\":\"dependabot-preview[bot]\",\"display_login\":\"dependabot-preview\",\"gravatar_id\":\"\",\"url\":\"https://api.github.com/users/dependabot-preview[bot]\",\"avatar_url\":\"https://avatars.githubusercontent.com/u/27856297?\"},\"repo\":{\"id\":192014586,\"name\":\"Vehmloewff/svelte-graph\",\"url\":\"https://api.github.com/repos/Vehmloewff/svelte-graph\"},\"payload\":{\"ref\":\"dependabot/npm_and_yarn/lodash-4.17.20\",\"ref_type\":\"branch\",\"master_branch\":\"master\",\"description\":\"Create graphs in Svelte\",\"pusher_type\":\"user\"},\"public\":true,\"created_at\":\"2020-10-28T22:04:11Z\"},{\"id\":\"14007702770\",\"type\":\"PushEvent\",\"actor\":{\"id\":46224843,\"login\":\"MatteRubbiani\",\"display_login\":\"MatteRubbiani\",\"gravatar_id\":\"\",\"url\":\"https://api.github.com/users/MatteRubbiani\",\"avatar_url\":\"https://avatars.githubusercontent.com/u/46224843?\"},\"repo\":{\"id\":306933358,\"name\":\"MatteRubbiani/peach-protein\",\"url\":\"https://api.github.com/repos/MatteRubbiani/peach-protein\"},\"payload\":{\"push_id\":5936808190,\"size\":1,\"distinct_size\":1,\"ref\":\"refs/heads/master\",\"head\":\"fd0468e1dd24c4d5a3d36cd3bf66601757b02959\",\"before\":\"409b3fa2da097e847d9799f6d12d7969303da28c\",\"commits\":[{\"sha\":\"fd0468e1dd24c4d5a3d36cd3bf66601757b02959\",\"author\":{\"email\":\"matterubbiani@gmail.com\",\"name\":\"Jacopostortini\"},\"message\":\"del1\",\"distinct\":true,\"url\":\"https://api.github.com/repos/MatteRubbiani/peach-protein/commits/fd0468e1dd24c4d5a3d36cd3bf66601757b02959\"}]},\"public\":true,\"created_at\":\"2020-10-28T22:04:11Z\"},{\"id\":\"14007702771\",\"type\":\"PushEvent\",\"actor\":{\"id\":14950489,\"login\":\"NeusFear\",\"display_login\":\"NeusFear\",\"gravatar_id\":\"\",\"url\":\"https://api.github.com/users/NeusFear\",\"avatar_url\":\"https://avatars.githubusercontent.com/u/14950489?\"},\"repo\":{\"id\":271347109,\"name\":\"TerminalVelocityCabbage/TVE-ExampleClient\",\"url\":\"https://api.github.com/repos/TerminalVelocityCabbage/TVE-ExampleClient\"},\"payload\":{\"push_id\":5936808192,\"size\":1,\"distinct_size\":1,\"ref\":\"refs/heads/forward-lighting\",\"head\":\"d80816c05a1da52016a4847038650203552bc4af\",\"before\":\"17e090f6c040285dd637864dc5e7b21d1b04ae7a\",\"commits\":[{\"sha\":\"d80816c05a1da52016a4847038650203552bc4af\",\"author\":{\"email\":\"neusfear@gmail.com\",\"name\":\"Brandon Davis\"},\"message\":\"Simplify shader code\",\"distinct\":true,\"url\":\"https://api.github.com/repos/TerminalVelocityCabbage/TVE-ExampleClient/commits/d80816c05a1da52016a4847038650203552bc4af\"}]},\"public\":true,\"created_at\":\"2020-10-28T22:04:11Z\",\"org\":{\"id\":66745781,\"login\":\"TerminalVelocityCabbage\",\"gravatar_id\":\"\",\"url\":\"https://api.github.com/orgs/TerminalVelocityCabbage\",\"avatar_url\":\"https://avatars.githubusercontent.com/u/66745781?\"}},{\"id\":\"14007702773\",\"type\":\"CreateEvent\",\"actor\":{\"id\":73617172,\"login\":\"FernandoTheDeveloper1\",\"display_login\":\"FernandoTheDeveloper1\",\"gravatar_id\":\"\",\"url\":\"https://api.github.com/users/FernandoTheDeveloper1\",\"avatar_url\":\"https://avatars.githubusercontent.com/u/73617172?\"},\"repo\":{\"id\":308151720,\"name\":\"FernandoTheDeveloper1/pizza\",\"url\":\"https://api.github.com/repos/FernandoTheDeveloper1/pizza\"},\"payload\":{\"ref\":\"main\",\"ref_type\":\"branch\",\"master_branch\":\"main\",\"description\":null,\"pusher_type\":\"user\"},\"public\":true,\"created_at\":\"2020-10-28T22:04:11Z\"},{\"id\":\"14007702762\",\"type\":\"PushEvent\",\"actor\":{\"id\":62848187,\"login\":\"naeemz11\",\"display_login\":\"naeemz11\",\"gravatar_id\":\"\",\"url\":\"https://api.github.com/users/naeemz11\",\"avatar_url\":\"https://avatars.githubusercontent.com/u/62848187?\"},\"repo\":{\"id\":308149094,\"name\":\"naeemz11/simple-nesting\",\"url\":\"https://api.github.com/repos/naeemz11/simple-nesting\"},\"payload\":{\"push_id\":5936808185,\"size\":1,\"distinct_size\":1,\"ref\":\"refs/heads/fis-wip\",\"head\":\"43d377d85a4d08f00a5069f5b2cf6f87447bd50f\",\"before\":\"96b840e156188740158d9669f8326c94fb0792ab\",\"commits\":[{\"sha\":\"43d377d85a4d08f00a5069f5b2cf6f87447bd50f\",\"author\":{\"email\":\"your_email@example.com\",\"name\":\"your_name\"},\"message\":\"commit tree 6690d1d06f334c15c56b3fa17e44c193f7b30447\",\"distinct\":true,\"url\":\"https://api.github.com/repos/naeemz11/simple-nesting/commits/43d377d85a4d08f00a5069f5b2cf6f87447bd50f\"}]},\"public\":true,\"created_at\":\"2020-10-28T22:04:11Z\"}]'"
      ]
     },
     "execution_count": 3,
     "metadata": {},
     "output_type": "execute_result"
    }
   ],
   "source": [
    "# So what does this look like?\n",
    "r.text"
   ]
  },
  {
   "cell_type": "markdown",
   "metadata": {},
   "source": [
    "![Oh good heavens gif, from gfycat](https://thumbs.gfycat.com/ColdAmbitiousDogwoodtwigborer-size_restricted.gif)"
   ]
  },
  {
   "cell_type": "markdown",
   "metadata": {
    "slideshow": {
     "slide_type": "slide"
    }
   },
   "source": [
    "Obviously you're never going to just scan that quickly for any data you need, we need to wrangle that response to make it usable.\n",
    "\n",
    "But first, let's look at some of the other attributes of `requests.models.Response` objects.\n",
    "\n",
    "We can check out all of the attributes [here](https://2.python-requests.org//en/v0.10.6/api/) in the documentation."
   ]
  },
  {
   "cell_type": "code",
   "execution_count": 4,
   "metadata": {},
   "outputs": [
    {
     "data": {
      "text/plain": [
       "{'server': 'GitHub.com', 'date': 'Wed, 28 Oct 2020 22:09:12 GMT', 'content-type': 'application/json; charset=utf-8', 'status': '200 OK', 'cache-control': 'public, max-age=60, s-maxage=60', 'vary': 'Accept, Accept-Encoding, Accept, X-Requested-With', 'etag': 'W/\"0846300a8176a8e16a085a42306f5d3dfc29bb2d24ac165026d62844dca51741\"', 'last-modified': 'Wed, 28 Oct 2020 22:04:12 GMT', 'x-poll-interval': '60', 'x-github-media-type': 'github.v3; format=json', 'link': '<https://api.github.com/events?page=2>; rel=\"next\", <https://api.github.com/events?page=10>; rel=\"last\"', 'access-control-expose-headers': 'ETag, Link, Location, Retry-After, X-GitHub-OTP, X-RateLimit-Limit, X-RateLimit-Remaining, X-RateLimit-Used, X-RateLimit-Reset, X-OAuth-Scopes, X-Accepted-OAuth-Scopes, X-Poll-Interval, X-GitHub-Media-Type, Deprecation, Sunset', 'access-control-allow-origin': '*', 'strict-transport-security': 'max-age=31536000; includeSubdomains; preload', 'x-frame-options': 'deny', 'x-content-type-options': 'nosniff', 'x-xss-protection': '1; mode=block', 'referrer-policy': 'origin-when-cross-origin, strict-origin-when-cross-origin', 'content-security-policy': \"default-src 'none'\", 'content-encoding': 'gzip', 'X-Ratelimit-Limit': '60', 'X-Ratelimit-Remaining': '58', 'X-Ratelimit-Reset': '1603926325', 'X-Ratelimit-Used': '2', 'Accept-Ranges': 'bytes', 'Transfer-Encoding': 'chunked', 'X-GitHub-Request-Id': 'C6B0:32F3:3BF8F9:9BF5C1:5F99EC07'}"
      ]
     },
     "execution_count": 4,
     "metadata": {},
     "output_type": "execute_result"
    }
   ],
   "source": [
    "# Headers - another attribute, what does this show us?\n",
    "r.headers"
   ]
  },
  {
   "cell_type": "markdown",
   "metadata": {
    "slideshow": {
     "slide_type": "slide"
    }
   },
   "source": [
    "### Checking out the status of your request"
   ]
  },
  {
   "cell_type": "code",
   "execution_count": 5,
   "metadata": {},
   "outputs": [
    {
     "data": {
      "text/plain": [
       "200"
      ]
     },
     "execution_count": 5,
     "metadata": {},
     "output_type": "execute_result"
    }
   ],
   "source": [
    "# Another attribute\n",
    "r.status_code"
   ]
  },
  {
   "cell_type": "markdown",
   "metadata": {
    "slideshow": {
     "slide_type": "slide"
    }
   },
   "source": [
    "### [Types of status codes](https://http.cat/)\n",
    "\n",
    "1xx - Informational responses\n",
    "\n",
    "2xx - Success\n",
    "- 200 OK\n",
    "- 201 Created\n",
    "- 204 No Content\n",
    "\n",
    "3xx - Redirection\n",
    "\n",
    "- 301 Moved Permanently (permanent URL redirection)\n",
    "- 304 Not Modified (A conditional GET or HEAD request has been received and would have resulted in a 200 OK response if it were not for the fact that the condition evaluated to false.)\n",
    "\n",
    "4xx - Client errors\n",
    "\n",
    "- 400 Bad Request\n",
    "- 401 Unauthorized\n",
    "- 403 Forbidden\n",
    "- 404 Not Found\n",
    "\n",
    "5xx - Server errors\n",
    "\n",
    "- 500 Internal Server Error"
   ]
  },
  {
   "cell_type": "code",
   "execution_count": 6,
   "metadata": {
    "slideshow": {
     "slide_type": "slide"
    }
   },
   "outputs": [
    {
     "data": {
      "text/plain": [
       "404"
      ]
     },
     "execution_count": 6,
     "metadata": {},
     "output_type": "execute_result"
    }
   ],
   "source": [
    "# Get status code for a \"broken\" link\n",
    "\n",
    "r_broken = requests.get('https://api.github.com/fake-ending')\n",
    "r_broken.status_code"
   ]
  },
  {
   "cell_type": "markdown",
   "metadata": {
    "slideshow": {
     "slide_type": "slide"
    }
   },
   "source": [
    "Can also explictly ask for the returned format to be json as a method."
   ]
  },
  {
   "cell_type": "code",
   "execution_count": 11,
   "metadata": {},
   "outputs": [
    {
     "data": {
      "text/plain": [
       "dict_keys(['id', 'type', 'actor', 'repo', 'payload', 'public', 'created_at', 'org'])"
      ]
     },
     "execution_count": 11,
     "metadata": {},
     "output_type": "execute_result"
    }
   ],
   "source": [
    "# Going back to our working request - how does this look, compared to text?\n",
    "r.json()[0].keys()"
   ]
  },
  {
   "cell_type": "markdown",
   "metadata": {
    "slideshow": {
     "slide_type": "slide"
    }
   },
   "source": [
    "#### A note on errors and exceptions with the Requests library\n",
    "\n",
    "There are a number of exceptions and error codes you need to be familiar with when using the Requests library in Python.\n",
    "\n",
    "- The Requests library will raise a ConnectionError exception if there is a network problem like a DNS failure, or refused connection\n",
    "- These are rare, but with invalid HTTP responses, Requests will also raise an HTTPError exception\n",
    "- A Timeout exception will be raised if a request times out\n",
    "- If and when a request exceeds the preconfigured number of maximum redirections, then a TooManyRedirects exception will be raised"
   ]
  },
  {
   "cell_type": "markdown",
   "metadata": {},
   "source": [
    "## Another Way to Deal with APIs\n",
    "\n",
    "Check out [Postman](https://www.getpostman.com/)."
   ]
  },
  {
   "cell_type": "markdown",
   "metadata": {},
   "source": [
    "# Gotta Catch 'Em All! Using the Pokemon API\n",
    "\n",
    "https://pokeapi.co/\n",
    "\n",
    "Nice place to start because there's no login details or credentials to fuss with\n",
    "\n",
    "For now, just want to explore grabbing the Types of different Pokemon.\n",
    "\n",
    "Useful documentation links:\n",
    "- Pokemon endpoint: https://pokeapi.co/docs/v2#pokemon \n",
    "    - `https://pokeapi.co/api/v2/pokemon/{id or name}/`\n",
    "- Type endpoint: https://pokeapi.co/docs/v2#types\n",
    "    - `https://pokeapi.co/api/v2/type/{id or name}/`"
   ]
  },
  {
   "cell_type": "markdown",
   "metadata": {},
   "source": [
    "### Start by exploring the response from the Pokemon endpoint\n",
    "\n",
    "Going to start with Charmander, pokemon #4, cause he's one of my favorites\n",
    "\n",
    "<img src=\"https://i.pinimg.com/originals/e7/0e/d0/e70ed0b54f9230c56c2e3bd2958d68a4.jpg\" alt=\"adorable charmander found via pinterest\" width=150>\n",
    "\n",
    "[Image Source](https://www.pinterest.com/pin/419045940312305352/)"
   ]
  },
  {
   "cell_type": "code",
   "execution_count": 15,
   "metadata": {},
   "outputs": [],
   "source": [
    "# First, what endpoint url are we using?\n",
    "base_poke_url = \"https://pokeapi.co/api/v2/pokemon/\""
   ]
  },
  {
   "cell_type": "code",
   "execution_count": 16,
   "metadata": {},
   "outputs": [],
   "source": [
    "# How does that need to adapt for charmander?\n",
    "char_id = 4\n",
    "char_url = f\"{base_poke_url}{char_id}\""
   ]
  },
  {
   "cell_type": "code",
   "execution_count": 17,
   "metadata": {},
   "outputs": [
    {
     "name": "stdout",
     "output_type": "stream",
     "text": [
      "https://pokeapi.co/api/v2/pokemon/4\n"
     ]
    }
   ],
   "source": [
    "print(char_url)"
   ]
  },
  {
   "cell_type": "code",
   "execution_count": 18,
   "metadata": {},
   "outputs": [
    {
     "data": {
      "text/plain": [
       "200"
      ]
     },
     "execution_count": 18,
     "metadata": {},
     "output_type": "execute_result"
    }
   ],
   "source": [
    "# Check the status code, will this work?\n",
    "requests.get(char_url).status_code"
   ]
  },
  {
   "cell_type": "code",
   "execution_count": 22,
   "metadata": {},
   "outputs": [],
   "source": [
    "# Now let's actually get the response\n",
    "char_resp = requests.get(char_url).json()"
   ]
  },
  {
   "cell_type": "code",
   "execution_count": 24,
   "metadata": {},
   "outputs": [
    {
     "data": {
      "text/plain": [
       "dict_keys(['abilities', 'base_experience', 'forms', 'game_indices', 'height', 'held_items', 'id', 'is_default', 'location_area_encounters', 'moves', 'name', 'order', 'species', 'sprites', 'stats', 'types', 'weight'])"
      ]
     },
     "execution_count": 24,
     "metadata": {},
     "output_type": "execute_result"
    }
   ],
   "source": [
    "char_resp.keys()"
   ]
  },
  {
   "cell_type": "code",
   "execution_count": 25,
   "metadata": {},
   "outputs": [
    {
     "data": {
      "text/plain": [
       "'charmander'"
      ]
     },
     "execution_count": 25,
     "metadata": {},
     "output_type": "execute_result"
    }
   ],
   "source": [
    "# Let's check out some details about the response\n",
    "char_resp['name']"
   ]
  },
  {
   "cell_type": "code",
   "execution_count": 46,
   "metadata": {},
   "outputs": [
    {
     "data": {
      "text/plain": [
       "'fire'"
      ]
     },
     "execution_count": 46,
     "metadata": {},
     "output_type": "execute_result"
    }
   ],
   "source": [
    "char_resp['types'][0]['type']['name']"
   ]
  },
  {
   "cell_type": "code",
   "execution_count": 27,
   "metadata": {
    "scrolled": true
   },
   "outputs": [
    {
     "data": {
      "text/plain": [
       "6"
      ]
     },
     "execution_count": 27,
     "metadata": {},
     "output_type": "execute_result"
    }
   ],
   "source": [
    "char_resp['height']"
   ]
  },
  {
   "cell_type": "code",
   "execution_count": 28,
   "metadata": {
    "scrolled": true
   },
   "outputs": [
    {
     "data": {
      "text/plain": [
       "85"
      ]
     },
     "execution_count": 28,
     "metadata": {},
     "output_type": "execute_result"
    }
   ],
   "source": [
    "char_resp['weight']"
   ]
  },
  {
   "cell_type": "code",
   "execution_count": 30,
   "metadata": {},
   "outputs": [],
   "source": [
    "gre_url = f\"{base_poke_url}greninja\""
   ]
  },
  {
   "cell_type": "code",
   "execution_count": 31,
   "metadata": {},
   "outputs": [],
   "source": [
    "gre_resp = requests.get(gre_url).json()"
   ]
  },
  {
   "cell_type": "code",
   "execution_count": 39,
   "metadata": {},
   "outputs": [
    {
     "data": {
      "text/plain": [
       "2"
      ]
     },
     "execution_count": 39,
     "metadata": {},
     "output_type": "execute_result"
    }
   ],
   "source": [
    "len(gre_resp['types'])"
   ]
  },
  {
   "cell_type": "code",
   "execution_count": 37,
   "metadata": {},
   "outputs": [
    {
     "data": {
      "text/plain": [
       "dict_keys(['abilities', 'base_experience', 'forms', 'game_indices', 'height', 'held_items', 'id', 'is_default', 'location_area_encounters', 'moves', 'name', 'order', 'species', 'sprites', 'stats', 'types', 'weight'])"
      ]
     },
     "execution_count": 37,
     "metadata": {},
     "output_type": "execute_result"
    }
   ],
   "source": [
    "gre_resp.keys()"
   ]
  },
  {
   "cell_type": "code",
   "execution_count": 38,
   "metadata": {
    "scrolled": true
   },
   "outputs": [
    {
     "data": {
      "text/plain": [
       "658"
      ]
     },
     "execution_count": 38,
     "metadata": {},
     "output_type": "execute_result"
    }
   ],
   "source": [
    "gre_resp['id']"
   ]
  },
  {
   "cell_type": "code",
   "execution_count": 47,
   "metadata": {},
   "outputs": [
    {
     "data": {
      "text/plain": [
       "'dark'"
      ]
     },
     "execution_count": 47,
     "metadata": {},
     "output_type": "execute_result"
    }
   ],
   "source": [
    "gre_resp['types'][1]['type']['name']"
   ]
  },
  {
   "cell_type": "markdown",
   "metadata": {},
   "source": [
    "#### Challenge!\n",
    "\n",
    "Let's write a function that, given a response from this API's pokemon endpoint, returns a list of the ID, name, primary type and secondary type for that pokemon."
   ]
  },
  {
   "cell_type": "code",
   "execution_count": 48,
   "metadata": {},
   "outputs": [],
   "source": [
    "def get_pokemon_details(poke_resp):\n",
    "    '''\n",
    "    inputs:\n",
    "    poke_resp - expects json/dict\n",
    "    \n",
    "    outputs: \n",
    "    list of id, pokemon name, primary type and secondary type \n",
    "    '''\n",
    "    poke_id = poke_resp['id']\n",
    "    \n",
    "    poke_name = poke_resp['name']\n",
    "    \n",
    "    primary_type = poke_resp['types'][0]['type']['name']\n",
    "    \n",
    "    if len(poke_resp['types']) == 2:\n",
    "        secondary_type = poke_resp['types'][1]['type']['name']\n",
    "    else:\n",
    "        secondary_type = 'None'\n",
    "        \n",
    "    return [poke_id, poke_name, primary_type, secondary_type]"
   ]
  },
  {
   "cell_type": "code",
   "execution_count": 53,
   "metadata": {},
   "outputs": [],
   "source": [
    "# Let's test our function on the 3 original starter pokemon\n",
    "original_starters = list(range(1, 8, 3))"
   ]
  },
  {
   "cell_type": "code",
   "execution_count": 96,
   "metadata": {
    "scrolled": true
   },
   "outputs": [
    {
     "data": {
      "text/plain": [
       "[1, 4, 7]"
      ]
     },
     "execution_count": 96,
     "metadata": {},
     "output_type": "execute_result"
    }
   ],
   "source": [
    "original_starters"
   ]
  },
  {
   "cell_type": "code",
   "execution_count": 97,
   "metadata": {},
   "outputs": [
    {
     "name": "stdout",
     "output_type": "stream",
     "text": [
      "[1, 'bulbasaur', 'grass', 'poison']\n",
      "[4, 'charmander', 'fire', 'None']\n",
      "[7, 'squirtle', 'water', 'None']\n"
     ]
    }
   ],
   "source": [
    "for poke_id in original_starters:\n",
    "    poke_url = f\"{base_poke_url}{poke_id}\"\n",
    "    poke_resp = requests.get(poke_url).json()\n",
    "    print(get_pokemon_details(poke_resp))"
   ]
  },
  {
   "cell_type": "markdown",
   "metadata": {},
   "source": [
    "### Moving to Pandas\n",
    "\n",
    "Let's get all of these details for all of the original 151 pokemon! And save them to a Pandas dataframe."
   ]
  },
  {
   "cell_type": "code",
   "execution_count": 56,
   "metadata": {},
   "outputs": [],
   "source": [
    "# Need to import pandas\n",
    "import pandas as pd"
   ]
  },
  {
   "cell_type": "code",
   "execution_count": 67,
   "metadata": {},
   "outputs": [],
   "source": [
    "# Let's go ahead and define what our columns will be\n",
    "col_names = ['id', 'name', 'primary type', 'secondary type']"
   ]
  },
  {
   "cell_type": "code",
   "execution_count": 57,
   "metadata": {},
   "outputs": [],
   "source": [
    "# Define a list of our 151 pokemon ids\n",
    "original_151 = list(range(1, 152))"
   ]
  },
  {
   "cell_type": "code",
   "execution_count": 63,
   "metadata": {},
   "outputs": [
    {
     "data": {
      "text/plain": [
       "[1, 2, 3, 4, 5]"
      ]
     },
     "execution_count": 63,
     "metadata": {},
     "output_type": "execute_result"
    }
   ],
   "source": [
    "original_151[:5]"
   ]
  },
  {
   "cell_type": "markdown",
   "metadata": {},
   "source": [
    "So we're going to make 151 requests... don't want to overload the API endpoint! So let's use the time library to space out our requests."
   ]
  },
  {
   "cell_type": "code",
   "execution_count": 64,
   "metadata": {},
   "outputs": [],
   "source": [
    "import time"
   ]
  },
  {
   "cell_type": "code",
   "execution_count": 99,
   "metadata": {},
   "outputs": [],
   "source": [
    "# Easiest way to do this will be to have a list of lists, then concat them all\n",
    "\n",
    "# Define a blank list to capture all the pokemon details\n",
    "row_list = []\n",
    "# And then loop over our pokemon ids!\n",
    "for poke_id in original_151:\n",
    "    poke_url = f\"{base_poke_url}{poke_id}\"\n",
    "    poke_resp = requests.get(poke_url).json()\n",
    "    poke_row = get_pokemon_details(poke_resp)\n",
    "    row_list.append(poke_row)\n",
    "    time.sleep(.5)"
   ]
  },
  {
   "cell_type": "code",
   "execution_count": 68,
   "metadata": {},
   "outputs": [],
   "source": [
    "# Then, concat everything into one df\n",
    "# Reference: https://pandas.pydata.org/pandas-docs/stable/reference/api/pandas.DataFrame.append.html\n",
    "poke_df = pd.concat([pd.DataFrame([i], columns=col_names) for i in row_list],\n",
    "                    ignore_index=True)"
   ]
  },
  {
   "cell_type": "code",
   "execution_count": 95,
   "metadata": {},
   "outputs": [
    {
     "data": {
      "text/html": [
       "<div>\n",
       "<style scoped>\n",
       "    .dataframe tbody tr th:only-of-type {\n",
       "        vertical-align: middle;\n",
       "    }\n",
       "\n",
       "    .dataframe tbody tr th {\n",
       "        vertical-align: top;\n",
       "    }\n",
       "\n",
       "    .dataframe thead th {\n",
       "        text-align: right;\n",
       "    }\n",
       "</style>\n",
       "<table border=\"1\" class=\"dataframe\">\n",
       "  <thead>\n",
       "    <tr style=\"text-align: right;\">\n",
       "      <th></th>\n",
       "      <th>id</th>\n",
       "      <th>name</th>\n",
       "      <th>primary type</th>\n",
       "      <th>secondary type</th>\n",
       "    </tr>\n",
       "  </thead>\n",
       "  <tbody>\n",
       "    <tr>\n",
       "      <th>0</th>\n",
       "      <td>1</td>\n",
       "      <td>bulbasaur</td>\n",
       "      <td>grass</td>\n",
       "      <td>poison</td>\n",
       "    </tr>\n",
       "    <tr>\n",
       "      <th>1</th>\n",
       "      <td>2</td>\n",
       "      <td>ivysaur</td>\n",
       "      <td>grass</td>\n",
       "      <td>poison</td>\n",
       "    </tr>\n",
       "    <tr>\n",
       "      <th>2</th>\n",
       "      <td>3</td>\n",
       "      <td>venusaur</td>\n",
       "      <td>grass</td>\n",
       "      <td>poison</td>\n",
       "    </tr>\n",
       "    <tr>\n",
       "      <th>3</th>\n",
       "      <td>4</td>\n",
       "      <td>charmander</td>\n",
       "      <td>fire</td>\n",
       "      <td>None</td>\n",
       "    </tr>\n",
       "    <tr>\n",
       "      <th>4</th>\n",
       "      <td>5</td>\n",
       "      <td>charmeleon</td>\n",
       "      <td>fire</td>\n",
       "      <td>None</td>\n",
       "    </tr>\n",
       "    <tr>\n",
       "      <th>...</th>\n",
       "      <td>...</td>\n",
       "      <td>...</td>\n",
       "      <td>...</td>\n",
       "      <td>...</td>\n",
       "    </tr>\n",
       "    <tr>\n",
       "      <th>146</th>\n",
       "      <td>147</td>\n",
       "      <td>dratini</td>\n",
       "      <td>dragon</td>\n",
       "      <td>None</td>\n",
       "    </tr>\n",
       "    <tr>\n",
       "      <th>147</th>\n",
       "      <td>148</td>\n",
       "      <td>dragonair</td>\n",
       "      <td>dragon</td>\n",
       "      <td>None</td>\n",
       "    </tr>\n",
       "    <tr>\n",
       "      <th>148</th>\n",
       "      <td>149</td>\n",
       "      <td>dragonite</td>\n",
       "      <td>dragon</td>\n",
       "      <td>flying</td>\n",
       "    </tr>\n",
       "    <tr>\n",
       "      <th>149</th>\n",
       "      <td>150</td>\n",
       "      <td>mewtwo</td>\n",
       "      <td>psychic</td>\n",
       "      <td>None</td>\n",
       "    </tr>\n",
       "    <tr>\n",
       "      <th>150</th>\n",
       "      <td>151</td>\n",
       "      <td>mew</td>\n",
       "      <td>psychic</td>\n",
       "      <td>None</td>\n",
       "    </tr>\n",
       "  </tbody>\n",
       "</table>\n",
       "<p>151 rows × 4 columns</p>\n",
       "</div>"
      ],
      "text/plain": [
       "      id        name primary type secondary type\n",
       "0      1   bulbasaur        grass         poison\n",
       "1      2     ivysaur        grass         poison\n",
       "2      3    venusaur        grass         poison\n",
       "3      4  charmander         fire           None\n",
       "4      5  charmeleon         fire           None\n",
       "..   ...         ...          ...            ...\n",
       "146  147     dratini       dragon           None\n",
       "147  148   dragonair       dragon           None\n",
       "148  149   dragonite       dragon         flying\n",
       "149  150      mewtwo      psychic           None\n",
       "150  151         mew      psychic           None\n",
       "\n",
       "[151 rows x 4 columns]"
      ]
     },
     "execution_count": 95,
     "metadata": {},
     "output_type": "execute_result"
    }
   ],
   "source": [
    "poke_df"
   ]
  },
  {
   "cell_type": "code",
   "execution_count": 72,
   "metadata": {},
   "outputs": [],
   "source": [
    "prim_type_count = poke_df.groupby('primary type').count()['id']"
   ]
  },
  {
   "cell_type": "code",
   "execution_count": 82,
   "metadata": {},
   "outputs": [],
   "source": [
    "prim_type_count = prim_type_count.sort_values(ascending=False)"
   ]
  },
  {
   "cell_type": "code",
   "execution_count": 85,
   "metadata": {},
   "outputs": [
    {
     "data": {
      "text/plain": [
       "([0, 1, 2, 3, 4, 5, 6, 7, 8, 9, 10, 11, 12, 13, 14],\n",
       " <a list of 15 Text xticklabel objects>)"
      ]
     },
     "execution_count": 85,
     "metadata": {},
     "output_type": "execute_result"
    },
    {
     "data": {
      "image/png": "[encoded data removed]",
      "text/plain": [
       "<Figure size 720x576 with 1 Axes>"
      ]
     },
     "metadata": {
      "needs_background": "light"
     },
     "output_type": "display_data"
    }
   ],
   "source": [
    "# visualize it!\n",
    "import matplotlib.pyplot as plt\n",
    "\n",
    "# Let's plot a bar graph of our primary types\n",
    "plt.figure(figsize=(10,8))\n",
    "plt.bar(prim_type_count.index, prim_type_count)\n",
    "plt.xticks(rotation=45)"
   ]
  },
  {
   "cell_type": "markdown",
   "metadata": {},
   "source": [
    "![monty python gif - and now for something completely different, from giphy](https://media.giphy.com/media/xznyPebL28X5u/giphy.gif)"
   ]
  },
  {
   "cell_type": "markdown",
   "metadata": {},
   "source": [
    "# Movie Time!\n",
    "\n",
    "Let's practice with an API that actually requires some authorization, in the form of an API Key!"
   ]
  },
  {
   "cell_type": "markdown",
   "metadata": {},
   "source": [
    "# **NEVER EVER PUT YOUR API KEY ON GITHUB**\n",
    "\n",
    "Either create a json file with API keys in a different directory, or create a python file with the key saved as a variable that you can call. (There are even more options than that, but these are two easily-accessible ones)"
   ]
  },
  {
   "cell_type": "code",
   "execution_count": 86,
   "metadata": {},
   "outputs": [],
   "source": [
    "# Option 1: use a json file saved to some other folder outside your Git repo\n",
    "\n",
    "# Need to import json to do this\n",
    "import json\n",
    "\n",
    "# Define a function to open the json\n",
    "def get_keys(path):\n",
    "    with open(path) as f:\n",
    "        return json.load(f)\n",
    "\n",
    "# Using the function to open and load all keys in that file \n",
    "api_keys = get_keys(\"/Users/lberlin/secrets/api.json\")\n",
    "\n",
    "# Setting the first (and only) value as a variable\n",
    "tmdb_key_1 = api_keys['tmdb_key']"
   ]
  },
  {
   "cell_type": "code",
   "execution_count": 125,
   "metadata": {},
   "outputs": [],
   "source": [
    "# Option 2: use a python file that's been added to your .gitignore\n",
    "\n",
    "# Let's do this together! In a new terminal window,\n",
    "# Create a file called keys.py in this repo, and I'll save my api key as\n",
    "# tmdb_api_key = \"[key]\"\n",
    "\n",
    "from keys import tmdb_api_key\n",
    "\n",
    "tmdb_key_2 = tmdb_api_key\n",
    "\n",
    "# Then let's edit our .gitignore file together"
   ]
  },
  {
   "cell_type": "code",
   "execution_count": 127,
   "metadata": {},
   "outputs": [
    {
     "data": {
      "text/plain": [
       "True"
      ]
     },
     "execution_count": 127,
     "metadata": {},
     "output_type": "execute_result"
    }
   ],
   "source": [
    "tmdb_key_1 == tmdb_key_2"
   ]
  },
  {
   "cell_type": "markdown",
   "metadata": {},
   "source": [
    "**Just as important!** You may want to call the variable you've set to check that the API key is rendering correctly - but **be sure to clear the output of that cell** or else the output will show your key! And then if you push to GitHub it'll push that output to the internet which defeats the whole point of saving your key elsewhere!"
   ]
  },
  {
   "cell_type": "markdown",
   "metadata": {},
   "source": [
    "### And now, accessing movie data\n",
    "\n",
    "Documentation: https://developers.themoviedb.org/3"
   ]
  },
  {
   "cell_type": "code",
   "execution_count": 92,
   "metadata": {},
   "outputs": [],
   "source": [
    "# Default URL given as an example... let's see what it is!\n",
    "test_url = f\"https://api.themoviedb.org/3/movie/550?api_key={tmdb_key_1}\""
   ]
  },
  {
   "cell_type": "code",
   "execution_count": 93,
   "metadata": {},
   "outputs": [],
   "source": [
    "# Let's get the response and explore it\n",
    "test_resp = requests.get(test_url).json()"
   ]
  },
  {
   "cell_type": "code",
   "execution_count": 94,
   "metadata": {},
   "outputs": [
    {
     "data": {
      "text/plain": [
       "{'adult': False,\n",
       " 'backdrop_path': '/rr7E0NoGKxvbkb89eR1GwfoYjpA.jpg',\n",
       " 'belongs_to_collection': None,\n",
       " 'budget': 63000000,\n",
       " 'genres': [{'id': 18, 'name': 'Drama'}],\n",
       " 'homepage': 'http://www.foxmovies.com/movies/fight-club',\n",
       " 'id': 550,\n",
       " 'imdb_id': 'tt0137523',\n",
       " 'original_language': 'en',\n",
       " 'original_title': 'Fight Club',\n",
       " 'overview': 'A ticking-time-bomb insomniac and a slippery soap salesman channel primal male aggression into a shocking new form of therapy. Their concept catches on, with underground \"fight clubs\" forming in every town, until an eccentric gets in the way and ignites an out-of-control spiral toward oblivion.',\n",
       " 'popularity': 42.777,\n",
       " 'poster_path': '/pB8BM7pdSp6B6Ih7QZ4DrQ3PmJK.jpg',\n",
       " 'production_companies': [{'id': 508,\n",
       "   'logo_path': '/7PzJdsLGlR7oW4J0J5Xcd0pHGRg.png',\n",
       "   'name': 'Regency Enterprises',\n",
       "   'origin_country': 'US'},\n",
       "  {'id': 711,\n",
       "   'logo_path': '/tEiIH5QesdheJmDAqQwvtN60727.png',\n",
       "   'name': 'Fox 2000 Pictures',\n",
       "   'origin_country': 'US'},\n",
       "  {'id': 20555,\n",
       "   'logo_path': '/hD8yEGUBlHOcfHYbujp71vD8gZp.png',\n",
       "   'name': 'Taurus Film',\n",
       "   'origin_country': 'DE'},\n",
       "  {'id': 54051,\n",
       "   'logo_path': None,\n",
       "   'name': 'Atman Entertainment',\n",
       "   'origin_country': ''},\n",
       "  {'id': 54052,\n",
       "   'logo_path': None,\n",
       "   'name': 'Knickerbocker Films',\n",
       "   'origin_country': 'US'},\n",
       "  {'id': 25,\n",
       "   'logo_path': '/qZCc1lty5FzX30aOCVRBLzaVmcp.png',\n",
       "   'name': '20th Century Fox',\n",
       "   'origin_country': 'US'},\n",
       "  {'id': 4700,\n",
       "   'logo_path': '/A32wmjrs9Psf4zw0uaixF0GXfxq.png',\n",
       "   'name': 'The Linson Company',\n",
       "   'origin_country': ''}],\n",
       " 'production_countries': [{'iso_3166_1': 'DE', 'name': 'Germany'},\n",
       "  {'iso_3166_1': 'US', 'name': 'United States of America'}],\n",
       " 'release_date': '1999-10-15',\n",
       " 'revenue': 100853753,\n",
       " 'runtime': 139,\n",
       " 'spoken_languages': [{'iso_639_1': 'en', 'name': 'English'}],\n",
       " 'status': 'Released',\n",
       " 'tagline': 'Mischief. Mayhem. Soap.',\n",
       " 'title': 'Fight Club',\n",
       " 'video': False,\n",
       " 'vote_average': 8.4,\n",
       " 'vote_count': 20300}"
      ]
     },
     "execution_count": 94,
     "metadata": {},
     "output_type": "execute_result"
    }
   ],
   "source": [
    "test_resp"
   ]
  },
  {
   "cell_type": "code",
   "execution_count": 101,
   "metadata": {},
   "outputs": [],
   "source": [
    "# Cool, that worked, let's set a base_url\n",
    "base_url = \"https://api.themoviedb.org/3/movie/\""
   ]
  },
  {
   "cell_type": "code",
   "execution_count": 113,
   "metadata": {},
   "outputs": [],
   "source": [
    "# Find similar movies to the previous id\n",
    "# https://developers.themoviedb.org/3/movies/get-similar-movies\n",
    "movie_id = 550 # fight club, from before\n",
    "similar_url = f\"{base_url}{movie_id}/similar?api_key={tmdb_key_1}\""
   ]
  },
  {
   "cell_type": "code",
   "execution_count": 114,
   "metadata": {},
   "outputs": [],
   "source": [
    "similar_resp = requests.get(similar_url).json()"
   ]
  },
  {
   "cell_type": "code",
   "execution_count": 115,
   "metadata": {},
   "outputs": [
    {
     "data": {
      "text/plain": [
       "dict_keys(['page', 'results', 'total_pages', 'total_results'])"
      ]
     },
     "execution_count": 115,
     "metadata": {},
     "output_type": "execute_result"
    }
   ],
   "source": [
    "similar_resp.keys()"
   ]
  },
  {
   "cell_type": "code",
   "execution_count": 116,
   "metadata": {},
   "outputs": [
    {
     "data": {
      "text/plain": [
       "446"
      ]
     },
     "execution_count": 116,
     "metadata": {},
     "output_type": "execute_result"
    }
   ],
   "source": [
    "# How many similar movies did it find?\n",
    "similar_resp['total_results']"
   ]
  },
  {
   "cell_type": "code",
   "execution_count": 117,
   "metadata": {},
   "outputs": [
    {
     "data": {
      "text/plain": [
       "20"
      ]
     },
     "execution_count": 117,
     "metadata": {},
     "output_type": "execute_result"
    }
   ],
   "source": [
    "# but is that the length of these results?\n",
    "len(similar_resp['results'])"
   ]
  },
  {
   "cell_type": "code",
   "execution_count": 118,
   "metadata": {},
   "outputs": [
    {
     "data": {
      "text/plain": [
       "23"
      ]
     },
     "execution_count": 118,
     "metadata": {},
     "output_type": "execute_result"
    }
   ],
   "source": [
    "# No - because there are multiple pages of results\n",
    "similar_resp['total_pages']"
   ]
  },
  {
   "cell_type": "code",
   "execution_count": 119,
   "metadata": {
    "scrolled": true
   },
   "outputs": [
    {
     "data": {
      "text/plain": [
       "['Blade Runner',\n",
       " 'The Darkest Minds',\n",
       " 'A Clockwork Orange',\n",
       " 'Metropolis',\n",
       " 'Divergent',\n",
       " 'Ready Player One',\n",
       " 'The Giver',\n",
       " 'Little Big Man',\n",
       " 'The Muppet Christmas Carol',\n",
       " 'Mortal Engines',\n",
       " 'The Maze Runner',\n",
       " 'Maze Runner: The Scorch Trials',\n",
       " 'The Matrix Reloaded',\n",
       " 'Maze Runner: The Death Cure',\n",
       " 'The Hunger Games',\n",
       " 'Warm Bodies',\n",
       " 'Pride and Prejudice and Zombies',\n",
       " 'Minority Report',\n",
       " 'Insurgent',\n",
       " 'The Hunger Games: Mockingjay - Part 2']"
      ]
     },
     "execution_count": 119,
     "metadata": {},
     "output_type": "execute_result"
    }
   ],
   "source": [
    "# what's in here?\n",
    "[x['title'] for x in similar_resp['results']]"
   ]
  },
  {
   "cell_type": "markdown",
   "metadata": {
    "slideshow": {
     "slide_type": "slide"
    }
   },
   "source": [
    "-----\n",
    "\n",
    "## Extra credit - Further Practice\n",
    "\n",
    "There are many ways to access data through APIs! [Sodapy](https://github.com/xmunoz/sodapy) is the Python client for the Socrata Open Data API."
   ]
  },
  {
   "cell_type": "code",
   "execution_count": null,
   "metadata": {},
   "outputs": [],
   "source": [
    "# Install before running \n",
    "# !pip install sodapy"
   ]
  },
  {
   "cell_type": "markdown",
   "metadata": {
    "slideshow": {
     "slide_type": "-"
    }
   },
   "source": [
    "#### Tokenize yourself!\n",
    "\n",
    "https://dev.socrata.com/foundry/data.cityofnewyork.us/fhrw-4uyv\n",
    "\n",
    "Scroll down and click to sign up for an app token! No credit cards required!"
   ]
  },
  {
   "cell_type": "code",
   "execution_count": null,
   "metadata": {},
   "outputs": [],
   "source": [
    "token = '' # paste your token here \n",
    "\n",
    "from sodapy import Socrata\n",
    "\n",
    "# Unauthenticated client only works with public data sets. Note 'None'\n",
    "# in place of application token, and no username or password:\n",
    "client = Socrata(\"data.cityofnewyork.us\", token)\n",
    "\n",
    "# Example authenticated client (needed for non-public datasets):\n",
    "# client = Socrata(data.cityofnewyork.us,\n",
    "#                  MyAppToken,\n",
    "#                  userame=\"user@example.com\",\n",
    "#                  password=\"AFakePassword\")\n",
    "\n",
    "# First 2000 results, returned as JSON from API / converted to Python list of\n",
    "# dictionaries by sodapy.\n",
    "results = client.get(\"fhrw-4uyv\", incident_zip = '11004', limit=1000)"
   ]
  },
  {
   "cell_type": "code",
   "execution_count": null,
   "metadata": {
    "slideshow": {
     "slide_type": "-"
    }
   },
   "outputs": [],
   "source": [
    "type(results)"
   ]
  },
  {
   "cell_type": "code",
   "execution_count": null,
   "metadata": {
    "slideshow": {
     "slide_type": "-"
    }
   },
   "outputs": [],
   "source": [
    "len(results)"
   ]
  },
  {
   "cell_type": "code",
   "execution_count": null,
   "metadata": {
    "slideshow": {
     "slide_type": "-"
    }
   },
   "outputs": [],
   "source": [
    "results[0]"
   ]
  },
  {
   "cell_type": "code",
   "execution_count": null,
   "metadata": {
    "slideshow": {
     "slide_type": "-"
    }
   },
   "outputs": [],
   "source": [
    "df_soda = pd.DataFrame(results)\n",
    "\n",
    "print(len(df_soda))\n",
    "print(df_soda.columns)\n",
    "df_soda.head()"
   ]
  },
  {
   "cell_type": "markdown",
   "metadata": {
    "slideshow": {
     "slide_type": "slide"
    }
   },
   "source": [
    "## Even Further Practice\n",
    "\n",
    "https://github.com/toddmotto/public-apis\n",
    "\n",
    "Find a buddy, find a free api, get a key, and do a GET. Try to transform the response into a dataframe."
   ]
  },
  {
   "cell_type": "code",
   "execution_count": null,
   "metadata": {},
   "outputs": [],
   "source": []
  }
 ],
 "metadata": {
  "kernelspec": {
   "display_name": "Python 3",
   "language": "python",
   "name": "python3"
  },
  "language_info": {
   "codemirror_mode": {
    "name": "ipython",
    "version": 3
   },
   "file_extension": ".py",
   "mimetype": "text/x-python",
   "name": "python",
   "nbconvert_exporter": "python",
   "pygments_lexer": "ipython3",
   "version": "3.6.9"
  }
 },
 "nbformat": 4,
 "nbformat_minor": 2
}
