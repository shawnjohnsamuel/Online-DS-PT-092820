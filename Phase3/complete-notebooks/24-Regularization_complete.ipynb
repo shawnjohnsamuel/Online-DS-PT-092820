{
 "cells": [
  {
   "cell_type": "markdown",
   "metadata": {},
   "source": [
    "# Regularization\n",
    "\n",
    "## Why Regularize?\n",
    "\n",
    "In an attempt to fit a good model to data, we often tend to overfit. Regularization discourages overly complex models by penalizing the loss function.\n",
    "\n",
    "### The Bias-Variance Tradeoff\n",
    "\n",
    "When we did Linear Regression, we briefly talked about the Bias-Variance Tradeoff.\n",
    "\n",
    "![](http://scott.fortmann-roe.com/docs/docs/BiasVariance/biasvariance.png)\n",
    "\n",
    "![](https://miro.medium.com/max/544/1*Y-yJiR0FzMgchPA-Fm5c1Q.jpeg)"
   ]
  },
  {
   "cell_type": "markdown",
   "metadata": {},
   "source": [
    "**High bias** \n",
    "\n",
    " - Systematic error in predictions (i.e. the average)\n",
    " - Bias is about the strength of assumptions the model makes\n",
    " - Underfit models tend to have high bias\n",
    "\n",
    "\n",
    "**High variance**\n",
    "\n",
    " - The model is highly sensitive to changes in the data\n",
    " - Overfit models tend to have low bias and high variance\n",
    "    \n",
    "    \n",
    "![](https://gblobscdn.gitbook.com/assets%2F-LvBP1svpACTB1R1x_U4%2F-LvNWUoWieQqaGmU_gl9%2F-LvNoby-llz4QzAK15nL%2Fimage.png?alt=media&token=41720ce9-bb66-4419-9bd8-640abf1fc415)\n",
    "\n",
    " - Underfit Models fail to capture all of the information in the data\n",
    " - Overfit models fit to the noise in the data and fail to generalize\n",
    "\n",
    "\n",
    "**How would we know if our model is over or underfit?**\n",
    " - Train test split & look at the testing error\n",
    " - As model complexity increases so does the possibility for overfitting"
   ]
  },
  {
   "cell_type": "markdown",
   "metadata": {},
   "source": [
    "## Ridge and Lasso\n",
    "\n",
    "Ridge and Lasso regression are two examples of penalized estimation. Penalized estimation makes some or all of the coefficients smaller in magnitude (closer to zero). Some of the penalties have the property of performing both variable selection (setting some coefficients exactly equal to zero) and shrinking the other coefficients. \n",
    "\n",
    "In Ridge regression, the cost function is changed by adding a penalty term to the square of the magnitude of the coefficients. \n",
    "\n",
    "$$ \\text{cost_function_ridge}= \\sum_{i=1}^n(y_i - \\hat{y})^2 = \\sum_{i=1}^n(y_i - \\sum_{j=1}^k(m_jx_{ij})-b)^2 + \\lambda \\sum_{j=1}^p m_j^2$$\n",
    "\n",
    "Lasso regression (Least Absolute Shrinkage and Selection Operator) is very similar to Ridge regression, except that the magnitude of the coefficients are not squared in the penalty term.\n",
    "\n",
    "$$ \\text{cost_function_lasso}= \\sum_{i=1}^n(y_i - \\hat{y})^2 = \\sum_{i=1}^n(y_i - \\sum_{j=1}^k(m_jx_{ij})-b)^2 + \\lambda \\sum_{j=1}^p \\mid m_j \\mid$$\n",
    "\n",
    "So we're penalizing large coefficients -- what are the effects/implications of that?\n",
    "\n",
    "### Standardization before Regularization\n",
    "\n",
    "An important step before using either Lasso or Ridge regularization is to first standardize your data such that it is all on the same scale. Regularization is based on the concept of penalizing larger coefficients, so **if you have features that are on different scales, some will get unfairly penalized**. A downside of standardization is that the value of the coefficients become less interpretable and must be transformed back to their original scale if you want to interpret how a one unit change in a feature impacts the target variable.\n",
    "\n",
    "**Scaler documentation:**\n",
    "\n",
    "* https://scikit-learn.org/stable/modules/generated/sklearn.preprocessing.MinMaxScaler.html\n",
    "* https://scikit-learn.org/stable/modules/generated/sklearn.preprocessing.StandardScaler.html"
   ]
  },
  {
   "cell_type": "markdown",
   "metadata": {},
   "source": [
    "## Let's Code! \n",
    "\n",
    "Start with a regular Linear Regression."
   ]
  },
  {
   "cell_type": "code",
   "execution_count": 1,
   "metadata": {},
   "outputs": [],
   "source": [
    "import pandas as pd\n",
    "import numpy as np\n",
    "\n",
    "import matplotlib.pyplot as plt\n",
    "\n",
    "from sklearn.model_selection import train_test_split\n",
    "from sklearn.metrics import mean_squared_error, r2_score\n",
    "from sklearn.linear_model import LinearRegression\n",
    "from sklearn.impute import SimpleImputer\n",
    "from sklearn.preprocessing import StandardScaler, MinMaxScaler\n",
    "from sklearn.preprocessing import OneHotEncoder\n",
    "\n",
    "# import warnings\n",
    "# warnings.filterwarnings('ignore')"
   ]
  },
  {
   "cell_type": "code",
   "execution_count": 2,
   "metadata": {},
   "outputs": [],
   "source": [
    "df = pd.read_csv('data/ames_train.csv') # Ames housing data\n",
    "\n",
    "# Drop sale detail columns \n",
    "df = df.drop(columns = ['Id', 'MoSold', 'YrSold', 'SaleType', 'SaleCondition'])\n",
    "\n",
    "# Create X and y\n",
    "y = df['SalePrice']\n",
    "X = df.drop(columns=['SalePrice'], axis=1)\n",
    "\n",
    "# Split data into training and test sets\n",
    "X_train, X_test, y_train, y_test = train_test_split(X, y, random_state=42)"
   ]
  },
  {
   "cell_type": "markdown",
   "metadata": {},
   "source": [
    "### Time to Clean/Process"
   ]
  },
  {
   "cell_type": "code",
   "execution_count": 3,
   "metadata": {},
   "outputs": [
    {
     "name": "stdout",
     "output_type": "stream",
     "text": [
      "<class 'pandas.core.frame.DataFrame'>\n",
      "Int64Index: 1095 entries, 1023 to 1126\n",
      "Data columns (total 75 columns):\n",
      " #   Column         Non-Null Count  Dtype  \n",
      "---  ------         --------------  -----  \n",
      " 0   MSSubClass     1095 non-null   int64  \n",
      " 1   MSZoning       1095 non-null   object \n",
      " 2   LotFrontage    895 non-null    float64\n",
      " 3   LotArea        1095 non-null   int64  \n",
      " 4   Street         1095 non-null   object \n",
      " 5   Alley          70 non-null     object \n",
      " 6   LotShape       1095 non-null   object \n",
      " 7   LandContour    1095 non-null   object \n",
      " 8   Utilities      1095 non-null   object \n",
      " 9   LotConfig      1095 non-null   object \n",
      " 10  LandSlope      1095 non-null   object \n",
      " 11  Neighborhood   1095 non-null   object \n",
      " 12  Condition1     1095 non-null   object \n",
      " 13  Condition2     1095 non-null   object \n",
      " 14  BldgType       1095 non-null   object \n",
      " 15  HouseStyle     1095 non-null   object \n",
      " 16  OverallQual    1095 non-null   int64  \n",
      " 17  OverallCond    1095 non-null   int64  \n",
      " 18  YearBuilt      1095 non-null   int64  \n",
      " 19  YearRemodAdd   1095 non-null   int64  \n",
      " 20  RoofStyle      1095 non-null   object \n",
      " 21  RoofMatl       1095 non-null   object \n",
      " 22  Exterior1st    1095 non-null   object \n",
      " 23  Exterior2nd    1095 non-null   object \n",
      " 24  MasVnrType     1091 non-null   object \n",
      " 25  MasVnrArea     1091 non-null   float64\n",
      " 26  ExterQual      1095 non-null   object \n",
      " 27  ExterCond      1095 non-null   object \n",
      " 28  Foundation     1095 non-null   object \n",
      " 29  BsmtQual       1068 non-null   object \n",
      " 30  BsmtCond       1068 non-null   object \n",
      " 31  BsmtExposure   1068 non-null   object \n",
      " 32  BsmtFinType1   1068 non-null   object \n",
      " 33  BsmtFinSF1     1095 non-null   int64  \n",
      " 34  BsmtFinType2   1068 non-null   object \n",
      " 35  BsmtFinSF2     1095 non-null   int64  \n",
      " 36  BsmtUnfSF      1095 non-null   int64  \n",
      " 37  TotalBsmtSF    1095 non-null   int64  \n",
      " 38  Heating        1095 non-null   object \n",
      " 39  HeatingQC      1095 non-null   object \n",
      " 40  CentralAir     1095 non-null   object \n",
      " 41  Electrical     1094 non-null   object \n",
      " 42  1stFlrSF       1095 non-null   int64  \n",
      " 43  2ndFlrSF       1095 non-null   int64  \n",
      " 44  LowQualFinSF   1095 non-null   int64  \n",
      " 45  GrLivArea      1095 non-null   int64  \n",
      " 46  BsmtFullBath   1095 non-null   int64  \n",
      " 47  BsmtHalfBath   1095 non-null   int64  \n",
      " 48  FullBath       1095 non-null   int64  \n",
      " 49  HalfBath       1095 non-null   int64  \n",
      " 50  BedroomAbvGr   1095 non-null   int64  \n",
      " 51  KitchenAbvGr   1095 non-null   int64  \n",
      " 52  KitchenQual    1095 non-null   object \n",
      " 53  TotRmsAbvGrd   1095 non-null   int64  \n",
      " 54  Functional     1095 non-null   object \n",
      " 55  Fireplaces     1095 non-null   int64  \n",
      " 56  FireplaceQu    583 non-null    object \n",
      " 57  GarageType     1037 non-null   object \n",
      " 58  GarageYrBlt    1037 non-null   float64\n",
      " 59  GarageFinish   1037 non-null   object \n",
      " 60  GarageCars     1095 non-null   int64  \n",
      " 61  GarageArea     1095 non-null   int64  \n",
      " 62  GarageQual     1037 non-null   object \n",
      " 63  GarageCond     1037 non-null   object \n",
      " 64  PavedDrive     1095 non-null   object \n",
      " 65  WoodDeckSF     1095 non-null   int64  \n",
      " 66  OpenPorchSF    1095 non-null   int64  \n",
      " 67  EnclosedPorch  1095 non-null   int64  \n",
      " 68  3SsnPorch      1095 non-null   int64  \n",
      " 69  ScreenPorch    1095 non-null   int64  \n",
      " 70  PoolArea       1095 non-null   int64  \n",
      " 71  PoolQC         6 non-null      object \n",
      " 72  Fence          218 non-null    object \n",
      " 73  MiscFeature    43 non-null     object \n",
      " 74  MiscVal        1095 non-null   int64  \n",
      "dtypes: float64(3), int64(31), object(41)\n",
      "memory usage: 650.2+ KB\n"
     ]
    }
   ],
   "source": [
    "# Explore X_train\n",
    "X_train.info()"
   ]
  },
  {
   "cell_type": "code",
   "execution_count": 5,
   "metadata": {},
   "outputs": [
    {
     "data": {
      "text/plain": [
       "1095"
      ]
     },
     "execution_count": 5,
     "metadata": {},
     "output_type": "execute_result"
    }
   ],
   "source": [
    "len(X_train)"
   ]
  },
  {
   "cell_type": "code",
   "execution_count": 29,
   "metadata": {
    "scrolled": true
   },
   "outputs": [
    {
     "data": {
      "text/plain": [
       "GarageFinish    0.052968\n",
       "GarageType      0.052968\n",
       "GarageCond      0.052968\n",
       "GarageQual      0.052968\n",
       "GarageYrBlt     0.052968\n",
       "BsmtExposure    0.024658\n",
       "BsmtFinType2    0.024658\n",
       "BsmtCond        0.024658\n",
       "BsmtQual        0.024658\n",
       "BsmtFinType1    0.024658\n",
       "MasVnrType      0.003653\n",
       "MasVnrArea      0.003653\n",
       "Electrical      0.000913\n",
       "YearBuilt       0.000000\n",
       "ExterQual       0.000000\n",
       "dtype: float64"
      ]
     },
     "execution_count": 29,
     "metadata": {},
     "output_type": "execute_result"
    }
   ],
   "source": [
    "# Let's check the percentage of our training data that's null per column\n",
    "null_perc = X_train.isna().sum() / len(X_train)\n",
    "null_perc.sort_values(ascending=False).head(15)"
   ]
  },
  {
   "cell_type": "code",
   "execution_count": 18,
   "metadata": {},
   "outputs": [
    {
     "name": "stdout",
     "output_type": "stream",
     "text": [
      "['LotFrontage', 'Alley', 'FireplaceQu', 'PoolQC', 'Fence', 'MiscFeature']\n"
     ]
    }
   ],
   "source": [
    "# Drop where nulls are more than 10% of column\n",
    "null_cols_to_drop = list(null_perc.loc[null_perc > .1].index)\n",
    "print(null_cols_to_drop)\n",
    "\n",
    "X_train = X_train.drop(null_cols_to_drop, axis=1)\n",
    "X_test = X_test.drop(null_cols_to_drop, axis=1)"
   ]
  },
  {
   "cell_type": "code",
   "execution_count": 27,
   "metadata": {},
   "outputs": [],
   "source": [
    "# Start with the continuous variables\n",
    "\n",
    "# Grab only numeric features\n",
    "X_train['Fireplaces'].dtype\n",
    "\n",
    "num_types = ['int64', 'float64']\n",
    "\n",
    "num_cols = []\n",
    "for col in X_train.columns:\n",
    "    if X_train[col].dtype in num_types:\n",
    "        num_cols.append(col)\n",
    "        \n",
    "# list comprehension\n",
    "num_cols = [c for c in X_train.columns if X_train[c].dtype in num_types]"
   ]
  },
  {
   "cell_type": "code",
   "execution_count": 28,
   "metadata": {
    "scrolled": true
   },
   "outputs": [
    {
     "name": "stdout",
     "output_type": "stream",
     "text": [
      "<class 'pandas.core.frame.DataFrame'>\n",
      "Int64Index: 1095 entries, 1023 to 1126\n",
      "Data columns (total 33 columns):\n",
      " #   Column         Non-Null Count  Dtype  \n",
      "---  ------         --------------  -----  \n",
      " 0   MSSubClass     1095 non-null   int64  \n",
      " 1   LotArea        1095 non-null   int64  \n",
      " 2   OverallQual    1095 non-null   int64  \n",
      " 3   OverallCond    1095 non-null   int64  \n",
      " 4   YearBuilt      1095 non-null   int64  \n",
      " 5   YearRemodAdd   1095 non-null   int64  \n",
      " 6   MasVnrArea     1091 non-null   float64\n",
      " 7   BsmtFinSF1     1095 non-null   int64  \n",
      " 8   BsmtFinSF2     1095 non-null   int64  \n",
      " 9   BsmtUnfSF      1095 non-null   int64  \n",
      " 10  TotalBsmtSF    1095 non-null   int64  \n",
      " 11  1stFlrSF       1095 non-null   int64  \n",
      " 12  2ndFlrSF       1095 non-null   int64  \n",
      " 13  LowQualFinSF   1095 non-null   int64  \n",
      " 14  GrLivArea      1095 non-null   int64  \n",
      " 15  BsmtFullBath   1095 non-null   int64  \n",
      " 16  BsmtHalfBath   1095 non-null   int64  \n",
      " 17  FullBath       1095 non-null   int64  \n",
      " 18  HalfBath       1095 non-null   int64  \n",
      " 19  BedroomAbvGr   1095 non-null   int64  \n",
      " 20  KitchenAbvGr   1095 non-null   int64  \n",
      " 21  TotRmsAbvGrd   1095 non-null   int64  \n",
      " 22  Fireplaces     1095 non-null   int64  \n",
      " 23  GarageYrBlt    1037 non-null   float64\n",
      " 24  GarageCars     1095 non-null   int64  \n",
      " 25  GarageArea     1095 non-null   int64  \n",
      " 26  WoodDeckSF     1095 non-null   int64  \n",
      " 27  OpenPorchSF    1095 non-null   int64  \n",
      " 28  EnclosedPorch  1095 non-null   int64  \n",
      " 29  3SsnPorch      1095 non-null   int64  \n",
      " 30  ScreenPorch    1095 non-null   int64  \n",
      " 31  PoolArea       1095 non-null   int64  \n",
      " 32  MiscVal        1095 non-null   int64  \n",
      "dtypes: float64(2), int64(31)\n",
      "memory usage: 290.9 KB\n"
     ]
    }
   ],
   "source": [
    "X_train[num_cols].info()"
   ]
  },
  {
   "cell_type": "code",
   "execution_count": 30,
   "metadata": {},
   "outputs": [],
   "source": [
    "X_train_cont = X_train[num_cols]\n",
    "X_test_cont = X_test[num_cols]"
   ]
  },
  {
   "cell_type": "code",
   "execution_count": 34,
   "metadata": {},
   "outputs": [],
   "source": [
    "# Impute missing values with 0 using SimpleImputer\n",
    "# (most columns look like they just don't have details)\n",
    "\n",
    "imputer = SimpleImputer(strategy=\"constant\", fill_value=0)\n",
    "\n",
    "X_train_imputed = imputer.fit_transform(X_train_cont)\n",
    "X_test_imputed = imputer.transform(X_test_cont)\n"
   ]
  },
  {
   "cell_type": "code",
   "execution_count": 35,
   "metadata": {},
   "outputs": [],
   "source": [
    "# Scale the train and test data\n",
    "scaler = MinMaxScaler()\n",
    "\n",
    "X_train_imsc = scaler.fit_transform(X_train_imputed)\n",
    "X_test_imsc = scaler.transform(X_test_imputed)"
   ]
  },
  {
   "cell_type": "code",
   "execution_count": 37,
   "metadata": {},
   "outputs": [
    {
     "data": {
      "text/plain": [
       "1023    RL\n",
       "810     RL\n",
       "1384    RL\n",
       "626     RL\n",
       "813     RL\n",
       "        ..\n",
       "1095    RL\n",
       "1130    RL\n",
       "1294    RL\n",
       "860     RL\n",
       "1126    RL\n",
       "Name: MSZoning, Length: 1095, dtype: object"
      ]
     },
     "execution_count": 37,
     "metadata": {},
     "output_type": "execute_result"
    }
   ],
   "source": [
    "X_train['MSZoning']"
   ]
  },
  {
   "cell_type": "code",
   "execution_count": 39,
   "metadata": {},
   "outputs": [],
   "source": [
    "# Now time for the categorical columns\n",
    "\n",
    "# Create X_cat which contains only the categorical variables\n",
    "cat_cols = [c for c in X_train.columns if X_train[c].dtype in ['object']]\n",
    "\n",
    "X_train_cat = X_train[cat_cols]\n",
    "X_test_cat = X_test[cat_cols]\n",
    "\n",
    "# Fill missing values with the string 'missing'\n",
    "X_train_cat = X_train_cat.fillna(value=\"missing\")\n",
    "# Same as:\n",
    "# imputer_cat = SimpleImputer(strategy='constant', fill_value='missing')\n",
    "# imputer_cat.fit_transform(X_train_cat)\n",
    "\n",
    "X_test_cat = X_test_cat.fillna(value=\"missing\")\n"
   ]
  },
  {
   "cell_type": "code",
   "execution_count": 43,
   "metadata": {
    "scrolled": true
   },
   "outputs": [
    {
     "data": {
      "text/plain": [
       "RL         0.790868\n",
       "RM         0.149772\n",
       "FV         0.042922\n",
       "RH         0.012785\n",
       "C (all)    0.003653\n",
       "Name: MSZoning, dtype: float64"
      ]
     },
     "metadata": {},
     "output_type": "display_data"
    },
    {
     "data": {
      "text/plain": [
       "Pave    0.996347\n",
       "Grvl    0.003653\n",
       "Name: Street, dtype: float64"
      ]
     },
     "metadata": {},
     "output_type": "display_data"
    },
    {
     "data": {
      "text/plain": [
       "Reg    0.621918\n",
       "IR1    0.338813\n",
       "IR2    0.031963\n",
       "IR3    0.007306\n",
       "Name: LotShape, dtype: float64"
      ]
     },
     "metadata": {},
     "output_type": "display_data"
    },
    {
     "data": {
      "text/plain": [
       "Lvl    0.905936\n",
       "Bnk    0.041096\n",
       "HLS    0.029224\n",
       "Low    0.023744\n",
       "Name: LandContour, dtype: float64"
      ]
     },
     "metadata": {},
     "output_type": "display_data"
    },
    {
     "data": {
      "text/plain": [
       "AllPub    0.999087\n",
       "NoSeWa    0.000913\n",
       "Name: Utilities, dtype: float64"
      ]
     },
     "metadata": {},
     "output_type": "display_data"
    },
    {
     "data": {
      "text/plain": [
       "Inside     0.699543\n",
       "Corner     0.190868\n",
       "CulDSac    0.073059\n",
       "FR2        0.033790\n",
       "FR3        0.002740\n",
       "Name: LotConfig, dtype: float64"
      ]
     },
     "metadata": {},
     "output_type": "display_data"
    },
    {
     "data": {
      "text/plain": [
       "Gtl    0.946119\n",
       "Mod    0.045662\n",
       "Sev    0.008219\n",
       "Name: LandSlope, dtype: float64"
      ]
     },
     "metadata": {},
     "output_type": "display_data"
    },
    {
     "data": {
      "text/plain": [
       "NAmes      0.152511\n",
       "CollgCr    0.102283\n",
       "OldTown    0.079452\n",
       "Edwards    0.075799\n",
       "Somerst    0.056621\n",
       "NWAmes     0.054795\n",
       "Gilbert    0.053881\n",
       "NridgHt    0.052968\n",
       "Sawyer     0.046575\n",
       "BrkSide    0.040183\n",
       "SawyerW    0.036530\n",
       "Crawfor    0.035616\n",
       "Mitchel    0.034703\n",
       "NoRidge    0.028311\n",
       "Timber     0.024658\n",
       "IDOTRR     0.022831\n",
       "StoneBr    0.018265\n",
       "ClearCr    0.017352\n",
       "SWISU      0.016438\n",
       "Blmngtn    0.013699\n",
       "BrDale     0.011872\n",
       "MeadowV    0.009132\n",
       "Veenker    0.008219\n",
       "NPkVill    0.006393\n",
       "Blueste    0.000913\n",
       "Name: Neighborhood, dtype: float64"
      ]
     },
     "metadata": {},
     "output_type": "display_data"
    },
    {
     "data": {
      "text/plain": [
       "Norm      0.863927\n",
       "Feedr     0.053881\n",
       "Artery    0.033790\n",
       "RRAn      0.015525\n",
       "PosN      0.012785\n",
       "RRAe      0.009132\n",
       "PosA      0.005479\n",
       "RRNn      0.004566\n",
       "RRNe      0.000913\n",
       "Name: Condition1, dtype: float64"
      ]
     },
     "metadata": {},
     "output_type": "display_data"
    },
    {
     "data": {
      "text/plain": [
       "Norm      0.991781\n",
       "Feedr     0.002740\n",
       "Artery    0.001826\n",
       "PosN      0.001826\n",
       "RRAn      0.000913\n",
       "RRAe      0.000913\n",
       "Name: Condition2, dtype: float64"
      ]
     },
     "metadata": {},
     "output_type": "display_data"
    },
    {
     "data": {
      "text/plain": [
       "1Fam      0.835616\n",
       "TwnhsE    0.076712\n",
       "Duplex    0.033790\n",
       "Twnhs     0.029224\n",
       "2fmCon    0.024658\n",
       "Name: BldgType, dtype: float64"
      ]
     },
     "metadata": {},
     "output_type": "display_data"
    },
    {
     "data": {
      "text/plain": [
       "1Story    0.494064\n",
       "2Story    0.309589\n",
       "1.5Fin    0.104110\n",
       "SLvl      0.045662\n",
       "SFoyer    0.021005\n",
       "1.5Unf    0.010046\n",
       "2.5Unf    0.009132\n",
       "2.5Fin    0.006393\n",
       "Name: HouseStyle, dtype: float64"
      ]
     },
     "metadata": {},
     "output_type": "display_data"
    },
    {
     "data": {
      "text/plain": [
       "Gable      0.769863\n",
       "Hip        0.205479\n",
       "Flat       0.010046\n",
       "Gambrel    0.008219\n",
       "Mansard    0.004566\n",
       "Shed       0.001826\n",
       "Name: RoofStyle, dtype: float64"
      ]
     },
     "metadata": {},
     "output_type": "display_data"
    },
    {
     "data": {
      "text/plain": [
       "CompShg    0.982648\n",
       "Tar&Grv    0.008219\n",
       "WdShngl    0.003653\n",
       "WdShake    0.002740\n",
       "Metal      0.000913\n",
       "ClyTile    0.000913\n",
       "Roll       0.000913\n",
       "Name: RoofMatl, dtype: float64"
      ]
     },
     "metadata": {},
     "output_type": "display_data"
    },
    {
     "data": {
      "text/plain": [
       "VinylSd    0.359817\n",
       "HdBoard    0.152511\n",
       "MetalSd    0.146119\n",
       "Wd Sdng    0.145205\n",
       "Plywood    0.068493\n",
       "CemntBd    0.038356\n",
       "BrkFace    0.034703\n",
       "Stucco     0.017352\n",
       "WdShing    0.017352\n",
       "AsbShng    0.014612\n",
       "BrkComm    0.001826\n",
       "Stone      0.000913\n",
       "ImStucc    0.000913\n",
       "CBlock     0.000913\n",
       "AsphShn    0.000913\n",
       "Name: Exterior1st, dtype: float64"
      ]
     },
     "metadata": {},
     "output_type": "display_data"
    },
    {
     "data": {
      "text/plain": [
       "VinylSd    0.351598\n",
       "HdBoard    0.140639\n",
       "Wd Sdng    0.140639\n",
       "MetalSd    0.139726\n",
       "Plywood    0.094064\n",
       "CmentBd    0.037443\n",
       "Wd Shng    0.029224\n",
       "Stucco     0.019178\n",
       "AsbShng    0.015525\n",
       "BrkFace    0.013699\n",
       "Brk Cmn    0.005479\n",
       "ImStucc    0.005479\n",
       "Stone      0.002740\n",
       "AsphShn    0.002740\n",
       "CBlock     0.000913\n",
       "Other      0.000913\n",
       "Name: Exterior2nd, dtype: float64"
      ]
     },
     "metadata": {},
     "output_type": "display_data"
    },
    {
     "data": {
      "text/plain": [
       "None       0.579909\n",
       "BrkFace    0.315068\n",
       "Stone      0.090411\n",
       "BrkCmn     0.010959\n",
       "missing    0.003653\n",
       "Name: MasVnrType, dtype: float64"
      ]
     },
     "metadata": {},
     "output_type": "display_data"
    },
    {
     "data": {
      "text/plain": [
       "TA    0.622831\n",
       "Gd    0.331507\n",
       "Ex    0.035616\n",
       "Fa    0.010046\n",
       "Name: ExterQual, dtype: float64"
      ]
     },
     "metadata": {},
     "output_type": "display_data"
    },
    {
     "data": {
      "text/plain": [
       "TA    0.876712\n",
       "Gd    0.098630\n",
       "Fa    0.021918\n",
       "Ex    0.001826\n",
       "Po    0.000913\n",
       "Name: ExterCond, dtype: float64"
      ]
     },
     "metadata": {},
     "output_type": "display_data"
    },
    {
     "data": {
      "text/plain": [
       "PConc     0.449315\n",
       "CBlock    0.427397\n",
       "BrkTil    0.098630\n",
       "Slab      0.017352\n",
       "Stone     0.004566\n",
       "Wood      0.002740\n",
       "Name: Foundation, dtype: float64"
      ]
     },
     "metadata": {},
     "output_type": "display_data"
    },
    {
     "data": {
      "text/plain": [
       "TA         0.442922\n",
       "Gd         0.421005\n",
       "Ex         0.085845\n",
       "Fa         0.025571\n",
       "missing    0.024658\n",
       "Name: BsmtQual, dtype: float64"
      ]
     },
     "metadata": {},
     "output_type": "display_data"
    },
    {
     "data": {
      "text/plain": [
       "TA         0.892237\n",
       "Gd         0.047489\n",
       "Fa         0.034703\n",
       "missing    0.024658\n",
       "Po         0.000913\n",
       "Name: BsmtCond, dtype: float64"
      ]
     },
     "metadata": {},
     "output_type": "display_data"
    },
    {
     "data": {
      "text/plain": [
       "No         0.656621\n",
       "Av         0.148858\n",
       "Gd         0.089498\n",
       "Mn         0.080365\n",
       "missing    0.024658\n",
       "Name: BsmtExposure, dtype: float64"
      ]
     },
     "metadata": {},
     "output_type": "display_data"
    },
    {
     "data": {
      "text/plain": [
       "Unf        0.287671\n",
       "GLQ        0.285845\n",
       "ALQ        0.155251\n",
       "BLQ        0.102283\n",
       "Rec        0.092237\n",
       "LwQ        0.052055\n",
       "missing    0.024658\n",
       "Name: BsmtFinType1, dtype: float64"
      ]
     },
     "metadata": {},
     "output_type": "display_data"
    },
    {
     "data": {
      "text/plain": [
       "Unf        0.863927\n",
       "Rec        0.038356\n",
       "LwQ        0.030137\n",
       "missing    0.024658\n",
       "BLQ        0.018265\n",
       "ALQ        0.015525\n",
       "GLQ        0.009132\n",
       "Name: BsmtFinType2, dtype: float64"
      ]
     },
     "metadata": {},
     "output_type": "display_data"
    },
    {
     "data": {
      "text/plain": [
       "GasA     0.977169\n",
       "GasW     0.013699\n",
       "Grav     0.003653\n",
       "Wall     0.002740\n",
       "OthW     0.001826\n",
       "Floor    0.000913\n",
       "Name: Heating, dtype: float64"
      ]
     },
     "metadata": {},
     "output_type": "display_data"
    },
    {
     "data": {
      "text/plain": [
       "Ex    0.506849\n",
       "TA    0.291324\n",
       "Gd    0.165297\n",
       "Fa    0.035616\n",
       "Po    0.000913\n",
       "Name: HeatingQC, dtype: float64"
      ]
     },
     "metadata": {},
     "output_type": "display_data"
    },
    {
     "data": {
      "text/plain": [
       "Y    0.928767\n",
       "N    0.071233\n",
       "Name: CentralAir, dtype: float64"
      ]
     },
     "metadata": {},
     "output_type": "display_data"
    },
    {
     "data": {
      "text/plain": [
       "SBrkr      0.915068\n",
       "FuseA      0.060274\n",
       "FuseF      0.021005\n",
       "FuseP      0.002740\n",
       "missing    0.000913\n",
       "Name: Electrical, dtype: float64"
      ]
     },
     "metadata": {},
     "output_type": "display_data"
    },
    {
     "data": {
      "text/plain": [
       "TA    0.502283\n",
       "Gd    0.401826\n",
       "Ex    0.066667\n",
       "Fa    0.029224\n",
       "Name: KitchenQual, dtype: float64"
      ]
     },
     "metadata": {},
     "output_type": "display_data"
    },
    {
     "data": {
      "text/plain": [
       "Typ     0.925114\n",
       "Min2    0.025571\n",
       "Min1    0.024658\n",
       "Mod     0.011872\n",
       "Maj1    0.008219\n",
       "Maj2    0.003653\n",
       "Sev     0.000913\n",
       "Name: Functional, dtype: float64"
      ]
     },
     "metadata": {},
     "output_type": "display_data"
    },
    {
     "data": {
      "text/plain": [
       "Attchd     0.594521\n",
       "Detchd     0.263927\n",
       "BuiltIn    0.063014\n",
       "missing    0.052968\n",
       "Basment    0.013699\n",
       "CarPort    0.006393\n",
       "2Types     0.005479\n",
       "Name: GarageType, dtype: float64"
      ]
     },
     "metadata": {},
     "output_type": "display_data"
    },
    {
     "data": {
      "text/plain": [
       "Unf        0.410046\n",
       "RFn        0.293151\n",
       "Fin        0.243836\n",
       "missing    0.052968\n",
       "Name: GarageFinish, dtype: float64"
      ]
     },
     "metadata": {},
     "output_type": "display_data"
    },
    {
     "data": {
      "text/plain": [
       "TA         0.900457\n",
       "missing    0.052968\n",
       "Fa         0.031963\n",
       "Gd         0.010959\n",
       "Ex         0.002740\n",
       "Po         0.000913\n",
       "Name: GarageQual, dtype: float64"
      ]
     },
     "metadata": {},
     "output_type": "display_data"
    },
    {
     "data": {
      "text/plain": [
       "TA         0.908676\n",
       "missing    0.052968\n",
       "Fa         0.024658\n",
       "Gd         0.008219\n",
       "Po         0.003653\n",
       "Ex         0.001826\n",
       "Name: GarageCond, dtype: float64"
      ]
     },
     "metadata": {},
     "output_type": "display_data"
    },
    {
     "data": {
      "text/plain": [
       "Y    0.916895\n",
       "N    0.061187\n",
       "P    0.021918\n",
       "Name: PavedDrive, dtype: float64"
      ]
     },
     "metadata": {},
     "output_type": "display_data"
    }
   ],
   "source": [
    "# Exploring column percentages\n",
    "\n",
    "# Let's remove any column where the most common value is more than 90% of that col\n",
    "col_to_drop= []\n",
    "for col in X_train_cat.columns:\n",
    "    col_series = X_train_cat[col].value_counts()\n",
    "    display(col_series/len(X_train_cat))\n",
    "    \n",
    "    if col_series[0]/len(X_train_cat) > .9:\n",
    "        col_to_drop.append(col)"
   ]
  },
  {
   "cell_type": "code",
   "execution_count": 45,
   "metadata": {},
   "outputs": [
    {
     "data": {
      "text/plain": [
       "['Street',\n",
       " 'LandContour',\n",
       " 'Utilities',\n",
       " 'LandSlope',\n",
       " 'Condition2',\n",
       " 'RoofMatl',\n",
       " 'Heating',\n",
       " 'CentralAir',\n",
       " 'Electrical',\n",
       " 'Functional',\n",
       " 'GarageQual',\n",
       " 'GarageCond',\n",
       " 'PavedDrive']"
      ]
     },
     "execution_count": 45,
     "metadata": {},
     "output_type": "execute_result"
    }
   ],
   "source": [
    "col_to_drop"
   ]
  },
  {
   "cell_type": "code",
   "execution_count": 46,
   "metadata": {},
   "outputs": [],
   "source": [
    "# Now drop those\n",
    "X_train_cat = X_train_cat.drop(col_to_drop, axis=1)\n",
    "X_test_cat = X_test_cat.drop(col_to_drop, axis=1)"
   ]
  },
  {
   "cell_type": "code",
   "execution_count": 47,
   "metadata": {},
   "outputs": [],
   "source": [
    "# OneHotEncode categorical variables\n",
    "ohe = OneHotEncoder(handle_unknown='ignore')\n",
    "\n",
    "X_train_ohe = ohe.fit_transform(X_train_cat)\n",
    "X_test_ohe = ohe.transform(X_test_cat)\n",
    "\n",
    "# Convert these columns into a DataFrame \n",
    "ohe_col_names = ohe.get_feature_names(input_features=X_train_cat.columns)\n",
    "cat_train_df = pd.DataFrame(X_train_ohe.todense(), columns=ohe_col_names)\n",
    "cat_test_df = pd.DataFrame(X_test_ohe.todense(), columns=ohe_col_names)"
   ]
  },
  {
   "cell_type": "code",
   "execution_count": 48,
   "metadata": {},
   "outputs": [
    {
     "name": "stdout",
     "output_type": "stream",
     "text": [
      "<class 'pandas.core.frame.DataFrame'>\n",
      "RangeIndex: 1095 entries, 0 to 1094\n",
      "Columns: 167 entries, MSZoning_C (all) to GarageFinish_missing\n",
      "dtypes: float64(167)\n",
      "memory usage: 1.4 MB\n"
     ]
    }
   ],
   "source": [
    "cat_train_df.info()"
   ]
  },
  {
   "cell_type": "code",
   "execution_count": 53,
   "metadata": {},
   "outputs": [
    {
     "data": {
      "text/plain": [
       "LinearRegression()"
      ]
     },
     "execution_count": 53,
     "metadata": {},
     "output_type": "execute_result"
    }
   ],
   "source": [
    "# Put it all back together\n",
    "X_train_all = pd.concat([pd.DataFrame(X_train_imsc), cat_train_df], axis=1)\n",
    "X_test_all = pd.concat([pd.DataFrame(X_test_imsc), cat_test_df], axis=1)\n",
    "\n",
    "# Fit the model\n",
    "linreg = LinearRegression()\n",
    "linreg.fit(X_train_all, y_train)"
   ]
  },
  {
   "cell_type": "code",
   "execution_count": 54,
   "metadata": {},
   "outputs": [],
   "source": [
    "# Write a quick evaluation function\n",
    "def evaluate(train_actual, train_predicted, test_actual, test_predicted):\n",
    "    '''\n",
    "    Takes in both actual and predicted values, for the train and test set\n",
    "    Then prints the scores based on those values\n",
    "    \n",
    "    Inputs:\n",
    "    -------\n",
    "    train_actual - actual target values for the train set\n",
    "    train_predicted - predicted target values for the train set\n",
    "    test_actual - actual target values for the test set\n",
    "    test_predicted - predicted target values for the test set\n",
    "    '''\n",
    "    print('Train R2:', r2_score(train_actual, train_predicted))\n",
    "    print('Test R2:', r2_score(test_actual, test_predicted))\n",
    "    print(\"*****\")\n",
    "    print('Train MSE:', mean_squared_error(train_actual, train_predicted))\n",
    "    print('Test MSE:', mean_squared_error(test_actual, test_predicted))\n",
    "    print(\"*****\")\n",
    "    print('Train RMSE:', mean_squared_error(train_actual, train_predicted, squared=False))\n",
    "    print('Test RMSE:', mean_squared_error(test_actual, test_predicted, squared=False))"
   ]
  },
  {
   "cell_type": "code",
   "execution_count": 55,
   "metadata": {
    "scrolled": false
   },
   "outputs": [
    {
     "name": "stdout",
     "output_type": "stream",
     "text": [
      "Train R2: 0.8902022283622764\n",
      "Test R2: -2.2071686650036666e+20\n",
      "*****\n",
      "Train MSE: 666631145.9652967\n",
      "Test MSE: 1.546189862898988e+30\n",
      "*****\n",
      "Train RMSE: 25819.201110129197\n",
      "Test RMSE: 1243458830399699.2\n"
     ]
    }
   ],
   "source": [
    "# Grab predictions and evaluate\n",
    "train_preds = linreg.predict(X_train_all)\n",
    "test_preds = linreg.predict(X_test_all)\n",
    "\n",
    "evaluate(y_train, train_preds, y_test, test_preds)"
   ]
  },
  {
   "cell_type": "code",
   "execution_count": 56,
   "metadata": {},
   "outputs": [],
   "source": [
    "# Let's wrap up that coefficient exploration in a function\n",
    "\n",
    "\n",
    "def eval_coefficients(model, column_names):\n",
    "    '''\n",
    "    Prints an exploration of the coefficients\n",
    "    \n",
    "    Inputs:\n",
    "    model - a fit linear model (sklearn)\n",
    "    column_names - a list of feature names that matches the order passed into the model\n",
    "    \n",
    "    Outputs:\n",
    "    coefs - a Series, sorted by coefficient value\n",
    "    '''\n",
    "\n",
    "    print(\"Total number of coefficients: \", len(model.coef_))\n",
    "    print(\"Coefficients close to zero: \", sum(abs(model.coef_) < 10**(-10)))\n",
    "    print(f\"Intercept: {model.intercept_}\")\n",
    "    \n",
    "    coefs = pd.Series(model.coef_, index= column_names)\n",
    "    display(coefs.sort_values(ascending=False))\n",
    "    return coefs.sort_values(ascending=False)"
   ]
  },
  {
   "cell_type": "code",
   "execution_count": 60,
   "metadata": {},
   "outputs": [
    {
     "data": {
      "text/html": [
       "<div>\n",
       "<style scoped>\n",
       "    .dataframe tbody tr th:only-of-type {\n",
       "        vertical-align: middle;\n",
       "    }\n",
       "\n",
       "    .dataframe tbody tr th {\n",
       "        vertical-align: top;\n",
       "    }\n",
       "\n",
       "    .dataframe thead th {\n",
       "        text-align: right;\n",
       "    }\n",
       "</style>\n",
       "<table border=\"1\" class=\"dataframe\">\n",
       "  <thead>\n",
       "    <tr style=\"text-align: right;\">\n",
       "      <th></th>\n",
       "      <th>0</th>\n",
       "      <th>1</th>\n",
       "      <th>2</th>\n",
       "      <th>3</th>\n",
       "      <th>4</th>\n",
       "      <th>5</th>\n",
       "      <th>6</th>\n",
       "      <th>7</th>\n",
       "      <th>8</th>\n",
       "      <th>9</th>\n",
       "      <th>...</th>\n",
       "      <th>GarageType_Attchd</th>\n",
       "      <th>GarageType_Basment</th>\n",
       "      <th>GarageType_BuiltIn</th>\n",
       "      <th>GarageType_CarPort</th>\n",
       "      <th>GarageType_Detchd</th>\n",
       "      <th>GarageType_missing</th>\n",
       "      <th>GarageFinish_Fin</th>\n",
       "      <th>GarageFinish_RFn</th>\n",
       "      <th>GarageFinish_Unf</th>\n",
       "      <th>GarageFinish_missing</th>\n",
       "    </tr>\n",
       "  </thead>\n",
       "  <tbody>\n",
       "    <tr>\n",
       "      <th>0</th>\n",
       "      <td>0.588235</td>\n",
       "      <td>0.008797</td>\n",
       "      <td>0.666667</td>\n",
       "      <td>0.500</td>\n",
       "      <td>0.963768</td>\n",
       "      <td>0.933333</td>\n",
       "      <td>0.010160</td>\n",
       "      <td>0.002835</td>\n",
       "      <td>0.000000</td>\n",
       "      <td>0.569349</td>\n",
       "      <td>...</td>\n",
       "      <td>1.0</td>\n",
       "      <td>0.0</td>\n",
       "      <td>0.0</td>\n",
       "      <td>0.0</td>\n",
       "      <td>0.0</td>\n",
       "      <td>0.0</td>\n",
       "      <td>1.0</td>\n",
       "      <td>0.0</td>\n",
       "      <td>0.0</td>\n",
       "      <td>0.0</td>\n",
       "    </tr>\n",
       "    <tr>\n",
       "      <th>1</th>\n",
       "      <td>0.000000</td>\n",
       "      <td>0.041319</td>\n",
       "      <td>0.555556</td>\n",
       "      <td>0.625</td>\n",
       "      <td>0.739130</td>\n",
       "      <td>0.816667</td>\n",
       "      <td>0.071843</td>\n",
       "      <td>0.117470</td>\n",
       "      <td>0.334516</td>\n",
       "      <td>0.000000</td>\n",
       "      <td>...</td>\n",
       "      <td>1.0</td>\n",
       "      <td>0.0</td>\n",
       "      <td>0.0</td>\n",
       "      <td>0.0</td>\n",
       "      <td>0.0</td>\n",
       "      <td>0.0</td>\n",
       "      <td>0.0</td>\n",
       "      <td>1.0</td>\n",
       "      <td>0.0</td>\n",
       "      <td>0.0</td>\n",
       "    </tr>\n",
       "    <tr>\n",
       "      <th>2</th>\n",
       "      <td>0.176471</td>\n",
       "      <td>0.036271</td>\n",
       "      <td>0.555556</td>\n",
       "      <td>0.500</td>\n",
       "      <td>0.485507</td>\n",
       "      <td>0.000000</td>\n",
       "      <td>0.000000</td>\n",
       "      <td>0.036145</td>\n",
       "      <td>0.000000</td>\n",
       "      <td>0.152397</td>\n",
       "      <td>...</td>\n",
       "      <td>0.0</td>\n",
       "      <td>0.0</td>\n",
       "      <td>0.0</td>\n",
       "      <td>0.0</td>\n",
       "      <td>1.0</td>\n",
       "      <td>0.0</td>\n",
       "      <td>0.0</td>\n",
       "      <td>0.0</td>\n",
       "      <td>1.0</td>\n",
       "      <td>0.0</td>\n",
       "    </tr>\n",
       "    <tr>\n",
       "      <th>3</th>\n",
       "      <td>0.000000</td>\n",
       "      <td>0.051611</td>\n",
       "      <td>0.444444</td>\n",
       "      <td>0.500</td>\n",
       "      <td>0.637681</td>\n",
       "      <td>0.466667</td>\n",
       "      <td>0.000000</td>\n",
       "      <td>0.000000</td>\n",
       "      <td>0.000000</td>\n",
       "      <td>0.418664</td>\n",
       "      <td>...</td>\n",
       "      <td>1.0</td>\n",
       "      <td>0.0</td>\n",
       "      <td>0.0</td>\n",
       "      <td>0.0</td>\n",
       "      <td>0.0</td>\n",
       "      <td>0.0</td>\n",
       "      <td>0.0</td>\n",
       "      <td>1.0</td>\n",
       "      <td>0.0</td>\n",
       "      <td>0.0</td>\n",
       "    </tr>\n",
       "    <tr>\n",
       "      <th>4</th>\n",
       "      <td>0.000000</td>\n",
       "      <td>0.039496</td>\n",
       "      <td>0.555556</td>\n",
       "      <td>0.625</td>\n",
       "      <td>0.623188</td>\n",
       "      <td>0.133333</td>\n",
       "      <td>0.176343</td>\n",
       "      <td>0.107725</td>\n",
       "      <td>0.000000</td>\n",
       "      <td>0.357021</td>\n",
       "      <td>...</td>\n",
       "      <td>1.0</td>\n",
       "      <td>0.0</td>\n",
       "      <td>0.0</td>\n",
       "      <td>0.0</td>\n",
       "      <td>0.0</td>\n",
       "      <td>0.0</td>\n",
       "      <td>0.0</td>\n",
       "      <td>1.0</td>\n",
       "      <td>0.0</td>\n",
       "      <td>0.0</td>\n",
       "    </tr>\n",
       "  </tbody>\n",
       "</table>\n",
       "<p>5 rows × 200 columns</p>\n",
       "</div>"
      ],
      "text/plain": [
       "          0         1         2      3         4         5         6  \\\n",
       "0  0.588235  0.008797  0.666667  0.500  0.963768  0.933333  0.010160   \n",
       "1  0.000000  0.041319  0.555556  0.625  0.739130  0.816667  0.071843   \n",
       "2  0.176471  0.036271  0.555556  0.500  0.485507  0.000000  0.000000   \n",
       "3  0.000000  0.051611  0.444444  0.500  0.637681  0.466667  0.000000   \n",
       "4  0.000000  0.039496  0.555556  0.625  0.623188  0.133333  0.176343   \n",
       "\n",
       "          7         8         9  ...  GarageType_Attchd  GarageType_Basment  \\\n",
       "0  0.002835  0.000000  0.569349  ...                1.0                 0.0   \n",
       "1  0.117470  0.334516  0.000000  ...                1.0                 0.0   \n",
       "2  0.036145  0.000000  0.152397  ...                0.0                 0.0   \n",
       "3  0.000000  0.000000  0.418664  ...                1.0                 0.0   \n",
       "4  0.107725  0.000000  0.357021  ...                1.0                 0.0   \n",
       "\n",
       "   GarageType_BuiltIn  GarageType_CarPort  GarageType_Detchd  \\\n",
       "0                 0.0                 0.0                0.0   \n",
       "1                 0.0                 0.0                0.0   \n",
       "2                 0.0                 0.0                1.0   \n",
       "3                 0.0                 0.0                0.0   \n",
       "4                 0.0                 0.0                0.0   \n",
       "\n",
       "   GarageType_missing  GarageFinish_Fin  GarageFinish_RFn  GarageFinish_Unf  \\\n",
       "0                 0.0               1.0               0.0               0.0   \n",
       "1                 0.0               0.0               1.0               0.0   \n",
       "2                 0.0               0.0               0.0               1.0   \n",
       "3                 0.0               0.0               1.0               0.0   \n",
       "4                 0.0               0.0               1.0               0.0   \n",
       "\n",
       "   GarageFinish_missing  \n",
       "0                   0.0  \n",
       "1                   0.0  \n",
       "2                   0.0  \n",
       "3                   0.0  \n",
       "4                   0.0  \n",
       "\n",
       "[5 rows x 200 columns]"
      ]
     },
     "execution_count": 60,
     "metadata": {},
     "output_type": "execute_result"
    }
   ],
   "source": [
    "X_train_all.head()"
   ]
  },
  {
   "cell_type": "code",
   "execution_count": 59,
   "metadata": {},
   "outputs": [],
   "source": [
    "model_cols = [*X_train_cont.columns, *ohe_col_names]"
   ]
  },
  {
   "cell_type": "code",
   "execution_count": 61,
   "metadata": {},
   "outputs": [
    {
     "data": {
      "text/plain": [
       "200"
      ]
     },
     "execution_count": 61,
     "metadata": {},
     "output_type": "execute_result"
    }
   ],
   "source": [
    "len(model_cols)"
   ]
  },
  {
   "cell_type": "code",
   "execution_count": 63,
   "metadata": {
    "scrolled": true
   },
   "outputs": [
    {
     "name": "stdout",
     "output_type": "stream",
     "text": [
      "Total number of coefficients:  200\n",
      "Coefficients close to zero:  0\n",
      "Intercept: 9.110175314056923e+16\n"
     ]
    },
    {
     "data": {
      "text/plain": [
       "BsmtFinSF1         4.767837e+16\n",
       "BldgType_1Fam      2.231566e+16\n",
       "BldgType_Duplex    2.231566e+16\n",
       "BldgType_2fmCon    2.231566e+16\n",
       "BldgType_TwnhsE    2.231566e+16\n",
       "                       ...     \n",
       "ExterQual_Fa      -4.542415e+16\n",
       "ExterQual_Ex      -4.542415e+16\n",
       "ExterQual_Gd      -4.542415e+16\n",
       "ExterQual_TA      -4.542415e+16\n",
       "TotalBsmtSF       -5.161496e+16\n",
       "Length: 200, dtype: float64"
      ]
     },
     "metadata": {},
     "output_type": "display_data"
    }
   ],
   "source": [
    "# Explore coefficients\n",
    "linreg_coefs = eval_coefficients(linreg, model_cols)"
   ]
  },
  {
   "cell_type": "markdown",
   "metadata": {},
   "source": [
    "**Evaluate**\n",
    "\n",
    "- WOAH THAT MODEL IS SO BAD\n",
    "- Also those coefficients are crazy\n"
   ]
  },
  {
   "cell_type": "markdown",
   "metadata": {},
   "source": [
    "## Fitting Ridge and Lasso\n",
    "\n",
    "* https://scikit-learn.org/stable/modules/generated/sklearn.linear_model.Lasso.html\n",
    "* https://scikit-learn.org/stable/modules/generated/sklearn.linear_model.Ridge.html"
   ]
  },
  {
   "cell_type": "markdown",
   "metadata": {},
   "source": [
    "### LASSO"
   ]
  },
  {
   "cell_type": "code",
   "execution_count": 64,
   "metadata": {},
   "outputs": [
    {
     "name": "stdout",
     "output_type": "stream",
     "text": [
      "Train R2: 0.8901917658981585\n",
      "Test R2: 0.8615905414873004\n",
      "*****\n",
      "Train MSE: 666694668.2421196\n",
      "Test MSE: 969601032.6483977\n",
      "*****\n",
      "Train RMSE: 25820.43121719929\n",
      "Test RMSE: 31138.41731123144\n"
     ]
    },
    {
     "name": "stderr",
     "output_type": "stream",
     "text": [
      "/opt/anaconda3/envs/learn-env/lib/python3.8/site-packages/sklearn/linear_model/_coordinate_descent.py:529: ConvergenceWarning: Objective did not converge. You might want to increase the number of iterations. Duality gap: 32074011488.25049, tolerance: 664823241.805396\n",
      "  model = cd_fast.enet_coordinate_descent(\n"
     ]
    }
   ],
   "source": [
    "from sklearn.linear_model import Lasso\n",
    "\n",
    "lasso = Lasso() # Lasso is also known as the L1 norm \n",
    "\n",
    "# Fit\n",
    "lasso.fit(X_train_all, y_train)\n",
    "\n",
    "# Predict\n",
    "l_train_preds = lasso.predict(X_train_all)\n",
    "l_test_preds = lasso.predict(X_test_all)\n",
    "\n",
    "\n",
    "# Evaluate\n",
    "evaluate(y_train, l_train_preds, y_test, l_test_preds)"
   ]
  },
  {
   "cell_type": "code",
   "execution_count": 67,
   "metadata": {},
   "outputs": [],
   "source": [
    "# Adjust HYPERPARAMETERS -- check documentation!\n",
    "lasso_v2 = Lasso(alpha=10)\n",
    "\n",
    "lasso_v2.fit(X_train_all, y_train)\n",
    "\n",
    "l_train_preds_v2 = lasso_v2.predict(X_train_all)\n",
    "l_test_preds_v2 = lasso_v2.predict(X_test_all)"
   ]
  },
  {
   "cell_type": "code",
   "execution_count": 68,
   "metadata": {},
   "outputs": [
    {
     "name": "stdout",
     "output_type": "stream",
     "text": [
      "Train R2: 0.8896209715692706\n",
      "Test R2: 0.867010656536806\n",
      "*****\n",
      "Train MSE: 670160214.6908449\n",
      "Test MSE: 931631451.6273761\n",
      "*****\n",
      "Train RMSE: 25887.452842851206\n",
      "Test RMSE: 30522.63834643683\n"
     ]
    }
   ],
   "source": [
    "evaluate(y_train, l_train_preds_v2, y_test, l_test_preds_v2)"
   ]
  },
  {
   "cell_type": "code",
   "execution_count": 69,
   "metadata": {},
   "outputs": [
    {
     "name": "stdout",
     "output_type": "stream",
     "text": [
      "Total number of coefficients:  200\n",
      "Coefficients close to zero:  42\n",
      "Intercept: -32987.26173273483\n"
     ]
    },
    {
     "data": {
      "text/plain": [
       "GrLivArea               144199.948743\n",
       "OverallQual              76181.228725\n",
       "LotArea                  65937.181741\n",
       "2ndFlrSF                 60865.832960\n",
       "Neighborhood_StoneBr     57520.664444\n",
       "                            ...      \n",
       "BldgType_TwnhsE         -21610.237813\n",
       "BldgType_Twnhs          -24887.607300\n",
       "LotShape_IR3            -31765.339691\n",
       "KitchenAbvGr            -44399.066444\n",
       "Exterior1st_ImStucc     -54895.225279\n",
       "Length: 200, dtype: float64"
      ]
     },
     "metadata": {},
     "output_type": "display_data"
    }
   ],
   "source": [
    "# Check Lasso Coefficients\n",
    "lasso_coefs = eval_coefficients(lasso_v2, model_cols)"
   ]
  },
  {
   "cell_type": "markdown",
   "metadata": {},
   "source": [
    "### Ridge"
   ]
  },
  {
   "cell_type": "code",
   "execution_count": 73,
   "metadata": {
    "scrolled": true
   },
   "outputs": [
    {
     "name": "stdout",
     "output_type": "stream",
     "text": [
      "Train R2: 0.8816228437958734\n",
      "Test R2: 0.8658942423728896\n",
      "*****\n",
      "Train MSE: 718720408.6148963\n",
      "Test MSE: 939452277.8760194\n",
      "*****\n",
      "Train RMSE: 26808.961349050736\n",
      "Test RMSE: 30650.485769005674\n"
     ]
    }
   ],
   "source": [
    "from sklearn.linear_model import Ridge\n",
    "\n",
    "ridge = Ridge(alpha=5) # Ridge is also known as the L2 norm\n",
    "\n",
    "# Fit\n",
    "ridge.fit(X_train_all, y_train)\n",
    "\n",
    "# Predict\n",
    "r_train_preds = ridge.predict(X_train_all)\n",
    "r_test_preds = ridge.predict(X_test_all)\n",
    "\n",
    "\n",
    "# Evaluate\n",
    "evaluate(y_train, r_train_preds, y_test, r_test_preds)"
   ]
  },
  {
   "cell_type": "code",
   "execution_count": 74,
   "metadata": {},
   "outputs": [
    {
     "name": "stdout",
     "output_type": "stream",
     "text": [
      "Total number of coefficients:  200\n",
      "Coefficients close to zero:  0\n",
      "Intercept: 19532.59058687798\n"
     ]
    },
    {
     "data": {
      "text/plain": [
       "OverallQual             56677.063670\n",
       "2ndFlrSF                50632.302560\n",
       "GrLivArea               43975.219016\n",
       "Neighborhood_StoneBr    39737.296291\n",
       "Neighborhood_NoRidge    37688.530485\n",
       "                            ...     \n",
       "Neighborhood_OldTown   -13479.540465\n",
       "KitchenAbvGr           -13974.639202\n",
       "Neighborhood_Mitchel   -15485.495773\n",
       "LotShape_IR3           -15668.899146\n",
       "Neighborhood_Edwards   -20190.545360\n",
       "Length: 200, dtype: float64"
      ]
     },
     "metadata": {},
     "output_type": "display_data"
    }
   ],
   "source": [
    "# Check Ridge Coefficients\n",
    "ridge_coefs = eval_coefficients(ridge, model_cols)"
   ]
  },
  {
   "cell_type": "markdown",
   "metadata": {},
   "source": [
    "### Let's Discuss\n",
    "\n",
    "- Can use Lasso to remove useless features, Ridge will give a better understanding of which features are important (based on coefficients)\n"
   ]
  },
  {
   "cell_type": "markdown",
   "metadata": {},
   "source": [
    "## Ridge & Lasso: Other benefits\n",
    "\n",
    "### Ridge:\n",
    "* We can \"shrink down\" prediction variables effects instead of deleting/zeroing them\n",
    "* When you have features with high multicollinearity, the coefficients are automatically spread across them (you won't have redundancy)\n",
    "* Since includes all features it can be computationally expensive (for many variables)\n",
    "\n",
    "### Lasso:\n",
    "* When you have a lot of variables it performs feature selection for you!\n",
    "* Multicollinearity is also dealt with\n"
   ]
  },
  {
   "cell_type": "markdown",
   "metadata": {},
   "source": [
    "### Por que no los dos??\n",
    "\n",
    "Enter ElasticNet: https://scikit-learn.org/stable/modules/generated/sklearn.linear_model.ElasticNet.html"
   ]
  },
  {
   "cell_type": "code",
   "execution_count": null,
   "metadata": {},
   "outputs": [],
   "source": []
  }
 ],
 "metadata": {
  "kernelspec": {
   "display_name": "learn-env",
   "language": "python",
   "name": "learn-env"
  },
  "language_info": {
   "codemirror_mode": {
    "name": "ipython",
    "version": 3
   },
   "file_extension": ".py",
   "mimetype": "text/x-python",
   "name": "python",
   "nbconvert_exporter": "python",
   "pygments_lexer": "ipython3",
   "version": "3.8.5"
  }
 },
 "nbformat": 4,
 "nbformat_minor": 4
}
